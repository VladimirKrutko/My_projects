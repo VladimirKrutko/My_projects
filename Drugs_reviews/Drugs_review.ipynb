{
  "nbformat": 4,
  "nbformat_minor": 0,
  "metadata": {
    "colab": {
      "name": "ДЗ7.ipynb",
      "provenance": [],
      "collapsed_sections": []
    },
    "kernelspec": {
      "name": "python3",
      "display_name": "Python 3.7.7 64-bit ('datasience': conda)",
      "metadata": {
        "interpreter": {
          "hash": "91424bc8e970c87d41746f8fdf53f2e2f641a7b262a871414231e1ba24cd62ed"
        }
      }
    },
    "language_info": {
      "codemirror_mode": {
        "name": "ipython",
        "version": 3
      },
      "file_extension": ".py",
      "mimetype": "text/x-python",
      "name": "python",
      "nbconvert_exporter": "python",
      "pygments_lexer": "ipython3",
      "version": "3.7.7-final"
    }
  },
  "cells": [
    {
      "cell_type": "markdown",
      "metadata": {
        "id": "NILAbozsW_4z"
      },
      "source": [
        "# Purpose:  \n",
        "## Will make commercial proposal Using data about   reviews of drugs.\n",
        " \n",
        " # Tasks:\n",
        "  1. Preprocessing data(drop dublicatee, punctuation marks)\n",
        "  2. Train the model for predict rating of review   \n",
        "  4. Explore data for make commercial proposal"
      ]
    },
    {
      "cell_type": "code",
      "metadata": {
        "id": "s8P5Fe6wcdrQ",
        "colab": {
          "base_uri": "https://localhost:8080/"
        },
        "outputId": "10e7fa47-32de-401c-d275-ce90e764913e"
      },
      "source": [
        "import numpy as np\n",
        "import pandas as pd\n",
        "import nltk\n",
        "from nltk.tokenize import word_tokenize\n",
        "from nltk import pos_tag\n",
        "from nltk.stem import WordNetLemmatizer \n",
        "from nltk.corpus import stopwords\n",
        "from nltk.corpus import wordnet\n",
        "import unicodedata\n",
        "import re\n",
        "import numpy as np\n",
        "from multiprocessing import Pool\n",
        "import sys\n",
        "import plotly.offline as py\n",
        "import plotly.graph_objs as go\n",
        "from collections import Counter\n",
        "from sklearn.model_selection import train_test_split\n",
        "from sklearn.linear_model import LogisticRegression\n",
        "from sklearn.feature_extraction.text import TfidfVectorizer\n",
        "from sklearn.decomposition import TruncatedSVD\n",
        "nltk.download('stopwords')\n",
        "nltk.download('punkt')\n",
        "nltk.download('wordnet')\n",
        "nltk.download('averaged_perceptron_tagger')\n",
        "stop = stopwords.words('english')"
      ],
      "execution_count": 1,
      "outputs": [
        {
          "output_type": "stream",
          "name": "stderr",
          "text": [
            "[nltk_data] Downloading package stopwords to\n[nltk_data]     D:\\anaconda\\envs\\datasience\\nltk_data...\n[nltk_data]   Package stopwords is already up-to-date!\n[nltk_data] Downloading package punkt to\n[nltk_data]     D:\\anaconda\\envs\\datasience\\nltk_data...\n[nltk_data]   Package punkt is already up-to-date!\n[nltk_data] Downloading package wordnet to\n[nltk_data]     D:\\anaconda\\envs\\datasience\\nltk_data...\n[nltk_data]   Package wordnet is already up-to-date!\n[nltk_data] Downloading package averaged_perceptron_tagger to\n[nltk_data]     D:\\anaconda\\envs\\datasience\\nltk_data...\n[nltk_data]   Package averaged_perceptron_tagger is already up-to-\n[nltk_data]       date!\n"
          ]
        }
      ]
    },
    {
      "cell_type": "code",
      "metadata": {
        "id": "C5IiQi1TcdrR"
      },
      "source": [
        "# We will using only this file drugsComTrain_raw.tsv\n",
        "# If you want, you cne use test file for testing model\n",
        "train_data = pd.read_csv(\"drugsComTrain_raw.tsv\", sep='\\t')"
      ],
      "execution_count": 2,
      "outputs": []
    },
    {
      "cell_type": "code",
      "metadata": {
        "id": "-TJ5VcYfcdrS"
      },
      "source": [
        "train_data = train_data.drop(columns = ['Unnamed: 0', 'date'])"
      ],
      "execution_count": 3,
      "outputs": []
    },
    {
      "source": [
        "### There are identical reviews for different medicines, since we will predict the drug's rating based on the comment, and we will remove duplicates"
      ],
      "cell_type": "markdown",
      "metadata": {}
    },
    {
      "cell_type": "code",
      "metadata": {
        "id": "hfo7tYLnNfDQ"
      },
      "source": [
        "# Drop dublicete of review\r\n",
        "train_data.drop(train_data.review[~train_data.review.duplicated()].index, inplace=True)"
      ],
      "execution_count": 4,
      "outputs": []
    },
    {
      "cell_type": "code",
      "metadata": {
        "id": "uxggPJEhcdrS",
        "colab": {
          "base_uri": "https://localhost:8080/",
          "height": 589
        },
        "outputId": "9eff5c0c-ddfe-4f18-ec19-83b58c021e36"
      },
      "source": [
        "train_data"
      ],
      "execution_count": 5,
      "outputs": [
        {
          "output_type": "execute_result",
          "data": {
            "text/plain": [
              "                                 drugName                     condition  \\\n",
              "524                             Nexplanon                 Birth Control   \n",
              "574                              Cymbalta                       Anxiety   \n",
              "726                              Orsythia                 Birth Control   \n",
              "1070                       Desvenlafaxine                    Depression   \n",
              "1375    Ethinyl estradiol / norethindrone                 Birth Control   \n",
              "...                                   ...                           ...   \n",
              "161285                        Alcaftadine      Conjunctivitis, Allergic   \n",
              "161288                         Fluoxetine  Obsessive Compulsive Disorde   \n",
              "161291                     Junel 1.5 / 30                 Birth Control   \n",
              "161293                     Metoclopramide               Nausea/Vomiting   \n",
              "161294                            Orencia          Rheumatoid Arthritis   \n",
              "\n",
              "                                                   review  rating  usefulCount  \n",
              "524     \"First had implanon then got Nexplanon, had a ...     9.0            5  \n",
              "574     \"Prescribed via a Psychiatrist for severe Pani...     1.0           27  \n",
              "726     \"I have only been on orsythia for about 1 mont...     2.0            7  \n",
              "1070    \"I have suffered from severe anxiety (GAD) and...     8.0           81  \n",
              "1375    \"I have been taking my first pack of Lo Loestr...     8.0            7  \n",
              "...                                                   ...     ...          ...  \n",
              "161285  \"Used this a month ago for allergic conjunctiv...     1.0           12  \n",
              "161288  \"I have been off Prozac for about 4 weeks now....     8.0           22  \n",
              "161291  \"This would be my second month on Junel. I&#03...     6.0            0  \n",
              "161293  \"I was given this in IV before surgey. I immed...     1.0           34  \n",
              "161294  \"Limited improvement after 4 months, developed...     2.0           35  \n",
              "\n",
              "[48968 rows x 5 columns]"
            ],
            "text/html": "<div>\n<style scoped>\n    .dataframe tbody tr th:only-of-type {\n        vertical-align: middle;\n    }\n\n    .dataframe tbody tr th {\n        vertical-align: top;\n    }\n\n    .dataframe thead th {\n        text-align: right;\n    }\n</style>\n<table border=\"1\" class=\"dataframe\">\n  <thead>\n    <tr style=\"text-align: right;\">\n      <th></th>\n      <th>drugName</th>\n      <th>condition</th>\n      <th>review</th>\n      <th>rating</th>\n      <th>usefulCount</th>\n    </tr>\n  </thead>\n  <tbody>\n    <tr>\n      <th>524</th>\n      <td>Nexplanon</td>\n      <td>Birth Control</td>\n      <td>\"First had implanon then got Nexplanon, had a ...</td>\n      <td>9.0</td>\n      <td>5</td>\n    </tr>\n    <tr>\n      <th>574</th>\n      <td>Cymbalta</td>\n      <td>Anxiety</td>\n      <td>\"Prescribed via a Psychiatrist for severe Pani...</td>\n      <td>1.0</td>\n      <td>27</td>\n    </tr>\n    <tr>\n      <th>726</th>\n      <td>Orsythia</td>\n      <td>Birth Control</td>\n      <td>\"I have only been on orsythia for about 1 mont...</td>\n      <td>2.0</td>\n      <td>7</td>\n    </tr>\n    <tr>\n      <th>1070</th>\n      <td>Desvenlafaxine</td>\n      <td>Depression</td>\n      <td>\"I have suffered from severe anxiety (GAD) and...</td>\n      <td>8.0</td>\n      <td>81</td>\n    </tr>\n    <tr>\n      <th>1375</th>\n      <td>Ethinyl estradiol / norethindrone</td>\n      <td>Birth Control</td>\n      <td>\"I have been taking my first pack of Lo Loestr...</td>\n      <td>8.0</td>\n      <td>7</td>\n    </tr>\n    <tr>\n      <th>...</th>\n      <td>...</td>\n      <td>...</td>\n      <td>...</td>\n      <td>...</td>\n      <td>...</td>\n    </tr>\n    <tr>\n      <th>161285</th>\n      <td>Alcaftadine</td>\n      <td>Conjunctivitis, Allergic</td>\n      <td>\"Used this a month ago for allergic conjunctiv...</td>\n      <td>1.0</td>\n      <td>12</td>\n    </tr>\n    <tr>\n      <th>161288</th>\n      <td>Fluoxetine</td>\n      <td>Obsessive Compulsive Disorde</td>\n      <td>\"I have been off Prozac for about 4 weeks now....</td>\n      <td>8.0</td>\n      <td>22</td>\n    </tr>\n    <tr>\n      <th>161291</th>\n      <td>Junel 1.5 / 30</td>\n      <td>Birth Control</td>\n      <td>\"This would be my second month on Junel. I&amp;#03...</td>\n      <td>6.0</td>\n      <td>0</td>\n    </tr>\n    <tr>\n      <th>161293</th>\n      <td>Metoclopramide</td>\n      <td>Nausea/Vomiting</td>\n      <td>\"I was given this in IV before surgey. I immed...</td>\n      <td>1.0</td>\n      <td>34</td>\n    </tr>\n    <tr>\n      <th>161294</th>\n      <td>Orencia</td>\n      <td>Rheumatoid Arthritis</td>\n      <td>\"Limited improvement after 4 months, developed...</td>\n      <td>2.0</td>\n      <td>35</td>\n    </tr>\n  </tbody>\n</table>\n<p>48968 rows × 5 columns</p>\n</div>"
          },
          "metadata": {},
          "execution_count": 5
        }
      ]
    },
    {
      "cell_type": "code",
      "metadata": {
        "id": "3ClUetvscdrT"
      },
      "source": [
        "# Drop numbers in text \n",
        "train_data['review']=train_data['review'].map(lambda w: re.sub(r'[^\\w\\s]+|[\\d]+', r'',w).strip())"
      ],
      "execution_count": 6,
      "outputs": []
    },
    {
      "cell_type": "code",
      "metadata": {
        "id": "3g9YeSpxcdrT"
      },
      "source": [
        "# Drop all punctuation marks\n",
        "punct= dict.fromkeys(i for i in range(sys.maxunicode) if unicodedata.category(chr(i)).startswith('P'))\n",
        "train_data['review'] = train_data['review'].map(lambda text: text.lower().translate(punct))"
      ],
      "execution_count": 7,
      "outputs": []
    },
    {
      "cell_type": "code",
      "metadata": {
        "id": "f-l4meWecdrU"
      },
      "source": [
        "# Drop stop words\n",
        "def drop_sw(text):\n",
        "    word = word_tokenize(text)\n",
        "    word = [i for i in word if i not in stop and not i.isdigit()]\n",
        "    return ' '.join(map(str, word))\n",
        "\n",
        "train_data['review'] = train_data['review'].map(drop_sw)"
      ],
      "execution_count": 8,
      "outputs": []
    },
    {
      "cell_type": "code",
      "metadata": {
        "id": "ltq32E9kcdrV",
        "colab": {
          "base_uri": "https://localhost:8080/",
          "height": 202
        },
        "outputId": "6574b6e7-9ca8-4b5f-cddf-cd3ffa6534cf"
      },
      "source": [
        "train_data.head()"
      ],
      "execution_count": 9,
      "outputs": [
        {
          "output_type": "execute_result",
          "data": {
            "text/plain": [
              "                               drugName      condition  \\\n",
              "524                           Nexplanon  Birth Control   \n",
              "574                            Cymbalta        Anxiety   \n",
              "726                            Orsythia  Birth Control   \n",
              "1070                     Desvenlafaxine     Depression   \n",
              "1375  Ethinyl estradiol / norethindrone  Birth Control   \n",
              "\n",
              "                                                 review  rating  usefulCount  \n",
              "524   first implanon got nexplanon period first mont...     9.0            5  \n",
              "574   prescribed via psychiatrist severe panic attac...     1.0           27  \n",
              "726   orsythia month started second week second mont...     2.0            7  \n",
              "1070  suffered severe anxiety gad taking klonopin ti...     8.0           81  \n",
              "1375  taking first pack lo loestrin fe must say real...     8.0            7  "
            ],
            "text/html": "<div>\n<style scoped>\n    .dataframe tbody tr th:only-of-type {\n        vertical-align: middle;\n    }\n\n    .dataframe tbody tr th {\n        vertical-align: top;\n    }\n\n    .dataframe thead th {\n        text-align: right;\n    }\n</style>\n<table border=\"1\" class=\"dataframe\">\n  <thead>\n    <tr style=\"text-align: right;\">\n      <th></th>\n      <th>drugName</th>\n      <th>condition</th>\n      <th>review</th>\n      <th>rating</th>\n      <th>usefulCount</th>\n    </tr>\n  </thead>\n  <tbody>\n    <tr>\n      <th>524</th>\n      <td>Nexplanon</td>\n      <td>Birth Control</td>\n      <td>first implanon got nexplanon period first mont...</td>\n      <td>9.0</td>\n      <td>5</td>\n    </tr>\n    <tr>\n      <th>574</th>\n      <td>Cymbalta</td>\n      <td>Anxiety</td>\n      <td>prescribed via psychiatrist severe panic attac...</td>\n      <td>1.0</td>\n      <td>27</td>\n    </tr>\n    <tr>\n      <th>726</th>\n      <td>Orsythia</td>\n      <td>Birth Control</td>\n      <td>orsythia month started second week second mont...</td>\n      <td>2.0</td>\n      <td>7</td>\n    </tr>\n    <tr>\n      <th>1070</th>\n      <td>Desvenlafaxine</td>\n      <td>Depression</td>\n      <td>suffered severe anxiety gad taking klonopin ti...</td>\n      <td>8.0</td>\n      <td>81</td>\n    </tr>\n    <tr>\n      <th>1375</th>\n      <td>Ethinyl estradiol / norethindrone</td>\n      <td>Birth Control</td>\n      <td>taking first pack lo loestrin fe must say real...</td>\n      <td>8.0</td>\n      <td>7</td>\n    </tr>\n  </tbody>\n</table>\n</div>"
          },
          "metadata": {},
          "execution_count": 9
        }
      ]
    },
    {
      "cell_type": "code",
      "metadata": {
        "id": "R1RvBu71cdrV"
      },
      "source": [
        "# This dict will use for detect part of language \n",
        "def word_tag(word):\n",
        "    tag = pos_tag([word])[0][1][0].upper()\n",
        "    tag_dict = {\"J\": wordnet.ADJ,\n",
        "                \"N\": wordnet.NOUN,\n",
        "                \"V\": wordnet.VERB,\n",
        "                \"R\": wordnet.ADV}\n",
        "    return tag_dict.get(tag, wordnet.NOUN)"
      ],
      "execution_count": 10,
      "outputs": []
    },
    {
      "cell_type": "markdown",
      "metadata": {
        "id": "_1SpNpSScdrV"
      },
      "source": [
        "Do lemantize for rewiew \n"
      ]
    },
    {
      "cell_type": "code",
      "metadata": {
        "id": "GCNylTlLcdrW"
      },
      "source": [
        "lem = WordNetLemmatizer()"
      ],
      "execution_count": 11,
      "outputs": []
    },
    {
      "cell_type": "code",
      "metadata": {
        "id": "ZOvVF1f5cdrW",
        "colab": {
          "base_uri": "https://localhost:8080/",
          "height": 363
        },
        "outputId": "2abd5fa9-a8e2-4dcf-ba93-9140495a9d35"
      },
      "source": [
        "train_data['review'] = train_data['review'].map(lambda w:\" \".join([lem.lemmatize(i, word_tag(i)) for i in word_tokenize(w)]))"
      ],
      "execution_count": 12,
      "outputs": []
    },
    {
      "cell_type": "code",
      "metadata": {
        "colab": {
          "base_uri": "https://localhost:8080/",
          "height": 202
        },
        "id": "mEFkX725NOZd",
        "outputId": "70e770c4-da1c-442c-e7b4-3db0ea5461a7"
      },
      "source": [
        "train_data.head()"
      ],
      "execution_count": 13,
      "outputs": [
        {
          "output_type": "execute_result",
          "data": {
            "text/plain": [
              "                               drugName      condition  \\\n",
              "524                           Nexplanon  Birth Control   \n",
              "574                            Cymbalta        Anxiety   \n",
              "726                            Orsythia  Birth Control   \n",
              "1070                     Desvenlafaxine     Depression   \n",
              "1375  Ethinyl estradiol / norethindrone  Birth Control   \n",
              "\n",
              "                                                 review  rating  usefulCount  \n",
              "524   first implanon get nexplanon period first mont...     9.0            5  \n",
              "574   prescribed via psychiatrist severe panic attac...     1.0           27  \n",
              "726   orsythia month start second week second month ...     2.0            7  \n",
              "1070  suffer severe anxiety gad take klonopin time g...     8.0           81  \n",
              "1375  take first pack lo loestrin fe must say really...     8.0            7  "
            ],
            "text/html": "<div>\n<style scoped>\n    .dataframe tbody tr th:only-of-type {\n        vertical-align: middle;\n    }\n\n    .dataframe tbody tr th {\n        vertical-align: top;\n    }\n\n    .dataframe thead th {\n        text-align: right;\n    }\n</style>\n<table border=\"1\" class=\"dataframe\">\n  <thead>\n    <tr style=\"text-align: right;\">\n      <th></th>\n      <th>drugName</th>\n      <th>condition</th>\n      <th>review</th>\n      <th>rating</th>\n      <th>usefulCount</th>\n    </tr>\n  </thead>\n  <tbody>\n    <tr>\n      <th>524</th>\n      <td>Nexplanon</td>\n      <td>Birth Control</td>\n      <td>first implanon get nexplanon period first mont...</td>\n      <td>9.0</td>\n      <td>5</td>\n    </tr>\n    <tr>\n      <th>574</th>\n      <td>Cymbalta</td>\n      <td>Anxiety</td>\n      <td>prescribed via psychiatrist severe panic attac...</td>\n      <td>1.0</td>\n      <td>27</td>\n    </tr>\n    <tr>\n      <th>726</th>\n      <td>Orsythia</td>\n      <td>Birth Control</td>\n      <td>orsythia month start second week second month ...</td>\n      <td>2.0</td>\n      <td>7</td>\n    </tr>\n    <tr>\n      <th>1070</th>\n      <td>Desvenlafaxine</td>\n      <td>Depression</td>\n      <td>suffer severe anxiety gad take klonopin time g...</td>\n      <td>8.0</td>\n      <td>81</td>\n    </tr>\n    <tr>\n      <th>1375</th>\n      <td>Ethinyl estradiol / norethindrone</td>\n      <td>Birth Control</td>\n      <td>take first pack lo loestrin fe must say really...</td>\n      <td>8.0</td>\n      <td>7</td>\n    </tr>\n  </tbody>\n</table>\n</div>"
          },
          "metadata": {},
          "execution_count": 13
        }
      ]
    },
    {
      "cell_type": "code",
      "metadata": {
        "id": "-djoifyUcdrW"
      },
      "source": [
        "# I save file for will not repeat preprocesing data, if something goes wrong\r\n",
        "train_data.to_csv('tabletki_train.csv')"
      ],
      "execution_count": 14,
      "outputs": []
    },
    {
      "cell_type": "code",
      "metadata": {
        "id": "XZKfbjvscdrW"
      },
      "source": [
        "pd.set_option('display.max_rows', 5000) "
      ],
      "execution_count": 15,
      "outputs": []
    },
    {
      "cell_type": "code",
      "metadata": {
        "id": "Xw55Dbw8cdrW"
      },
      "source": [
        "# read file\r\n",
        "train_data = pd.read_csv('tabletki_train.csv')"
      ],
      "execution_count": 16,
      "outputs": []
    },
    {
      "cell_type": "code",
      "metadata": {
        "id": "jZeYRPOycdrX"
      },
      "source": [
        "# Convert type\r\n",
        "train_data.condition = train_data.condition.astype('str')\r\n",
        "train_data.rating=train_data.rating.astype(int)"
      ],
      "execution_count": 17,
      "outputs": []
    },
    {
      "cell_type": "code",
      "metadata": {
        "id": "ZHnwRqyQcdrY"
      },
      "source": [
        "# This function replce condition wiht on mist common condition for this drugName\n",
        "def replace_condition(index):\n",
        "    d_name = train_data.loc[index:index].drugName.values[0]\n",
        "    most_com = train_data[train_data.drugName==d_name].condition.value_counts().index[0]\n",
        "    train_data.loc[index:index].condition=most_com "
      ],
      "execution_count": 18,
      "outputs": []
    },
    {
      "cell_type": "code",
      "metadata": {
        "id": "BFBeMLj3cdrY"
      },
      "source": [
        "for i  in train_data[train_data.condition=='nan'].index:\n",
        "    replace_condition(i)"
      ],
      "execution_count": 19,
      "outputs": []
    },
    {
      "cell_type": "code",
      "metadata": {
        "id": "38Ww7w_McdrY",
        "colab": {
          "base_uri": "https://localhost:8080/"
        },
        "outputId": "cc0d5bab-91d1-4f9d-da95-3d782eaee1b7"
      },
      "source": [
        "train_data.isna().sum()"
      ],
      "execution_count": 20,
      "outputs": [
        {
          "output_type": "execute_result",
          "data": {
            "text/plain": [
              "Unnamed: 0     0\n",
              "drugName       0\n",
              "condition      0\n",
              "review         3\n",
              "rating         0\n",
              "usefulCount    0\n",
              "dtype: int64"
            ]
          },
          "metadata": {},
          "execution_count": 20
        }
      ]
    },
    {
      "cell_type": "code",
      "execution_count": 21,
      "metadata": {},
      "outputs": [],
      "source": [
        "train_data.dropna(inplace=True)"
      ]
    },
    {
      "cell_type": "code",
      "execution_count": 22,
      "metadata": {},
      "outputs": [
        {
          "output_type": "execute_result",
          "data": {
            "text/plain": [
              "Unnamed: 0     0\n",
              "drugName       0\n",
              "condition      0\n",
              "review         0\n",
              "rating         0\n",
              "usefulCount    0\n",
              "dtype: int64"
            ]
          },
          "metadata": {},
          "execution_count": 22
        }
      ],
      "source": [
        "train_data.isna().sum()"
      ]
    },
    {
      "cell_type": "markdown",
      "metadata": {
        "id": "gVs3-AwTlBW1"
      },
      "source": [
        "### Now i want test my hypothesis. If we will train one model for predict 10 classes it gives a so small sсore.\r### \n",
        "Now watch your hands. For example, take a problem where there are 3 classes. We will create a model that will predict whether it is a class 1 based on the fact that it is not 2. If it is exactly the first class, the model will tell us that it is exactly 1 class, if not 1 then 2. So I want to predict 10 classes.And for each class there will be 9 models that will test hypotheses and give the result. I do not know if you understand, if that write to me I will explain to you"
      ]
    },
    {
      "cell_type": "code",
      "metadata": {
        "id": "kV93xARg7MO3"
      },
      "source": [
        "# Create dict. In this dict first keys it name of prediction class(1..10), each\r\n",
        "# key has dict with keys(1/2, 1/3, 1/4 ....) and values X and y\r\n",
        "test_hyp ={}\r\n",
        "for i in sorted(train_data.rating.unique()):\r\n",
        "  test_hyp[f'{int(i)}']={\r\n",
        "      f'{int(i)}/{int(j)}': {'X':train_data['review'][(train_data.rating == i) |\r\n",
        "                                                      (train_data.rating==j)],\r\n",
        "                             'y':train_data.rating[(train_data.rating == i) | \r\n",
        "                                                   (train_data.rating==j)]}  \r\n",
        "      for j in sorted(train_data.rating.unique()) if j!= i\r\n",
        "      }"
      ],
      "execution_count": 23,
      "outputs": []
    },
    {
      "cell_type": "code",
      "metadata": {
        "id": "BUfYQ4AHQre1"
      },
      "source": [
        "# create obj of TfidfVectorizer() and traing \n",
        "tdf_vec = TfidfVectorizer()\n",
        "tdf_vec.fit(train_data.review)"
      ],
      "execution_count": 24,
      "outputs": [
        {
          "output_type": "execute_result",
          "data": {
            "text/plain": [
              "TfidfVectorizer()"
            ]
          },
          "metadata": {},
          "execution_count": 24
        }
      ]
    },
    {
      "cell_type": "code",
      "metadata": {
        "id": "LmPI1oksUdBV"
      },
      "source": [
        "# create obj of TruncatedSVD and traing \n",
        "trun_svd = TruncatedSVD(n_components=700)\n",
        "trun_svd.fit(tdf_vec.transform(train_data.review))"
      ],
      "execution_count": 25,
      "outputs": [
        {
          "output_type": "execute_result",
          "data": {
            "text/plain": [
              "TruncatedSVD(n_components=700)"
            ]
          },
          "metadata": {},
          "execution_count": 25
        }
      ]
    },
    {
      "cell_type": "code",
      "metadata": {
        "id": "s5qXqOpfS0jd"
      },
      "source": [
        "# create model for all class \n",
        "# i didn't split data on test and train, because now i show how it's working, test this solutions we will next\n",
        "for key_1 in test_hyp.keys():\n",
        "  for key_2 in test_hyp[key_1].keys():\n",
        "    test_hyp[key_1][key_2]['X']= trun_svd.transform(\n",
        "        tdf_vec.transform(test_hyp[key_1][key_2]['X']))\n",
        "    test_hyp[key_1][key_2]['model'] = LogisticRegression(n_jobs=-1).fit(\n",
        "         test_hyp[key_1][key_2]['X'], test_hyp[key_1][key_2]['y']\n",
        "     )"
      ],
      "execution_count": 26,
      "outputs": []
    },
    {
      "cell_type": "code",
      "metadata": {
        "colab": {
          "base_uri": "https://localhost:8080/",
          "height": 374
        },
        "id": "B5jv15k-jRWx",
        "outputId": "e336e127-e37b-4bb4-8dff-881d83a8702e"
      },
      "source": [
        "#show how we predict class \n",
        "def predict_rating(review):\n",
        "  review = trun_svd.transform(tdf_vec.transform([review]))\n",
        "  result = {}\n",
        "  for key_1 in test_hyp.keys():\n",
        "    prom_res = []\n",
        "    for key_2 in test_hyp[key_1].keys():\n",
        "      prom_res.append(test_hyp[key_1][key_2]['model'].predict(review))\n",
        "      result[prom_res.count(int(key_1))/len(prom_res)] = key_1\n",
        "\n",
        "  return result[max(list(result.keys()))]\n",
        "\n",
        "print(predict_rating('ive chronic constipation adult life try linz work month stop doctor start amitiza mg miracle ive four month life day bowel motion go comfortably time per week pain little gas miracle'))      \n",
        "\n",
        "\n",
        "  "
      ],
      "execution_count": 27,
      "outputs": [
        {
          "output_type": "stream",
          "name": "stdout",
          "text": [
            "10\n"
          ]
        }
      ]
    },
    {
      "cell_type": "markdown",
      "metadata": {
        "id": "uaGoZ-Kyq6IQ"
      },
      "source": [
        "### Now i create class for multiclassing classification. You will can this class for other task\r\n"
      ]
    },
    {
      "cell_type": "code",
      "metadata": {
        "id": "3eu7iD4YxdAJ"
      },
      "source": [
        "class Predict:\r\n",
        "\r\n",
        "    def __init__(self, data_frame, text_col, class_col):\r\n",
        "      # Initialize all necessary variables\r\n",
        "        self.data = data_frame\r\n",
        "        self.name_text = text_col\r\n",
        "        self.name_class = class_col\r\n",
        "        self.tdf_vec = TfidfVectorizer()\r\n",
        "        self.trun_svd = TruncatedSVD(n_components=700)\r\n",
        "        self._train_tdf_trun()\r\n",
        "        self.working_dict = self._create_dict()\r\n",
        "        self.dict_with_model = self._add_model_to_dict()\r\n",
        "\r\n",
        "    def _train_tdf_trun(self):\r\n",
        "      # Create and train  TfidfVectorizer()\r\n",
        "        self.tdf_vec.fit(self.data[self.name_text])\r\n",
        "        self.trun_svd.fit(self.tdf_vec.transform(self.data[self.name_text]))\r\n",
        "\r\n",
        "    def _create_dict(self):\r\n",
        "      # Create dict with values \r\n",
        "        test_hyp = {}\r\n",
        "        for i in sorted(self.data.rating.unique()):\r\n",
        "            test_hyp[f'{int(i)}'] = {\r\n",
        "                f'{int(i)}/{int(j)}': {'X': self.data[self.name_text][(self.data[self.name_class] == i) |\r\n",
        "                                                                      (self.data[self.name_class] == j)],\r\n",
        "                                       'y': self.data[self.name_class][(self.data[self.name_class] == i)\r\n",
        "                                                                       | (self.data[self.name_class] == j)]}\r\n",
        "                for j in sorted(self.data[self.name_class].unique()) if j != i\r\n",
        "            }\r\n",
        "        return test_hyp\r\n",
        "\r\n",
        "    def _add_model_to_dict(self):\r\n",
        "      # This function add model in dict \r\n",
        "        test_hyp = self._create_dict()\r\n",
        "        for key_1 in test_hyp.keys():\r\n",
        "            for key_2 in test_hyp[key_1].keys():\r\n",
        "                test_hyp[key_1][key_2]['X'] = self.trun_svd.transform(\r\n",
        "                    self.tdf_vec.transform(test_hyp[key_1][key_2]['X']))\r\n",
        "                test_hyp[key_1][key_2]['model'] = LogisticRegression(n_jobs=-1).fit(\r\n",
        "                    test_hyp[key_1][]hyp[key_1][key_2]['y']\r\n",
        "                )\r\n",
        "\r\n",
        "        return test_hyp\r\n",
        "\r\n",
        "    def predict_class(self, review):\r\n",
        "      # Predict class\r\n",
        "        review = self.trun_svd.transform(self.tdf_vec.transform([review]))\r\n",
        "        result = {}\r\n",
        "        for key_1 in self.dict_with_model.keys():\r\n",
        "            prom_res = []\r\n",
        "            for key_2 in self.dict_with_model[key_1].keys():\r\n",
        "                prom_res.append(self.dict_with_model[key_1][key_2]['model'].predict(review))\r\n",
        "            result[prom_res.count(int(key_1)) / len(prom_res)] = key_1\r\n",
        "\r\n",
        "        return result[max(list(result.keys()))]\r\n",
        "\r\n",
        "    @staticmethod\r\n",
        "    def metrics(tru._rez, predict_rez):\r\n",
        "      # It is function for get score \r\n",
        "        if abs(true_rez - predict_rez) == 1 or abs(true_rez - predict_rez) == 0:\r\n",
        "            return 1\r\n",
        "        else:\r\n",
        "            return 0\r\n"
      ],
      "execution_count": 28,
      "outputs": [
        {
          "output_type": "error",
          "ename": "SyntaxError",
          "evalue": "invalid syntax (<ipython-input-28-bfb531f5cea6>, line 40)",
          "traceback": [
            "\u001b[1;36m  File \u001b[1;32m\"<ipython-input-28-bfb531f5cea6>\"\u001b[1;36m, line \u001b[1;32m40\u001b[0m\n\u001b[1;33m    test_hyp[key_1][]hyp[key_1][key_2]['y']\u001b[0m\n\u001b[1;37m                    ^\u001b[0m\n\u001b[1;31mSyntaxError\u001b[0m\u001b[1;31m:\u001b[0m invalid syntax\n"
          ]
        }
      ]
    },
    {
      "cell_type": "markdown",
      "metadata": {
        "id": "HZSG0DBPr3xr"
      },
      "source": [
        "### Next we will testing class"
      ]
    },
    {
      "cell_type": "code",
      "metadata": {
        "id": "SJgGu7nmsGZH"
      },
      "source": [
        "train_class = train_data.sample(frac=0.7, random_state=50) \r\n",
        "test_class = train_data.drop(index=train_class.index , axis=1)"
      ],
      "execution_count": 37,
      "outputs": []
    },
    {
      "cell_type": "code",
      "metadata": {
        "id": "Rpbl9NDDRQ_g"
      },
      "source": [
        "new_obj = Predict(train_class, 'review', 'rating')"
      ],
      "execution_count": 38,
      "outputs": []
    },
    {
      "cell_type": "code",
      "metadata": {
        "id": "xS55IwTT5uCb"
      },
      "source": [
        "review = test_class.review.values\r\n",
        "true_rating = test_class.rating.values"
      ],
      "execution_count": 39,
      "outputs": []
    },
    {
      "cell_type": "code",
      "metadata": {
        "id": "QckYtkTZj3xA",
        "colab": {
          "base_uri": "https://localhost:8080/"
        },
        "outputId": "3a88a46b-b0a7-4cb9-a526-c27fd77981d6"
      },
      "source": [
        "resul_met = [new_obj.metrics(int(new_obj.predict_class(rev)), rat) for rev, rat in zip(review, true_rating)]\r\n",
        "print(resul_met.count(1)/len(resul_met))"
      ],
      "execution_count": 40,
      "outputs": [
        {
          "output_type": "stream",
          "name": "stdout",
          "text": [
            "0.6182177139355981\n"
          ]
        }
      ]
    },
    {
      "cell_type": "code",
      "execution_count": 48,
      "metadata": {},
      "outputs": [
        {
          "output_type": "stream",
          "name": "stdout",
          "text": [
            "0.4025461229491456\n"
          ]
        }
      ],
      "source": [
        "log_reg = LogisticRegression(n_jobs=-1)\n",
        "tr_f = trun_svd.transform(tdf_vec.transform(train_class.review))\n",
        "test_f = trun_svd.transform(tdf_vec.transform(review))\n",
        "log_reg.fit(tr_f, train_class.rating)\n",
        "print(log_reg.score(test_f, true_rating))"
      ]
    },
    {
      "cell_type": "code",
      "metadata": {
        "id": "Nlxd5xi7d-wI"
      },
      "source": [
        "# def finde_param(n):\r\n",
        "#   trun_svd = TruncatedSVD(n_components=n)\r\n",
        "#   trun_svd.fit(tdf_vec.transform(small_data.review))\r\n",
        "#   for key_1 in test_hyp.keys():\r\n",
        "#     for key_2 in test_hyp[key_1].keys():\r\n",
        "#       test_hyp[key_1][key_2]['X']= trun_svd.transform(\r\n",
        "#           tdf_vec.transform(test_hyp[key_1][key_2]['X']))\r\n",
        "#       X_train, X_test, y_train, y_test = train_test_split(\r\n",
        "#           test_hyp[key_1][key_2]['X'], \r\n",
        "#           test_hyp[key_1][key_2]['y'], test_size = 0.3,  random_state = 7)\r\n",
        "#       test_hyp[key_1][key_2]['model'] = LogisticRegression(n_jobs=-1).fit(\r\n",
        "#           X_train, y_train\r\n",
        "#       ) \r\n",
        "#       test_hyp[key_1][key_2]['score'] = test_hyp[key_1][key_2]['model'].score(\r\n",
        "#           X_test, y_test\r\n",
        "#       )"
      ],
      "execution_count": null,
      "outputs": []
    },
    {
      "cell_type": "markdown",
      "metadata": {
        "id": "Qlzf3DcHpeYq"
      },
      "source": [
        "### Since these data are reviews of medicines, we will try to conduct a small marketing research"
      ]
    },
    {
      "cell_type": "code",
      "metadata": {
        "colab": {
          "base_uri": "https://localhost:8080/",
          "height": 202
        },
        "id": "9Q9PawMEweOb",
        "outputId": "a577b91b-2967-4971-93b8-031a075833e6"
      },
      "source": [
        "explore_data = pd.read_csv('tabletki_train.csv')\n",
        "explore_data.drop('Unnamed: 0', axis=1, inplace=True)\n",
        "explore_data.head()"
      ],
      "execution_count": 31,
      "outputs": [
        {
          "output_type": "execute_result",
          "data": {
            "text/plain": [
              "                            drugName      condition  \\\n",
              "0                          Nexplanon  Birth Control   \n",
              "1                           Cymbalta        Anxiety   \n",
              "2                           Orsythia  Birth Control   \n",
              "3                     Desvenlafaxine     Depression   \n",
              "4  Ethinyl estradiol / norethindrone  Birth Control   \n",
              "\n",
              "                                              review  rating  usefulCount  \n",
              "0  first implanon get nexplanon period first mont...     9.0            5  \n",
              "1  prescribed via psychiatrist severe panic attac...     1.0           27  \n",
              "2  orsythia month start second week second month ...     2.0            7  \n",
              "3  suffer severe anxiety gad take klonopin time g...     8.0           81  \n",
              "4  take first pack lo loestrin fe must say really...     8.0            7  "
            ],
            "text/html": "<div>\n<style scoped>\n    .dataframe tbody tr th:only-of-type {\n        vertical-align: middle;\n    }\n\n    .dataframe tbody tr th {\n        vertical-align: top;\n    }\n\n    .dataframe thead th {\n        text-align: right;\n    }\n</style>\n<table border=\"1\" class=\"dataframe\">\n  <thead>\n    <tr style=\"text-align: right;\">\n      <th></th>\n      <th>drugName</th>\n      <th>condition</th>\n      <th>review</th>\n      <th>rating</th>\n      <th>usefulCount</th>\n    </tr>\n  </thead>\n  <tbody>\n    <tr>\n      <th>0</th>\n      <td>Nexplanon</td>\n      <td>Birth Control</td>\n      <td>first implanon get nexplanon period first mont...</td>\n      <td>9.0</td>\n      <td>5</td>\n    </tr>\n    <tr>\n      <th>1</th>\n      <td>Cymbalta</td>\n      <td>Anxiety</td>\n      <td>prescribed via psychiatrist severe panic attac...</td>\n      <td>1.0</td>\n      <td>27</td>\n    </tr>\n    <tr>\n      <th>2</th>\n      <td>Orsythia</td>\n      <td>Birth Control</td>\n      <td>orsythia month start second week second month ...</td>\n      <td>2.0</td>\n      <td>7</td>\n    </tr>\n    <tr>\n      <th>3</th>\n      <td>Desvenlafaxine</td>\n      <td>Depression</td>\n      <td>suffer severe anxiety gad take klonopin time g...</td>\n      <td>8.0</td>\n      <td>81</td>\n    </tr>\n    <tr>\n      <th>4</th>\n      <td>Ethinyl estradiol / norethindrone</td>\n      <td>Birth Control</td>\n      <td>take first pack lo loestrin fe must say really...</td>\n      <td>8.0</td>\n      <td>7</td>\n    </tr>\n  </tbody>\n</table>\n</div>"
          },
          "metadata": {},
          "execution_count": 31
        }
      ]
    },
    {
      "cell_type": "code",
      "metadata": {
        "id": "cD3BU9L-vQUR"
      },
      "source": [
        "df_forplt=explore_data.groupby('condition').sum('usefulCount').sort_values('usefulCount', ascending=False)"
      ],
      "execution_count": 32,
      "outputs": []
    },
    {
      "cell_type": "code",
      "metadata": {
        "id": "8n85ztAgvQZ6",
        "colab": {
          "base_uri": "https://localhost:8080/",
          "height": 233
        },
        "outputId": "586b47d1-8b85-4a18-be43-090127aa8c5f"
      },
      "source": [
        "df_forplt.head()"
      ],
      "execution_count": 33,
      "outputs": [
        {
          "output_type": "execute_result",
          "data": {
            "text/plain": [
              "                  rating  usefulCount\n",
              "condition                            \n",
              "Depression       19705.0       153305\n",
              "Anxiety          12380.0        93447\n",
              "Birth Control    64949.0        82761\n",
              "Pain             13290.0        67325\n",
              "Bipolar Disorde   9581.0        53572"
            ],
            "text/html": "<div>\n<style scoped>\n    .dataframe tbody tr th:only-of-type {\n        vertical-align: middle;\n    }\n\n    .dataframe tbody tr th {\n        vertical-align: top;\n    }\n\n    .dataframe thead th {\n        text-align: right;\n    }\n</style>\n<table border=\"1\" class=\"dataframe\">\n  <thead>\n    <tr style=\"text-align: right;\">\n      <th></th>\n      <th>rating</th>\n      <th>usefulCount</th>\n    </tr>\n    <tr>\n      <th>condition</th>\n      <th></th>\n      <th></th>\n    </tr>\n  </thead>\n  <tbody>\n    <tr>\n      <th>Depression</th>\n      <td>19705.0</td>\n      <td>153305</td>\n    </tr>\n    <tr>\n      <th>Anxiety</th>\n      <td>12380.0</td>\n      <td>93447</td>\n    </tr>\n    <tr>\n      <th>Birth Control</th>\n      <td>64949.0</td>\n      <td>82761</td>\n    </tr>\n    <tr>\n      <th>Pain</th>\n      <td>13290.0</td>\n      <td>67325</td>\n    </tr>\n    <tr>\n      <th>Bipolar Disorde</th>\n      <td>9581.0</td>\n      <td>53572</td>\n    </tr>\n  </tbody>\n</table>\n</div>"
          },
          "metadata": {},
          "execution_count": 33
        }
      ]
    },
    {
      "cell_type": "code",
      "metadata": {
        "id": "sw08-4QzvQcd",
        "colab": {
          "base_uri": "https://localhost:8080/",
          "height": 542
        },
        "outputId": "4841d43c-9eb6-4c66-d495-d4db8fa8040d"
      },
      "source": [
        "gist_1 = go.Bar(y=[i for i in df_forplt.usefulCount.values[:10]], \r\n",
        "                   x=[i for i in df_forplt.index.values[:10]]\r\n",
        "            , marker=dict(color = 'rgb(200, 1, 174)'))\r\n",
        "go.Figure(data=[gist_1]).update_layout(title=\"How many people rated\")"
      ],
      "execution_count": 34,
      "outputs": [
        {
          "output_type": "display_data",
          "data": {
            "application/vnd.plotly.v1+json": {
              "config": {
                "plotlyServerURL": "https://plot.ly"
              },
              "data": [
                {
                  "marker": {
                    "color": "rgb(200, 1, 174)"
                  },
                  "type": "bar",
                  "x": [
                    "Depression",
                    "Anxiety",
                    "Birth Control",
                    "Pain",
                    "Bipolar Disorde",
                    "Obesity",
                    "ADHD",
                    "Weight Loss",
                    "Anxiety and Stress",
                    "Insomnia"
                  ],
                  "y": [
                    153305,
                    93447,
                    82761,
                    67325,
                    53572,
                    45229,
                    44376,
                    44034,
                    33178,
                    29261
                  ]
                }
              ],
              "layout": {
                "template": {
                  "data": {
                    "bar": [
                      {
                        "error_x": {
                          "color": "#2a3f5f"
                        },
                        "error_y": {
                          "color": "#2a3f5f"
                        },
                        "marker": {
                          "line": {
                            "color": "#E5ECF6",
                            "width": 0.5
                          }
                        },
                        "type": "bar"
                      }
                    ],
                    "barpolar": [
                      {
                        "marker": {
                          "line": {
                            "color": "#E5ECF6",
                            "width": 0.5
                          }
                        },
                        "type": "barpolar"
                      }
                    ],
                    "carpet": [
                      {
                        "aaxis": {
                          "endlinecolor": "#2a3f5f",
                          "gridcolor": "white",
                          "linecolor": "white",
                          "minorgridcolor": "white",
                          "startlinecolor": "#2a3f5f"
                        },
                        "baxis": {
                          "endlinecolor": "#2a3f5f",
                          "gridcolor": "white",
                          "linecolor": "white",
                          "minorgridcolor": "white",
                          "startlinecolor": "#2a3f5f"
                        },
                        "type": "carpet"
                      }
                    ],
                    "choropleth": [
                      {
                        "colorbar": {
                          "outlinewidth": 0,
                          "ticks": ""
                        },
                        "type": "choropleth"
                      }
                    ],
                    "contour": [
                      {
                        "colorbar": {
                          "outlinewidth": 0,
                          "ticks": ""
                        },
                        "colorscale": [
                          [
                            0,
                            "#0d0887"
                          ],
                          [
                            0.1111111111111111,
                            "#46039f"
                          ],
                          [
                            0.2222222222222222,
                            "#7201a8"
                          ],
                          [
                            0.3333333333333333,
                            "#9c179e"
                          ],
                          [
                            0.4444444444444444,
                            "#bd3786"
                          ],
                          [
                            0.5555555555555556,
                            "#d8576b"
                          ],
                          [
                            0.6666666666666666,
                            "#ed7953"
                          ],
                          [
                            0.7777777777777778,
                            "#fb9f3a"
                          ],
                          [
                            0.8888888888888888,
                            "#fdca26"
                          ],
                          [
                            1,
                            "#f0f921"
                          ]
                        ],
                        "type": "contour"
                      }
                    ],
                    "contourcarpet": [
                      {
                        "colorbar": {
                          "outlinewidth": 0,
                          "ticks": ""
                        },
                        "type": "contourcarpet"
                      }
                    ],
                    "heatmap": [
                      {
                        "colorbar": {
                          "outlinewidth": 0,
                          "ticks": ""
                        },
                        "colorscale": [
                          [
                            0,
                            "#0d0887"
                          ],
                          [
                            0.1111111111111111,
                            "#46039f"
                          ],
                          [
                            0.2222222222222222,
                            "#7201a8"
                          ],
                          [
                            0.3333333333333333,
                            "#9c179e"
                          ],
                          [
                            0.4444444444444444,
                            "#bd3786"
                          ],
                          [
                            0.5555555555555556,
                            "#d8576b"
                          ],
                          [
                            0.6666666666666666,
                            "#ed7953"
                          ],
                          [
                            0.7777777777777778,
                            "#fb9f3a"
                          ],
                          [
                            0.8888888888888888,
                            "#fdca26"
                          ],
                          [
                            1,
                            "#f0f921"
                          ]
                        ],
                        "type": "heatmap"
                      }
                    ],
                    "heatmapgl": [
                      {
                        "colorbar": {
                          "outlinewidth": 0,
                          "ticks": ""
                        },
                        "colorscale": [
                          [
                            0,
                            "#0d0887"
                          ],
                          [
                            0.1111111111111111,
                            "#46039f"
                          ],
                          [
                            0.2222222222222222,
                            "#7201a8"
                          ],
                          [
                            0.3333333333333333,
                            "#9c179e"
                          ],
                          [
                            0.4444444444444444,
                            "#bd3786"
                          ],
                          [
                            0.5555555555555556,
                            "#d8576b"
                          ],
                          [
                            0.6666666666666666,
                            "#ed7953"
                          ],
                          [
                            0.7777777777777778,
                            "#fb9f3a"
                          ],
                          [
                            0.8888888888888888,
                            "#fdca26"
                          ],
                          [
                            1,
                            "#f0f921"
                          ]
                        ],
                        "type": "heatmapgl"
                      }
                    ],
                    "histogram": [
                      {
                        "marker": {
                          "colorbar": {
                            "outlinewidth": 0,
                            "ticks": ""
                          }
                        },
                        "type": "histogram"
                      }
                    ],
                    "histogram2d": [
                      {
                        "colorbar": {
                          "outlinewidth": 0,
                          "ticks": ""
                        },
                        "colorscale": [
                          [
                            0,
                            "#0d0887"
                          ],
                          [
                            0.1111111111111111,
                            "#46039f"
                          ],
                          [
                            0.2222222222222222,
                            "#7201a8"
                          ],
                          [
                            0.3333333333333333,
                            "#9c179e"
                          ],
                          [
                            0.4444444444444444,
                            "#bd3786"
                          ],
                          [
                            0.5555555555555556,
                            "#d8576b"
                          ],
                          [
                            0.6666666666666666,
                            "#ed7953"
                          ],
                          [
                            0.7777777777777778,
                            "#fb9f3a"
                          ],
                          [
                            0.8888888888888888,
                            "#fdca26"
                          ],
                          [
                            1,
                            "#f0f921"
                          ]
                        ],
                        "type": "histogram2d"
                      }
                    ],
                    "histogram2dcontour": [
                      {
                        "colorbar": {
                          "outlinewidth": 0,
                          "ticks": ""
                        },
                        "colorscale": [
                          [
                            0,
                            "#0d0887"
                          ],
                          [
                            0.1111111111111111,
                            "#46039f"
                          ],
                          [
                            0.2222222222222222,
                            "#7201a8"
                          ],
                          [
                            0.3333333333333333,
                            "#9c179e"
                          ],
                          [
                            0.4444444444444444,
                            "#bd3786"
                          ],
                          [
                            0.5555555555555556,
                            "#d8576b"
                          ],
                          [
                            0.6666666666666666,
                            "#ed7953"
                          ],
                          [
                            0.7777777777777778,
                            "#fb9f3a"
                          ],
                          [
                            0.8888888888888888,
                            "#fdca26"
                          ],
                          [
                            1,
                            "#f0f921"
                          ]
                        ],
                        "type": "histogram2dcontour"
                      }
                    ],
                    "mesh3d": [
                      {
                        "colorbar": {
                          "outlinewidth": 0,
                          "ticks": ""
                        },
                        "type": "mesh3d"
                      }
                    ],
                    "parcoords": [
                      {
                        "line": {
                          "colorbar": {
                            "outlinewidth": 0,
                            "ticks": ""
                          }
                        },
                        "type": "parcoords"
                      }
                    ],
                    "pie": [
                      {
                        "automargin": true,
                        "type": "pie"
                      }
                    ],
                    "scatter": [
                      {
                        "marker": {
                          "colorbar": {
                            "outlinewidth": 0,
                            "ticks": ""
                          }
                        },
                        "type": "scatter"
                      }
                    ],
                    "scatter3d": [
                      {
                        "line": {
                          "colorbar": {
                            "outlinewidth": 0,
                            "ticks": ""
                          }
                        },
                        "marker": {
                          "colorbar": {
                            "outlinewidth": 0,
                            "ticks": ""
                          }
                        },
                        "type": "scatter3d"
                      }
                    ],
                    "scattercarpet": [
                      {
                        "marker": {
                          "colorbar": {
                            "outlinewidth": 0,
                            "ticks": ""
                          }
                        },
                        "type": "scattercarpet"
                      }
                    ],
                    "scattergeo": [
                      {
                        "marker": {
                          "colorbar": {
                            "outlinewidth": 0,
                            "ticks": ""
                          }
                        },
                        "type": "scattergeo"
                      }
                    ],
                    "scattergl": [
                      {
                        "marker": {
                          "colorbar": {
                            "outlinewidth": 0,
                            "ticks": ""
                          }
                        },
                        "type": "scattergl"
                      }
                    ],
                    "scattermapbox": [
                      {
                        "marker": {
                          "colorbar": {
                            "outlinewidth": 0,
                            "ticks": ""
                          }
                        },
                        "type": "scattermapbox"
                      }
                    ],
                    "scatterpolar": [
                      {
                        "marker": {
                          "colorbar": {
                            "outlinewidth": 0,
                            "ticks": ""
                          }
                        },
                        "type": "scatterpolar"
                      }
                    ],
                    "scatterpolargl": [
                      {
                        "marker": {
                          "colorbar": {
                            "outlinewidth": 0,
                            "ticks": ""
                          }
                        },
                        "type": "scatterpolargl"
                      }
                    ],
                    "scatterternary": [
                      {
                        "marker": {
                          "colorbar": {
                            "outlinewidth": 0,
                            "ticks": ""
                          }
                        },
                        "type": "scatterternary"
                      }
                    ],
                    "surface": [
                      {
                        "colorbar": {
                          "outlinewidth": 0,
                          "ticks": ""
                        },
                        "colorscale": [
                          [
                            0,
                            "#0d0887"
                          ],
                          [
                            0.1111111111111111,
                            "#46039f"
                          ],
                          [
                            0.2222222222222222,
                            "#7201a8"
                          ],
                          [
                            0.3333333333333333,
                            "#9c179e"
                          ],
                          [
                            0.4444444444444444,
                            "#bd3786"
                          ],
                          [
                            0.5555555555555556,
                            "#d8576b"
                          ],
                          [
                            0.6666666666666666,
                            "#ed7953"
                          ],
                          [
                            0.7777777777777778,
                            "#fb9f3a"
                          ],
                          [
                            0.8888888888888888,
                            "#fdca26"
                          ],
                          [
                            1,
                            "#f0f921"
                          ]
                        ],
                        "type": "surface"
                      }
                    ],
                    "table": [
                      {
                        "cells": {
                          "fill": {
                            "color": "#EBF0F8"
                          },
                          "line": {
                            "color": "white"
                          }
                        },
                        "header": {
                          "fill": {
                            "color": "#C8D4E3"
                          },
                          "line": {
                            "color": "white"
                          }
                        },
                        "type": "table"
                      }
                    ]
                  },
                  "layout": {
                    "annotationdefaults": {
                      "arrowcolor": "#2a3f5f",
                      "arrowhead": 0,
                      "arrowwidth": 1
                    },
                    "coloraxis": {
                      "colorbar": {
                        "outlinewidth": 0,
                        "ticks": ""
                      }
                    },
                    "colorscale": {
                      "diverging": [
                        [
                          0,
                          "#8e0152"
                        ],
                        [
                          0.1,
                          "#c51b7d"
                        ],
                        [
                          0.2,
                          "#de77ae"
                        ],
                        [
                          0.3,
                          "#f1b6da"
                        ],
                        [
                          0.4,
                          "#fde0ef"
                        ],
                        [
                          0.5,
                          "#f7f7f7"
                        ],
                        [
                          0.6,
                          "#e6f5d0"
                        ],
                        [
                          0.7,
                          "#b8e186"
                        ],
                        [
                          0.8,
                          "#7fbc41"
                        ],
                        [
                          0.9,
                          "#4d9221"
                        ],
                        [
                          1,
                          "#276419"
                        ]
                      ],
                      "sequential": [
                        [
                          0,
                          "#0d0887"
                        ],
                        [
                          0.1111111111111111,
                          "#46039f"
                        ],
                        [
                          0.2222222222222222,
                          "#7201a8"
                        ],
                        [
                          0.3333333333333333,
                          "#9c179e"
                        ],
                        [
                          0.4444444444444444,
                          "#bd3786"
                        ],
                        [
                          0.5555555555555556,
                          "#d8576b"
                        ],
                        [
                          0.6666666666666666,
                          "#ed7953"
                        ],
                        [
                          0.7777777777777778,
                          "#fb9f3a"
                        ],
                        [
                          0.8888888888888888,
                          "#fdca26"
                        ],
                        [
                          1,
                          "#f0f921"
                        ]
                      ],
                      "sequentialminus": [
                        [
                          0,
                          "#0d0887"
                        ],
                        [
                          0.1111111111111111,
                          "#46039f"
                        ],
                        [
                          0.2222222222222222,
                          "#7201a8"
                        ],
                        [
                          0.3333333333333333,
                          "#9c179e"
                        ],
                        [
                          0.4444444444444444,
                          "#bd3786"
                        ],
                        [
                          0.5555555555555556,
                          "#d8576b"
                        ],
                        [
                          0.6666666666666666,
                          "#ed7953"
                        ],
                        [
                          0.7777777777777778,
                          "#fb9f3a"
                        ],
                        [
                          0.8888888888888888,
                          "#fdca26"
                        ],
                        [
                          1,
                          "#f0f921"
                        ]
                      ]
                    },
                    "colorway": [
                      "#636efa",
                      "#EF553B",
                      "#00cc96",
                      "#ab63fa",
                      "#FFA15A",
                      "#19d3f3",
                      "#FF6692",
                      "#B6E880",
                      "#FF97FF",
                      "#FECB52"
                    ],
                    "font": {
                      "color": "#2a3f5f"
                    },
                    "geo": {
                      "bgcolor": "white",
                      "lakecolor": "white",
                      "landcolor": "#E5ECF6",
                      "showlakes": true,
                      "showland": true,
                      "subunitcolor": "white"
                    },
                    "hoverlabel": {
                      "align": "left"
                    },
                    "hovermode": "closest",
                    "mapbox": {
                      "style": "light"
                    },
                    "paper_bgcolor": "white",
                    "plot_bgcolor": "#E5ECF6",
                    "polar": {
                      "angularaxis": {
                        "gridcolor": "white",
                        "linecolor": "white",
                        "ticks": ""
                      },
                      "bgcolor": "#E5ECF6",
                      "radialaxis": {
                        "gridcolor": "white",
                        "linecolor": "white",
                        "ticks": ""
                      }
                    },
                    "scene": {
                      "xaxis": {
                        "backgroundcolor": "#E5ECF6",
                        "gridcolor": "white",
                        "gridwidth": 2,
                        "linecolor": "white",
                        "showbackground": true,
                        "ticks": "",
                        "zerolinecolor": "white"
                      },
                      "yaxis": {
                        "backgroundcolor": "#E5ECF6",
                        "gridcolor": "white",
                        "gridwidth": 2,
                        "linecolor": "white",
                        "showbackground": true,
                        "ticks": "",
                        "zerolinecolor": "white"
                      },
                      "zaxis": {
                        "backgroundcolor": "#E5ECF6",
                        "gridcolor": "white",
                        "gridwidth": 2,
                        "linecolor": "white",
                        "showbackground": true,
                        "ticks": "",
                        "zerolinecolor": "white"
                      }
                    },
                    "shapedefaults": {
                      "line": {
                        "color": "#2a3f5f"
                      }
                    },
                    "ternary": {
                      "aaxis": {
                        "gridcolor": "white",
                        "linecolor": "white",
                        "ticks": ""
                      },
                      "baxis": {
                        "gridcolor": "white",
                        "linecolor": "white",
                        "ticks": ""
                      },
                      "bgcolor": "#E5ECF6",
                      "caxis": {
                        "gridcolor": "white",
                        "linecolor": "white",
                        "ticks": ""
                      }
                    },
                    "title": {
                      "x": 0.05
                    },
                    "xaxis": {
                      "automargin": true,
                      "gridcolor": "white",
                      "linecolor": "white",
                      "ticks": "",
                      "title": {
                        "standoff": 15
                      },
                      "zerolinecolor": "white",
                      "zerolinewidth": 2
                    },
                    "yaxis": {
                      "automargin": true,
                      "gridcolor": "white",
                      "linecolor": "white",
                      "ticks": "",
                      "title": {
                        "standoff": 15
                      },
                      "zerolinecolor": "white",
                      "zerolinewidth": 2
                    }
                  }
                },
                "title": {
                  "text": "How many people rated"
                }
              }
            }
          },
          "metadata": {}
        }
      ]
    },
    {
      "cell_type": "markdown",
      "metadata": {
        "id": "tOtXTkjn1QBO"
      },
      "source": [
        "### Based on this graph, we can see that people with depression often pay more attention to text comments and find them useful. That contextual advertising of anti-depression drugs can boost sales and that people with depression are more likely to listen to other people's opinions. Next we will look at the words used in the comments for drugs against depression\r\n"
      ]
    },
    {
      "cell_type": "code",
      "metadata": {
        "id": "q3Od_tS6vQf6",
        "colab": {
          "base_uri": "https://localhost:8080/",
          "height": 355
        },
        "outputId": "b9d7ab63-5611-4e12-ee52-bb7fd97dad00"
      },
      "source": [
        "explore_data[(explore_data.condition=='Depression') & \r\n",
        "             (explore_data.usefulCount>50) & \r\n",
        "             (explore_data.rating>6)].sort_values('usefulCount', ascending=False).head(10)"
      ],
      "execution_count": 35,
      "outputs": [
        {
          "output_type": "execute_result",
          "data": {
            "text/plain": [
              "             drugName   condition  \\\n",
              "2173           Zoloft  Depression   \n",
              "43995          Celexa  Depression   \n",
              "15393      Vilazodone  Depression   \n",
              "38829  Desvenlafaxine  Depression   \n",
              "31479    Escitalopram  Depression   \n",
              "5652       Duloxetine  Depression   \n",
              "23926      Sertraline  Depression   \n",
              "13933         Pristiq  Depression   \n",
              "36034         Lexapro  Depression   \n",
              "47359      Vilazodone  Depression   \n",
              "\n",
              "                                                  review  rating  usefulCount  \n",
              "2173   remember reading people opinion online drug ta...    10.0         1291  \n",
              "43995  respond one week side effect lethargy bowel pr...     8.0          771  \n",
              "15393  lot additional stress add last year death pare...    10.0          693  \n",
              "38829  try several top ten antidepressant never feel ...    10.0          504  \n",
              "31479  wasnt severely depressed always crazy sensitiv...     9.0          458  \n",
              "5652   cymbalta best thing ever try depression also s...    10.0          446  \n",
              "23926  im write post spent lot time research online z...     8.0          426  \n",
              "13933  suffer dysthymic depression prozac stop work s...    10.0          389  \n",
              "36034  ive lexapro several year say initial side effe...     8.0          376  \n",
              "47359  finish th week viibryd im afraid jinx say feel...     9.0          366  "
            ],
            "text/html": "<div>\n<style scoped>\n    .dataframe tbody tr th:only-of-type {\n        vertical-align: middle;\n    }\n\n    .dataframe tbody tr th {\n        vertical-align: top;\n    }\n\n    .dataframe thead th {\n        text-align: right;\n    }\n</style>\n<table border=\"1\" class=\"dataframe\">\n  <thead>\n    <tr style=\"text-align: right;\">\n      <th></th>\n      <th>drugName</th>\n      <th>condition</th>\n      <th>review</th>\n      <th>rating</th>\n      <th>usefulCount</th>\n    </tr>\n  </thead>\n  <tbody>\n    <tr>\n      <th>2173</th>\n      <td>Zoloft</td>\n      <td>Depression</td>\n      <td>remember reading people opinion online drug ta...</td>\n      <td>10.0</td>\n      <td>1291</td>\n    </tr>\n    <tr>\n      <th>43995</th>\n      <td>Celexa</td>\n      <td>Depression</td>\n      <td>respond one week side effect lethargy bowel pr...</td>\n      <td>8.0</td>\n      <td>771</td>\n    </tr>\n    <tr>\n      <th>15393</th>\n      <td>Vilazodone</td>\n      <td>Depression</td>\n      <td>lot additional stress add last year death pare...</td>\n      <td>10.0</td>\n      <td>693</td>\n    </tr>\n    <tr>\n      <th>38829</th>\n      <td>Desvenlafaxine</td>\n      <td>Depression</td>\n      <td>try several top ten antidepressant never feel ...</td>\n      <td>10.0</td>\n      <td>504</td>\n    </tr>\n    <tr>\n      <th>31479</th>\n      <td>Escitalopram</td>\n      <td>Depression</td>\n      <td>wasnt severely depressed always crazy sensitiv...</td>\n      <td>9.0</td>\n      <td>458</td>\n    </tr>\n    <tr>\n      <th>5652</th>\n      <td>Duloxetine</td>\n      <td>Depression</td>\n      <td>cymbalta best thing ever try depression also s...</td>\n      <td>10.0</td>\n      <td>446</td>\n    </tr>\n    <tr>\n      <th>23926</th>\n      <td>Sertraline</td>\n      <td>Depression</td>\n      <td>im write post spent lot time research online z...</td>\n      <td>8.0</td>\n      <td>426</td>\n    </tr>\n    <tr>\n      <th>13933</th>\n      <td>Pristiq</td>\n      <td>Depression</td>\n      <td>suffer dysthymic depression prozac stop work s...</td>\n      <td>10.0</td>\n      <td>389</td>\n    </tr>\n    <tr>\n      <th>36034</th>\n      <td>Lexapro</td>\n      <td>Depression</td>\n      <td>ive lexapro several year say initial side effe...</td>\n      <td>8.0</td>\n      <td>376</td>\n    </tr>\n    <tr>\n      <th>47359</th>\n      <td>Vilazodone</td>\n      <td>Depression</td>\n      <td>finish th week viibryd im afraid jinx say feel...</td>\n      <td>9.0</td>\n      <td>366</td>\n    </tr>\n  </tbody>\n</table>\n</div>"
          },
          "metadata": {},
          "execution_count": 35
        }
      ]
    },
    {
      "cell_type": "code",
      "metadata": {
        "id": "xJTx4nOOvQiG"
      },
      "source": [
        "dep_word = \" \".join(list(explore_data.review.astype(str).values))"
      ],
      "execution_count": 36,
      "outputs": []
    },
    {
      "cell_type": "code",
      "metadata": {
        "id": "qpztN1dLvQlS"
      },
      "source": [
        "dep_word = word_tokenize(dep_word)"
      ],
      "execution_count": 37,
      "outputs": []
    },
    {
      "cell_type": "code",
      "metadata": {
        "id": "t8zFrvLsvQqj"
      },
      "source": [
        "most_com=Counter(dep_word).most_common(10)"
      ],
      "execution_count": 38,
      "outputs": []
    },
    {
      "cell_type": "code",
      "metadata": {
        "colab": {
          "base_uri": "https://localhost:8080/",
          "height": 542
        },
        "id": "xSoYZ47h7rOY",
        "outputId": "7e929ea6-3508-439e-a735-41f702f5fd59"
      },
      "source": [
        "gist_2 = go.Bar(y=[i[1] for i in most_com], x=[i[0] for i in most_com], \r\n",
        "                marker=dict(color = 'rgb(200, 1, 174)'))\r\n",
        "go.Figure(data=[gist_2]).update_layout(title=\"Most common word in review adout depresion\")"
      ],
      "execution_count": 39,
      "outputs": [
        {
          "output_type": "display_data",
          "data": {
            "application/vnd.plotly.v1+json": {
              "config": {
                "plotlyServerURL": "https://plot.ly"
              },
              "data": [
                {
                  "marker": {
                    "color": "rgb(200, 1, 174)"
                  },
                  "type": "bar",
                  "x": [
                    "take",
                    "day",
                    "get",
                    "month",
                    "go",
                    "year",
                    "work",
                    "week",
                    "start",
                    "effect"
                  ],
                  "y": [
                    39824,
                    28013,
                    26791,
                    22810,
                    20514,
                    20424,
                    18474,
                    18198,
                    17524,
                    16836
                  ]
                }
              ],
              "layout": {
                "template": {
                  "data": {
                    "bar": [
                      {
                        "error_x": {
                          "color": "#2a3f5f"
                        },
                        "error_y": {
                          "color": "#2a3f5f"
                        },
                        "marker": {
                          "line": {
                            "color": "#E5ECF6",
                            "width": 0.5
                          }
                        },
                        "type": "bar"
                      }
                    ],
                    "barpolar": [
                      {
                        "marker": {
                          "line": {
                            "color": "#E5ECF6",
                            "width": 0.5
                          }
                        },
                        "type": "barpolar"
                      }
                    ],
                    "carpet": [
                      {
                        "aaxis": {
                          "endlinecolor": "#2a3f5f",
                          "gridcolor": "white",
                          "linecolor": "white",
                          "minorgridcolor": "white",
                          "startlinecolor": "#2a3f5f"
                        },
                        "baxis": {
                          "endlinecolor": "#2a3f5f",
                          "gridcolor": "white",
                          "linecolor": "white",
                          "minorgridcolor": "white",
                          "startlinecolor": "#2a3f5f"
                        },
                        "type": "carpet"
                      }
                    ],
                    "choropleth": [
                      {
                        "colorbar": {
                          "outlinewidth": 0,
                          "ticks": ""
                        },
                        "type": "choropleth"
                      }
                    ],
                    "contour": [
                      {
                        "colorbar": {
                          "outlinewidth": 0,
                          "ticks": ""
                        },
                        "colorscale": [
                          [
                            0,
                            "#0d0887"
                          ],
                          [
                            0.1111111111111111,
                            "#46039f"
                          ],
                          [
                            0.2222222222222222,
                            "#7201a8"
                          ],
                          [
                            0.3333333333333333,
                            "#9c179e"
                          ],
                          [
                            0.4444444444444444,
                            "#bd3786"
                          ],
                          [
                            0.5555555555555556,
                            "#d8576b"
                          ],
                          [
                            0.6666666666666666,
                            "#ed7953"
                          ],
                          [
                            0.7777777777777778,
                            "#fb9f3a"
                          ],
                          [
                            0.8888888888888888,
                            "#fdca26"
                          ],
                          [
                            1,
                            "#f0f921"
                          ]
                        ],
                        "type": "contour"
                      }
                    ],
                    "contourcarpet": [
                      {
                        "colorbar": {
                          "outlinewidth": 0,
                          "ticks": ""
                        },
                        "type": "contourcarpet"
                      }
                    ],
                    "heatmap": [
                      {
                        "colorbar": {
                          "outlinewidth": 0,
                          "ticks": ""
                        },
                        "colorscale": [
                          [
                            0,
                            "#0d0887"
                          ],
                          [
                            0.1111111111111111,
                            "#46039f"
                          ],
                          [
                            0.2222222222222222,
                            "#7201a8"
                          ],
                          [
                            0.3333333333333333,
                            "#9c179e"
                          ],
                          [
                            0.4444444444444444,
                            "#bd3786"
                          ],
                          [
                            0.5555555555555556,
                            "#d8576b"
                          ],
                          [
                            0.6666666666666666,
                            "#ed7953"
                          ],
                          [
                            0.7777777777777778,
                            "#fb9f3a"
                          ],
                          [
                            0.8888888888888888,
                            "#fdca26"
                          ],
                          [
                            1,
                            "#f0f921"
                          ]
                        ],
                        "type": "heatmap"
                      }
                    ],
                    "heatmapgl": [
                      {
                        "colorbar": {
                          "outlinewidth": 0,
                          "ticks": ""
                        },
                        "colorscale": [
                          [
                            0,
                            "#0d0887"
                          ],
                          [
                            0.1111111111111111,
                            "#46039f"
                          ],
                          [
                            0.2222222222222222,
                            "#7201a8"
                          ],
                          [
                            0.3333333333333333,
                            "#9c179e"
                          ],
                          [
                            0.4444444444444444,
                            "#bd3786"
                          ],
                          [
                            0.5555555555555556,
                            "#d8576b"
                          ],
                          [
                            0.6666666666666666,
                            "#ed7953"
                          ],
                          [
                            0.7777777777777778,
                            "#fb9f3a"
                          ],
                          [
                            0.8888888888888888,
                            "#fdca26"
                          ],
                          [
                            1,
                            "#f0f921"
                          ]
                        ],
                        "type": "heatmapgl"
                      }
                    ],
                    "histogram": [
                      {
                        "marker": {
                          "colorbar": {
                            "outlinewidth": 0,
                            "ticks": ""
                          }
                        },
                        "type": "histogram"
                      }
                    ],
                    "histogram2d": [
                      {
                        "colorbar": {
                          "outlinewidth": 0,
                          "ticks": ""
                        },
                        "colorscale": [
                          [
                            0,
                            "#0d0887"
                          ],
                          [
                            0.1111111111111111,
                            "#46039f"
                          ],
                          [
                            0.2222222222222222,
                            "#7201a8"
                          ],
                          [
                            0.3333333333333333,
                            "#9c179e"
                          ],
                          [
                            0.4444444444444444,
                            "#bd3786"
                          ],
                          [
                            0.5555555555555556,
                            "#d8576b"
                          ],
                          [
                            0.6666666666666666,
                            "#ed7953"
                          ],
                          [
                            0.7777777777777778,
                            "#fb9f3a"
                          ],
                          [
                            0.8888888888888888,
                            "#fdca26"
                          ],
                          [
                            1,
                            "#f0f921"
                          ]
                        ],
                        "type": "histogram2d"
                      }
                    ],
                    "histogram2dcontour": [
                      {
                        "colorbar": {
                          "outlinewidth": 0,
                          "ticks": ""
                        },
                        "colorscale": [
                          [
                            0,
                            "#0d0887"
                          ],
                          [
                            0.1111111111111111,
                            "#46039f"
                          ],
                          [
                            0.2222222222222222,
                            "#7201a8"
                          ],
                          [
                            0.3333333333333333,
                            "#9c179e"
                          ],
                          [
                            0.4444444444444444,
                            "#bd3786"
                          ],
                          [
                            0.5555555555555556,
                            "#d8576b"
                          ],
                          [
                            0.6666666666666666,
                            "#ed7953"
                          ],
                          [
                            0.7777777777777778,
                            "#fb9f3a"
                          ],
                          [
                            0.8888888888888888,
                            "#fdca26"
                          ],
                          [
                            1,
                            "#f0f921"
                          ]
                        ],
                        "type": "histogram2dcontour"
                      }
                    ],
                    "mesh3d": [
                      {
                        "colorbar": {
                          "outlinewidth": 0,
                          "ticks": ""
                        },
                        "type": "mesh3d"
                      }
                    ],
                    "parcoords": [
                      {
                        "line": {
                          "colorbar": {
                            "outlinewidth": 0,
                            "ticks": ""
                          }
                        },
                        "type": "parcoords"
                      }
                    ],
                    "pie": [
                      {
                        "automargin": true,
                        "type": "pie"
                      }
                    ],
                    "scatter": [
                      {
                        "marker": {
                          "colorbar": {
                            "outlinewidth": 0,
                            "ticks": ""
                          }
                        },
                        "type": "scatter"
                      }
                    ],
                    "scatter3d": [
                      {
                        "line": {
                          "colorbar": {
                            "outlinewidth": 0,
                            "ticks": ""
                          }
                        },
                        "marker": {
                          "colorbar": {
                            "outlinewidth": 0,
                            "ticks": ""
                          }
                        },
                        "type": "scatter3d"
                      }
                    ],
                    "scattercarpet": [
                      {
                        "marker": {
                          "colorbar": {
                            "outlinewidth": 0,
                            "ticks": ""
                          }
                        },
                        "type": "scattercarpet"
                      }
                    ],
                    "scattergeo": [
                      {
                        "marker": {
                          "colorbar": {
                            "outlinewidth": 0,
                            "ticks": ""
                          }
                        },
                        "type": "scattergeo"
                      }
                    ],
                    "scattergl": [
                      {
                        "marker": {
                          "colorbar": {
                            "outlinewidth": 0,
                            "ticks": ""
                          }
                        },
                        "type": "scattergl"
                      }
                    ],
                    "scattermapbox": [
                      {
                        "marker": {
                          "colorbar": {
                            "outlinewidth": 0,
                            "ticks": ""
                          }
                        },
                        "type": "scattermapbox"
                      }
                    ],
                    "scatterpolar": [
                      {
                        "marker": {
                          "colorbar": {
                            "outlinewidth": 0,
                            "ticks": ""
                          }
                        },
                        "type": "scatterpolar"
                      }
                    ],
                    "scatterpolargl": [
                      {
                        "marker": {
                          "colorbar": {
                            "outlinewidth": 0,
                            "ticks": ""
                          }
                        },
                        "type": "scatterpolargl"
                      }
                    ],
                    "scatterternary": [
                      {
                        "marker": {
                          "colorbar": {
                            "outlinewidth": 0,
                            "ticks": ""
                          }
                        },
                        "type": "scatterternary"
                      }
                    ],
                    "surface": [
                      {
                        "colorbar": {
                          "outlinewidth": 0,
                          "ticks": ""
                        },
                        "colorscale": [
                          [
                            0,
                            "#0d0887"
                          ],
                          [
                            0.1111111111111111,
                            "#46039f"
                          ],
                          [
                            0.2222222222222222,
                            "#7201a8"
                          ],
                          [
                            0.3333333333333333,
                            "#9c179e"
                          ],
                          [
                            0.4444444444444444,
                            "#bd3786"
                          ],
                          [
                            0.5555555555555556,
                            "#d8576b"
                          ],
                          [
                            0.6666666666666666,
                            "#ed7953"
                          ],
                          [
                            0.7777777777777778,
                            "#fb9f3a"
                          ],
                          [
                            0.8888888888888888,
                            "#fdca26"
                          ],
                          [
                            1,
                            "#f0f921"
                          ]
                        ],
                        "type": "surface"
                      }
                    ],
                    "table": [
                      {
                        "cells": {
                          "fill": {
                            "color": "#EBF0F8"
                          },
                          "line": {
                            "color": "white"
                          }
                        },
                        "header": {
                          "fill": {
                            "color": "#C8D4E3"
                          },
                          "line": {
                            "color": "white"
                          }
                        },
                        "type": "table"
                      }
                    ]
                  },
                  "layout": {
                    "annotationdefaults": {
                      "arrowcolor": "#2a3f5f",
                      "arrowhead": 0,
                      "arrowwidth": 1
                    },
                    "coloraxis": {
                      "colorbar": {
                        "outlinewidth": 0,
                        "ticks": ""
                      }
                    },
                    "colorscale": {
                      "diverging": [
                        [
                          0,
                          "#8e0152"
                        ],
                        [
                          0.1,
                          "#c51b7d"
                        ],
                        [
                          0.2,
                          "#de77ae"
                        ],
                        [
                          0.3,
                          "#f1b6da"
                        ],
                        [
                          0.4,
                          "#fde0ef"
                        ],
                        [
                          0.5,
                          "#f7f7f7"
                        ],
                        [
                          0.6,
                          "#e6f5d0"
                        ],
                        [
                          0.7,
                          "#b8e186"
                        ],
                        [
                          0.8,
                          "#7fbc41"
                        ],
                        [
                          0.9,
                          "#4d9221"
                        ],
                        [
                          1,
                          "#276419"
                        ]
                      ],
                      "sequential": [
                        [
                          0,
                          "#0d0887"
                        ],
                        [
                          0.1111111111111111,
                          "#46039f"
                        ],
                        [
                          0.2222222222222222,
                          "#7201a8"
                        ],
                        [
                          0.3333333333333333,
                          "#9c179e"
                        ],
                        [
                          0.4444444444444444,
                          "#bd3786"
                        ],
                        [
                          0.5555555555555556,
                          "#d8576b"
                        ],
                        [
                          0.6666666666666666,
                          "#ed7953"
                        ],
                        [
                          0.7777777777777778,
                          "#fb9f3a"
                        ],
                        [
                          0.8888888888888888,
                          "#fdca26"
                        ],
                        [
                          1,
                          "#f0f921"
                        ]
                      ],
                      "sequentialminus": [
                        [
                          0,
                          "#0d0887"
                        ],
                        [
                          0.1111111111111111,
                          "#46039f"
                        ],
                        [
                          0.2222222222222222,
                          "#7201a8"
                        ],
                        [
                          0.3333333333333333,
                          "#9c179e"
                        ],
                        [
                          0.4444444444444444,
                          "#bd3786"
                        ],
                        [
                          0.5555555555555556,
                          "#d8576b"
                        ],
                        [
                          0.6666666666666666,
                          "#ed7953"
                        ],
                        [
                          0.7777777777777778,
                          "#fb9f3a"
                        ],
                        [
                          0.8888888888888888,
                          "#fdca26"
                        ],
                        [
                          1,
                          "#f0f921"
                        ]
                      ]
                    },
                    "colorway": [
                      "#636efa",
                      "#EF553B",
                      "#00cc96",
                      "#ab63fa",
                      "#FFA15A",
                      "#19d3f3",
                      "#FF6692",
                      "#B6E880",
                      "#FF97FF",
                      "#FECB52"
                    ],
                    "font": {
                      "color": "#2a3f5f"
                    },
                    "geo": {
                      "bgcolor": "white",
                      "lakecolor": "white",
                      "landcolor": "#E5ECF6",
                      "showlakes": true,
                      "showland": true,
                      "subunitcolor": "white"
                    },
                    "hoverlabel": {
                      "align": "left"
                    },
                    "hovermode": "closest",
                    "mapbox": {
                      "style": "light"
                    },
                    "paper_bgcolor": "white",
                    "plot_bgcolor": "#E5ECF6",
                    "polar": {
                      "angularaxis": {
                        "gridcolor": "white",
                        "linecolor": "white",
                        "ticks": ""
                      },
                      "bgcolor": "#E5ECF6",
                      "radialaxis": {
                        "gridcolor": "white",
                        "linecolor": "white",
                        "ticks": ""
                      }
                    },
                    "scene": {
                      "xaxis": {
                        "backgroundcolor": "#E5ECF6",
                        "gridcolor": "white",
                        "gridwidth": 2,
                        "linecolor": "white",
                        "showbackground": true,
                        "ticks": "",
                        "zerolinecolor": "white"
                      },
                      "yaxis": {
                        "backgroundcolor": "#E5ECF6",
                        "gridcolor": "white",
                        "gridwidth": 2,
                        "linecolor": "white",
                        "showbackground": true,
                        "ticks": "",
                        "zerolinecolor": "white"
                      },
                      "zaxis": {
                        "backgroundcolor": "#E5ECF6",
                        "gridcolor": "white",
                        "gridwidth": 2,
                        "linecolor": "white",
                        "showbackground": true,
                        "ticks": "",
                        "zerolinecolor": "white"
                      }
                    },
                    "shapedefaults": {
                      "line": {
                        "color": "#2a3f5f"
                      }
                    },
                    "ternary": {
                      "aaxis": {
                        "gridcolor": "white",
                        "linecolor": "white",
                        "ticks": ""
                      },
                      "baxis": {
                        "gridcolor": "white",
                        "linecolor": "white",
                        "ticks": ""
                      },
                      "bgcolor": "#E5ECF6",
                      "caxis": {
                        "gridcolor": "white",
                        "linecolor": "white",
                        "ticks": ""
                      }
                    },
                    "title": {
                      "x": 0.05
                    },
                    "xaxis": {
                      "automargin": true,
                      "gridcolor": "white",
                      "linecolor": "white",
                      "ticks": "",
                      "title": {
                        "standoff": 15
                      },
                      "zerolinecolor": "white",
                      "zerolinewidth": 2
                    },
                    "yaxis": {
                      "automargin": true,
                      "gridcolor": "white",
                      "linecolor": "white",
                      "ticks": "",
                      "title": {
                        "standoff": 15
                      },
                      "zerolinecolor": "white",
                      "zerolinewidth": 2
                    }
                  }
                },
                "title": {
                  "text": "Most common word in review adout depresion"
                }
              }
            }
          },
          "metadata": {}
        }
      ]
    },
    {
      "cell_type": "markdown",
      "metadata": {
        "id": "Hp7yK75cDzAF"
      },
      "source": [
        "### In the graph, we can see the 10 most common words in the comments of anti-depression medications. But not only the words are important to us, but also in what context they are used\r### \n",
        "Then we will display the comment that users found most useful\r\n"
      ]
    },
    {
      "cell_type": "markdown",
      "metadata": {
        "id": "9ij3t09sLKft"
      },
      "source": [
        "### This 3 review with the bigest usefulcout.\n",
        "    \n",
        "1. remember reading people opinion online drug take scar away finally decide give try best choice make month feel great im mg dont side effect first start notice hand would tremble subside honestly dont listen negativity doesnt work work amaze others go base youself everyone else may blessing diguise pill meant make happy go lucky see quotbutterflies rosesquot meant help put chemical mind balance overly depressed still get sad time normal life people take control make change get pill    \n",
        "2.ive zoloft mg two year relaxed easygoing person zoloft prior start medicine anxious time worried constantly everything suffer period depression hopelessness well wife friend person genera    l\n",
        "3.'respond one week side effect lethargy bowel problem reason didnt rate medicine year excessive anxiety depression finally feel like quotmyselfquot instead enslave unreasonable thought frustration ironically avoid type med year instead quotself medicatingquot alcohol cynicism switch year ago maybe would still married wonderful woman sad true### '\n",
        "\n",
        "Using them and frequently encountered words, we can generate texts that will have a greater impact on the choice of a particular lecture."
      ]
    },
    {
      "cell_type": "markdown",
      "metadata": {
        "id": "bO3achVgC8Rl"
      },
      "source": [
        " # Commercial offer: \r\n",
        " ### Using this data, it is possible to generate reviews for medicines, which can be used by bots to write them on forums to create a good rating of medicines. But now I can't implement it."
      ]
    },
    {
      "source": [
        "# Conclusion:\n",
        "### In the process of completing the work, we consolidated our skills in working with text, wrote our own classification algorithm and method for evaluating the result. Made a commercial offer\n",
        "\n"
      ],
      "cell_type": "markdown",
      "metadata": {
        "id": "9t4nIFOf7rXP"
      }
    }
  ]
}