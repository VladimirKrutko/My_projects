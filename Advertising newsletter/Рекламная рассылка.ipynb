{
 "metadata": {
  "language_info": {
   "codemirror_mode": {
    "name": "ipython",
    "version": 3
   },
   "file_extension": ".py",
   "mimetype": "text/x-python",
   "name": "python",
   "nbconvert_exporter": "python",
   "pygments_lexer": "ipython3",
   "version": "3.7.7"
  },
  "orig_nbformat": 4,
  "kernelspec": {
   "name": "python3",
   "display_name": "Python 3.7.7 64-bit ('datasience': conda)"
  },
  "interpreter": {
   "hash": "91424bc8e970c87d41746f8fdf53f2e2f641a7b262a871414231e1ba24cd62ed"
  }
 },
 "nbformat": 4,
 "nbformat_minor": 2,
 "cells": [
  {
   "source": [
    "# Предсказание отклика на рекламную рассылку\n",
    "## Цель:\n",
    "    Создание модели для предсказания откликак клиентов на рекламную рассылку\n",
    "## Задчи:\n",
    "    1. Подготовка данных\n",
    "    2. Анализ данных \n",
    "    3. Создание модели по предсказанию участия в рекламной компании\n",
    "    4. Создание модели для предсказания, какое из предложений примет клиент"
   ],
   "cell_type": "markdown",
   "metadata": {}
  },
  {
   "cell_type": "code",
   "execution_count": 1,
   "metadata": {},
   "outputs": [
    {
     "output_type": "stream",
     "name": "stderr",
     "text": [
      "D:\\anaconda\\envs\\datasience\\lib\\site-packages\\numpy\\_distributor_init.py:32: UserWarning: loaded more than 1 DLL from .libs:\nD:\\anaconda\\envs\\datasience\\lib\\site-packages\\numpy\\.libs\\libopenblas.GK7GX5KEQ4F6UYO3P26ULGBQYHGQO7J4.gfortran-win_amd64.dll\nD:\\anaconda\\envs\\datasience\\lib\\site-packages\\numpy\\.libs\\libopenblas.NOIJJG62EMASZI6NYURL6JBKM4EVBGM7.gfortran-win_amd64.dll\n  stacklevel=1)\n"
     ]
    }
   ],
   "source": [
    "import numpy as np \n",
    "import pandas as pd\n",
    "import matplotlib.pyplot as plt \n",
    "import seaborn as sns\n",
    "from datetime import datetime"
   ]
  },
  {
   "source": [
    "## Подготовка данных"
   ],
   "cell_type": "markdown",
   "metadata": {}
  },
  {
   "cell_type": "code",
   "execution_count": 2,
   "metadata": {},
   "outputs": [],
   "source": [
    "data = pd.read_excel('marketing_campaign.xlsx')"
   ]
  },
  {
   "cell_type": "code",
   "execution_count": 3,
   "metadata": {},
   "outputs": [],
   "source": [
    "data['ID'].fillna(0, inplace=True)"
   ]
  },
  {
   "cell_type": "code",
   "execution_count": 4,
   "metadata": {},
   "outputs": [
    {
     "output_type": "execute_result",
     "data": {
      "text/plain": [
       "     ID  Year_Birth   Education Marital_Status   Income  Kidhome  Teenhome  \\\n",
       "0  5524        1957  Graduation         Single  58138.0        0         0   \n",
       "1  2174        1954  Graduation         Single  46344.0        1         1   \n",
       "2  4141        1965  Graduation       Together  71613.0        0         0   \n",
       "3  6182        1984  Graduation       Together  26646.0        1         0   \n",
       "4  5324        1981         PhD        Married  58293.0        1         0   \n",
       "\n",
       "  Dt_Customer  Recency  MntWines  ...  NumWebVisitsMonth  AcceptedCmp3  \\\n",
       "0  2012-09-04       58       635  ...                  7             0   \n",
       "1  2014-03-08       38        11  ...                  5             0   \n",
       "2  2013-08-21       26       426  ...                  4             0   \n",
       "3  2014-02-10       26        11  ...                  6             0   \n",
       "4  2014-01-19       94       173  ...                  5             0   \n",
       "\n",
       "   AcceptedCmp4  AcceptedCmp5  AcceptedCmp1  AcceptedCmp2  Complain  \\\n",
       "0             0             0             0             0         0   \n",
       "1             0             0             0             0         0   \n",
       "2             0             0             0             0         0   \n",
       "3             0             0             0             0         0   \n",
       "4             0             0             0             0         0   \n",
       "\n",
       "   Z_CostContact  Z_Revenue  Response  \n",
       "0              3         11         1  \n",
       "1              3         11         0  \n",
       "2              3         11         0  \n",
       "3              3         11         0  \n",
       "4              3         11         0  \n",
       "\n",
       "[5 rows x 29 columns]"
      ],
      "text/html": "<div>\n<style scoped>\n    .dataframe tbody tr th:only-of-type {\n        vertical-align: middle;\n    }\n\n    .dataframe tbody tr th {\n        vertical-align: top;\n    }\n\n    .dataframe thead th {\n        text-align: right;\n    }\n</style>\n<table border=\"1\" class=\"dataframe\">\n  <thead>\n    <tr style=\"text-align: right;\">\n      <th></th>\n      <th>ID</th>\n      <th>Year_Birth</th>\n      <th>Education</th>\n      <th>Marital_Status</th>\n      <th>Income</th>\n      <th>Kidhome</th>\n      <th>Teenhome</th>\n      <th>Dt_Customer</th>\n      <th>Recency</th>\n      <th>MntWines</th>\n      <th>...</th>\n      <th>NumWebVisitsMonth</th>\n      <th>AcceptedCmp3</th>\n      <th>AcceptedCmp4</th>\n      <th>AcceptedCmp5</th>\n      <th>AcceptedCmp1</th>\n      <th>AcceptedCmp2</th>\n      <th>Complain</th>\n      <th>Z_CostContact</th>\n      <th>Z_Revenue</th>\n      <th>Response</th>\n    </tr>\n  </thead>\n  <tbody>\n    <tr>\n      <th>0</th>\n      <td>5524</td>\n      <td>1957</td>\n      <td>Graduation</td>\n      <td>Single</td>\n      <td>58138.0</td>\n      <td>0</td>\n      <td>0</td>\n      <td>2012-09-04</td>\n      <td>58</td>\n      <td>635</td>\n      <td>...</td>\n      <td>7</td>\n      <td>0</td>\n      <td>0</td>\n      <td>0</td>\n      <td>0</td>\n      <td>0</td>\n      <td>0</td>\n      <td>3</td>\n      <td>11</td>\n      <td>1</td>\n    </tr>\n    <tr>\n      <th>1</th>\n      <td>2174</td>\n      <td>1954</td>\n      <td>Graduation</td>\n      <td>Single</td>\n      <td>46344.0</td>\n      <td>1</td>\n      <td>1</td>\n      <td>2014-03-08</td>\n      <td>38</td>\n      <td>11</td>\n      <td>...</td>\n      <td>5</td>\n      <td>0</td>\n      <td>0</td>\n      <td>0</td>\n      <td>0</td>\n      <td>0</td>\n      <td>0</td>\n      <td>3</td>\n      <td>11</td>\n      <td>0</td>\n    </tr>\n    <tr>\n      <th>2</th>\n      <td>4141</td>\n      <td>1965</td>\n      <td>Graduation</td>\n      <td>Together</td>\n      <td>71613.0</td>\n      <td>0</td>\n      <td>0</td>\n      <td>2013-08-21</td>\n      <td>26</td>\n      <td>426</td>\n      <td>...</td>\n      <td>4</td>\n      <td>0</td>\n      <td>0</td>\n      <td>0</td>\n      <td>0</td>\n      <td>0</td>\n      <td>0</td>\n      <td>3</td>\n      <td>11</td>\n      <td>0</td>\n    </tr>\n    <tr>\n      <th>3</th>\n      <td>6182</td>\n      <td>1984</td>\n      <td>Graduation</td>\n      <td>Together</td>\n      <td>26646.0</td>\n      <td>1</td>\n      <td>0</td>\n      <td>2014-02-10</td>\n      <td>26</td>\n      <td>11</td>\n      <td>...</td>\n      <td>6</td>\n      <td>0</td>\n      <td>0</td>\n      <td>0</td>\n      <td>0</td>\n      <td>0</td>\n      <td>0</td>\n      <td>3</td>\n      <td>11</td>\n      <td>0</td>\n    </tr>\n    <tr>\n      <th>4</th>\n      <td>5324</td>\n      <td>1981</td>\n      <td>PhD</td>\n      <td>Married</td>\n      <td>58293.0</td>\n      <td>1</td>\n      <td>0</td>\n      <td>2014-01-19</td>\n      <td>94</td>\n      <td>173</td>\n      <td>...</td>\n      <td>5</td>\n      <td>0</td>\n      <td>0</td>\n      <td>0</td>\n      <td>0</td>\n      <td>0</td>\n      <td>0</td>\n      <td>3</td>\n      <td>11</td>\n      <td>0</td>\n    </tr>\n  </tbody>\n</table>\n<p>5 rows × 29 columns</p>\n</div>"
     },
     "metadata": {},
     "execution_count": 4
    }
   ],
   "source": [
    "data.head()"
   ]
  },
  {
   "source": [
    "Посмотри на типы данных"
   ],
   "cell_type": "markdown",
   "metadata": {}
  },
  {
   "cell_type": "code",
   "execution_count": 5,
   "metadata": {},
   "outputs": [
    {
     "output_type": "execute_result",
     "data": {
      "text/plain": [
       "ID                       int64\n",
       "Year_Birth               int64\n",
       "Education               object\n",
       "Marital_Status          object\n",
       "Income                 float64\n",
       "Kidhome                  int64\n",
       "Teenhome                 int64\n",
       "Dt_Customer             object\n",
       "Recency                  int64\n",
       "MntWines                 int64\n",
       "MntFruits                int64\n",
       "MntMeatProducts          int64\n",
       "MntFishProducts          int64\n",
       "MntSweetProducts         int64\n",
       "MntGoldProds             int64\n",
       "NumDealsPurchases        int64\n",
       "NumWebPurchases          int64\n",
       "NumCatalogPurchases      int64\n",
       "NumStorePurchases        int64\n",
       "NumWebVisitsMonth        int64\n",
       "AcceptedCmp3             int64\n",
       "AcceptedCmp4             int64\n",
       "AcceptedCmp5             int64\n",
       "AcceptedCmp1             int64\n",
       "AcceptedCmp2             int64\n",
       "Complain                 int64\n",
       "Z_CostContact            int64\n",
       "Z_Revenue                int64\n",
       "Response                 int64\n",
       "dtype: object"
      ]
     },
     "metadata": {},
     "execution_count": 5
    }
   ],
   "source": [
    "data.dtypes"
   ]
  },
  {
   "source": [
    "Получим из даты рождения возраст на текущий год "
   ],
   "cell_type": "markdown",
   "metadata": {}
  },
  {
   "cell_type": "code",
   "execution_count": 6,
   "metadata": {},
   "outputs": [],
   "source": [
    "data['Age'] = 2021 - data['Year_Birth']\n",
    "data.drop('Year_Birth', axis=1, inplace=True)"
   ]
  },
  {
   "source": [
    "Дальше посмотрим на колонку с данными об образовании"
   ],
   "cell_type": "markdown",
   "metadata": {}
  },
  {
   "cell_type": "code",
   "execution_count": 7,
   "metadata": {},
   "outputs": [
    {
     "output_type": "execute_result",
     "data": {
      "text/plain": [
       "Graduation    1127\n",
       "PhD            486\n",
       "Master         370\n",
       "2n Cycle       203\n",
       "Basic           54\n",
       "Name: Education, dtype: int64"
      ]
     },
     "metadata": {},
     "execution_count": 7
    }
   ],
   "source": [
    "data.Education.value_counts()"
   ]
  },
  {
   "source": [
    "Конвертиркуем строквую переменную в качественую, где цифра будем обозначать стпень образованияю. Проверим переменную на пропуски "
   ],
   "cell_type": "markdown",
   "metadata": {}
  },
  {
   "cell_type": "code",
   "execution_count": 8,
   "metadata": {},
   "outputs": [
    {
     "output_type": "execute_result",
     "data": {
      "text/plain": [
       "0"
      ]
     },
     "metadata": {},
     "execution_count": 8
    }
   ],
   "source": [
    "data.Education.isnull().sum()"
   ]
  },
  {
   "cell_type": "code",
   "execution_count": 9,
   "metadata": {},
   "outputs": [],
   "source": [
    "dict_EDUC = {key:num for num, key in enumerate(data.Education.unique())}\n",
    "data.Education = data.Education.map(dict_EDUC)"
   ]
  },
  {
   "source": [
    "Проделаем тоже самое с семейным положение"
   ],
   "cell_type": "markdown",
   "metadata": {}
  },
  {
   "cell_type": "code",
   "execution_count": 10,
   "metadata": {},
   "outputs": [
    {
     "output_type": "execute_result",
     "data": {
      "text/plain": [
       "0"
      ]
     },
     "metadata": {},
     "execution_count": 10
    }
   ],
   "source": [
    "data.Marital_Status.isnull().sum()"
   ]
  },
  {
   "cell_type": "code",
   "execution_count": 11,
   "metadata": {},
   "outputs": [],
   "source": [
    "dict_MARIT = {key:num for num, key in enumerate(data.Marital_Status.unique())}\n",
    "data.Marital_Status = data.Marital_Status.map(dict_MARIT)"
   ]
  },
  {
   "source": [
    "С помощью колонки даты присоеденения к программе, получим количество дней которые челвек находиться в системе "
   ],
   "cell_type": "markdown",
   "metadata": {}
  },
  {
   "cell_type": "code",
   "execution_count": 12,
   "metadata": {},
   "outputs": [
    {
     "output_type": "execute_result",
     "data": {
      "text/plain": [
       "0    2012-09-04\n",
       "1    2014-03-08\n",
       "2    2013-08-21\n",
       "3    2014-02-10\n",
       "4    2014-01-19\n",
       "Name: Dt_Customer, dtype: object"
      ]
     },
     "metadata": {},
     "execution_count": 12
    }
   ],
   "source": [
    "data['Dt_Customer'].head()"
   ]
  },
  {
   "cell_type": "code",
   "execution_count": 13,
   "metadata": {},
   "outputs": [],
   "source": [
    "nowaday = datetime.strptime('2021-07-07', '%Y-%m-%d')"
   ]
  },
  {
   "cell_type": "code",
   "execution_count": 14,
   "metadata": {},
   "outputs": [],
   "source": [
    "data['In_program'] = nowaday - pd.to_datetime(data['Dt_Customer'])\n",
    "data['In_program']= data['In_program'].map(lambda x:int( x.value/86400/1000000000))"
   ]
  },
  {
   "cell_type": "code",
   "execution_count": 15,
   "metadata": {},
   "outputs": [
    {
     "output_type": "execute_result",
     "data": {
      "text/plain": [
       "0    3228\n",
       "1    2678\n",
       "2    2877\n",
       "3    2704\n",
       "4    2726\n",
       "Name: In_program, dtype: int64"
      ]
     },
     "metadata": {},
     "execution_count": 15
    }
   ],
   "source": [
    "data.In_program.head()"
   ]
  },
  {
   "cell_type": "code",
   "execution_count": 16,
   "metadata": {},
   "outputs": [],
   "source": [
    "data.drop('Dt_Customer', axis=1, inplace=True)"
   ]
  },
  {
   "source": [
    "Проверим данные на пропуски "
   ],
   "cell_type": "markdown",
   "metadata": {}
  },
  {
   "cell_type": "code",
   "execution_count": 17,
   "metadata": {},
   "outputs": [
    {
     "output_type": "execute_result",
     "data": {
      "text/plain": [
       "ID                      0\n",
       "Education               0\n",
       "Marital_Status          0\n",
       "Income                 24\n",
       "Kidhome                 0\n",
       "Teenhome                0\n",
       "Recency                 0\n",
       "MntWines                0\n",
       "MntFruits               0\n",
       "MntMeatProducts         0\n",
       "MntFishProducts         0\n",
       "MntSweetProducts        0\n",
       "MntGoldProds            0\n",
       "NumDealsPurchases       0\n",
       "NumWebPurchases         0\n",
       "NumCatalogPurchases     0\n",
       "NumStorePurchases       0\n",
       "NumWebVisitsMonth       0\n",
       "AcceptedCmp3            0\n",
       "AcceptedCmp4            0\n",
       "AcceptedCmp5            0\n",
       "AcceptedCmp1            0\n",
       "AcceptedCmp2            0\n",
       "Complain                0\n",
       "Z_CostContact           0\n",
       "Z_Revenue               0\n",
       "Response                0\n",
       "Age                     0\n",
       "In_program              0\n",
       "dtype: int64"
      ]
     },
     "metadata": {},
     "execution_count": 17
    }
   ],
   "source": [
    "data.isnull().sum()"
   ]
  },
  {
   "source": [
    "Пропуски имеет только колонка с месечным доходом. Заполним эти пропуски средним значением "
   ],
   "cell_type": "markdown",
   "metadata": {}
  },
  {
   "cell_type": "code",
   "execution_count": 18,
   "metadata": {},
   "outputs": [
    {
     "output_type": "execute_result",
     "data": {
      "text/plain": [
       "52247.25135379061"
      ]
     },
     "metadata": {},
     "execution_count": 18
    }
   ],
   "source": [
    "data['Income'].mean()"
   ]
  },
  {
   "cell_type": "code",
   "execution_count": 19,
   "metadata": {},
   "outputs": [],
   "source": [
    "data.loc[data['Income'].isnull(), 'Income'] = data['Income'].mean()"
   ]
  },
  {
   "source": [
    "Мы избавились от пропусков. Теперь создадим новую переменную, с количеством участия в акциях, которую будем использовать при анализе данных"
   ],
   "cell_type": "markdown",
   "metadata": {}
  },
  {
   "cell_type": "code",
   "execution_count": 20,
   "metadata": {},
   "outputs": [],
   "source": [
    "data['Num_program']=0\n",
    "for i in range(1,6):\n",
    "    data['Num_program']+= data[f'AcceptedCmp{i}']"
   ]
  },
  {
   "source": [
    "# Анализ данных\n",
    "Дальше попробуем получить полезную информацию и описать нашего пользователя "
   ],
   "cell_type": "markdown",
   "metadata": {}
  },
  {
   "source": [
    "### Опишем семейное положение нашего пользователя используя колонки:\n",
    "    Education,\n",
    "    Marital,\n",
    "    Teenhome,\n",
    "    Kidhome,\n",
    "    Income"
   ],
   "cell_type": "markdown",
   "metadata": {}
  },
  {
   "source": [
    "Выведем часто встречаемые значения из колонок"
   ],
   "cell_type": "markdown",
   "metadata": {}
  },
  {
   "cell_type": "code",
   "execution_count": 21,
   "metadata": {},
   "outputs": [
    {
     "output_type": "stream",
     "name": "stdout",
     "text": [
      "Education Graduation\nMarital_Status Married\nTeenhome 0\nKidhome 0\nIncome 52247.25135379061\n"
     ]
    }
   ],
   "source": [
    "for_pr_ED = {dict_EDUC[i]:i for i in dict_EDUC}\n",
    "for_pr_MAR = {dict_MARIT[i]:i for i in dict_MARIT}\n",
    "for col in ['Education','Marital_Status','Teenhome','Kidhome','Income']:\n",
    "    if col=='Education':\n",
    "        mod= data[col].mode()[0]\n",
    "        print(col, for_pr_ED[mod])\n",
    "    elif col=='Marital_Status':\n",
    "        mod= data[col].mode()[0]\n",
    "        print(col, for_pr_MAR[mod])\n",
    "    else:\n",
    "        print(col, data[col].mode()[0])"
   ]
  },
  {
   "source": [
    "И так, наш пользователь чаще всего с высшим образованием, женатый, без детей и с заработком 52247. Следующиее на что мы посмотрим это возраст наших клиентов."
   ],
   "cell_type": "markdown",
   "metadata": {}
  },
  {
   "cell_type": "code",
   "execution_count": 22,
   "metadata": {},
   "outputs": [
    {
     "output_type": "display_data",
     "data": {
      "application/vnd.plotly.v1+json": {
       "config": {
        "plotlyServerURL": "https://plot.ly"
       },
       "data": [
        {
         "autobinx": false,
         "histnorm": "probability density",
         "legendgroup": "Возраст",
         "marker": {
          "color": "rgb(31, 119, 180)"
         },
         "name": "Возраст",
         "opacity": 0.7,
         "type": "histogram",
         "x": [
          64,
          67,
          56,
          37,
          40,
          54,
          50,
          36,
          47,
          71,
          38,
          45,
          62,
          69,
          34,
          75,
          41,
          75,
          72,
          36,
          39,
          42,
          72,
          67,
          70,
          52,
          45,
          35,
          32,
          56,
          32,
          58,
          51,
          69,
          75,
          70,
          51,
          45,
          48,
          78,
          41,
          36,
          64,
          62,
          46,
          45,
          25,
          53,
          70,
          67,
          64,
          57,
          44,
          44,
          43,
          66,
          55,
          33,
          39,
          53,
          39,
          46,
          69,
          70,
          73,
          50,
          54,
          42,
          63,
          51,
          67,
          48,
          62,
          46,
          69,
          44,
          49,
          45,
          45,
          56,
          36,
          52,
          48,
          58,
          34,
          61,
          51,
          64,
          48,
          54,
          64,
          64,
          48,
          49,
          51,
          38,
          61,
          49,
          70,
          38,
          61,
          62,
          42,
          76,
          62,
          42,
          57,
          52,
          43,
          61,
          42,
          30,
          58,
          30,
          41,
          59,
          51,
          43,
          54,
          52,
          68,
          54,
          36,
          45,
          38,
          56,
          37,
          68,
          60,
          65,
          69,
          63,
          52,
          58,
          57,
          54,
          45,
          62,
          48,
          56,
          29,
          45,
          59,
          47,
          33,
          45,
          46,
          40,
          48,
          55,
          68,
          52,
          49,
          33,
          69,
          72,
          63,
          43,
          44,
          66,
          63,
          76,
          37,
          46,
          48,
          55,
          68,
          62,
          33,
          64,
          56,
          39,
          51,
          62,
          54,
          46,
          73,
          51,
          62,
          70,
          45,
          33,
          75,
          37,
          60,
          38,
          51,
          55,
          45,
          57,
          43,
          32,
          121,
          33,
          48,
          44,
          41,
          67,
          67,
          48,
          69,
          53,
          43,
          44,
          56,
          37,
          33,
          58,
          55,
          67,
          65,
          67,
          53,
          47,
          36,
          44,
          43,
          73,
          67,
          41,
          33,
          52,
          51,
          41,
          59,
          43,
          45,
          69,
          49,
          35,
          55,
          59,
          50,
          70,
          56,
          46,
          39,
          63,
          48,
          128,
          53,
          63,
          50,
          31,
          63,
          57,
          49,
          68,
          33,
          52,
          46,
          36,
          47,
          63,
          54,
          47,
          60,
          57,
          57,
          64,
          42,
          53,
          51,
          43,
          69,
          55,
          58,
          51,
          51,
          51,
          68,
          38,
          46,
          61,
          58,
          58,
          65,
          40,
          35,
          53,
          40,
          45,
          75,
          47,
          46,
          47,
          69,
          65,
          55,
          72,
          37,
          52,
          41,
          50,
          56,
          69,
          33,
          35,
          39,
          56,
          63,
          65,
          43,
          33,
          37,
          60,
          55,
          74,
          57,
          29,
          45,
          54,
          32,
          45,
          55,
          65,
          49,
          36,
          70,
          51,
          50,
          47,
          56,
          60,
          68,
          64,
          45,
          37,
          71,
          35,
          38,
          32,
          65,
          50,
          38,
          61,
          53,
          49,
          56,
          122,
          33,
          35,
          52,
          71,
          48,
          69,
          56,
          51,
          50,
          45,
          64,
          35,
          55,
          47,
          45,
          43,
          66,
          52,
          78,
          73,
          64,
          52,
          43,
          43,
          54,
          52,
          61,
          45,
          59,
          46,
          37,
          46,
          51,
          55,
          49,
          46,
          51,
          32,
          60,
          52,
          52,
          36,
          67,
          48,
          40,
          50,
          53,
          61,
          72,
          53,
          42,
          42,
          28,
          75,
          53,
          30,
          50,
          37,
          34,
          41,
          65,
          56,
          47,
          61,
          66,
          56,
          49,
          50,
          47,
          58,
          39,
          45,
          66,
          34,
          59,
          78,
          46,
          27,
          40,
          50,
          48,
          38,
          39,
          47,
          80,
          68,
          35,
          32,
          32,
          53,
          60,
          32,
          54,
          57,
          51,
          65,
          55,
          72,
          50,
          35,
          32,
          73,
          75,
          32,
          47,
          62,
          49,
          57,
          45,
          68,
          66,
          52,
          50,
          41,
          45,
          49,
          55,
          37,
          69,
          39,
          57,
          72,
          63,
          58,
          46,
          52,
          66,
          51,
          70,
          50,
          46,
          41,
          40,
          43,
          33,
          65,
          49,
          44,
          49,
          44,
          48,
          49,
          47,
          46,
          61,
          57,
          45,
          47,
          52,
          69,
          63,
          45,
          66,
          57,
          77,
          59,
          43,
          50,
          72,
          77,
          71,
          60,
          31,
          36,
          65,
          68,
          45,
          32,
          29,
          62,
          40,
          42,
          57,
          62,
          75,
          46,
          60,
          31,
          62,
          77,
          56,
          34,
          30,
          68,
          34,
          35,
          63,
          44,
          57,
          61,
          46,
          52,
          44,
          59,
          39,
          70,
          54,
          54,
          69,
          40,
          44,
          52,
          37,
          39,
          45,
          31,
          57,
          41,
          53,
          48,
          58,
          32,
          50,
          58,
          72,
          69,
          43,
          39,
          51,
          62,
          43,
          41,
          50,
          51,
          58,
          71,
          59,
          70,
          42,
          51,
          47,
          53,
          43,
          51,
          40,
          44,
          53,
          51,
          55,
          65,
          47,
          70,
          54,
          70,
          38,
          50,
          66,
          60,
          66,
          62,
          37,
          46,
          56,
          44,
          49,
          46,
          52,
          52,
          43,
          40,
          60,
          61,
          66,
          73,
          55,
          35,
          48,
          65,
          46,
          56,
          52,
          77,
          48,
          54,
          52,
          47,
          56,
          45,
          43,
          61,
          60,
          50,
          72,
          43,
          66,
          45,
          46,
          61,
          44,
          44,
          51,
          63,
          51,
          61,
          48,
          59,
          69,
          59,
          71,
          50,
          61,
          73,
          62,
          57,
          74,
          50,
          51,
          51,
          44,
          63,
          61,
          36,
          47,
          71,
          66,
          46,
          68,
          63,
          74,
          55,
          58,
          36,
          46,
          41,
          65,
          62,
          47,
          34,
          53,
          50,
          57,
          59,
          51,
          41,
          46,
          47,
          58,
          42,
          36,
          41,
          58,
          54,
          39,
          66,
          54,
          45,
          49,
          39,
          32,
          52,
          61,
          51,
          63,
          69,
          72,
          60,
          26,
          72,
          60,
          61,
          48,
          43,
          43,
          33,
          53,
          35,
          51,
          70,
          73,
          50,
          35,
          56,
          46,
          68,
          39,
          46,
          61,
          43,
          51,
          63,
          56,
          67,
          37,
          56,
          45,
          55,
          66,
          45,
          56,
          30,
          72,
          68,
          43,
          73,
          48,
          72,
          48,
          69,
          32,
          52,
          68,
          65,
          71,
          43,
          57,
          69,
          46,
          26,
          51,
          67,
          49,
          63,
          46,
          52,
          42,
          43,
          49,
          57,
          42,
          62,
          40,
          54,
          33,
          43,
          69,
          66,
          44,
          34,
          56,
          65,
          42,
          70,
          56,
          49,
          64,
          68,
          56,
          63,
          66,
          50,
          47,
          45,
          51,
          49,
          49,
          35,
          61,
          53,
          43,
          45,
          76,
          64,
          71,
          43,
          60,
          59,
          67,
          56,
          48,
          53,
          51,
          65,
          70,
          77,
          63,
          45,
          50,
          64,
          49,
          49,
          40,
          49,
          46,
          66,
          35,
          51,
          45,
          67,
          49,
          43,
          41,
          49,
          60,
          58,
          62,
          62,
          67,
          59,
          63,
          37,
          45,
          29,
          54,
          41,
          54,
          65,
          49,
          41,
          41,
          44,
          71,
          47,
          33,
          40,
          61,
          51,
          30,
          65,
          58,
          41,
          47,
          67,
          64,
          55,
          47,
          42,
          48,
          36,
          55,
          32,
          52,
          52,
          34,
          32,
          46,
          48,
          55,
          35,
          43,
          42,
          38,
          62,
          45,
          40,
          43,
          68,
          50,
          38,
          65,
          43,
          49,
          46,
          46,
          40,
          49,
          51,
          68,
          62,
          59,
          43,
          48,
          56,
          38,
          30,
          78,
          49,
          65,
          63,
          47,
          35,
          63,
          51,
          54,
          48,
          52,
          44,
          60,
          50,
          47,
          35,
          55,
          29,
          58,
          49,
          27,
          67,
          61,
          39,
          67,
          67,
          66,
          28,
          52,
          73,
          35,
          42,
          43,
          39,
          28,
          45,
          47,
          32,
          70,
          32,
          69,
          50,
          50,
          51,
          50,
          46,
          69,
          59,
          38,
          68,
          35,
          34,
          39,
          42,
          44,
          46,
          42,
          45,
          48,
          50,
          45,
          45,
          56,
          69,
          48,
          64,
          54,
          59,
          52,
          46,
          41,
          62,
          48,
          48,
          47,
          41,
          33,
          53,
          33,
          62,
          50,
          59,
          62,
          56,
          69,
          67,
          61,
          56,
          42,
          43,
          71,
          47,
          43,
          52,
          45,
          65,
          67,
          49,
          40,
          32,
          67,
          26,
          43,
          64,
          48,
          65,
          65,
          34,
          40,
          34,
          67,
          67,
          68,
          69,
          53,
          58,
          42,
          45,
          43,
          53,
          50,
          70,
          56,
          52,
          48,
          45,
          48,
          47,
          68,
          55,
          43,
          54,
          43,
          34,
          63,
          57,
          50,
          50,
          52,
          44,
          48,
          41,
          63,
          49,
          50,
          68,
          62,
          67,
          30,
          59,
          35,
          56,
          55,
          61,
          37,
          55,
          56,
          55,
          72,
          51,
          38,
          36,
          47,
          70,
          69,
          34,
          72,
          63,
          34,
          48,
          57,
          60,
          29,
          56,
          65,
          43,
          50,
          55,
          66,
          68,
          63,
          60,
          40,
          45,
          53,
          43,
          56,
          50,
          65,
          39,
          51,
          44,
          51,
          63,
          38,
          63,
          48,
          47,
          62,
          49,
          56,
          42,
          63,
          35,
          39,
          42,
          46,
          42,
          35,
          51,
          49,
          61,
          69,
          51,
          47,
          56,
          67,
          38,
          48,
          61,
          37,
          50,
          38,
          38,
          55,
          43,
          53,
          42,
          48,
          42,
          67,
          59,
          55,
          44,
          36,
          69,
          70,
          54,
          43,
          45,
          36,
          47,
          53,
          59,
          32,
          60,
          68,
          32,
          43,
          59,
          76,
          47,
          40,
          65,
          67,
          35,
          78,
          57,
          42,
          47,
          61,
          58,
          45,
          47,
          60,
          70,
          56,
          65,
          56,
          27,
          47,
          49,
          53,
          53,
          73,
          52,
          25,
          47,
          31,
          64,
          42,
          61,
          69,
          40,
          40,
          30,
          71,
          64,
          60,
          63,
          50,
          36,
          56,
          69,
          59,
          47,
          51,
          52,
          61,
          69,
          52,
          53,
          56,
          52,
          49,
          60,
          44,
          62,
          63,
          42,
          64,
          65,
          56,
          31,
          64,
          56,
          64,
          66,
          49,
          52,
          49,
          46,
          56,
          58,
          30,
          58,
          35,
          48,
          64,
          40,
          63,
          62,
          66,
          35,
          46,
          66,
          50,
          35,
          43,
          38,
          45,
          50,
          65,
          49,
          32,
          69,
          37,
          54,
          59,
          74,
          43,
          50,
          29,
          53,
          48,
          46,
          56,
          69,
          54,
          49,
          58,
          51,
          66,
          46,
          45,
          52,
          48,
          38,
          39,
          61,
          69,
          46,
          58,
          51,
          73,
          63,
          77,
          58,
          49,
          55,
          53,
          50,
          46,
          57,
          43,
          46,
          38,
          50,
          64,
          70,
          70,
          51,
          49,
          52,
          49,
          50,
          65,
          50,
          48,
          44,
          58,
          67,
          43,
          55,
          75,
          43,
          50,
          68,
          36,
          51,
          42,
          55,
          45,
          56,
          39,
          49,
          61,
          65,
          56,
          66,
          32,
          59,
          56,
          48,
          49,
          37,
          61,
          63,
          53,
          44,
          47,
          59,
          39,
          46,
          39,
          76,
          42,
          52,
          59,
          73,
          43,
          46,
          39,
          38,
          69,
          39,
          59,
          44,
          72,
          31,
          39,
          46,
          62,
          38,
          45,
          59,
          65,
          28,
          34,
          56,
          39,
          59,
          43,
          75,
          58,
          50,
          53,
          29,
          47,
          71,
          44,
          63,
          45,
          48,
          53,
          63,
          46,
          61,
          56,
          61,
          52,
          61,
          46,
          36,
          50,
          51,
          66,
          65,
          63,
          57,
          48,
          73,
          49,
          45,
          41,
          42,
          49,
          48,
          49,
          46,
          49,
          65,
          47,
          49,
          53,
          52,
          60,
          49,
          68,
          64,
          51,
          54,
          70,
          68,
          71,
          68,
          44,
          49,
          52,
          77,
          31,
          42,
          55,
          73,
          49,
          48,
          49,
          49,
          55,
          52,
          62,
          51,
          47,
          49,
          63,
          49,
          38,
          48,
          36,
          48,
          54,
          42,
          60,
          35,
          57,
          38,
          69,
          72,
          42,
          73,
          75,
          63,
          50,
          64,
          39,
          48,
          49,
          56,
          68,
          54,
          56,
          52,
          50,
          49,
          51,
          47,
          71,
          62,
          66,
          43,
          35,
          58,
          68,
          69,
          71,
          51,
          51,
          44,
          55,
          52,
          63,
          67,
          65,
          51,
          34,
          60,
          42,
          61,
          40,
          41,
          45,
          45,
          51,
          75,
          66,
          49,
          50,
          71,
          33,
          43,
          31,
          62,
          44,
          52,
          62,
          33,
          46,
          48,
          44,
          48,
          66,
          47,
          49,
          46,
          50,
          63,
          33,
          46,
          56,
          35,
          44,
          41,
          59,
          43,
          49,
          51,
          38,
          50,
          45,
          48,
          48,
          45,
          73,
          63,
          34,
          61,
          46,
          63,
          46,
          46,
          33,
          33,
          32,
          62,
          50,
          54,
          32,
          60,
          43,
          68,
          57,
          35,
          34,
          58,
          64,
          46,
          70,
          56,
          65,
          59,
          47,
          54,
          59,
          45,
          60,
          45,
          38,
          45,
          33,
          67,
          36,
          69,
          57,
          67,
          71,
          64,
          75,
          67,
          30,
          35,
          44,
          61,
          39,
          74,
          29,
          45,
          65,
          74,
          71,
          55,
          34,
          48,
          69,
          56,
          41,
          34,
          59,
          66,
          33,
          56,
          54,
          48,
          61,
          37,
          50,
          46,
          56,
          65,
          66,
          61,
          60,
          58,
          44,
          31,
          48,
          57,
          33,
          43,
          31,
          46,
          44,
          37,
          38,
          34,
          56,
          65,
          56,
          50,
          39,
          62,
          58,
          69,
          50,
          58,
          39,
          45,
          74,
          52,
          62,
          43,
          73,
          66,
          67,
          76,
          52,
          45,
          52,
          57,
          40,
          42,
          40,
          61,
          47,
          40,
          54,
          71,
          39,
          60,
          58,
          44,
          74,
          43,
          67,
          67,
          49,
          40,
          63,
          53,
          45,
          55,
          32,
          36,
          54,
          62,
          51,
          54,
          36,
          70,
          35,
          66,
          51,
          30,
          46,
          42,
          45,
          41,
          43,
          50,
          66,
          38,
          69,
          52,
          41,
          53,
          50,
          32,
          70,
          34,
          36,
          40,
          31,
          69,
          50,
          38,
          64,
          70,
          45,
          66,
          32,
          48,
          48,
          37,
          65,
          56,
          43,
          48,
          35,
          62,
          43,
          55,
          29,
          37,
          65,
          44,
          47,
          45,
          42,
          38,
          30,
          59,
          39,
          42,
          66,
          56,
          60,
          70,
          57,
          62,
          66,
          55,
          63,
          67,
          54,
          58,
          62,
          50,
          57,
          38,
          76,
          74,
          52,
          69,
          74,
          75,
          52,
          72,
          60,
          47,
          41,
          72,
          50,
          42,
          53,
          50,
          66,
          49,
          57,
          42,
          46,
          44,
          35,
          65,
          41,
          39,
          60,
          46,
          47,
          75,
          36,
          69,
          54,
          66,
          36,
          44,
          48,
          37,
          42,
          45,
          53,
          62,
          50,
          54,
          48,
          38,
          42,
          42,
          71,
          58,
          59,
          45,
          69,
          61,
          66,
          44,
          57,
          40,
          45,
          47,
          70,
          55,
          70,
          63,
          55,
          57,
          65,
          47,
          55,
          58,
          52,
          29,
          67,
          38,
          39,
          70,
          65,
          60,
          59,
          50,
          50,
          53,
          43,
          52,
          56,
          35,
          63,
          46,
          34,
          62,
          59,
          47,
          44,
          43,
          51,
          64,
          66,
          67,
          39,
          68,
          53,
          64,
          56,
          46,
          58,
          31,
          55,
          33,
          26,
          46,
          43,
          60,
          37,
          50,
          70,
          45,
          49,
          36,
          55,
          46,
          42,
          50,
          39,
          48,
          53,
          37,
          50,
          44,
          54,
          57,
          49,
          73,
          69,
          34,
          62,
          63,
          70,
          46,
          37,
          52,
          53,
          52,
          36,
          37,
          64,
          50,
          46,
          39,
          33,
          32,
          36,
          53,
          47,
          72,
          43,
          67,
          76,
          71,
          57,
          38,
          34,
          50,
          53,
          67,
          50,
          35,
          62,
          41,
          61,
          51,
          50,
          54,
          58,
          53,
          31,
          40,
          45,
          56,
          44,
          49,
          65,
          78,
          62,
          44,
          52,
          51,
          64,
          56,
          47,
          74,
          39,
          53,
          70,
          46,
          65,
          72,
          62,
          48,
          37,
          71,
          44,
          37,
          45,
          70,
          39,
          47,
          53,
          67,
          81,
          45,
          70,
          45,
          57,
          71,
          45,
          65,
          31,
          71,
          56,
          59,
          43,
          69,
          55,
          74,
          49,
          58,
          72,
          43,
          55,
          38,
          50,
          46,
          50,
          52,
          58,
          53,
          42,
          37,
          37,
          47,
          70,
          59,
          46,
          64,
          43,
          30,
          35,
          65,
          58,
          50,
          74,
          63,
          61,
          41,
          46,
          46,
          48,
          41,
          51,
          54,
          51,
          55,
          49,
          44,
          51,
          57,
          62,
          55,
          63,
          35,
          44,
          40,
          63,
          46,
          38,
          54,
          70,
          49,
          43,
          39,
          65,
          69,
          56,
          42,
          56,
          68,
          72,
          36,
          74,
          66,
          45,
          46,
          37,
          71,
          44,
          70,
          37,
          39,
          30,
          51,
          40,
          42,
          50,
          51,
          62,
          48,
          51,
          74,
          70,
          46,
          62,
          66,
          68,
          56,
          48,
          45,
          71,
          52,
          52,
          40,
          39,
          43,
          47,
          70,
          73,
          69,
          37,
          42,
          72,
          65,
          52,
          34,
          38,
          51,
          44,
          61,
          50,
          67,
          48,
          66,
          61,
          33,
          78,
          52,
          29,
          62,
          41,
          50,
          47,
          52,
          45,
          28,
          72,
          71,
          46,
          65,
          45,
          46,
          45,
          72,
          37,
          47,
          49,
          35,
          59,
          51,
          72,
          60,
          66,
          40,
          68,
          47,
          67,
          52,
          40,
          69,
          59,
          50,
          45,
          45,
          41,
          65,
          64,
          49,
          55,
          35,
          56,
          47,
          45,
          45,
          72,
          41,
          64,
          56,
          52,
          51,
          67,
          55,
          47,
          50,
          53,
          64,
          48,
          64,
          50,
          61,
          48,
          59,
          63,
          49,
          45,
          52,
          45,
          38,
          57,
          46,
          66,
          56,
          57,
          41,
          64,
          72,
          29,
          47,
          67,
          31,
          37,
          40,
          56,
          51,
          46,
          70,
          66,
          46,
          54,
          48,
          50,
          66,
          47,
          49,
          57,
          43,
          64,
          61,
          49,
          65,
          64,
          49,
          38,
          50,
          74,
          64,
          64,
          69,
          47,
          48,
          67,
          46,
          31,
          52,
          48,
          43,
          31,
          53,
          41,
          67,
          58,
          58,
          66,
          40,
          71,
          26,
          45,
          67,
          38,
          73,
          43,
          36,
          42,
          39,
          42,
          58,
          51,
          53,
          42,
          59,
          43,
          49,
          37,
          51,
          35,
          44,
          47,
          54,
          75,
          40,
          65,
          67
         ],
         "xaxis": "x",
         "xbins": {
          "end": 128,
          "size": 1,
          "start": 25
         },
         "yaxis": "y"
        },
        {
         "legendgroup": "Возраст",
         "marker": {
          "color": "rgb(31, 119, 180)"
         },
         "mode": "lines",
         "name": "Возраст",
         "showlegend": false,
         "type": "scatter",
         "x": [
          25,
          25.206,
          25.412,
          25.618,
          25.824,
          26.03,
          26.236,
          26.442,
          26.648,
          26.854,
          27.06,
          27.266,
          27.472,
          27.678,
          27.884,
          28.09,
          28.296,
          28.502,
          28.708,
          28.914,
          29.12,
          29.326,
          29.532,
          29.738,
          29.944,
          30.15,
          30.356,
          30.562,
          30.768,
          30.974,
          31.18,
          31.386,
          31.592,
          31.798000000000002,
          32.004,
          32.21,
          32.416,
          32.622,
          32.828,
          33.034,
          33.24,
          33.446,
          33.652,
          33.858000000000004,
          34.064,
          34.269999999999996,
          34.476,
          34.682,
          34.888,
          35.094,
          35.3,
          35.506,
          35.712,
          35.918,
          36.124,
          36.33,
          36.536,
          36.742000000000004,
          36.948,
          37.153999999999996,
          37.36,
          37.566,
          37.772,
          37.978,
          38.184,
          38.39,
          38.596000000000004,
          38.802,
          39.007999999999996,
          39.214,
          39.42,
          39.626,
          39.832,
          40.038,
          40.244,
          40.45,
          40.656,
          40.862,
          41.068,
          41.274,
          41.480000000000004,
          41.686,
          41.891999999999996,
          42.098,
          42.304,
          42.510000000000005,
          42.716,
          42.922,
          43.128,
          43.334,
          43.54,
          43.745999999999995,
          43.952,
          44.158,
          44.364000000000004,
          44.57,
          44.775999999999996,
          44.982,
          45.188,
          45.394,
          45.6,
          45.806,
          46.012,
          46.218,
          46.424,
          46.629999999999995,
          46.836,
          47.042,
          47.248000000000005,
          47.454,
          47.66,
          47.866,
          48.072,
          48.278,
          48.484,
          48.69,
          48.896,
          49.102000000000004,
          49.308,
          49.513999999999996,
          49.72,
          49.926,
          50.132000000000005,
          50.338,
          50.544,
          50.75,
          50.956,
          51.162,
          51.367999999999995,
          51.574,
          51.78,
          51.986000000000004,
          52.192,
          52.397999999999996,
          52.604,
          52.81,
          53.016,
          53.222,
          53.428,
          53.634,
          53.84,
          54.046,
          54.251999999999995,
          54.458,
          54.664,
          54.870000000000005,
          55.076,
          55.282,
          55.488,
          55.694,
          55.9,
          56.106,
          56.312,
          56.518,
          56.724000000000004,
          56.93,
          57.136,
          57.342,
          57.548,
          57.754,
          57.96,
          58.166,
          58.372,
          58.578,
          58.784,
          58.99,
          59.196,
          59.402,
          59.608,
          59.814,
          60.02,
          60.226,
          60.432,
          60.638,
          60.844,
          61.05,
          61.256,
          61.462,
          61.668,
          61.874,
          62.08,
          62.286,
          62.492,
          62.698,
          62.904,
          63.11,
          63.316,
          63.522,
          63.728,
          63.934,
          64.14,
          64.346,
          64.55199999999999,
          64.75800000000001,
          64.964,
          65.17,
          65.376,
          65.582,
          65.788,
          65.994,
          66.2,
          66.406,
          66.612,
          66.818,
          67.024,
          67.22999999999999,
          67.436,
          67.642,
          67.848,
          68.054,
          68.25999999999999,
          68.46600000000001,
          68.672,
          68.878,
          69.084,
          69.28999999999999,
          69.49600000000001,
          69.702,
          69.908,
          70.114,
          70.32,
          70.52600000000001,
          70.732,
          70.938,
          71.144,
          71.35,
          71.556,
          71.762,
          71.968,
          72.174,
          72.38,
          72.586,
          72.792,
          72.99799999999999,
          73.20400000000001,
          73.41,
          73.616,
          73.822,
          74.02799999999999,
          74.23400000000001,
          74.44,
          74.646,
          74.852,
          75.05799999999999,
          75.26400000000001,
          75.47,
          75.676,
          75.882,
          76.088,
          76.294,
          76.5,
          76.706,
          76.912,
          77.118,
          77.324,
          77.53,
          77.73599999999999,
          77.94200000000001,
          78.148,
          78.354,
          78.56,
          78.76599999999999,
          78.97200000000001,
          79.178,
          79.384,
          79.59,
          79.79599999999999,
          80.00200000000001,
          80.208,
          80.414,
          80.62,
          80.826,
          81.032,
          81.238,
          81.444,
          81.65,
          81.856,
          82.062,
          82.268,
          82.47399999999999,
          82.68,
          82.886,
          83.092,
          83.298,
          83.50399999999999,
          83.71000000000001,
          83.916,
          84.122,
          84.328,
          84.53399999999999,
          84.74000000000001,
          84.946,
          85.152,
          85.358,
          85.564,
          85.77000000000001,
          85.976,
          86.182,
          86.388,
          86.594,
          86.8,
          87.006,
          87.212,
          87.418,
          87.624,
          87.83,
          88.036,
          88.24199999999999,
          88.44800000000001,
          88.654,
          88.86,
          89.066,
          89.272,
          89.478,
          89.684,
          89.89,
          90.096,
          90.302,
          90.508,
          90.714,
          90.92,
          91.126,
          91.332,
          91.538,
          91.744,
          91.95,
          92.156,
          92.362,
          92.568,
          92.774,
          92.98,
          93.186,
          93.392,
          93.598,
          93.804,
          94.01,
          94.216,
          94.422,
          94.628,
          94.834,
          95.04,
          95.246,
          95.452,
          95.658,
          95.864,
          96.07,
          96.276,
          96.482,
          96.688,
          96.894,
          97.1,
          97.306,
          97.512,
          97.718,
          97.924,
          98.13,
          98.336,
          98.542,
          98.748,
          98.954,
          99.16,
          99.366,
          99.572,
          99.778,
          99.984,
          100.19,
          100.396,
          100.602,
          100.808,
          101.014,
          101.22,
          101.426,
          101.632,
          101.838,
          102.044,
          102.25,
          102.456,
          102.662,
          102.868,
          103.074,
          103.28,
          103.486,
          103.692,
          103.898,
          104.104,
          104.31,
          104.516,
          104.722,
          104.928,
          105.134,
          105.34,
          105.546,
          105.752,
          105.958,
          106.164,
          106.37,
          106.576,
          106.782,
          106.988,
          107.194,
          107.4,
          107.606,
          107.812,
          108.018,
          108.224,
          108.43,
          108.636,
          108.842,
          109.048,
          109.254,
          109.46,
          109.666,
          109.872,
          110.078,
          110.284,
          110.49,
          110.696,
          110.902,
          111.108,
          111.314,
          111.52,
          111.726,
          111.932,
          112.138,
          112.344,
          112.55,
          112.756,
          112.962,
          113.168,
          113.374,
          113.58,
          113.786,
          113.992,
          114.198,
          114.404,
          114.61,
          114.816,
          115.022,
          115.228,
          115.434,
          115.64,
          115.846,
          116.052,
          116.258,
          116.464,
          116.67,
          116.876,
          117.082,
          117.288,
          117.494,
          117.7,
          117.906,
          118.112,
          118.318,
          118.524,
          118.73,
          118.936,
          119.142,
          119.348,
          119.554,
          119.76,
          119.966,
          120.172,
          120.378,
          120.584,
          120.79,
          120.996,
          121.202,
          121.408,
          121.614,
          121.82,
          122.026,
          122.232,
          122.438,
          122.644,
          122.85,
          123.056,
          123.262,
          123.468,
          123.674,
          123.88,
          124.086,
          124.292,
          124.498,
          124.704,
          124.91,
          125.116,
          125.322,
          125.528,
          125.734,
          125.94,
          126.146,
          126.352,
          126.558,
          126.764,
          126.97,
          127.176,
          127.382,
          127.588,
          127.794
         ],
         "xaxis": "x",
         "y": [
          0.0013638695152863541,
          0.0014939418913976026,
          0.0016327690639372637,
          0.001780686710901343,
          0.0019380231686619653,
          0.002105093632306013,
          0.0022821934617279693,
          0.0024695907407569864,
          0.002667518284634727,
          0.002876165331893489,
          0.0030956691877857155,
          0.0033261071061410534,
          0.0035674887038019396,
          0.00381974919627176,
          0.004082743725251288,
          0.004356243019336816,
          0.004639930589840662,
          0.004933401616394435,
          0.005236163623908037,
          0.005547638995880795,
          0.005867169311297065,
          0.006194021435574177,
          0.006527395242260989,
          0.00686643279317563,
          0.0072102287619326315,
          0.007557841850566926,
          0.007908306922210392,
          0.00826064755520206,
          0.008613888716095666,
          0.00896706925093009,
          0.00931925390577223,
          0.009669544608540012,
          0.010017090773785526,
          0.01036109842948221,
          0.010700838008651884,
          0.011035650697374888,
          0.0113649532826212,
          0.01168824149659462,
          0.012005091906980288,
          0.012315162452750472,
          0.01261819177123477,
          0.012913997502355414,
          0.013202473788807807,
          0.013483588215280031,
          0.013757378444475285,
          0.014023948811862912,
          0.014283467134017548,
          0.01453616196659036,
          0.014782320517086568,
          0.015022287374661367,
          0.015256464164435355,
          0.015485310168215501,
          0.015709343878486135,
          0.01592914537031541,
          0.016145359289554188,
          0.01635869816931296,
          0.016569945705007413,
          0.016779959546683335,
          0.016989673111669917,
          0.01720009588662179,
          0.017412311681002567,
          0.017627474318291248,
          0.017846800309425984,
          0.018071558146064762,
          0.01830305397759894,
          0.018542613591568904,
          0.018791560795740413,
          0.019051192492998307,
          0.019322750936988476,
          0.019607393845630264,
          0.01990616321943135,
          0.020219953850734912,
          0.02054948260881943,
          0.02089525963654987,
          0.021257562592273956,
          0.02163641501432315,
          0.022031569776582015,
          0.022442498447177807,
          0.022868387166161873,
          0.023308139432088103,
          0.02376038594296993,
          0.02422350138604359,
          0.024695627824622833,
          0.025174704099518448,
          0.02565850045582576,
          0.026144657430112985,
          0.0266307278928601,
          0.027114221039012513,
          0.027592647056658388,
          0.028063561179736962,
          0.02852460584412994,
          0.028973549715944596,
          0.029408322444671127,
          0.029827044110746128,
          0.030228048485714663,
          0.030609899402266157,
          0.030971399739357877,
          0.03131159276183333,
          0.03162975581060745,
          0.0319253866128934,
          0.03219818276438534,
          0.03244801521691632,
          0.03267489687389048,
          0.032878947638412676,
          0.03306035746120337,
          0.033219349083054274,
          0.033356142246893955,
          0.033470921156994154,
          0.033563806880482445,
          0.03363483621637625,
          0.033683948302169905,
          0.03371097989507999,
          0.03371566986716903,
          0.03369767300813151,
          0.0336565827578604,
          0.03359196201705669,
          0.03350338073344574,
          0.03339045855890341,
          0.03325291054242423,
          0.03309059358588225,
          0.03290355125982753,
          0.03269205456574645,
          0.032456636343599125,
          0.03219811725692867,
          0.03191762163364625,
          0.0316165818838959,
          0.03129673073672185,
          0.030960081109707337,
          0.030608894022044926,
          0.030245635551546975,
          0.02987292438945575,
          0.02949347203429905,
          0.029110018061171663,
          0.028725263183504938,
          0.02834180297412917,
          0.027962065121278815,
          0.027588252960483117,
          0.02722229775000346,
          0.02686582175818418,
          0.026520113725254996,
          0.026186117675466105,
          0.02586443541822569,
          0.025555342422663302,
          0.02525881611333118,
          0.024974575049415602,
          0.02470212694684249,
          0.02444082310834198,
          0.024189916560945976,
          0.023948621076164814,
          0.023716168269720134,
          0.023491860141305637,
          0.02327511470864482,
          0.023065502795097677,
          0.022862774521565373,
          0.022666874602544972,
          0.02247794612172809,
          0.02229632303307939,
          0.0221225121689458,
          0.02195716601078129,
          0.02180104786859757,
          0.02165499140597351,
          0.021519856628439117,
          0.021396484520883708,
          0.021285652477089904,
          0.021188032520197214,
          0.021104154080139333,
          0.021034372790069245,
          0.020978846408155755,
          0.020937518584940015,
          0.020910110800833596,
          0.020896122413508914,
          0.020894838399088393,
          0.020905344059690047,
          0.020926545715191383,
          0.020957196207449715,
          0.020995923925183888,
          0.02104126400790186,
          0.021091690404523425,
          0.0211456475403499,
          0.021201580475508155,
          0.0212579626077058,
          0.021313320169351807,
          0.021366252980664812,
          0.021415451133366514,
          0.02145970748211903,
          0.02149792600298922,
          0.0215291262321525,
          0.021552444118864506,
          0.021567129712259856,
          0.021572542152549033,
          0.021568142456873177,
          0.021553484583742413,
          0.021528205234279896,
          0.021492012810715205,
          0.02144467590988523,
          0.021386011688210776,
          0.021315874399508234,
          0.021234144380975352,
          0.02114071774649519,
          0.02103549703866075,
          0.020918383088443394,
          0.020789268329608486,
          0.020648031808539552,
          0.02049453611372638,
          0.020328626418228808,
          0.020150131779768102,
          0.019958868775399756,
          0.019754647461973474,
          0.019537279553002735,
          0.019306588592504868,
          0.01906242179390553,
          0.018804663105349836,
          0.01853324697021146,
          0.018248172181268944,
          0.01794951518566416,
          0.01763744219027691,
          0.017312219445942426,
          0.01697422115379802,
          0.01662393453497942,
          0.0162619617304451,
          0.01588901834332394,
          0.015505928592891943,
          0.01511361720733706,
          0.014713098332225987,
          0.014305461864122964,
          0.013891857726721826,
          0.01347347868458179,
          0.013051542333891445,
          0.012627272919703485,
          0.012201883606197445,
          0.011776559774155771,
          0.011352443843031749,
          0.010930622019924662,
          0.010512113271236747,
          0.010097860701592718,
          0.00968872541517795,
          0.009285482832555265,
          0.008888821345749533,
          0.008499343119094041,
          0.00811756678489556,
          0.007743931741953736,
          0.007378803740841104,
          0.007022481431185985,
          0.006675203550919623,
          0.0063371564531286215,
          0.006008481690229678,
          0.005689283405210965,
          0.0053796353134854214,
          0.005079587094668385,
          0.004789170049961747,
          0.00450840191682953,
          0.004237290767691611,
          0.003975837953107693,
          0.0037240400821939115,
          0.0034818900636826985,
          0.0032493772599169733,
          0.0030264868328570243,
          0.0028131983854082403,
          0.002609484022417514,
          0.0024153059727918093,
          0.002230613926564775,
          0.0020553422476151263,
          0.0018894072235180813,
          0.0017327045083151945,
          0.0015851069017759406,
          0.0014464625903370014,
          0.0013165939510719744,
          0.0011952969918802997,
          0.0010823414700157177,
          0.0009774716987507935,
          0.0008804080201514507,
          0.000790848892339951,
          0.0007084735138317338,
          0.0006329448868379882,
          0.0005639132067672427,
          0.0005010194570447006,
          0.00044389908685938675,
          0.0003921856541771409,
          0.0003455143265736794,
          0.0003035251470948216,
          0.0002658659901899331,
          0.00023219515244248757,
          0.00020218354300639198,
          0.00017551645812533974,
          0.00015189494182941857,
          0.00013103675007666168,
          0.00011267694771644242,
          0.00009656817645138256,
          0.00008248063747637236,
          0.00007020183490693195,
          0.000059536125873649856,
          0.000050304120765986544,
          0.00004234197312377201,
          0.00003550059366811401,
          0.00002964481746353035,
          0.000024652547664679954,
          0.000020413894083771072,
          0.000016830320174214154,
          0.000013813808115525628,
          0.000011286048564010969,
          0.000009177659286608849,
          0.000007427435246671724,
          0.000005981631647648555,
          0.000004793280832057279,
          0.0000038215436445055585,
          0.0000030310957749350433,
          0.0000023915495969185236,
          0.0000018769120250507346,
          0.000001465078880249906,
          0.0000011373661414447738,
          8.780782670342185e-7,
          6.741134965411842e-7,
          5.146057103309373e-7,
          3.9060205799102835e-7,
          2.9477519099222357e-7,
          2.211685782815275e-7,
          1.6497306636800758e-7,
          1.223325847438051e-7,
          9.017670361201288e-8,
          6.607762841240038e-8,
          4.8129163787199436e-8,
          3.4845193333481666e-8,
          2.5075292498349057e-8,
          1.7935210047454255e-8,
          1.2750107527396213e-8,
          9.008624912960647e-9,
          6.32603377619675e-9,
          4.41493766254804e-9,
          3.062175266159885e-9,
          2.1107694679910033e-9,
          1.4459399704081023e-9,
          9.843562661745858e-10,
          6.659494614423227e-10,
          4.477255530221209e-10,
          2.991295004274361e-10,
          1.985998039990722e-10,
          1.3102867808739456e-10,
          8.590490030682536e-11,
          5.5966723293003035e-11,
          3.6232538705479886e-11,
          2.3308879442839795e-11,
          1.4900292336260217e-11,
          9.46490272732821e-12,
          5.974242975395754e-12,
          3.747076176115153e-12,
          2.335300552106781e-12,
          1.4462104882199784e-12,
          8.899316898398987e-13,
          5.441471673648787e-13,
          3.306045415265098e-13,
          1.995870265242896e-13,
          1.1972511281652976e-13,
          7.136185780603576e-14,
          4.226428830371444e-14,
          2.4871738483912547e-14,
          1.454328847294354e-14,
          8.44970967397959e-15,
          4.878008385412286e-15,
          2.7981046752451707e-15,
          1.5947976334332964e-15,
          9.031679544961715e-16,
          5.08228710643917e-16,
          2.8418598256851003e-16,
          1.5793897118526326e-16,
          8.730498716616216e-17,
          4.8125331634610035e-17,
          2.6691299148191685e-17,
          1.5339635921187202e-17,
          9.932755378397926e-18,
          8.470066806588307e-18,
          1.040582838778287e-17,
          1.646141885752662e-17,
          2.887310255499091e-17,
          5.215289674414107e-17,
          9.45985427105913e-17,
          1.710127629132079e-16,
          3.0744203503739674e-16,
          5.493113678797028e-16,
          9.752549150630386e-16,
          1.720444458993259e-15,
          3.015647149832037e-15,
          5.2521440718952764e-15,
          9.08885414745674e-15,
          1.5627826116480606e-14,
          2.6699651496822868e-14,
          4.532427851103255e-14,
          7.644959942534704e-14,
          1.2812659315179818e-13,
          2.13365330145993e-13,
          3.5304471225640624e-13,
          5.804404224547981e-13,
          9.482186166296796e-13,
          1.5391573609308335e-12,
          2.4824592759958106e-12,
          3.978383707889746e-12,
          6.3351588471632895e-12,
          1.0023872958421013e-11,
          1.575947400071284e-11,
          2.461936995446215e-11,
          3.821572943906202e-11,
          5.894382884738752e-11,
          9.03371715277466e-11,
          1.3757122123707081e-10,
          2.0817217265611884e-10,
          3.130060790893282e-10,
          4.676478462645697e-10,
          6.942601595389052e-10,
          1.0241504838332247e-9,
          1.5012210082282396e-9,
          2.1865828552695018e-9,
          3.1646728678577513e-9,
          4.551289249620408e-9,
          6.504051063413113e-9,
          9.235884977758919e-9,
          1.303224835910742e-8,
          1.8272906928537052e-8,
          2.5459191881230163e-8,
          3.524775745751847e-8,
          4.8491934717312135e-8,
          6.629181718906699e-8,
          9.005420282720279e-8,
          1.215634354275753e-7,
          1.630640163819489e-7,
          2.1735557232393135e-7,
          2.879003439606862e-7,
          3.789427863442639e-7,
          4.956401254499465e-7,
          6.442017916131256e-7,
          8.320345485118471e-7,
          0.0000010678888714378203,
          0.0000013620007311248415,
          0.000001726221458595897,
          0.000002174126871968127,
          0.0000027210954285138255,
          0.0000033843439350843486,
          0.000004182908434813025,
          0.00000513755742717036,
          0.000006270624715569718,
          0.00000760575004989737,
          0.00000916751746136779,
          0.00001098098386434482,
          0.000013071094170427692,
          0.000015461983813066762,
          0.00001817617513639447,
          0.00002123368040304683,
          0.00002465103098507617,
          0.00002844025930355365,
          0.000032607866890155026,
          0.00003715381811772565,
          0.000042070604214898304,
          0.00004734242566818677,
          0.000052944542580445146,
          0.000058842841621565046,
          0.00006499366460338297,
          0.00007134393730015998,
          0.00007783162794595467,
          0.00008438655307831584,
          0.00009093153445796238,
          0.00009738389524829798,
          0.0001036572672148804,
          0.00010966366425144444,
          0.00011531576197628491,
          0.00012052930940678654,
          0.00012522558769997207,
          0.00012933382342373713,
          0.00013279346041051793,
          0.0001355561953407122,
          0.00013758768795502183,
          0.0001388688670819033,
          0.00013939676809909368,
          0.00013918485538794558,
          0.0001382628039349106,
          0.0001366757364739722,
          0.0001344829353367007,
          0.00013175607034233272,
          0.00012857700451707863,
          0.00012503525718125368,
          0.0001212252181449768,
          0.00011724321676983634,
          0.00011318455507634045,
          0.00010914061473803256,
          0.0001051961437743786,
          0.00010142682032901018,
          0.00009789717858460175,
          0.00009465896626534443,
          0.00009174998507465075,
          0.00008919344564657194,
          0.00008699784802547477,
          0.00008515737819688253,
          0.00008365279160220443,
          0.00008245273664372364,
          0.00008151545559522483,
          0.00008079078763894261,
          0.00008022238938598193,
          0.00007975008250162305,
          0.00007931223609892425,
          0.00007884809338205071,
          0.00007829995746061972,
          0.00007761516001561031,
          0.0000767477481350119
         ],
         "yaxis": "y"
        },
        {
         "legendgroup": "Возраст",
         "marker": {
          "color": "rgb(31, 119, 180)",
          "symbol": "line-ns-open"
         },
         "mode": "markers",
         "name": "Возраст",
         "showlegend": false,
         "type": "scatter",
         "x": [
          64,
          67,
          56,
          37,
          40,
          54,
          50,
          36,
          47,
          71,
          38,
          45,
          62,
          69,
          34,
          75,
          41,
          75,
          72,
          36,
          39,
          42,
          72,
          67,
          70,
          52,
          45,
          35,
          32,
          56,
          32,
          58,
          51,
          69,
          75,
          70,
          51,
          45,
          48,
          78,
          41,
          36,
          64,
          62,
          46,
          45,
          25,
          53,
          70,
          67,
          64,
          57,
          44,
          44,
          43,
          66,
          55,
          33,
          39,
          53,
          39,
          46,
          69,
          70,
          73,
          50,
          54,
          42,
          63,
          51,
          67,
          48,
          62,
          46,
          69,
          44,
          49,
          45,
          45,
          56,
          36,
          52,
          48,
          58,
          34,
          61,
          51,
          64,
          48,
          54,
          64,
          64,
          48,
          49,
          51,
          38,
          61,
          49,
          70,
          38,
          61,
          62,
          42,
          76,
          62,
          42,
          57,
          52,
          43,
          61,
          42,
          30,
          58,
          30,
          41,
          59,
          51,
          43,
          54,
          52,
          68,
          54,
          36,
          45,
          38,
          56,
          37,
          68,
          60,
          65,
          69,
          63,
          52,
          58,
          57,
          54,
          45,
          62,
          48,
          56,
          29,
          45,
          59,
          47,
          33,
          45,
          46,
          40,
          48,
          55,
          68,
          52,
          49,
          33,
          69,
          72,
          63,
          43,
          44,
          66,
          63,
          76,
          37,
          46,
          48,
          55,
          68,
          62,
          33,
          64,
          56,
          39,
          51,
          62,
          54,
          46,
          73,
          51,
          62,
          70,
          45,
          33,
          75,
          37,
          60,
          38,
          51,
          55,
          45,
          57,
          43,
          32,
          121,
          33,
          48,
          44,
          41,
          67,
          67,
          48,
          69,
          53,
          43,
          44,
          56,
          37,
          33,
          58,
          55,
          67,
          65,
          67,
          53,
          47,
          36,
          44,
          43,
          73,
          67,
          41,
          33,
          52,
          51,
          41,
          59,
          43,
          45,
          69,
          49,
          35,
          55,
          59,
          50,
          70,
          56,
          46,
          39,
          63,
          48,
          128,
          53,
          63,
          50,
          31,
          63,
          57,
          49,
          68,
          33,
          52,
          46,
          36,
          47,
          63,
          54,
          47,
          60,
          57,
          57,
          64,
          42,
          53,
          51,
          43,
          69,
          55,
          58,
          51,
          51,
          51,
          68,
          38,
          46,
          61,
          58,
          58,
          65,
          40,
          35,
          53,
          40,
          45,
          75,
          47,
          46,
          47,
          69,
          65,
          55,
          72,
          37,
          52,
          41,
          50,
          56,
          69,
          33,
          35,
          39,
          56,
          63,
          65,
          43,
          33,
          37,
          60,
          55,
          74,
          57,
          29,
          45,
          54,
          32,
          45,
          55,
          65,
          49,
          36,
          70,
          51,
          50,
          47,
          56,
          60,
          68,
          64,
          45,
          37,
          71,
          35,
          38,
          32,
          65,
          50,
          38,
          61,
          53,
          49,
          56,
          122,
          33,
          35,
          52,
          71,
          48,
          69,
          56,
          51,
          50,
          45,
          64,
          35,
          55,
          47,
          45,
          43,
          66,
          52,
          78,
          73,
          64,
          52,
          43,
          43,
          54,
          52,
          61,
          45,
          59,
          46,
          37,
          46,
          51,
          55,
          49,
          46,
          51,
          32,
          60,
          52,
          52,
          36,
          67,
          48,
          40,
          50,
          53,
          61,
          72,
          53,
          42,
          42,
          28,
          75,
          53,
          30,
          50,
          37,
          34,
          41,
          65,
          56,
          47,
          61,
          66,
          56,
          49,
          50,
          47,
          58,
          39,
          45,
          66,
          34,
          59,
          78,
          46,
          27,
          40,
          50,
          48,
          38,
          39,
          47,
          80,
          68,
          35,
          32,
          32,
          53,
          60,
          32,
          54,
          57,
          51,
          65,
          55,
          72,
          50,
          35,
          32,
          73,
          75,
          32,
          47,
          62,
          49,
          57,
          45,
          68,
          66,
          52,
          50,
          41,
          45,
          49,
          55,
          37,
          69,
          39,
          57,
          72,
          63,
          58,
          46,
          52,
          66,
          51,
          70,
          50,
          46,
          41,
          40,
          43,
          33,
          65,
          49,
          44,
          49,
          44,
          48,
          49,
          47,
          46,
          61,
          57,
          45,
          47,
          52,
          69,
          63,
          45,
          66,
          57,
          77,
          59,
          43,
          50,
          72,
          77,
          71,
          60,
          31,
          36,
          65,
          68,
          45,
          32,
          29,
          62,
          40,
          42,
          57,
          62,
          75,
          46,
          60,
          31,
          62,
          77,
          56,
          34,
          30,
          68,
          34,
          35,
          63,
          44,
          57,
          61,
          46,
          52,
          44,
          59,
          39,
          70,
          54,
          54,
          69,
          40,
          44,
          52,
          37,
          39,
          45,
          31,
          57,
          41,
          53,
          48,
          58,
          32,
          50,
          58,
          72,
          69,
          43,
          39,
          51,
          62,
          43,
          41,
          50,
          51,
          58,
          71,
          59,
          70,
          42,
          51,
          47,
          53,
          43,
          51,
          40,
          44,
          53,
          51,
          55,
          65,
          47,
          70,
          54,
          70,
          38,
          50,
          66,
          60,
          66,
          62,
          37,
          46,
          56,
          44,
          49,
          46,
          52,
          52,
          43,
          40,
          60,
          61,
          66,
          73,
          55,
          35,
          48,
          65,
          46,
          56,
          52,
          77,
          48,
          54,
          52,
          47,
          56,
          45,
          43,
          61,
          60,
          50,
          72,
          43,
          66,
          45,
          46,
          61,
          44,
          44,
          51,
          63,
          51,
          61,
          48,
          59,
          69,
          59,
          71,
          50,
          61,
          73,
          62,
          57,
          74,
          50,
          51,
          51,
          44,
          63,
          61,
          36,
          47,
          71,
          66,
          46,
          68,
          63,
          74,
          55,
          58,
          36,
          46,
          41,
          65,
          62,
          47,
          34,
          53,
          50,
          57,
          59,
          51,
          41,
          46,
          47,
          58,
          42,
          36,
          41,
          58,
          54,
          39,
          66,
          54,
          45,
          49,
          39,
          32,
          52,
          61,
          51,
          63,
          69,
          72,
          60,
          26,
          72,
          60,
          61,
          48,
          43,
          43,
          33,
          53,
          35,
          51,
          70,
          73,
          50,
          35,
          56,
          46,
          68,
          39,
          46,
          61,
          43,
          51,
          63,
          56,
          67,
          37,
          56,
          45,
          55,
          66,
          45,
          56,
          30,
          72,
          68,
          43,
          73,
          48,
          72,
          48,
          69,
          32,
          52,
          68,
          65,
          71,
          43,
          57,
          69,
          46,
          26,
          51,
          67,
          49,
          63,
          46,
          52,
          42,
          43,
          49,
          57,
          42,
          62,
          40,
          54,
          33,
          43,
          69,
          66,
          44,
          34,
          56,
          65,
          42,
          70,
          56,
          49,
          64,
          68,
          56,
          63,
          66,
          50,
          47,
          45,
          51,
          49,
          49,
          35,
          61,
          53,
          43,
          45,
          76,
          64,
          71,
          43,
          60,
          59,
          67,
          56,
          48,
          53,
          51,
          65,
          70,
          77,
          63,
          45,
          50,
          64,
          49,
          49,
          40,
          49,
          46,
          66,
          35,
          51,
          45,
          67,
          49,
          43,
          41,
          49,
          60,
          58,
          62,
          62,
          67,
          59,
          63,
          37,
          45,
          29,
          54,
          41,
          54,
          65,
          49,
          41,
          41,
          44,
          71,
          47,
          33,
          40,
          61,
          51,
          30,
          65,
          58,
          41,
          47,
          67,
          64,
          55,
          47,
          42,
          48,
          36,
          55,
          32,
          52,
          52,
          34,
          32,
          46,
          48,
          55,
          35,
          43,
          42,
          38,
          62,
          45,
          40,
          43,
          68,
          50,
          38,
          65,
          43,
          49,
          46,
          46,
          40,
          49,
          51,
          68,
          62,
          59,
          43,
          48,
          56,
          38,
          30,
          78,
          49,
          65,
          63,
          47,
          35,
          63,
          51,
          54,
          48,
          52,
          44,
          60,
          50,
          47,
          35,
          55,
          29,
          58,
          49,
          27,
          67,
          61,
          39,
          67,
          67,
          66,
          28,
          52,
          73,
          35,
          42,
          43,
          39,
          28,
          45,
          47,
          32,
          70,
          32,
          69,
          50,
          50,
          51,
          50,
          46,
          69,
          59,
          38,
          68,
          35,
          34,
          39,
          42,
          44,
          46,
          42,
          45,
          48,
          50,
          45,
          45,
          56,
          69,
          48,
          64,
          54,
          59,
          52,
          46,
          41,
          62,
          48,
          48,
          47,
          41,
          33,
          53,
          33,
          62,
          50,
          59,
          62,
          56,
          69,
          67,
          61,
          56,
          42,
          43,
          71,
          47,
          43,
          52,
          45,
          65,
          67,
          49,
          40,
          32,
          67,
          26,
          43,
          64,
          48,
          65,
          65,
          34,
          40,
          34,
          67,
          67,
          68,
          69,
          53,
          58,
          42,
          45,
          43,
          53,
          50,
          70,
          56,
          52,
          48,
          45,
          48,
          47,
          68,
          55,
          43,
          54,
          43,
          34,
          63,
          57,
          50,
          50,
          52,
          44,
          48,
          41,
          63,
          49,
          50,
          68,
          62,
          67,
          30,
          59,
          35,
          56,
          55,
          61,
          37,
          55,
          56,
          55,
          72,
          51,
          38,
          36,
          47,
          70,
          69,
          34,
          72,
          63,
          34,
          48,
          57,
          60,
          29,
          56,
          65,
          43,
          50,
          55,
          66,
          68,
          63,
          60,
          40,
          45,
          53,
          43,
          56,
          50,
          65,
          39,
          51,
          44,
          51,
          63,
          38,
          63,
          48,
          47,
          62,
          49,
          56,
          42,
          63,
          35,
          39,
          42,
          46,
          42,
          35,
          51,
          49,
          61,
          69,
          51,
          47,
          56,
          67,
          38,
          48,
          61,
          37,
          50,
          38,
          38,
          55,
          43,
          53,
          42,
          48,
          42,
          67,
          59,
          55,
          44,
          36,
          69,
          70,
          54,
          43,
          45,
          36,
          47,
          53,
          59,
          32,
          60,
          68,
          32,
          43,
          59,
          76,
          47,
          40,
          65,
          67,
          35,
          78,
          57,
          42,
          47,
          61,
          58,
          45,
          47,
          60,
          70,
          56,
          65,
          56,
          27,
          47,
          49,
          53,
          53,
          73,
          52,
          25,
          47,
          31,
          64,
          42,
          61,
          69,
          40,
          40,
          30,
          71,
          64,
          60,
          63,
          50,
          36,
          56,
          69,
          59,
          47,
          51,
          52,
          61,
          69,
          52,
          53,
          56,
          52,
          49,
          60,
          44,
          62,
          63,
          42,
          64,
          65,
          56,
          31,
          64,
          56,
          64,
          66,
          49,
          52,
          49,
          46,
          56,
          58,
          30,
          58,
          35,
          48,
          64,
          40,
          63,
          62,
          66,
          35,
          46,
          66,
          50,
          35,
          43,
          38,
          45,
          50,
          65,
          49,
          32,
          69,
          37,
          54,
          59,
          74,
          43,
          50,
          29,
          53,
          48,
          46,
          56,
          69,
          54,
          49,
          58,
          51,
          66,
          46,
          45,
          52,
          48,
          38,
          39,
          61,
          69,
          46,
          58,
          51,
          73,
          63,
          77,
          58,
          49,
          55,
          53,
          50,
          46,
          57,
          43,
          46,
          38,
          50,
          64,
          70,
          70,
          51,
          49,
          52,
          49,
          50,
          65,
          50,
          48,
          44,
          58,
          67,
          43,
          55,
          75,
          43,
          50,
          68,
          36,
          51,
          42,
          55,
          45,
          56,
          39,
          49,
          61,
          65,
          56,
          66,
          32,
          59,
          56,
          48,
          49,
          37,
          61,
          63,
          53,
          44,
          47,
          59,
          39,
          46,
          39,
          76,
          42,
          52,
          59,
          73,
          43,
          46,
          39,
          38,
          69,
          39,
          59,
          44,
          72,
          31,
          39,
          46,
          62,
          38,
          45,
          59,
          65,
          28,
          34,
          56,
          39,
          59,
          43,
          75,
          58,
          50,
          53,
          29,
          47,
          71,
          44,
          63,
          45,
          48,
          53,
          63,
          46,
          61,
          56,
          61,
          52,
          61,
          46,
          36,
          50,
          51,
          66,
          65,
          63,
          57,
          48,
          73,
          49,
          45,
          41,
          42,
          49,
          48,
          49,
          46,
          49,
          65,
          47,
          49,
          53,
          52,
          60,
          49,
          68,
          64,
          51,
          54,
          70,
          68,
          71,
          68,
          44,
          49,
          52,
          77,
          31,
          42,
          55,
          73,
          49,
          48,
          49,
          49,
          55,
          52,
          62,
          51,
          47,
          49,
          63,
          49,
          38,
          48,
          36,
          48,
          54,
          42,
          60,
          35,
          57,
          38,
          69,
          72,
          42,
          73,
          75,
          63,
          50,
          64,
          39,
          48,
          49,
          56,
          68,
          54,
          56,
          52,
          50,
          49,
          51,
          47,
          71,
          62,
          66,
          43,
          35,
          58,
          68,
          69,
          71,
          51,
          51,
          44,
          55,
          52,
          63,
          67,
          65,
          51,
          34,
          60,
          42,
          61,
          40,
          41,
          45,
          45,
          51,
          75,
          66,
          49,
          50,
          71,
          33,
          43,
          31,
          62,
          44,
          52,
          62,
          33,
          46,
          48,
          44,
          48,
          66,
          47,
          49,
          46,
          50,
          63,
          33,
          46,
          56,
          35,
          44,
          41,
          59,
          43,
          49,
          51,
          38,
          50,
          45,
          48,
          48,
          45,
          73,
          63,
          34,
          61,
          46,
          63,
          46,
          46,
          33,
          33,
          32,
          62,
          50,
          54,
          32,
          60,
          43,
          68,
          57,
          35,
          34,
          58,
          64,
          46,
          70,
          56,
          65,
          59,
          47,
          54,
          59,
          45,
          60,
          45,
          38,
          45,
          33,
          67,
          36,
          69,
          57,
          67,
          71,
          64,
          75,
          67,
          30,
          35,
          44,
          61,
          39,
          74,
          29,
          45,
          65,
          74,
          71,
          55,
          34,
          48,
          69,
          56,
          41,
          34,
          59,
          66,
          33,
          56,
          54,
          48,
          61,
          37,
          50,
          46,
          56,
          65,
          66,
          61,
          60,
          58,
          44,
          31,
          48,
          57,
          33,
          43,
          31,
          46,
          44,
          37,
          38,
          34,
          56,
          65,
          56,
          50,
          39,
          62,
          58,
          69,
          50,
          58,
          39,
          45,
          74,
          52,
          62,
          43,
          73,
          66,
          67,
          76,
          52,
          45,
          52,
          57,
          40,
          42,
          40,
          61,
          47,
          40,
          54,
          71,
          39,
          60,
          58,
          44,
          74,
          43,
          67,
          67,
          49,
          40,
          63,
          53,
          45,
          55,
          32,
          36,
          54,
          62,
          51,
          54,
          36,
          70,
          35,
          66,
          51,
          30,
          46,
          42,
          45,
          41,
          43,
          50,
          66,
          38,
          69,
          52,
          41,
          53,
          50,
          32,
          70,
          34,
          36,
          40,
          31,
          69,
          50,
          38,
          64,
          70,
          45,
          66,
          32,
          48,
          48,
          37,
          65,
          56,
          43,
          48,
          35,
          62,
          43,
          55,
          29,
          37,
          65,
          44,
          47,
          45,
          42,
          38,
          30,
          59,
          39,
          42,
          66,
          56,
          60,
          70,
          57,
          62,
          66,
          55,
          63,
          67,
          54,
          58,
          62,
          50,
          57,
          38,
          76,
          74,
          52,
          69,
          74,
          75,
          52,
          72,
          60,
          47,
          41,
          72,
          50,
          42,
          53,
          50,
          66,
          49,
          57,
          42,
          46,
          44,
          35,
          65,
          41,
          39,
          60,
          46,
          47,
          75,
          36,
          69,
          54,
          66,
          36,
          44,
          48,
          37,
          42,
          45,
          53,
          62,
          50,
          54,
          48,
          38,
          42,
          42,
          71,
          58,
          59,
          45,
          69,
          61,
          66,
          44,
          57,
          40,
          45,
          47,
          70,
          55,
          70,
          63,
          55,
          57,
          65,
          47,
          55,
          58,
          52,
          29,
          67,
          38,
          39,
          70,
          65,
          60,
          59,
          50,
          50,
          53,
          43,
          52,
          56,
          35,
          63,
          46,
          34,
          62,
          59,
          47,
          44,
          43,
          51,
          64,
          66,
          67,
          39,
          68,
          53,
          64,
          56,
          46,
          58,
          31,
          55,
          33,
          26,
          46,
          43,
          60,
          37,
          50,
          70,
          45,
          49,
          36,
          55,
          46,
          42,
          50,
          39,
          48,
          53,
          37,
          50,
          44,
          54,
          57,
          49,
          73,
          69,
          34,
          62,
          63,
          70,
          46,
          37,
          52,
          53,
          52,
          36,
          37,
          64,
          50,
          46,
          39,
          33,
          32,
          36,
          53,
          47,
          72,
          43,
          67,
          76,
          71,
          57,
          38,
          34,
          50,
          53,
          67,
          50,
          35,
          62,
          41,
          61,
          51,
          50,
          54,
          58,
          53,
          31,
          40,
          45,
          56,
          44,
          49,
          65,
          78,
          62,
          44,
          52,
          51,
          64,
          56,
          47,
          74,
          39,
          53,
          70,
          46,
          65,
          72,
          62,
          48,
          37,
          71,
          44,
          37,
          45,
          70,
          39,
          47,
          53,
          67,
          81,
          45,
          70,
          45,
          57,
          71,
          45,
          65,
          31,
          71,
          56,
          59,
          43,
          69,
          55,
          74,
          49,
          58,
          72,
          43,
          55,
          38,
          50,
          46,
          50,
          52,
          58,
          53,
          42,
          37,
          37,
          47,
          70,
          59,
          46,
          64,
          43,
          30,
          35,
          65,
          58,
          50,
          74,
          63,
          61,
          41,
          46,
          46,
          48,
          41,
          51,
          54,
          51,
          55,
          49,
          44,
          51,
          57,
          62,
          55,
          63,
          35,
          44,
          40,
          63,
          46,
          38,
          54,
          70,
          49,
          43,
          39,
          65,
          69,
          56,
          42,
          56,
          68,
          72,
          36,
          74,
          66,
          45,
          46,
          37,
          71,
          44,
          70,
          37,
          39,
          30,
          51,
          40,
          42,
          50,
          51,
          62,
          48,
          51,
          74,
          70,
          46,
          62,
          66,
          68,
          56,
          48,
          45,
          71,
          52,
          52,
          40,
          39,
          43,
          47,
          70,
          73,
          69,
          37,
          42,
          72,
          65,
          52,
          34,
          38,
          51,
          44,
          61,
          50,
          67,
          48,
          66,
          61,
          33,
          78,
          52,
          29,
          62,
          41,
          50,
          47,
          52,
          45,
          28,
          72,
          71,
          46,
          65,
          45,
          46,
          45,
          72,
          37,
          47,
          49,
          35,
          59,
          51,
          72,
          60,
          66,
          40,
          68,
          47,
          67,
          52,
          40,
          69,
          59,
          50,
          45,
          45,
          41,
          65,
          64,
          49,
          55,
          35,
          56,
          47,
          45,
          45,
          72,
          41,
          64,
          56,
          52,
          51,
          67,
          55,
          47,
          50,
          53,
          64,
          48,
          64,
          50,
          61,
          48,
          59,
          63,
          49,
          45,
          52,
          45,
          38,
          57,
          46,
          66,
          56,
          57,
          41,
          64,
          72,
          29,
          47,
          67,
          31,
          37,
          40,
          56,
          51,
          46,
          70,
          66,
          46,
          54,
          48,
          50,
          66,
          47,
          49,
          57,
          43,
          64,
          61,
          49,
          65,
          64,
          49,
          38,
          50,
          74,
          64,
          64,
          69,
          47,
          48,
          67,
          46,
          31,
          52,
          48,
          43,
          31,
          53,
          41,
          67,
          58,
          58,
          66,
          40,
          71,
          26,
          45,
          67,
          38,
          73,
          43,
          36,
          42,
          39,
          42,
          58,
          51,
          53,
          42,
          59,
          43,
          49,
          37,
          51,
          35,
          44,
          47,
          54,
          75,
          40,
          65,
          67
         ],
         "xaxis": "x",
         "y": [
          "Возраст",
          "Возраст",
          "Возраст",
          "Возраст",
          "Возраст",
          "Возраст",
          "Возраст",
          "Возраст",
          "Возраст",
          "Возраст",
          "Возраст",
          "Возраст",
          "Возраст",
          "Возраст",
          "Возраст",
          "Возраст",
          "Возраст",
          "Возраст",
          "Возраст",
          "Возраст",
          "Возраст",
          "Возраст",
          "Возраст",
          "Возраст",
          "Возраст",
          "Возраст",
          "Возраст",
          "Возраст",
          "Возраст",
          "Возраст",
          "Возраст",
          "Возраст",
          "Возраст",
          "Возраст",
          "Возраст",
          "Возраст",
          "Возраст",
          "Возраст",
          "Возраст",
          "Возраст",
          "Возраст",
          "Возраст",
          "Возраст",
          "Возраст",
          "Возраст",
          "Возраст",
          "Возраст",
          "Возраст",
          "Возраст",
          "Возраст",
          "Возраст",
          "Возраст",
          "Возраст",
          "Возраст",
          "Возраст",
          "Возраст",
          "Возраст",
          "Возраст",
          "Возраст",
          "Возраст",
          "Возраст",
          "Возраст",
          "Возраст",
          "Возраст",
          "Возраст",
          "Возраст",
          "Возраст",
          "Возраст",
          "Возраст",
          "Возраст",
          "Возраст",
          "Возраст",
          "Возраст",
          "Возраст",
          "Возраст",
          "Возраст",
          "Возраст",
          "Возраст",
          "Возраст",
          "Возраст",
          "Возраст",
          "Возраст",
          "Возраст",
          "Возраст",
          "Возраст",
          "Возраст",
          "Возраст",
          "Возраст",
          "Возраст",
          "Возраст",
          "Возраст",
          "Возраст",
          "Возраст",
          "Возраст",
          "Возраст",
          "Возраст",
          "Возраст",
          "Возраст",
          "Возраст",
          "Возраст",
          "Возраст",
          "Возраст",
          "Возраст",
          "Возраст",
          "Возраст",
          "Возраст",
          "Возраст",
          "Возраст",
          "Возраст",
          "Возраст",
          "Возраст",
          "Возраст",
          "Возраст",
          "Возраст",
          "Возраст",
          "Возраст",
          "Возраст",
          "Возраст",
          "Возраст",
          "Возраст",
          "Возраст",
          "Возраст",
          "Возраст",
          "Возраст",
          "Возраст",
          "Возраст",
          "Возраст",
          "Возраст",
          "Возраст",
          "Возраст",
          "Возраст",
          "Возраст",
          "Возраст",
          "Возраст",
          "Возраст",
          "Возраст",
          "Возраст",
          "Возраст",
          "Возраст",
          "Возраст",
          "Возраст",
          "Возраст",
          "Возраст",
          "Возраст",
          "Возраст",
          "Возраст",
          "Возраст",
          "Возраст",
          "Возраст",
          "Возраст",
          "Возраст",
          "Возраст",
          "Возраст",
          "Возраст",
          "Возраст",
          "Возраст",
          "Возраст",
          "Возраст",
          "Возраст",
          "Возраст",
          "Возраст",
          "Возраст",
          "Возраст",
          "Возраст",
          "Возраст",
          "Возраст",
          "Возраст",
          "Возраст",
          "Возраст",
          "Возраст",
          "Возраст",
          "Возраст",
          "Возраст",
          "Возраст",
          "Возраст",
          "Возраст",
          "Возраст",
          "Возраст",
          "Возраст",
          "Возраст",
          "Возраст",
          "Возраст",
          "Возраст",
          "Возраст",
          "Возраст",
          "Возраст",
          "Возраст",
          "Возраст",
          "Возраст",
          "Возраст",
          "Возраст",
          "Возраст",
          "Возраст",
          "Возраст",
          "Возраст",
          "Возраст",
          "Возраст",
          "Возраст",
          "Возраст",
          "Возраст",
          "Возраст",
          "Возраст",
          "Возраст",
          "Возраст",
          "Возраст",
          "Возраст",
          "Возраст",
          "Возраст",
          "Возраст",
          "Возраст",
          "Возраст",
          "Возраст",
          "Возраст",
          "Возраст",
          "Возраст",
          "Возраст",
          "Возраст",
          "Возраст",
          "Возраст",
          "Возраст",
          "Возраст",
          "Возраст",
          "Возраст",
          "Возраст",
          "Возраст",
          "Возраст",
          "Возраст",
          "Возраст",
          "Возраст",
          "Возраст",
          "Возраст",
          "Возраст",
          "Возраст",
          "Возраст",
          "Возраст",
          "Возраст",
          "Возраст",
          "Возраст",
          "Возраст",
          "Возраст",
          "Возраст",
          "Возраст",
          "Возраст",
          "Возраст",
          "Возраст",
          "Возраст",
          "Возраст",
          "Возраст",
          "Возраст",
          "Возраст",
          "Возраст",
          "Возраст",
          "Возраст",
          "Возраст",
          "Возраст",
          "Возраст",
          "Возраст",
          "Возраст",
          "Возраст",
          "Возраст",
          "Возраст",
          "Возраст",
          "Возраст",
          "Возраст",
          "Возраст",
          "Возраст",
          "Возраст",
          "Возраст",
          "Возраст",
          "Возраст",
          "Возраст",
          "Возраст",
          "Возраст",
          "Возраст",
          "Возраст",
          "Возраст",
          "Возраст",
          "Возраст",
          "Возраст",
          "Возраст",
          "Возраст",
          "Возраст",
          "Возраст",
          "Возраст",
          "Возраст",
          "Возраст",
          "Возраст",
          "Возраст",
          "Возраст",
          "Возраст",
          "Возраст",
          "Возраст",
          "Возраст",
          "Возраст",
          "Возраст",
          "Возраст",
          "Возраст",
          "Возраст",
          "Возраст",
          "Возраст",
          "Возраст",
          "Возраст",
          "Возраст",
          "Возраст",
          "Возраст",
          "Возраст",
          "Возраст",
          "Возраст",
          "Возраст",
          "Возраст",
          "Возраст",
          "Возраст",
          "Возраст",
          "Возраст",
          "Возраст",
          "Возраст",
          "Возраст",
          "Возраст",
          "Возраст",
          "Возраст",
          "Возраст",
          "Возраст",
          "Возраст",
          "Возраст",
          "Возраст",
          "Возраст",
          "Возраст",
          "Возраст",
          "Возраст",
          "Возраст",
          "Возраст",
          "Возраст",
          "Возраст",
          "Возраст",
          "Возраст",
          "Возраст",
          "Возраст",
          "Возраст",
          "Возраст",
          "Возраст",
          "Возраст",
          "Возраст",
          "Возраст",
          "Возраст",
          "Возраст",
          "Возраст",
          "Возраст",
          "Возраст",
          "Возраст",
          "Возраст",
          "Возраст",
          "Возраст",
          "Возраст",
          "Возраст",
          "Возраст",
          "Возраст",
          "Возраст",
          "Возраст",
          "Возраст",
          "Возраст",
          "Возраст",
          "Возраст",
          "Возраст",
          "Возраст",
          "Возраст",
          "Возраст",
          "Возраст",
          "Возраст",
          "Возраст",
          "Возраст",
          "Возраст",
          "Возраст",
          "Возраст",
          "Возраст",
          "Возраст",
          "Возраст",
          "Возраст",
          "Возраст",
          "Возраст",
          "Возраст",
          "Возраст",
          "Возраст",
          "Возраст",
          "Возраст",
          "Возраст",
          "Возраст",
          "Возраст",
          "Возраст",
          "Возраст",
          "Возраст",
          "Возраст",
          "Возраст",
          "Возраст",
          "Возраст",
          "Возраст",
          "Возраст",
          "Возраст",
          "Возраст",
          "Возраст",
          "Возраст",
          "Возраст",
          "Возраст",
          "Возраст",
          "Возраст",
          "Возраст",
          "Возраст",
          "Возраст",
          "Возраст",
          "Возраст",
          "Возраст",
          "Возраст",
          "Возраст",
          "Возраст",
          "Возраст",
          "Возраст",
          "Возраст",
          "Возраст",
          "Возраст",
          "Возраст",
          "Возраст",
          "Возраст",
          "Возраст",
          "Возраст",
          "Возраст",
          "Возраст",
          "Возраст",
          "Возраст",
          "Возраст",
          "Возраст",
          "Возраст",
          "Возраст",
          "Возраст",
          "Возраст",
          "Возраст",
          "Возраст",
          "Возраст",
          "Возраст",
          "Возраст",
          "Возраст",
          "Возраст",
          "Возраст",
          "Возраст",
          "Возраст",
          "Возраст",
          "Возраст",
          "Возраст",
          "Возраст",
          "Возраст",
          "Возраст",
          "Возраст",
          "Возраст",
          "Возраст",
          "Возраст",
          "Возраст",
          "Возраст",
          "Возраст",
          "Возраст",
          "Возраст",
          "Возраст",
          "Возраст",
          "Возраст",
          "Возраст",
          "Возраст",
          "Возраст",
          "Возраст",
          "Возраст",
          "Возраст",
          "Возраст",
          "Возраст",
          "Возраст",
          "Возраст",
          "Возраст",
          "Возраст",
          "Возраст",
          "Возраст",
          "Возраст",
          "Возраст",
          "Возраст",
          "Возраст",
          "Возраст",
          "Возраст",
          "Возраст",
          "Возраст",
          "Возраст",
          "Возраст",
          "Возраст",
          "Возраст",
          "Возраст",
          "Возраст",
          "Возраст",
          "Возраст",
          "Возраст",
          "Возраст",
          "Возраст",
          "Возраст",
          "Возраст",
          "Возраст",
          "Возраст",
          "Возраст",
          "Возраст",
          "Возраст",
          "Возраст",
          "Возраст",
          "Возраст",
          "Возраст",
          "Возраст",
          "Возраст",
          "Возраст",
          "Возраст",
          "Возраст",
          "Возраст",
          "Возраст",
          "Возраст",
          "Возраст",
          "Возраст",
          "Возраст",
          "Возраст",
          "Возраст",
          "Возраст",
          "Возраст",
          "Возраст",
          "Возраст",
          "Возраст",
          "Возраст",
          "Возраст",
          "Возраст",
          "Возраст",
          "Возраст",
          "Возраст",
          "Возраст",
          "Возраст",
          "Возраст",
          "Возраст",
          "Возраст",
          "Возраст",
          "Возраст",
          "Возраст",
          "Возраст",
          "Возраст",
          "Возраст",
          "Возраст",
          "Возраст",
          "Возраст",
          "Возраст",
          "Возраст",
          "Возраст",
          "Возраст",
          "Возраст",
          "Возраст",
          "Возраст",
          "Возраст",
          "Возраст",
          "Возраст",
          "Возраст",
          "Возраст",
          "Возраст",
          "Возраст",
          "Возраст",
          "Возраст",
          "Возраст",
          "Возраст",
          "Возраст",
          "Возраст",
          "Возраст",
          "Возраст",
          "Возраст",
          "Возраст",
          "Возраст",
          "Возраст",
          "Возраст",
          "Возраст",
          "Возраст",
          "Возраст",
          "Возраст",
          "Возраст",
          "Возраст",
          "Возраст",
          "Возраст",
          "Возраст",
          "Возраст",
          "Возраст",
          "Возраст",
          "Возраст",
          "Возраст",
          "Возраст",
          "Возраст",
          "Возраст",
          "Возраст",
          "Возраст",
          "Возраст",
          "Возраст",
          "Возраст",
          "Возраст",
          "Возраст",
          "Возраст",
          "Возраст",
          "Возраст",
          "Возраст",
          "Возраст",
          "Возраст",
          "Возраст",
          "Возраст",
          "Возраст",
          "Возраст",
          "Возраст",
          "Возраст",
          "Возраст",
          "Возраст",
          "Возраст",
          "Возраст",
          "Возраст",
          "Возраст",
          "Возраст",
          "Возраст",
          "Возраст",
          "Возраст",
          "Возраст",
          "Возраст",
          "Возраст",
          "Возраст",
          "Возраст",
          "Возраст",
          "Возраст",
          "Возраст",
          "Возраст",
          "Возраст",
          "Возраст",
          "Возраст",
          "Возраст",
          "Возраст",
          "Возраст",
          "Возраст",
          "Возраст",
          "Возраст",
          "Возраст",
          "Возраст",
          "Возраст",
          "Возраст",
          "Возраст",
          "Возраст",
          "Возраст",
          "Возраст",
          "Возраст",
          "Возраст",
          "Возраст",
          "Возраст",
          "Возраст",
          "Возраст",
          "Возраст",
          "Возраст",
          "Возраст",
          "Возраст",
          "Возраст",
          "Возраст",
          "Возраст",
          "Возраст",
          "Возраст",
          "Возраст",
          "Возраст",
          "Возраст",
          "Возраст",
          "Возраст",
          "Возраст",
          "Возраст",
          "Возраст",
          "Возраст",
          "Возраст",
          "Возраст",
          "Возраст",
          "Возраст",
          "Возраст",
          "Возраст",
          "Возраст",
          "Возраст",
          "Возраст",
          "Возраст",
          "Возраст",
          "Возраст",
          "Возраст",
          "Возраст",
          "Возраст",
          "Возраст",
          "Возраст",
          "Возраст",
          "Возраст",
          "Возраст",
          "Возраст",
          "Возраст",
          "Возраст",
          "Возраст",
          "Возраст",
          "Возраст",
          "Возраст",
          "Возраст",
          "Возраст",
          "Возраст",
          "Возраст",
          "Возраст",
          "Возраст",
          "Возраст",
          "Возраст",
          "Возраст",
          "Возраст",
          "Возраст",
          "Возраст",
          "Возраст",
          "Возраст",
          "Возраст",
          "Возраст",
          "Возраст",
          "Возраст",
          "Возраст",
          "Возраст",
          "Возраст",
          "Возраст",
          "Возраст",
          "Возраст",
          "Возраст",
          "Возраст",
          "Возраст",
          "Возраст",
          "Возраст",
          "Возраст",
          "Возраст",
          "Возраст",
          "Возраст",
          "Возраст",
          "Возраст",
          "Возраст",
          "Возраст",
          "Возраст",
          "Возраст",
          "Возраст",
          "Возраст",
          "Возраст",
          "Возраст",
          "Возраст",
          "Возраст",
          "Возраст",
          "Возраст",
          "Возраст",
          "Возраст",
          "Возраст",
          "Возраст",
          "Возраст",
          "Возраст",
          "Возраст",
          "Возраст",
          "Возраст",
          "Возраст",
          "Возраст",
          "Возраст",
          "Возраст",
          "Возраст",
          "Возраст",
          "Возраст",
          "Возраст",
          "Возраст",
          "Возраст",
          "Возраст",
          "Возраст",
          "Возраст",
          "Возраст",
          "Возраст",
          "Возраст",
          "Возраст",
          "Возраст",
          "Возраст",
          "Возраст",
          "Возраст",
          "Возраст",
          "Возраст",
          "Возраст",
          "Возраст",
          "Возраст",
          "Возраст",
          "Возраст",
          "Возраст",
          "Возраст",
          "Возраст",
          "Возраст",
          "Возраст",
          "Возраст",
          "Возраст",
          "Возраст",
          "Возраст",
          "Возраст",
          "Возраст",
          "Возраст",
          "Возраст",
          "Возраст",
          "Возраст",
          "Возраст",
          "Возраст",
          "Возраст",
          "Возраст",
          "Возраст",
          "Возраст",
          "Возраст",
          "Возраст",
          "Возраст",
          "Возраст",
          "Возраст",
          "Возраст",
          "Возраст",
          "Возраст",
          "Возраст",
          "Возраст",
          "Возраст",
          "Возраст",
          "Возраст",
          "Возраст",
          "Возраст",
          "Возраст",
          "Возраст",
          "Возраст",
          "Возраст",
          "Возраст",
          "Возраст",
          "Возраст",
          "Возраст",
          "Возраст",
          "Возраст",
          "Возраст",
          "Возраст",
          "Возраст",
          "Возраст",
          "Возраст",
          "Возраст",
          "Возраст",
          "Возраст",
          "Возраст",
          "Возраст",
          "Возраст",
          "Возраст",
          "Возраст",
          "Возраст",
          "Возраст",
          "Возраст",
          "Возраст",
          "Возраст",
          "Возраст",
          "Возраст",
          "Возраст",
          "Возраст",
          "Возраст",
          "Возраст",
          "Возраст",
          "Возраст",
          "Возраст",
          "Возраст",
          "Возраст",
          "Возраст",
          "Возраст",
          "Возраст",
          "Возраст",
          "Возраст",
          "Возраст",
          "Возраст",
          "Возраст",
          "Возраст",
          "Возраст",
          "Возраст",
          "Возраст",
          "Возраст",
          "Возраст",
          "Возраст",
          "Возраст",
          "Возраст",
          "Возраст",
          "Возраст",
          "Возраст",
          "Возраст",
          "Возраст",
          "Возраст",
          "Возраст",
          "Возраст",
          "Возраст",
          "Возраст",
          "Возраст",
          "Возраст",
          "Возраст",
          "Возраст",
          "Возраст",
          "Возраст",
          "Возраст",
          "Возраст",
          "Возраст",
          "Возраст",
          "Возраст",
          "Возраст",
          "Возраст",
          "Возраст",
          "Возраст",
          "Возраст",
          "Возраст",
          "Возраст",
          "Возраст",
          "Возраст",
          "Возраст",
          "Возраст",
          "Возраст",
          "Возраст",
          "Возраст",
          "Возраст",
          "Возраст",
          "Возраст",
          "Возраст",
          "Возраст",
          "Возраст",
          "Возраст",
          "Возраст",
          "Возраст",
          "Возраст",
          "Возраст",
          "Возраст",
          "Возраст",
          "Возраст",
          "Возраст",
          "Возраст",
          "Возраст",
          "Возраст",
          "Возраст",
          "Возраст",
          "Возраст",
          "Возраст",
          "Возраст",
          "Возраст",
          "Возраст",
          "Возраст",
          "Возраст",
          "Возраст",
          "Возраст",
          "Возраст",
          "Возраст",
          "Возраст",
          "Возраст",
          "Возраст",
          "Возраст",
          "Возраст",
          "Возраст",
          "Возраст",
          "Возраст",
          "Возраст",
          "Возраст",
          "Возраст",
          "Возраст",
          "Возраст",
          "Возраст",
          "Возраст",
          "Возраст",
          "Возраст",
          "Возраст",
          "Возраст",
          "Возраст",
          "Возраст",
          "Возраст",
          "Возраст",
          "Возраст",
          "Возраст",
          "Возраст",
          "Возраст",
          "Возраст",
          "Возраст",
          "Возраст",
          "Возраст",
          "Возраст",
          "Возраст",
          "Возраст",
          "Возраст",
          "Возраст",
          "Возраст",
          "Возраст",
          "Возраст",
          "Возраст",
          "Возраст",
          "Возраст",
          "Возраст",
          "Возраст",
          "Возраст",
          "Возраст",
          "Возраст",
          "Возраст",
          "Возраст",
          "Возраст",
          "Возраст",
          "Возраст",
          "Возраст",
          "Возраст",
          "Возраст",
          "Возраст",
          "Возраст",
          "Возраст",
          "Возраст",
          "Возраст",
          "Возраст",
          "Возраст",
          "Возраст",
          "Возраст",
          "Возраст",
          "Возраст",
          "Возраст",
          "Возраст",
          "Возраст",
          "Возраст",
          "Возраст",
          "Возраст",
          "Возраст",
          "Возраст",
          "Возраст",
          "Возраст",
          "Возраст",
          "Возраст",
          "Возраст",
          "Возраст",
          "Возраст",
          "Возраст",
          "Возраст",
          "Возраст",
          "Возраст",
          "Возраст",
          "Возраст",
          "Возраст",
          "Возраст",
          "Возраст",
          "Возраст",
          "Возраст",
          "Возраст",
          "Возраст",
          "Возраст",
          "Возраст",
          "Возраст",
          "Возраст",
          "Возраст",
          "Возраст",
          "Возраст",
          "Возраст",
          "Возраст",
          "Возраст",
          "Возраст",
          "Возраст",
          "Возраст",
          "Возраст",
          "Возраст",
          "Возраст",
          "Возраст",
          "Возраст",
          "Возраст",
          "Возраст",
          "Возраст",
          "Возраст",
          "Возраст",
          "Возраст",
          "Возраст",
          "Возраст",
          "Возраст",
          "Возраст",
          "Возраст",
          "Возраст",
          "Возраст",
          "Возраст",
          "Возраст",
          "Возраст",
          "Возраст",
          "Возраст",
          "Возраст",
          "Возраст",
          "Возраст",
          "Возраст",
          "Возраст",
          "Возраст",
          "Возраст",
          "Возраст",
          "Возраст",
          "Возраст",
          "Возраст",
          "Возраст",
          "Возраст",
          "Возраст",
          "Возраст",
          "Возраст",
          "Возраст",
          "Возраст",
          "Возраст",
          "Возраст",
          "Возраст",
          "Возраст",
          "Возраст",
          "Возраст",
          "Возраст",
          "Возраст",
          "Возраст",
          "Возраст",
          "Возраст",
          "Возраст",
          "Возраст",
          "Возраст",
          "Возраст",
          "Возраст",
          "Возраст",
          "Возраст",
          "Возраст",
          "Возраст",
          "Возраст",
          "Возраст",
          "Возраст",
          "Возраст",
          "Возраст",
          "Возраст",
          "Возраст",
          "Возраст",
          "Возраст",
          "Возраст",
          "Возраст",
          "Возраст",
          "Возраст",
          "Возраст",
          "Возраст",
          "Возраст",
          "Возраст",
          "Возраст",
          "Возраст",
          "Возраст",
          "Возраст",
          "Возраст",
          "Возраст",
          "Возраст",
          "Возраст",
          "Возраст",
          "Возраст",
          "Возраст",
          "Возраст",
          "Возраст",
          "Возраст",
          "Возраст",
          "Возраст",
          "Возраст",
          "Возраст",
          "Возраст",
          "Возраст",
          "Возраст",
          "Возраст",
          "Возраст",
          "Возраст",
          "Возраст",
          "Возраст",
          "Возраст",
          "Возраст",
          "Возраст",
          "Возраст",
          "Возраст",
          "Возраст",
          "Возраст",
          "Возраст",
          "Возраст",
          "Возраст",
          "Возраст",
          "Возраст",
          "Возраст",
          "Возраст",
          "Возраст",
          "Возраст",
          "Возраст",
          "Возраст",
          "Возраст",
          "Возраст",
          "Возраст",
          "Возраст",
          "Возраст",
          "Возраст",
          "Возраст",
          "Возраст",
          "Возраст",
          "Возраст",
          "Возраст",
          "Возраст",
          "Возраст",
          "Возраст",
          "Возраст",
          "Возраст",
          "Возраст",
          "Возраст",
          "Возраст",
          "Возраст",
          "Возраст",
          "Возраст",
          "Возраст",
          "Возраст",
          "Возраст",
          "Возраст",
          "Возраст",
          "Возраст",
          "Возраст",
          "Возраст",
          "Возраст",
          "Возраст",
          "Возраст",
          "Возраст",
          "Возраст",
          "Возраст",
          "Возраст",
          "Возраст",
          "Возраст",
          "Возраст",
          "Возраст",
          "Возраст",
          "Возраст",
          "Возраст",
          "Возраст",
          "Возраст",
          "Возраст",
          "Возраст",
          "Возраст",
          "Возраст",
          "Возраст",
          "Возраст",
          "Возраст",
          "Возраст",
          "Возраст",
          "Возраст",
          "Возраст",
          "Возраст",
          "Возраст",
          "Возраст",
          "Возраст",
          "Возраст",
          "Возраст",
          "Возраст",
          "Возраст",
          "Возраст",
          "Возраст",
          "Возраст",
          "Возраст",
          "Возраст",
          "Возраст",
          "Возраст",
          "Возраст",
          "Возраст",
          "Возраст",
          "Возраст",
          "Возраст",
          "Возраст",
          "Возраст",
          "Возраст",
          "Возраст",
          "Возраст",
          "Возраст",
          "Возраст",
          "Возраст",
          "Возраст",
          "Возраст",
          "Возраст",
          "Возраст",
          "Возраст",
          "Возраст",
          "Возраст",
          "Возраст",
          "Возраст",
          "Возраст",
          "Возраст",
          "Возраст",
          "Возраст",
          "Возраст",
          "Возраст",
          "Возраст",
          "Возраст",
          "Возраст",
          "Возраст",
          "Возраст",
          "Возраст",
          "Возраст",
          "Возраст",
          "Возраст",
          "Возраст",
          "Возраст",
          "Возраст",
          "Возраст",
          "Возраст",
          "Возраст",
          "Возраст",
          "Возраст",
          "Возраст",
          "Возраст",
          "Возраст",
          "Возраст",
          "Возраст",
          "Возраст",
          "Возраст",
          "Возраст",
          "Возраст",
          "Возраст",
          "Возраст",
          "Возраст",
          "Возраст",
          "Возраст",
          "Возраст",
          "Возраст",
          "Возраст",
          "Возраст",
          "Возраст",
          "Возраст",
          "Возраст",
          "Возраст",
          "Возраст",
          "Возраст",
          "Возраст",
          "Возраст",
          "Возраст",
          "Возраст",
          "Возраст",
          "Возраст",
          "Возраст",
          "Возраст",
          "Возраст",
          "Возраст",
          "Возраст",
          "Возраст",
          "Возраст",
          "Возраст",
          "Возраст",
          "Возраст",
          "Возраст",
          "Возраст",
          "Возраст",
          "Возраст",
          "Возраст",
          "Возраст",
          "Возраст",
          "Возраст",
          "Возраст",
          "Возраст",
          "Возраст",
          "Возраст",
          "Возраст",
          "Возраст",
          "Возраст",
          "Возраст",
          "Возраст",
          "Возраст",
          "Возраст",
          "Возраст",
          "Возраст",
          "Возраст",
          "Возраст",
          "Возраст",
          "Возраст",
          "Возраст",
          "Возраст",
          "Возраст",
          "Возраст",
          "Возраст",
          "Возраст",
          "Возраст",
          "Возраст",
          "Возраст",
          "Возраст",
          "Возраст",
          "Возраст",
          "Возраст",
          "Возраст",
          "Возраст",
          "Возраст",
          "Возраст",
          "Возраст",
          "Возраст",
          "Возраст",
          "Возраст",
          "Возраст",
          "Возраст",
          "Возраст",
          "Возраст",
          "Возраст",
          "Возраст",
          "Возраст",
          "Возраст",
          "Возраст",
          "Возраст",
          "Возраст",
          "Возраст",
          "Возраст",
          "Возраст",
          "Возраст",
          "Возраст",
          "Возраст",
          "Возраст",
          "Возраст",
          "Возраст",
          "Возраст",
          "Возраст",
          "Возраст",
          "Возраст",
          "Возраст",
          "Возраст",
          "Возраст",
          "Возраст",
          "Возраст",
          "Возраст",
          "Возраст",
          "Возраст",
          "Возраст",
          "Возраст",
          "Возраст",
          "Возраст",
          "Возраст",
          "Возраст",
          "Возраст",
          "Возраст",
          "Возраст",
          "Возраст",
          "Возраст",
          "Возраст",
          "Возраст",
          "Возраст",
          "Возраст",
          "Возраст",
          "Возраст",
          "Возраст",
          "Возраст",
          "Возраст",
          "Возраст",
          "Возраст",
          "Возраст",
          "Возраст",
          "Возраст",
          "Возраст",
          "Возраст",
          "Возраст",
          "Возраст",
          "Возраст",
          "Возраст",
          "Возраст",
          "Возраст",
          "Возраст",
          "Возраст",
          "Возраст",
          "Возраст",
          "Возраст",
          "Возраст",
          "Возраст",
          "Возраст",
          "Возраст",
          "Возраст",
          "Возраст",
          "Возраст",
          "Возраст",
          "Возраст",
          "Возраст",
          "Возраст",
          "Возраст",
          "Возраст",
          "Возраст",
          "Возраст",
          "Возраст",
          "Возраст",
          "Возраст",
          "Возраст",
          "Возраст",
          "Возраст",
          "Возраст",
          "Возраст",
          "Возраст",
          "Возраст",
          "Возраст",
          "Возраст",
          "Возраст",
          "Возраст",
          "Возраст",
          "Возраст",
          "Возраст",
          "Возраст",
          "Возраст",
          "Возраст",
          "Возраст",
          "Возраст",
          "Возраст",
          "Возраст",
          "Возраст",
          "Возраст",
          "Возраст",
          "Возраст",
          "Возраст",
          "Возраст",
          "Возраст",
          "Возраст",
          "Возраст",
          "Возраст",
          "Возраст",
          "Возраст",
          "Возраст",
          "Возраст",
          "Возраст",
          "Возраст",
          "Возраст",
          "Возраст",
          "Возраст",
          "Возраст",
          "Возраст",
          "Возраст",
          "Возраст",
          "Возраст",
          "Возраст",
          "Возраст",
          "Возраст",
          "Возраст",
          "Возраст",
          "Возраст",
          "Возраст",
          "Возраст",
          "Возраст",
          "Возраст",
          "Возраст",
          "Возраст",
          "Возраст",
          "Возраст",
          "Возраст",
          "Возраст",
          "Возраст",
          "Возраст",
          "Возраст",
          "Возраст",
          "Возраст",
          "Возраст",
          "Возраст",
          "Возраст",
          "Возраст",
          "Возраст",
          "Возраст",
          "Возраст",
          "Возраст",
          "Возраст",
          "Возраст",
          "Возраст",
          "Возраст",
          "Возраст",
          "Возраст",
          "Возраст",
          "Возраст",
          "Возраст",
          "Возраст",
          "Возраст",
          "Возраст",
          "Возраст",
          "Возраст",
          "Возраст",
          "Возраст",
          "Возраст",
          "Возраст",
          "Возраст",
          "Возраст",
          "Возраст",
          "Возраст",
          "Возраст",
          "Возраст",
          "Возраст",
          "Возраст",
          "Возраст",
          "Возраст",
          "Возраст",
          "Возраст",
          "Возраст",
          "Возраст",
          "Возраст",
          "Возраст",
          "Возраст",
          "Возраст",
          "Возраст",
          "Возраст",
          "Возраст",
          "Возраст",
          "Возраст",
          "Возраст",
          "Возраст",
          "Возраст",
          "Возраст",
          "Возраст",
          "Возраст",
          "Возраст",
          "Возраст",
          "Возраст",
          "Возраст",
          "Возраст",
          "Возраст",
          "Возраст",
          "Возраст",
          "Возраст",
          "Возраст",
          "Возраст",
          "Возраст",
          "Возраст",
          "Возраст",
          "Возраст",
          "Возраст",
          "Возраст",
          "Возраст",
          "Возраст",
          "Возраст",
          "Возраст",
          "Возраст",
          "Возраст",
          "Возраст",
          "Возраст",
          "Возраст",
          "Возраст",
          "Возраст",
          "Возраст",
          "Возраст",
          "Возраст",
          "Возраст",
          "Возраст",
          "Возраст",
          "Возраст",
          "Возраст",
          "Возраст",
          "Возраст",
          "Возраст",
          "Возраст",
          "Возраст",
          "Возраст",
          "Возраст",
          "Возраст",
          "Возраст",
          "Возраст",
          "Возраст",
          "Возраст",
          "Возраст",
          "Возраст",
          "Возраст",
          "Возраст",
          "Возраст",
          "Возраст",
          "Возраст",
          "Возраст",
          "Возраст",
          "Возраст",
          "Возраст",
          "Возраст",
          "Возраст",
          "Возраст",
          "Возраст",
          "Возраст",
          "Возраст",
          "Возраст",
          "Возраст",
          "Возраст",
          "Возраст",
          "Возраст",
          "Возраст",
          "Возраст",
          "Возраст",
          "Возраст",
          "Возраст",
          "Возраст",
          "Возраст",
          "Возраст",
          "Возраст",
          "Возраст",
          "Возраст",
          "Возраст",
          "Возраст",
          "Возраст",
          "Возраст",
          "Возраст",
          "Возраст",
          "Возраст",
          "Возраст",
          "Возраст",
          "Возраст",
          "Возраст",
          "Возраст",
          "Возраст",
          "Возраст",
          "Возраст",
          "Возраст",
          "Возраст",
          "Возраст",
          "Возраст",
          "Возраст",
          "Возраст",
          "Возраст",
          "Возраст",
          "Возраст",
          "Возраст",
          "Возраст",
          "Возраст",
          "Возраст",
          "Возраст",
          "Возраст",
          "Возраст",
          "Возраст",
          "Возраст",
          "Возраст",
          "Возраст",
          "Возраст",
          "Возраст",
          "Возраст",
          "Возраст",
          "Возраст",
          "Возраст",
          "Возраст",
          "Возраст",
          "Возраст",
          "Возраст",
          "Возраст",
          "Возраст",
          "Возраст",
          "Возраст",
          "Возраст",
          "Возраст",
          "Возраст",
          "Возраст",
          "Возраст",
          "Возраст",
          "Возраст",
          "Возраст",
          "Возраст",
          "Возраст",
          "Возраст",
          "Возраст",
          "Возраст",
          "Возраст",
          "Возраст",
          "Возраст",
          "Возраст",
          "Возраст",
          "Возраст",
          "Возраст",
          "Возраст",
          "Возраст",
          "Возраст",
          "Возраст",
          "Возраст",
          "Возраст",
          "Возраст",
          "Возраст",
          "Возраст",
          "Возраст",
          "Возраст",
          "Возраст",
          "Возраст",
          "Возраст",
          "Возраст",
          "Возраст",
          "Возраст",
          "Возраст",
          "Возраст",
          "Возраст",
          "Возраст",
          "Возраст",
          "Возраст",
          "Возраст",
          "Возраст",
          "Возраст",
          "Возраст",
          "Возраст",
          "Возраст",
          "Возраст",
          "Возраст",
          "Возраст",
          "Возраст",
          "Возраст",
          "Возраст",
          "Возраст",
          "Возраст",
          "Возраст",
          "Возраст",
          "Возраст",
          "Возраст",
          "Возраст",
          "Возраст",
          "Возраст",
          "Возраст",
          "Возраст",
          "Возраст",
          "Возраст",
          "Возраст",
          "Возраст",
          "Возраст",
          "Возраст",
          "Возраст",
          "Возраст",
          "Возраст",
          "Возраст",
          "Возраст",
          "Возраст",
          "Возраст",
          "Возраст",
          "Возраст",
          "Возраст",
          "Возраст",
          "Возраст",
          "Возраст",
          "Возраст",
          "Возраст",
          "Возраст",
          "Возраст",
          "Возраст",
          "Возраст",
          "Возраст",
          "Возраст",
          "Возраст",
          "Возраст",
          "Возраст",
          "Возраст",
          "Возраст",
          "Возраст",
          "Возраст",
          "Возраст",
          "Возраст",
          "Возраст",
          "Возраст",
          "Возраст",
          "Возраст",
          "Возраст",
          "Возраст",
          "Возраст",
          "Возраст",
          "Возраст",
          "Возраст",
          "Возраст",
          "Возраст",
          "Возраст",
          "Возраст",
          "Возраст",
          "Возраст",
          "Возраст",
          "Возраст",
          "Возраст",
          "Возраст",
          "Возраст",
          "Возраст",
          "Возраст",
          "Возраст",
          "Возраст",
          "Возраст",
          "Возраст",
          "Возраст",
          "Возраст",
          "Возраст",
          "Возраст",
          "Возраст",
          "Возраст",
          "Возраст",
          "Возраст",
          "Возраст",
          "Возраст",
          "Возраст",
          "Возраст",
          "Возраст",
          "Возраст",
          "Возраст",
          "Возраст",
          "Возраст",
          "Возраст",
          "Возраст",
          "Возраст",
          "Возраст",
          "Возраст",
          "Возраст",
          "Возраст",
          "Возраст",
          "Возраст",
          "Возраст",
          "Возраст",
          "Возраст",
          "Возраст",
          "Возраст",
          "Возраст",
          "Возраст",
          "Возраст",
          "Возраст",
          "Возраст",
          "Возраст",
          "Возраст",
          "Возраст",
          "Возраст",
          "Возраст",
          "Возраст",
          "Возраст",
          "Возраст",
          "Возраст",
          "Возраст",
          "Возраст",
          "Возраст",
          "Возраст",
          "Возраст",
          "Возраст",
          "Возраст",
          "Возраст",
          "Возраст",
          "Возраст",
          "Возраст",
          "Возраст",
          "Возраст",
          "Возраст",
          "Возраст",
          "Возраст",
          "Возраст",
          "Возраст",
          "Возраст",
          "Возраст",
          "Возраст",
          "Возраст",
          "Возраст",
          "Возраст",
          "Возраст",
          "Возраст",
          "Возраст",
          "Возраст",
          "Возраст",
          "Возраст",
          "Возраст",
          "Возраст",
          "Возраст",
          "Возраст",
          "Возраст",
          "Возраст",
          "Возраст",
          "Возраст",
          "Возраст",
          "Возраст",
          "Возраст",
          "Возраст",
          "Возраст",
          "Возраст",
          "Возраст",
          "Возраст",
          "Возраст",
          "Возраст",
          "Возраст",
          "Возраст",
          "Возраст",
          "Возраст",
          "Возраст",
          "Возраст",
          "Возраст",
          "Возраст",
          "Возраст",
          "Возраст",
          "Возраст",
          "Возраст",
          "Возраст",
          "Возраст",
          "Возраст",
          "Возраст",
          "Возраст",
          "Возраст",
          "Возраст",
          "Возраст",
          "Возраст",
          "Возраст",
          "Возраст",
          "Возраст",
          "Возраст",
          "Возраст",
          "Возраст",
          "Возраст",
          "Возраст",
          "Возраст",
          "Возраст",
          "Возраст",
          "Возраст",
          "Возраст",
          "Возраст",
          "Возраст",
          "Возраст",
          "Возраст",
          "Возраст",
          "Возраст",
          "Возраст",
          "Возраст",
          "Возраст",
          "Возраст",
          "Возраст",
          "Возраст",
          "Возраст",
          "Возраст",
          "Возраст",
          "Возраст",
          "Возраст",
          "Возраст",
          "Возраст",
          "Возраст",
          "Возраст",
          "Возраст",
          "Возраст",
          "Возраст",
          "Возраст",
          "Возраст",
          "Возраст",
          "Возраст",
          "Возраст",
          "Возраст",
          "Возраст",
          "Возраст",
          "Возраст",
          "Возраст",
          "Возраст",
          "Возраст",
          "Возраст",
          "Возраст",
          "Возраст",
          "Возраст",
          "Возраст",
          "Возраст",
          "Возраст",
          "Возраст",
          "Возраст",
          "Возраст",
          "Возраст",
          "Возраст",
          "Возраст",
          "Возраст",
          "Возраст",
          "Возраст",
          "Возраст",
          "Возраст",
          "Возраст",
          "Возраст",
          "Возраст",
          "Возраст",
          "Возраст",
          "Возраст",
          "Возраст",
          "Возраст",
          "Возраст",
          "Возраст",
          "Возраст",
          "Возраст",
          "Возраст",
          "Возраст",
          "Возраст",
          "Возраст",
          "Возраст",
          "Возраст",
          "Возраст",
          "Возраст",
          "Возраст",
          "Возраст",
          "Возраст",
          "Возраст",
          "Возраст",
          "Возраст",
          "Возраст",
          "Возраст",
          "Возраст",
          "Возраст",
          "Возраст",
          "Возраст",
          "Возраст",
          "Возраст",
          "Возраст",
          "Возраст",
          "Возраст",
          "Возраст",
          "Возраст",
          "Возраст",
          "Возраст",
          "Возраст",
          "Возраст",
          "Возраст",
          "Возраст",
          "Возраст",
          "Возраст",
          "Возраст",
          "Возраст",
          "Возраст",
          "Возраст",
          "Возраст",
          "Возраст",
          "Возраст",
          "Возраст",
          "Возраст",
          "Возраст",
          "Возраст",
          "Возраст",
          "Возраст",
          "Возраст",
          "Возраст",
          "Возраст",
          "Возраст",
          "Возраст",
          "Возраст",
          "Возраст",
          "Возраст",
          "Возраст",
          "Возраст",
          "Возраст",
          "Возраст",
          "Возраст",
          "Возраст",
          "Возраст",
          "Возраст",
          "Возраст",
          "Возраст",
          "Возраст",
          "Возраст",
          "Возраст",
          "Возраст",
          "Возраст",
          "Возраст",
          "Возраст",
          "Возраст",
          "Возраст",
          "Возраст",
          "Возраст",
          "Возраст",
          "Возраст",
          "Возраст",
          "Возраст",
          "Возраст",
          "Возраст",
          "Возраст",
          "Возраст",
          "Возраст",
          "Возраст",
          "Возраст",
          "Возраст",
          "Возраст",
          "Возраст",
          "Возраст",
          "Возраст",
          "Возраст",
          "Возраст",
          "Возраст",
          "Возраст",
          "Возраст",
          "Возраст",
          "Возраст",
          "Возраст",
          "Возраст",
          "Возраст",
          "Возраст",
          "Возраст",
          "Возраст",
          "Возраст",
          "Возраст",
          "Возраст",
          "Возраст",
          "Возраст",
          "Возраст",
          "Возраст",
          "Возраст",
          "Возраст",
          "Возраст",
          "Возраст",
          "Возраст",
          "Возраст",
          "Возраст",
          "Возраст",
          "Возраст",
          "Возраст",
          "Возраст",
          "Возраст",
          "Возраст",
          "Возраст",
          "Возраст",
          "Возраст",
          "Возраст",
          "Возраст",
          "Возраст",
          "Возраст",
          "Возраст",
          "Возраст",
          "Возраст",
          "Возраст",
          "Возраст",
          "Возраст",
          "Возраст",
          "Возраст",
          "Возраст",
          "Возраст",
          "Возраст",
          "Возраст",
          "Возраст",
          "Возраст",
          "Возраст",
          "Возраст",
          "Возраст",
          "Возраст",
          "Возраст",
          "Возраст",
          "Возраст",
          "Возраст",
          "Возраст",
          "Возраст",
          "Возраст",
          "Возраст",
          "Возраст",
          "Возраст",
          "Возраст",
          "Возраст",
          "Возраст",
          "Возраст",
          "Возраст",
          "Возраст",
          "Возраст",
          "Возраст",
          "Возраст",
          "Возраст",
          "Возраст",
          "Возраст",
          "Возраст",
          "Возраст",
          "Возраст",
          "Возраст",
          "Возраст",
          "Возраст",
          "Возраст",
          "Возраст",
          "Возраст",
          "Возраст",
          "Возраст",
          "Возраст",
          "Возраст",
          "Возраст",
          "Возраст",
          "Возраст",
          "Возраст",
          "Возраст",
          "Возраст",
          "Возраст",
          "Возраст",
          "Возраст",
          "Возраст",
          "Возраст",
          "Возраст",
          "Возраст",
          "Возраст",
          "Возраст",
          "Возраст",
          "Возраст",
          "Возраст",
          "Возраст",
          "Возраст",
          "Возраст",
          "Возраст",
          "Возраст",
          "Возраст",
          "Возраст",
          "Возраст"
         ],
         "yaxis": "y2"
        }
       ],
       "layout": {
        "barmode": "overlay",
        "hovermode": "closest",
        "legend": {
         "traceorder": "reversed"
        },
        "template": {
         "data": {
          "bar": [
           {
            "error_x": {
             "color": "#2a3f5f"
            },
            "error_y": {
             "color": "#2a3f5f"
            },
            "marker": {
             "line": {
              "color": "#E5ECF6",
              "width": 0.5
             }
            },
            "type": "bar"
           }
          ],
          "barpolar": [
           {
            "marker": {
             "line": {
              "color": "#E5ECF6",
              "width": 0.5
             }
            },
            "type": "barpolar"
           }
          ],
          "carpet": [
           {
            "aaxis": {
             "endlinecolor": "#2a3f5f",
             "gridcolor": "white",
             "linecolor": "white",
             "minorgridcolor": "white",
             "startlinecolor": "#2a3f5f"
            },
            "baxis": {
             "endlinecolor": "#2a3f5f",
             "gridcolor": "white",
             "linecolor": "white",
             "minorgridcolor": "white",
             "startlinecolor": "#2a3f5f"
            },
            "type": "carpet"
           }
          ],
          "choropleth": [
           {
            "colorbar": {
             "outlinewidth": 0,
             "ticks": ""
            },
            "type": "choropleth"
           }
          ],
          "contour": [
           {
            "colorbar": {
             "outlinewidth": 0,
             "ticks": ""
            },
            "colorscale": [
             [
              0,
              "#0d0887"
             ],
             [
              0.1111111111111111,
              "#46039f"
             ],
             [
              0.2222222222222222,
              "#7201a8"
             ],
             [
              0.3333333333333333,
              "#9c179e"
             ],
             [
              0.4444444444444444,
              "#bd3786"
             ],
             [
              0.5555555555555556,
              "#d8576b"
             ],
             [
              0.6666666666666666,
              "#ed7953"
             ],
             [
              0.7777777777777778,
              "#fb9f3a"
             ],
             [
              0.8888888888888888,
              "#fdca26"
             ],
             [
              1,
              "#f0f921"
             ]
            ],
            "type": "contour"
           }
          ],
          "contourcarpet": [
           {
            "colorbar": {
             "outlinewidth": 0,
             "ticks": ""
            },
            "type": "contourcarpet"
           }
          ],
          "heatmap": [
           {
            "colorbar": {
             "outlinewidth": 0,
             "ticks": ""
            },
            "colorscale": [
             [
              0,
              "#0d0887"
             ],
             [
              0.1111111111111111,
              "#46039f"
             ],
             [
              0.2222222222222222,
              "#7201a8"
             ],
             [
              0.3333333333333333,
              "#9c179e"
             ],
             [
              0.4444444444444444,
              "#bd3786"
             ],
             [
              0.5555555555555556,
              "#d8576b"
             ],
             [
              0.6666666666666666,
              "#ed7953"
             ],
             [
              0.7777777777777778,
              "#fb9f3a"
             ],
             [
              0.8888888888888888,
              "#fdca26"
             ],
             [
              1,
              "#f0f921"
             ]
            ],
            "type": "heatmap"
           }
          ],
          "heatmapgl": [
           {
            "colorbar": {
             "outlinewidth": 0,
             "ticks": ""
            },
            "colorscale": [
             [
              0,
              "#0d0887"
             ],
             [
              0.1111111111111111,
              "#46039f"
             ],
             [
              0.2222222222222222,
              "#7201a8"
             ],
             [
              0.3333333333333333,
              "#9c179e"
             ],
             [
              0.4444444444444444,
              "#bd3786"
             ],
             [
              0.5555555555555556,
              "#d8576b"
             ],
             [
              0.6666666666666666,
              "#ed7953"
             ],
             [
              0.7777777777777778,
              "#fb9f3a"
             ],
             [
              0.8888888888888888,
              "#fdca26"
             ],
             [
              1,
              "#f0f921"
             ]
            ],
            "type": "heatmapgl"
           }
          ],
          "histogram": [
           {
            "marker": {
             "colorbar": {
              "outlinewidth": 0,
              "ticks": ""
             }
            },
            "type": "histogram"
           }
          ],
          "histogram2d": [
           {
            "colorbar": {
             "outlinewidth": 0,
             "ticks": ""
            },
            "colorscale": [
             [
              0,
              "#0d0887"
             ],
             [
              0.1111111111111111,
              "#46039f"
             ],
             [
              0.2222222222222222,
              "#7201a8"
             ],
             [
              0.3333333333333333,
              "#9c179e"
             ],
             [
              0.4444444444444444,
              "#bd3786"
             ],
             [
              0.5555555555555556,
              "#d8576b"
             ],
             [
              0.6666666666666666,
              "#ed7953"
             ],
             [
              0.7777777777777778,
              "#fb9f3a"
             ],
             [
              0.8888888888888888,
              "#fdca26"
             ],
             [
              1,
              "#f0f921"
             ]
            ],
            "type": "histogram2d"
           }
          ],
          "histogram2dcontour": [
           {
            "colorbar": {
             "outlinewidth": 0,
             "ticks": ""
            },
            "colorscale": [
             [
              0,
              "#0d0887"
             ],
             [
              0.1111111111111111,
              "#46039f"
             ],
             [
              0.2222222222222222,
              "#7201a8"
             ],
             [
              0.3333333333333333,
              "#9c179e"
             ],
             [
              0.4444444444444444,
              "#bd3786"
             ],
             [
              0.5555555555555556,
              "#d8576b"
             ],
             [
              0.6666666666666666,
              "#ed7953"
             ],
             [
              0.7777777777777778,
              "#fb9f3a"
             ],
             [
              0.8888888888888888,
              "#fdca26"
             ],
             [
              1,
              "#f0f921"
             ]
            ],
            "type": "histogram2dcontour"
           }
          ],
          "mesh3d": [
           {
            "colorbar": {
             "outlinewidth": 0,
             "ticks": ""
            },
            "type": "mesh3d"
           }
          ],
          "parcoords": [
           {
            "line": {
             "colorbar": {
              "outlinewidth": 0,
              "ticks": ""
             }
            },
            "type": "parcoords"
           }
          ],
          "pie": [
           {
            "automargin": true,
            "type": "pie"
           }
          ],
          "scatter": [
           {
            "marker": {
             "colorbar": {
              "outlinewidth": 0,
              "ticks": ""
             }
            },
            "type": "scatter"
           }
          ],
          "scatter3d": [
           {
            "line": {
             "colorbar": {
              "outlinewidth": 0,
              "ticks": ""
             }
            },
            "marker": {
             "colorbar": {
              "outlinewidth": 0,
              "ticks": ""
             }
            },
            "type": "scatter3d"
           }
          ],
          "scattercarpet": [
           {
            "marker": {
             "colorbar": {
              "outlinewidth": 0,
              "ticks": ""
             }
            },
            "type": "scattercarpet"
           }
          ],
          "scattergeo": [
           {
            "marker": {
             "colorbar": {
              "outlinewidth": 0,
              "ticks": ""
             }
            },
            "type": "scattergeo"
           }
          ],
          "scattergl": [
           {
            "marker": {
             "colorbar": {
              "outlinewidth": 0,
              "ticks": ""
             }
            },
            "type": "scattergl"
           }
          ],
          "scattermapbox": [
           {
            "marker": {
             "colorbar": {
              "outlinewidth": 0,
              "ticks": ""
             }
            },
            "type": "scattermapbox"
           }
          ],
          "scatterpolar": [
           {
            "marker": {
             "colorbar": {
              "outlinewidth": 0,
              "ticks": ""
             }
            },
            "type": "scatterpolar"
           }
          ],
          "scatterpolargl": [
           {
            "marker": {
             "colorbar": {
              "outlinewidth": 0,
              "ticks": ""
             }
            },
            "type": "scatterpolargl"
           }
          ],
          "scatterternary": [
           {
            "marker": {
             "colorbar": {
              "outlinewidth": 0,
              "ticks": ""
             }
            },
            "type": "scatterternary"
           }
          ],
          "surface": [
           {
            "colorbar": {
             "outlinewidth": 0,
             "ticks": ""
            },
            "colorscale": [
             [
              0,
              "#0d0887"
             ],
             [
              0.1111111111111111,
              "#46039f"
             ],
             [
              0.2222222222222222,
              "#7201a8"
             ],
             [
              0.3333333333333333,
              "#9c179e"
             ],
             [
              0.4444444444444444,
              "#bd3786"
             ],
             [
              0.5555555555555556,
              "#d8576b"
             ],
             [
              0.6666666666666666,
              "#ed7953"
             ],
             [
              0.7777777777777778,
              "#fb9f3a"
             ],
             [
              0.8888888888888888,
              "#fdca26"
             ],
             [
              1,
              "#f0f921"
             ]
            ],
            "type": "surface"
           }
          ],
          "table": [
           {
            "cells": {
             "fill": {
              "color": "#EBF0F8"
             },
             "line": {
              "color": "white"
             }
            },
            "header": {
             "fill": {
              "color": "#C8D4E3"
             },
             "line": {
              "color": "white"
             }
            },
            "type": "table"
           }
          ]
         },
         "layout": {
          "annotationdefaults": {
           "arrowcolor": "#2a3f5f",
           "arrowhead": 0,
           "arrowwidth": 1
          },
          "coloraxis": {
           "colorbar": {
            "outlinewidth": 0,
            "ticks": ""
           }
          },
          "colorscale": {
           "diverging": [
            [
             0,
             "#8e0152"
            ],
            [
             0.1,
             "#c51b7d"
            ],
            [
             0.2,
             "#de77ae"
            ],
            [
             0.3,
             "#f1b6da"
            ],
            [
             0.4,
             "#fde0ef"
            ],
            [
             0.5,
             "#f7f7f7"
            ],
            [
             0.6,
             "#e6f5d0"
            ],
            [
             0.7,
             "#b8e186"
            ],
            [
             0.8,
             "#7fbc41"
            ],
            [
             0.9,
             "#4d9221"
            ],
            [
             1,
             "#276419"
            ]
           ],
           "sequential": [
            [
             0,
             "#0d0887"
            ],
            [
             0.1111111111111111,
             "#46039f"
            ],
            [
             0.2222222222222222,
             "#7201a8"
            ],
            [
             0.3333333333333333,
             "#9c179e"
            ],
            [
             0.4444444444444444,
             "#bd3786"
            ],
            [
             0.5555555555555556,
             "#d8576b"
            ],
            [
             0.6666666666666666,
             "#ed7953"
            ],
            [
             0.7777777777777778,
             "#fb9f3a"
            ],
            [
             0.8888888888888888,
             "#fdca26"
            ],
            [
             1,
             "#f0f921"
            ]
           ],
           "sequentialminus": [
            [
             0,
             "#0d0887"
            ],
            [
             0.1111111111111111,
             "#46039f"
            ],
            [
             0.2222222222222222,
             "#7201a8"
            ],
            [
             0.3333333333333333,
             "#9c179e"
            ],
            [
             0.4444444444444444,
             "#bd3786"
            ],
            [
             0.5555555555555556,
             "#d8576b"
            ],
            [
             0.6666666666666666,
             "#ed7953"
            ],
            [
             0.7777777777777778,
             "#fb9f3a"
            ],
            [
             0.8888888888888888,
             "#fdca26"
            ],
            [
             1,
             "#f0f921"
            ]
           ]
          },
          "colorway": [
           "#636efa",
           "#EF553B",
           "#00cc96",
           "#ab63fa",
           "#FFA15A",
           "#19d3f3",
           "#FF6692",
           "#B6E880",
           "#FF97FF",
           "#FECB52"
          ],
          "font": {
           "color": "#2a3f5f"
          },
          "geo": {
           "bgcolor": "white",
           "lakecolor": "white",
           "landcolor": "#E5ECF6",
           "showlakes": true,
           "showland": true,
           "subunitcolor": "white"
          },
          "hoverlabel": {
           "align": "left"
          },
          "hovermode": "closest",
          "mapbox": {
           "style": "light"
          },
          "paper_bgcolor": "white",
          "plot_bgcolor": "#E5ECF6",
          "polar": {
           "angularaxis": {
            "gridcolor": "white",
            "linecolor": "white",
            "ticks": ""
           },
           "bgcolor": "#E5ECF6",
           "radialaxis": {
            "gridcolor": "white",
            "linecolor": "white",
            "ticks": ""
           }
          },
          "scene": {
           "xaxis": {
            "backgroundcolor": "#E5ECF6",
            "gridcolor": "white",
            "gridwidth": 2,
            "linecolor": "white",
            "showbackground": true,
            "ticks": "",
            "zerolinecolor": "white"
           },
           "yaxis": {
            "backgroundcolor": "#E5ECF6",
            "gridcolor": "white",
            "gridwidth": 2,
            "linecolor": "white",
            "showbackground": true,
            "ticks": "",
            "zerolinecolor": "white"
           },
           "zaxis": {
            "backgroundcolor": "#E5ECF6",
            "gridcolor": "white",
            "gridwidth": 2,
            "linecolor": "white",
            "showbackground": true,
            "ticks": "",
            "zerolinecolor": "white"
           }
          },
          "shapedefaults": {
           "line": {
            "color": "#2a3f5f"
           }
          },
          "ternary": {
           "aaxis": {
            "gridcolor": "white",
            "linecolor": "white",
            "ticks": ""
           },
           "baxis": {
            "gridcolor": "white",
            "linecolor": "white",
            "ticks": ""
           },
           "bgcolor": "#E5ECF6",
           "caxis": {
            "gridcolor": "white",
            "linecolor": "white",
            "ticks": ""
           }
          },
          "title": {
           "x": 0.05
          },
          "xaxis": {
           "automargin": true,
           "gridcolor": "white",
           "linecolor": "white",
           "ticks": "",
           "title": {
            "standoff": 15
           },
           "zerolinecolor": "white",
           "zerolinewidth": 2
          },
          "yaxis": {
           "automargin": true,
           "gridcolor": "white",
           "linecolor": "white",
           "ticks": "",
           "title": {
            "standoff": 15
           },
           "zerolinecolor": "white",
           "zerolinewidth": 2
          }
         }
        },
        "title": {
         "text": "Распределение возраста"
        },
        "xaxis": {
         "anchor": "y2",
         "domain": [
          0,
          1
         ],
         "zeroline": false
        },
        "yaxis": {
         "anchor": "free",
         "domain": [
          0.35,
          1
         ],
         "position": 0
        },
        "yaxis2": {
         "anchor": "x",
         "domain": [
          0,
          0.25
         ],
         "dtick": 1,
         "showticklabels": false
        }
       }
      }
     },
     "metadata": {}
    }
   ],
   "source": [
    "# sns.distplot(data['Age'])\n",
    "import plotly.figure_factory as ff\n",
    "fig = ff.create_distplot([data['Age'].values],['Возраст'])\n",
    "fig.update_layout(title='Распределение возраста')\n",
    "fig.show()"
   ]
  },
  {
   "source": [
    "По графику видно, что у нас в данных есть клиенты, чей возраст превышает 100 лет, вероятнее всего они уже клиенты небесных магазинов, удалим пользователей чей возраст больше 80."
   ],
   "cell_type": "markdown",
   "metadata": {}
  },
  {
   "cell_type": "code",
   "execution_count": 23,
   "metadata": {},
   "outputs": [],
   "source": [
    "data.drop(data.loc[data['Age']>80,:].index, inplace=True)"
   ]
  },
  {
   "source": [
    "Следующее, что я хочу посмотреть, количество дней нахождения в клиентской программе."
   ],
   "cell_type": "markdown",
   "metadata": {}
  },
  {
   "cell_type": "code",
   "execution_count": 24,
   "metadata": {},
   "outputs": [],
   "source": [
    "import plotly\n",
    "import plotly.graph_objs as go\n",
    "import plotly.express as px"
   ]
  },
  {
   "cell_type": "code",
   "execution_count": 25,
   "metadata": {},
   "outputs": [
    {
     "output_type": "display_data",
     "data": {
      "application/vnd.plotly.v1+json": {
       "config": {
        "plotlyServerURL": "https://plot.ly"
       },
       "data": [
        {
         "name": "Дни",
         "type": "box",
         "y": [
          3228,
          2678,
          2877,
          2704,
          2726,
          2858,
          3158,
          2982,
          2953,
          2673,
          2791,
          3158,
          2791,
          2791,
          3192,
          3147,
          3117,
          3232,
          3023,
          3168,
          3255,
          3104,
          3118,
          2734,
          3033,
          3108,
          2963,
          3059,
          2959,
          2784,
          2603,
          2979,
          3192,
          3173,
          3059,
          2869,
          2745,
          2865,
          2703,
          3078,
          2991,
          3039,
          3117,
          2801,
          2835,
          2566,
          3162,
          2966,
          2744,
          3163,
          2613,
          3252,
          3108,
          2587,
          2947,
          3152,
          3018,
          2627,
          2942,
          2683,
          2925,
          3225,
          3061,
          2948,
          2770,
          2969,
          2614,
          2667,
          2840,
          3012,
          3221,
          3218,
          3034,
          3015,
          2625,
          3122,
          3236,
          3190,
          2863,
          3108,
          3234,
          2936,
          2926,
          2979,
          2689,
          2887,
          2913,
          2597,
          2613,
          2724,
          3152,
          2598,
          2783,
          2663,
          2601,
          2603,
          3149,
          3009,
          2775,
          2939,
          2906,
          2656,
          3000,
          2973,
          2617,
          2766,
          2843,
          3077,
          3122,
          3134,
          2804,
          3161,
          2569,
          3108,
          3129,
          2857,
          2721,
          3060,
          2918,
          2792,
          2939,
          2690,
          2863,
          2998,
          3039,
          3061,
          2999,
          2586,
          2918,
          2615,
          2837,
          3041,
          2704,
          2887,
          2884,
          3034,
          3255,
          2922,
          2606,
          2901,
          3183,
          2792,
          3001,
          2870,
          3032,
          3184,
          3174,
          2870,
          3241,
          2573,
          2631,
          2679,
          3127,
          2613,
          3193,
          3060,
          2921,
          2855,
          2820,
          2878,
          2928,
          3166,
          2740,
          2989,
          2685,
          2793,
          2788,
          2870,
          2804,
          2689,
          2634,
          2916,
          2634,
          2715,
          2651,
          3220,
          3125,
          2602,
          2570,
          2775,
          2614,
          2615,
          2839,
          2723,
          2579,
          3136,
          2678,
          2896,
          3032,
          3056,
          3223,
          2973,
          2960,
          3061,
          2747,
          2612,
          2848,
          3093,
          2655,
          2565,
          2767,
          2823,
          3169,
          2912,
          3161,
          2768,
          2977,
          2586,
          3222,
          3020,
          2668,
          3197,
          3089,
          2986,
          2654,
          2613,
          2791,
          2867,
          3157,
          2644,
          2792,
          2641,
          3105,
          3224,
          3025,
          3177,
          3132,
          3255,
          2698,
          3031,
          3105,
          2975,
          2639,
          3028,
          2767,
          2772,
          2833,
          2750,
          2809,
          3118,
          2898,
          2778,
          3246,
          2589,
          2970,
          3101,
          3232,
          3173,
          2851,
          2810,
          3015,
          3210,
          3234,
          3189,
          3186,
          3180,
          2955,
          2768,
          3192,
          2968,
          2577,
          3148,
          3076,
          3037,
          2568,
          3187,
          2940,
          2833,
          3210,
          2666,
          2710,
          2649,
          3073,
          2851,
          3093,
          2625,
          3018,
          2999,
          3068,
          3177,
          3232,
          2685,
          2638,
          2917,
          3081,
          3102,
          2613,
          2946,
          2925,
          2749,
          3171,
          2730,
          3039,
          3240,
          3044,
          3097,
          3098,
          2669,
          2639,
          2825,
          2685,
          2642,
          2749,
          3023,
          3214,
          2681,
          2857,
          2993,
          2727,
          2809,
          2956,
          3073,
          2759,
          2675,
          2900,
          3249,
          2913,
          2875,
          3093,
          2928,
          2705,
          3072,
          3099,
          2924,
          2927,
          2799,
          2981,
          3066,
          3004,
          2856,
          3017,
          3100,
          2929,
          3220,
          3135,
          3159,
          3048,
          3253,
          2769,
          3148,
          2946,
          2883,
          2796,
          2936,
          2578,
          3116,
          2742,
          2759,
          3100,
          2809,
          3175,
          3119,
          2777,
          2979,
          3129,
          2878,
          2829,
          3204,
          2664,
          2690,
          3148,
          3113,
          3242,
          2973,
          3035,
          3154,
          3140,
          2633,
          3174,
          2869,
          3160,
          2937,
          3245,
          3033,
          3111,
          2835,
          2945,
          3102,
          2792,
          3129,
          3241,
          2656,
          2975,
          2821,
          3197,
          3233,
          2982,
          2742,
          2767,
          2621,
          3002,
          2689,
          2831,
          3217,
          3232,
          3117,
          3162,
          3028,
          3205,
          2883,
          3040,
          2815,
          2585,
          3233,
          2595,
          2953,
          3185,
          3154,
          3162,
          3021,
          3241,
          3087,
          2655,
          2786,
          2700,
          3057,
          3046,
          2619,
          2603,
          2589,
          2955,
          3007,
          2772,
          2631,
          2650,
          2621,
          2995,
          2981,
          3173,
          3087,
          2781,
          2712,
          2938,
          2755,
          2860,
          2876,
          3072,
          2925,
          2756,
          2892,
          3111,
          2669,
          2916,
          2828,
          2747,
          2950,
          2754,
          2988,
          3063,
          2820,
          2775,
          3225,
          3243,
          3217,
          3019,
          2600,
          3207,
          2744,
          2845,
          2717,
          2568,
          2690,
          2683,
          2997,
          3171,
          2680,
          3248,
          3024,
          2827,
          3259,
          3108,
          2607,
          3061,
          2616,
          2602,
          3179,
          3171,
          2746,
          2887,
          3244,
          2807,
          3192,
          3218,
          2792,
          2933,
          2719,
          3174,
          3208,
          3138,
          3057,
          3098,
          2779,
          3007,
          2650,
          2999,
          2603,
          3017,
          3257,
          2791,
          3112,
          3239,
          2938,
          3164,
          2774,
          2910,
          2938,
          3125,
          2965,
          3023,
          2817,
          2669,
          2979,
          3006,
          3076,
          2929,
          2875,
          2685,
          2718,
          2685,
          2882,
          3202,
          3224,
          3137,
          2779,
          2586,
          3251,
          2803,
          3064,
          2849,
          2576,
          2996,
          2942,
          3009,
          2727,
          2699,
          2890,
          2753,
          2799,
          3257,
          3143,
          2891,
          2955,
          2678,
          2738,
          2773,
          2719,
          2657,
          2655,
          2647,
          2707,
          3002,
          2800,
          3220,
          3050,
          3015,
          2895,
          2968,
          2858,
          2943,
          2934,
          2730,
          2801,
          2587,
          3136,
          2860,
          2924,
          3134,
          3220,
          2718,
          2854,
          2897,
          2835,
          3079,
          2654,
          2875,
          2851,
          2920,
          3161,
          3033,
          2817,
          3005,
          2652,
          2637,
          3209,
          2853,
          2608,
          2878,
          3190,
          3129,
          2796,
          2715,
          2856,
          2848,
          3176,
          2818,
          2955,
          3246,
          3058,
          3232,
          2850,
          3132,
          3084,
          3112,
          2703,
          3040,
          3176,
          2618,
          2879,
          2911,
          3130,
          2809,
          3162,
          2903,
          2984,
          2956,
          3033,
          3246,
          2918,
          2915,
          2676,
          2748,
          2956,
          3090,
          2956,
          3211,
          3226,
          3123,
          2787,
          2581,
          2730,
          2699,
          3002,
          2676,
          2955,
          3102,
          3204,
          2800,
          3197,
          2612,
          3111,
          2983,
          3041,
          2880,
          3089,
          2763,
          2602,
          2851,
          2697,
          3236,
          3251,
          2642,
          3260,
          2707,
          2741,
          3210,
          2867,
          2816,
          3134,
          2792,
          2751,
          3225,
          3109,
          3113,
          2974,
          2842,
          2981,
          2799,
          2900,
          2798,
          3220,
          2760,
          3140,
          2603,
          3172,
          2743,
          2943,
          2753,
          2819,
          3233,
          2904,
          2813,
          2757,
          3044,
          3220,
          3259,
          2609,
          2837,
          3198,
          2873,
          2917,
          2804,
          2961,
          2903,
          2660,
          3012,
          2803,
          2646,
          2850,
          2674,
          2703,
          2626,
          2750,
          3100,
          2567,
          3010,
          2785,
          3100,
          2917,
          3181,
          3059,
          2976,
          2891,
          3134,
          3209,
          3068,
          3020,
          2657,
          3122,
          2988,
          2602,
          3066,
          3262,
          2586,
          2783,
          2720,
          2826,
          3005,
          2840,
          3256,
          2947,
          2821,
          2828,
          2626,
          3022,
          2591,
          3033,
          3254,
          3028,
          3045,
          2744,
          2897,
          2720,
          2978,
          2767,
          2677,
          2852,
          2716,
          2745,
          2834,
          2751,
          3051,
          2623,
          3070,
          3252,
          2848,
          3036,
          2649,
          2834,
          2631,
          2809,
          2980,
          2603,
          2993,
          3221,
          3227,
          2866,
          2964,
          2926,
          2764,
          2996,
          3007,
          3133,
          3045,
          2868,
          2719,
          2758,
          2855,
          2650,
          2641,
          2614,
          2667,
          2941,
          3173,
          2699,
          3108,
          2596,
          3224,
          3095,
          3164,
          2910,
          2808,
          3015,
          3090,
          2566,
          3179,
          3049,
          2762,
          2763,
          3025,
          3091,
          2801,
          3014,
          2802,
          2663,
          2816,
          3029,
          3014,
          2821,
          3000,
          2594,
          3075,
          2783,
          2613,
          2674,
          3147,
          2657,
          2866,
          2985,
          2890,
          2579,
          3002,
          2968,
          3004,
          2983,
          3098,
          2979,
          2685,
          2784,
          3222,
          2985,
          2835,
          3065,
          3022,
          2995,
          3209,
          2927,
          2665,
          2893,
          3142,
          2613,
          3161,
          2902,
          2732,
          3203,
          3117,
          2814,
          2980,
          2946,
          2734,
          3165,
          2599,
          2669,
          3019,
          2682,
          3060,
          3198,
          2985,
          2719,
          2699,
          3101,
          3198,
          2759,
          2948,
          3025,
          2843,
          2984,
          3185,
          2839,
          2739,
          2583,
          2651,
          2831,
          2850,
          2929,
          3065,
          2650,
          3093,
          2704,
          3186,
          2906,
          2575,
          3220,
          2927,
          3145,
          2765,
          3019,
          2760,
          3070,
          3224,
          2731,
          2625,
          3078,
          3129,
          2891,
          2722,
          2887,
          2815,
          3073,
          2882,
          2915,
          2772,
          3027,
          2646,
          2785,
          2774,
          2741,
          2676,
          2930,
          2799,
          3085,
          2915,
          3138,
          2979,
          2750,
          2891,
          2789,
          2972,
          2642,
          3003,
          3086,
          2621,
          2607,
          3232,
          2704,
          2746,
          2621,
          2789,
          2647,
          2704,
          3251,
          3119,
          2603,
          2600,
          2813,
          2968,
          2915,
          2889,
          2949,
          2909,
          2962,
          3047,
          3119,
          3201,
          2698,
          2837,
          2770,
          3201,
          2615,
          2617,
          3081,
          2979,
          2614,
          3069,
          3140,
          3246,
          2618,
          2993,
          3211,
          2618,
          3111,
          2823,
          2569,
          2855,
          2879,
          3190,
          3007,
          3189,
          2712,
          3093,
          3159,
          2789,
          3188,
          2711,
          3262,
          2826,
          2742,
          2855,
          2917,
          2572,
          2891,
          2823,
          2883,
          2877,
          2781,
          2812,
          2978,
          2565,
          2665,
          3142,
          3232,
          2696,
          2572,
          2660,
          2797,
          2689,
          2885,
          2803,
          3222,
          2828,
          3024,
          3066,
          2973,
          3077,
          3166,
          2978,
          2719,
          2980,
          3238,
          2734,
          3044,
          3222,
          2637,
          2636,
          2648,
          2962,
          3107,
          3059,
          2575,
          2922,
          3047,
          2570,
          3168,
          3012,
          2877,
          3081,
          2897,
          3167,
          2930,
          3093,
          2569,
          3088,
          2613,
          3234,
          2688,
          2849,
          2656,
          2961,
          2632,
          3168,
          3214,
          2602,
          2899,
          3189,
          2842,
          2824,
          3158,
          2924,
          2648,
          2589,
          3063,
          3065,
          3015,
          3197,
          3234,
          2889,
          3144,
          3020,
          3201,
          2904,
          3100,
          2606,
          2644,
          3220,
          2624,
          3260,
          3259,
          2682,
          2600,
          3138,
          3141,
          2690,
          2911,
          2926,
          2989,
          2878,
          2723,
          2998,
          2669,
          3154,
          3241,
          2881,
          3077,
          3075,
          2825,
          3106,
          2622,
          2669,
          2596,
          2629,
          2875,
          2937,
          2674,
          2891,
          2592,
          3171,
          2997,
          3108,
          2829,
          2970,
          2896,
          2811,
          2662,
          2791,
          2575,
          2895,
          2715,
          2594,
          3054,
          3050,
          2705,
          2697,
          2868,
          2870,
          2821,
          2847,
          3094,
          2855,
          2831,
          3149,
          2973,
          2752,
          3153,
          3123,
          3255,
          2631,
          3098,
          2756,
          3095,
          2827,
          2587,
          3159,
          2808,
          2601,
          3258,
          2987,
          2603,
          3077,
          2939,
          3079,
          2614,
          2881,
          2801,
          2724,
          2787,
          3218,
          2794,
          3189,
          2923,
          3234,
          3234,
          3210,
          2652,
          2597,
          2908,
          3136,
          2596,
          3040,
          2663,
          3218,
          3182,
          3241,
          2824,
          2967,
          2924,
          3241,
          2961,
          2723,
          2697,
          2669,
          3237,
          2733,
          3102,
          2793,
          3168,
          2973,
          3007,
          2701,
          3097,
          3105,
          3091,
          2987,
          2617,
          2896,
          2876,
          2873,
          3135,
          2687,
          3119,
          3154,
          2635,
          2697,
          2998,
          2999,
          2866,
          3020,
          2650,
          3223,
          2856,
          3085,
          2745,
          3192,
          2881,
          3059,
          2784,
          2808,
          2698,
          2968,
          2825,
          3005,
          2810,
          3039,
          3171,
          2931,
          2912,
          3255,
          2831,
          3091,
          3241,
          2845,
          3084,
          2899,
          2845,
          2992,
          2825,
          3180,
          2883,
          2656,
          3064,
          2930,
          2705,
          3030,
          2623,
          2599,
          2638,
          2833,
          2925,
          2777,
          2727,
          2834,
          2601,
          2635,
          3259,
          2607,
          3138,
          3015,
          2662,
          2601,
          2871,
          2913,
          3057,
          2855,
          2819,
          3264,
          3260,
          2613,
          2667,
          2882,
          2606,
          2968,
          2771,
          2923,
          2680,
          2829,
          3208,
          3071,
          2878,
          2573,
          2648,
          3088,
          3237,
          3032,
          3150,
          3053,
          2760,
          3109,
          3211,
          2777,
          3254,
          3245,
          3212,
          2908,
          3166,
          3037,
          3148,
          2951,
          3069,
          3111,
          2862,
          2898,
          2668,
          2769,
          2643,
          2657,
          2812,
          2935,
          2695,
          3114,
          2955,
          3047,
          2696,
          3054,
          3170,
          2931,
          3017,
          2602,
          2731,
          2907,
          2714,
          3148,
          2872,
          2800,
          2734,
          3000,
          2836,
          2584,
          2900,
          2713,
          2998,
          2953,
          2738,
          3229,
          2657,
          3065,
          2637,
          2842,
          2764,
          2789,
          2679,
          3129,
          2849,
          2900,
          3245,
          2850,
          2982,
          2635,
          2821,
          3255,
          2596,
          3150,
          3201,
          3063,
          3031,
          3059,
          3069,
          2939,
          2867,
          2987,
          3021,
          2816,
          3163,
          2718,
          3162,
          3034,
          2998,
          2627,
          2747,
          2833,
          3206,
          2783,
          2960,
          3263,
          2904,
          3228,
          2799,
          2781,
          2750,
          2612,
          2626,
          2751,
          2984,
          3198,
          3048,
          3139,
          2746,
          2878,
          2934,
          3019,
          2620,
          2926,
          3229,
          2733,
          3196,
          2730,
          2684,
          2878,
          3125,
          2623,
          2826,
          2834,
          2684,
          3162,
          2610,
          2899,
          2603,
          2707,
          2999,
          3131,
          3238,
          2657,
          2634,
          3250,
          3190,
          3256,
          3009,
          2759,
          3224,
          3226,
          3204,
          2970,
          2696,
          2723,
          3066,
          2949,
          3094,
          2691,
          2670,
          2717,
          2644,
          2824,
          3160,
          2698,
          3113,
          2986,
          3007,
          2851,
          2656,
          3047,
          3015,
          2701,
          2757,
          2753,
          2807,
          2986,
          3238,
          3085,
          2632,
          3065,
          2911,
          2846,
          3229,
          3178,
          2840,
          2822,
          3125,
          3140,
          2812,
          2663,
          3062,
          2585,
          2793,
          2837,
          3235,
          2569,
          3189,
          3098,
          2702,
          3218,
          2719,
          2879,
          2642,
          2576,
          2921,
          2939,
          3066,
          2978,
          2706,
          3094,
          2755,
          2988,
          2993,
          3231,
          3155,
          3067,
          3148,
          2804,
          2809,
          2721,
          3019,
          3232,
          2821,
          2876,
          3261,
          3048,
          2572,
          2584,
          3099,
          2796,
          2935,
          3089,
          2902,
          2836,
          2765,
          2719,
          2775,
          3247,
          3158,
          3097,
          3068,
          2701,
          3246,
          3166,
          3243,
          2666,
          2920,
          3164,
          2812,
          2951,
          2712,
          3245,
          3146,
          2628,
          2990,
          2675,
          3143,
          2858,
          2847,
          3160,
          2956,
          2964,
          2707,
          2619,
          3007,
          3151,
          2650,
          3130,
          2690,
          3027,
          3130,
          2975,
          2580,
          3245,
          3228,
          3197,
          2756,
          2769,
          3186,
          3098,
          2658,
          3043,
          3142,
          2964,
          3232,
          3097,
          2865,
          3162,
          3090,
          3022,
          2825,
          2678,
          3230,
          2602,
          3251,
          2852,
          3174,
          2945,
          3087,
          2908,
          3065,
          2802,
          3170,
          2576,
          2578,
          3091,
          3139,
          2640,
          3205,
          3024,
          3147,
          3168,
          2701,
          2809,
          3246,
          3022,
          2663,
          2627,
          2938,
          3087,
          2722,
          2765,
          2774,
          2632,
          2689,
          2606,
          3244,
          2567,
          3010,
          2752,
          3135,
          3065,
          3232,
          2872,
          2650,
          3184,
          2699,
          2822,
          3204,
          2630,
          2932,
          3206,
          2958,
          2868,
          2684,
          2902,
          3094,
          3021,
          2677,
          2644,
          3253,
          3137,
          2881,
          2889,
          2747,
          2832,
          2810,
          2607,
          2718,
          3163,
          2878,
          3098,
          3207,
          3094,
          3087,
          2683,
          3224,
          3034,
          2692,
          2812,
          2867,
          2816,
          2662,
          2940,
          2829,
          3008,
          2942,
          2835,
          2575,
          2932,
          2663,
          2844,
          3175,
          2766,
          2623,
          2980,
          2764,
          2578,
          2972,
          2618,
          2688,
          3243,
          3225,
          2991,
          2907,
          2678,
          2962,
          2712,
          2905,
          2571,
          2988,
          2975,
          2596,
          2735,
          2856,
          2940,
          2878,
          2747,
          2787,
          3057,
          2899,
          2862,
          3099,
          2956,
          3149,
          3143,
          3026,
          2932,
          3067,
          2722,
          2829,
          2728,
          3168,
          2590,
          2812,
          2661,
          3255,
          2906,
          3106,
          2910,
          2910,
          2923,
          3060,
          3236,
          3110,
          2967,
          3213,
          3052,
          3210,
          2681,
          3232,
          2656,
          2786,
          2665,
          3200,
          2844,
          3212,
          3247,
          2743,
          2685,
          2577,
          2870,
          3011,
          3161,
          2596,
          3158,
          2970,
          2617,
          2862,
          3146,
          3097,
          2989,
          2762,
          2653,
          2717,
          2637,
          3173,
          3103,
          3043,
          3062,
          2663,
          3113,
          2993,
          2674,
          2984,
          3061,
          2631,
          2780,
          2601,
          2765,
          2631,
          3002,
          2597,
          3094,
          3090,
          3176,
          3151,
          2839,
          2961,
          3048,
          3186,
          3220,
          2687,
          3067,
          3116,
          3034,
          2800,
          2894,
          2615,
          2964,
          2857,
          3041,
          2814,
          2878,
          2860,
          3025,
          2578,
          2982,
          2579,
          2817,
          3214,
          3002,
          3197,
          2951,
          2668,
          3173,
          3234,
          3189,
          2892,
          2897,
          3124,
          2697,
          3188,
          2778,
          3109,
          3168,
          3211,
          2767,
          3235,
          2804,
          2893,
          2643,
          2883,
          2707,
          2916,
          2945,
          2834,
          2639,
          2588,
          2623,
          2567,
          3188,
          2992,
          3031,
          2735,
          2951,
          2769,
          2955,
          2627,
          3166,
          3198,
          3155,
          2566,
          3090,
          3065,
          2908,
          2839,
          2910,
          2867,
          2579,
          2648,
          2826,
          2833,
          2889,
          3228,
          2852,
          2873,
          3064,
          2967,
          2968,
          2829,
          3036,
          3062,
          2666,
          2856,
          3131,
          2858,
          3029,
          3260,
          3210,
          3068,
          2956,
          2632,
          2867,
          2769,
          3220,
          2571,
          2921,
          2734,
          2712,
          3214,
          2971,
          3173,
          3099,
          2857,
          2886,
          3154,
          2925,
          3084,
          3214,
          3164,
          2761,
          2891,
          2823,
          3162,
          3195,
          2861,
          2614,
          3201,
          2676,
          2685,
          2947,
          2639,
          3108,
          2636,
          2707,
          3247,
          2724,
          3060,
          2914,
          3187,
          2625,
          2637,
          2971,
          2606,
          3168,
          2726,
          2799,
          2858,
          3053,
          3232,
          2623,
          3083,
          2591,
          2599,
          2817,
          3223,
          2655,
          2597,
          2946,
          3056,
          2642,
          2668,
          2813,
          2720,
          2979,
          2861,
          2709,
          3032,
          2841,
          2635,
          3161,
          3188,
          3241,
          3085,
          3239,
          3063,
          2959,
          3059,
          3115,
          2572,
          2726,
          3182,
          2836,
          3102,
          2862,
          3148,
          2936,
          3158,
          2942,
          2786,
          2839,
          2738,
          2654,
          3012,
          3226,
          3041,
          3152,
          2663,
          2867,
          2708,
          3096,
          3256,
          2630,
          3218,
          3073,
          3169,
          2574,
          3020,
          3067,
          2849,
          2613,
          3250,
          2783,
          2622,
          2728,
          3180,
          2997,
          2618,
          2926,
          2920,
          2577,
          2984,
          2740,
          2874,
          2815,
          2686,
          3052,
          2722,
          3065,
          2661,
          3109,
          3013,
          2799,
          2832,
          3261,
          2847,
          2645,
          3136,
          3052,
          3214,
          2702,
          2949,
          3067,
          3117,
          3073,
          2937,
          2816,
          2642,
          2760,
          3023,
          2820,
          2652,
          3003,
          2602,
          3234,
          3116,
          3094,
          2743,
          3043,
          2752,
          3226,
          2582,
          2849,
          2799,
          3145,
          3066,
          2850,
          2684,
          2970,
          3065,
          2892,
          3083,
          3256,
          3022,
          3050,
          3005,
          2656,
          3207,
          2702,
          3015,
          2724,
          2709,
          3063,
          2691,
          3039,
          2820,
          3225,
          3262,
          3041,
          2780,
          2794,
          2991,
          2839,
          2771,
          3198,
          2958,
          3023,
          3071,
          2988,
          3207,
          2777,
          2775,
          3221,
          2776,
          2585,
          2856,
          3246,
          2749,
          3042,
          2845,
          2572,
          2592,
          2568,
          3032,
          3196,
          2908,
          3105,
          2972,
          2749,
          2959,
          2812,
          3098,
          3251,
          3104,
          2861,
          3173,
          2650,
          2818,
          2893,
          2751,
          2852,
          3100,
          2922,
          2707,
          2924,
          2659,
          3048,
          2936,
          3237,
          2819,
          3164,
          3097,
          2807,
          3063,
          3126,
          2655,
          2833,
          2800,
          2867,
          2816,
          2623,
          3122,
          3225,
          2969,
          2837,
          2962,
          3203,
          3142,
          2666,
          2603,
          3215,
          2695,
          3051,
          3173,
          2949,
          3126,
          2951,
          3215,
          2957,
          3120,
          2609,
          2805,
          2905,
          2772,
          2872,
          2724,
          3010,
          3184,
          3220,
          2888,
          3233,
          3260,
          2574,
          2833,
          2896,
          3021,
          3229,
          2803,
          2998,
          3040,
          2869,
          3249,
          2735,
          2649,
          2835,
          2614,
          2685,
          3257,
          2715,
          2722,
          3078,
          2686,
          2728,
          2783,
          2661,
          2662,
          2923,
          2825,
          2761,
          3215,
          2717,
          2835,
          2932,
          2613,
          2626,
          2723,
          2674,
          2720,
          3191,
          2682,
          2897,
          2956,
          2809,
          2935,
          3065,
          3024,
          2753,
          2783,
          2681,
          2931,
          2728,
          2900,
          2676,
          3099,
          3119,
          3184,
          3103,
          2813,
          2802,
          3044,
          2632,
          2970,
          2668,
          3100,
          2708,
          2614,
          2735,
          2670,
          3054,
          3058,
          3261,
          3165,
          3262,
          3029,
          2634,
          2877,
          2941,
          2568,
          2893,
          3148,
          3184,
          3108,
          3063,
          3187,
          3252,
          2663,
          3134,
          2914,
          3066,
          2709,
          2624,
          3190,
          2899,
          3121,
          3030,
          2650,
          2940,
          3188,
          2780,
          2925,
          2983,
          2569,
          2736,
          3206,
          3027,
          3048,
          3251,
          2607,
          3035,
          3242,
          3246,
          2957,
          2928,
          2946,
          2584,
          2720,
          2721,
          3187
         ]
        }
       ],
       "layout": {
        "template": {
         "data": {
          "bar": [
           {
            "error_x": {
             "color": "#2a3f5f"
            },
            "error_y": {
             "color": "#2a3f5f"
            },
            "marker": {
             "line": {
              "color": "#E5ECF6",
              "width": 0.5
             }
            },
            "type": "bar"
           }
          ],
          "barpolar": [
           {
            "marker": {
             "line": {
              "color": "#E5ECF6",
              "width": 0.5
             }
            },
            "type": "barpolar"
           }
          ],
          "carpet": [
           {
            "aaxis": {
             "endlinecolor": "#2a3f5f",
             "gridcolor": "white",
             "linecolor": "white",
             "minorgridcolor": "white",
             "startlinecolor": "#2a3f5f"
            },
            "baxis": {
             "endlinecolor": "#2a3f5f",
             "gridcolor": "white",
             "linecolor": "white",
             "minorgridcolor": "white",
             "startlinecolor": "#2a3f5f"
            },
            "type": "carpet"
           }
          ],
          "choropleth": [
           {
            "colorbar": {
             "outlinewidth": 0,
             "ticks": ""
            },
            "type": "choropleth"
           }
          ],
          "contour": [
           {
            "colorbar": {
             "outlinewidth": 0,
             "ticks": ""
            },
            "colorscale": [
             [
              0,
              "#0d0887"
             ],
             [
              0.1111111111111111,
              "#46039f"
             ],
             [
              0.2222222222222222,
              "#7201a8"
             ],
             [
              0.3333333333333333,
              "#9c179e"
             ],
             [
              0.4444444444444444,
              "#bd3786"
             ],
             [
              0.5555555555555556,
              "#d8576b"
             ],
             [
              0.6666666666666666,
              "#ed7953"
             ],
             [
              0.7777777777777778,
              "#fb9f3a"
             ],
             [
              0.8888888888888888,
              "#fdca26"
             ],
             [
              1,
              "#f0f921"
             ]
            ],
            "type": "contour"
           }
          ],
          "contourcarpet": [
           {
            "colorbar": {
             "outlinewidth": 0,
             "ticks": ""
            },
            "type": "contourcarpet"
           }
          ],
          "heatmap": [
           {
            "colorbar": {
             "outlinewidth": 0,
             "ticks": ""
            },
            "colorscale": [
             [
              0,
              "#0d0887"
             ],
             [
              0.1111111111111111,
              "#46039f"
             ],
             [
              0.2222222222222222,
              "#7201a8"
             ],
             [
              0.3333333333333333,
              "#9c179e"
             ],
             [
              0.4444444444444444,
              "#bd3786"
             ],
             [
              0.5555555555555556,
              "#d8576b"
             ],
             [
              0.6666666666666666,
              "#ed7953"
             ],
             [
              0.7777777777777778,
              "#fb9f3a"
             ],
             [
              0.8888888888888888,
              "#fdca26"
             ],
             [
              1,
              "#f0f921"
             ]
            ],
            "type": "heatmap"
           }
          ],
          "heatmapgl": [
           {
            "colorbar": {
             "outlinewidth": 0,
             "ticks": ""
            },
            "colorscale": [
             [
              0,
              "#0d0887"
             ],
             [
              0.1111111111111111,
              "#46039f"
             ],
             [
              0.2222222222222222,
              "#7201a8"
             ],
             [
              0.3333333333333333,
              "#9c179e"
             ],
             [
              0.4444444444444444,
              "#bd3786"
             ],
             [
              0.5555555555555556,
              "#d8576b"
             ],
             [
              0.6666666666666666,
              "#ed7953"
             ],
             [
              0.7777777777777778,
              "#fb9f3a"
             ],
             [
              0.8888888888888888,
              "#fdca26"
             ],
             [
              1,
              "#f0f921"
             ]
            ],
            "type": "heatmapgl"
           }
          ],
          "histogram": [
           {
            "marker": {
             "colorbar": {
              "outlinewidth": 0,
              "ticks": ""
             }
            },
            "type": "histogram"
           }
          ],
          "histogram2d": [
           {
            "colorbar": {
             "outlinewidth": 0,
             "ticks": ""
            },
            "colorscale": [
             [
              0,
              "#0d0887"
             ],
             [
              0.1111111111111111,
              "#46039f"
             ],
             [
              0.2222222222222222,
              "#7201a8"
             ],
             [
              0.3333333333333333,
              "#9c179e"
             ],
             [
              0.4444444444444444,
              "#bd3786"
             ],
             [
              0.5555555555555556,
              "#d8576b"
             ],
             [
              0.6666666666666666,
              "#ed7953"
             ],
             [
              0.7777777777777778,
              "#fb9f3a"
             ],
             [
              0.8888888888888888,
              "#fdca26"
             ],
             [
              1,
              "#f0f921"
             ]
            ],
            "type": "histogram2d"
           }
          ],
          "histogram2dcontour": [
           {
            "colorbar": {
             "outlinewidth": 0,
             "ticks": ""
            },
            "colorscale": [
             [
              0,
              "#0d0887"
             ],
             [
              0.1111111111111111,
              "#46039f"
             ],
             [
              0.2222222222222222,
              "#7201a8"
             ],
             [
              0.3333333333333333,
              "#9c179e"
             ],
             [
              0.4444444444444444,
              "#bd3786"
             ],
             [
              0.5555555555555556,
              "#d8576b"
             ],
             [
              0.6666666666666666,
              "#ed7953"
             ],
             [
              0.7777777777777778,
              "#fb9f3a"
             ],
             [
              0.8888888888888888,
              "#fdca26"
             ],
             [
              1,
              "#f0f921"
             ]
            ],
            "type": "histogram2dcontour"
           }
          ],
          "mesh3d": [
           {
            "colorbar": {
             "outlinewidth": 0,
             "ticks": ""
            },
            "type": "mesh3d"
           }
          ],
          "parcoords": [
           {
            "line": {
             "colorbar": {
              "outlinewidth": 0,
              "ticks": ""
             }
            },
            "type": "parcoords"
           }
          ],
          "pie": [
           {
            "automargin": true,
            "type": "pie"
           }
          ],
          "scatter": [
           {
            "marker": {
             "colorbar": {
              "outlinewidth": 0,
              "ticks": ""
             }
            },
            "type": "scatter"
           }
          ],
          "scatter3d": [
           {
            "line": {
             "colorbar": {
              "outlinewidth": 0,
              "ticks": ""
             }
            },
            "marker": {
             "colorbar": {
              "outlinewidth": 0,
              "ticks": ""
             }
            },
            "type": "scatter3d"
           }
          ],
          "scattercarpet": [
           {
            "marker": {
             "colorbar": {
              "outlinewidth": 0,
              "ticks": ""
             }
            },
            "type": "scattercarpet"
           }
          ],
          "scattergeo": [
           {
            "marker": {
             "colorbar": {
              "outlinewidth": 0,
              "ticks": ""
             }
            },
            "type": "scattergeo"
           }
          ],
          "scattergl": [
           {
            "marker": {
             "colorbar": {
              "outlinewidth": 0,
              "ticks": ""
             }
            },
            "type": "scattergl"
           }
          ],
          "scattermapbox": [
           {
            "marker": {
             "colorbar": {
              "outlinewidth": 0,
              "ticks": ""
             }
            },
            "type": "scattermapbox"
           }
          ],
          "scatterpolar": [
           {
            "marker": {
             "colorbar": {
              "outlinewidth": 0,
              "ticks": ""
             }
            },
            "type": "scatterpolar"
           }
          ],
          "scatterpolargl": [
           {
            "marker": {
             "colorbar": {
              "outlinewidth": 0,
              "ticks": ""
             }
            },
            "type": "scatterpolargl"
           }
          ],
          "scatterternary": [
           {
            "marker": {
             "colorbar": {
              "outlinewidth": 0,
              "ticks": ""
             }
            },
            "type": "scatterternary"
           }
          ],
          "surface": [
           {
            "colorbar": {
             "outlinewidth": 0,
             "ticks": ""
            },
            "colorscale": [
             [
              0,
              "#0d0887"
             ],
             [
              0.1111111111111111,
              "#46039f"
             ],
             [
              0.2222222222222222,
              "#7201a8"
             ],
             [
              0.3333333333333333,
              "#9c179e"
             ],
             [
              0.4444444444444444,
              "#bd3786"
             ],
             [
              0.5555555555555556,
              "#d8576b"
             ],
             [
              0.6666666666666666,
              "#ed7953"
             ],
             [
              0.7777777777777778,
              "#fb9f3a"
             ],
             [
              0.8888888888888888,
              "#fdca26"
             ],
             [
              1,
              "#f0f921"
             ]
            ],
            "type": "surface"
           }
          ],
          "table": [
           {
            "cells": {
             "fill": {
              "color": "#EBF0F8"
             },
             "line": {
              "color": "white"
             }
            },
            "header": {
             "fill": {
              "color": "#C8D4E3"
             },
             "line": {
              "color": "white"
             }
            },
            "type": "table"
           }
          ]
         },
         "layout": {
          "annotationdefaults": {
           "arrowcolor": "#2a3f5f",
           "arrowhead": 0,
           "arrowwidth": 1
          },
          "coloraxis": {
           "colorbar": {
            "outlinewidth": 0,
            "ticks": ""
           }
          },
          "colorscale": {
           "diverging": [
            [
             0,
             "#8e0152"
            ],
            [
             0.1,
             "#c51b7d"
            ],
            [
             0.2,
             "#de77ae"
            ],
            [
             0.3,
             "#f1b6da"
            ],
            [
             0.4,
             "#fde0ef"
            ],
            [
             0.5,
             "#f7f7f7"
            ],
            [
             0.6,
             "#e6f5d0"
            ],
            [
             0.7,
             "#b8e186"
            ],
            [
             0.8,
             "#7fbc41"
            ],
            [
             0.9,
             "#4d9221"
            ],
            [
             1,
             "#276419"
            ]
           ],
           "sequential": [
            [
             0,
             "#0d0887"
            ],
            [
             0.1111111111111111,
             "#46039f"
            ],
            [
             0.2222222222222222,
             "#7201a8"
            ],
            [
             0.3333333333333333,
             "#9c179e"
            ],
            [
             0.4444444444444444,
             "#bd3786"
            ],
            [
             0.5555555555555556,
             "#d8576b"
            ],
            [
             0.6666666666666666,
             "#ed7953"
            ],
            [
             0.7777777777777778,
             "#fb9f3a"
            ],
            [
             0.8888888888888888,
             "#fdca26"
            ],
            [
             1,
             "#f0f921"
            ]
           ],
           "sequentialminus": [
            [
             0,
             "#0d0887"
            ],
            [
             0.1111111111111111,
             "#46039f"
            ],
            [
             0.2222222222222222,
             "#7201a8"
            ],
            [
             0.3333333333333333,
             "#9c179e"
            ],
            [
             0.4444444444444444,
             "#bd3786"
            ],
            [
             0.5555555555555556,
             "#d8576b"
            ],
            [
             0.6666666666666666,
             "#ed7953"
            ],
            [
             0.7777777777777778,
             "#fb9f3a"
            ],
            [
             0.8888888888888888,
             "#fdca26"
            ],
            [
             1,
             "#f0f921"
            ]
           ]
          },
          "colorway": [
           "#636efa",
           "#EF553B",
           "#00cc96",
           "#ab63fa",
           "#FFA15A",
           "#19d3f3",
           "#FF6692",
           "#B6E880",
           "#FF97FF",
           "#FECB52"
          ],
          "font": {
           "color": "#2a3f5f"
          },
          "geo": {
           "bgcolor": "white",
           "lakecolor": "white",
           "landcolor": "#E5ECF6",
           "showlakes": true,
           "showland": true,
           "subunitcolor": "white"
          },
          "hoverlabel": {
           "align": "left"
          },
          "hovermode": "closest",
          "mapbox": {
           "style": "light"
          },
          "paper_bgcolor": "white",
          "plot_bgcolor": "#E5ECF6",
          "polar": {
           "angularaxis": {
            "gridcolor": "white",
            "linecolor": "white",
            "ticks": ""
           },
           "bgcolor": "#E5ECF6",
           "radialaxis": {
            "gridcolor": "white",
            "linecolor": "white",
            "ticks": ""
           }
          },
          "scene": {
           "xaxis": {
            "backgroundcolor": "#E5ECF6",
            "gridcolor": "white",
            "gridwidth": 2,
            "linecolor": "white",
            "showbackground": true,
            "ticks": "",
            "zerolinecolor": "white"
           },
           "yaxis": {
            "backgroundcolor": "#E5ECF6",
            "gridcolor": "white",
            "gridwidth": 2,
            "linecolor": "white",
            "showbackground": true,
            "ticks": "",
            "zerolinecolor": "white"
           },
           "zaxis": {
            "backgroundcolor": "#E5ECF6",
            "gridcolor": "white",
            "gridwidth": 2,
            "linecolor": "white",
            "showbackground": true,
            "ticks": "",
            "zerolinecolor": "white"
           }
          },
          "shapedefaults": {
           "line": {
            "color": "#2a3f5f"
           }
          },
          "ternary": {
           "aaxis": {
            "gridcolor": "white",
            "linecolor": "white",
            "ticks": ""
           },
           "baxis": {
            "gridcolor": "white",
            "linecolor": "white",
            "ticks": ""
           },
           "bgcolor": "#E5ECF6",
           "caxis": {
            "gridcolor": "white",
            "linecolor": "white",
            "ticks": ""
           }
          },
          "title": {
           "x": 0.05
          },
          "xaxis": {
           "automargin": true,
           "gridcolor": "white",
           "linecolor": "white",
           "ticks": "",
           "title": {
            "standoff": 15
           },
           "zerolinecolor": "white",
           "zerolinewidth": 2
          },
          "yaxis": {
           "automargin": true,
           "gridcolor": "white",
           "linecolor": "white",
           "ticks": "",
           "title": {
            "standoff": 15
           },
           "zerolinecolor": "white",
           "zerolinewidth": 2
          }
         }
        },
        "title": {
         "text": "Распределение срока нахождения в базе"
        }
       }
      }
     },
     "metadata": {}
    }
   ],
   "source": [
    "fig = go.Figure()\n",
    "fig.add_trace(go.Box(y=data.In_program, name='Дни'))\n",
    "fig.update_layout(title='Распределение срока нахождения в базе')"
   ]
  },
  {
   "source": [
    "График говорит, что большинство клиентов с нами уже больше 8 лет. Возможно наши данные устаревшие."
   ],
   "cell_type": "markdown",
   "metadata": {}
  },
  {
   "source": [
    "Тепеь построим график, и псмотриим количество участий в рекламных акциях"
   ],
   "cell_type": "markdown",
   "metadata": {}
  },
  {
   "cell_type": "code",
   "execution_count": 26,
   "metadata": {},
   "outputs": [
    {
     "output_type": "display_data",
     "data": {
      "application/vnd.plotly.v1+json": {
       "config": {
        "plotlyServerURL": "https://plot.ly"
       },
       "data": [
        {
         "labels": [
          0,
          1,
          2,
          3,
          4
         ],
         "type": "pie",
         "values": [
          1774,
          324,
          83,
          44,
          11
         ]
        }
       ],
       "layout": {
        "template": {
         "data": {
          "bar": [
           {
            "error_x": {
             "color": "#2a3f5f"
            },
            "error_y": {
             "color": "#2a3f5f"
            },
            "marker": {
             "line": {
              "color": "#E5ECF6",
              "width": 0.5
             }
            },
            "type": "bar"
           }
          ],
          "barpolar": [
           {
            "marker": {
             "line": {
              "color": "#E5ECF6",
              "width": 0.5
             }
            },
            "type": "barpolar"
           }
          ],
          "carpet": [
           {
            "aaxis": {
             "endlinecolor": "#2a3f5f",
             "gridcolor": "white",
             "linecolor": "white",
             "minorgridcolor": "white",
             "startlinecolor": "#2a3f5f"
            },
            "baxis": {
             "endlinecolor": "#2a3f5f",
             "gridcolor": "white",
             "linecolor": "white",
             "minorgridcolor": "white",
             "startlinecolor": "#2a3f5f"
            },
            "type": "carpet"
           }
          ],
          "choropleth": [
           {
            "colorbar": {
             "outlinewidth": 0,
             "ticks": ""
            },
            "type": "choropleth"
           }
          ],
          "contour": [
           {
            "colorbar": {
             "outlinewidth": 0,
             "ticks": ""
            },
            "colorscale": [
             [
              0,
              "#0d0887"
             ],
             [
              0.1111111111111111,
              "#46039f"
             ],
             [
              0.2222222222222222,
              "#7201a8"
             ],
             [
              0.3333333333333333,
              "#9c179e"
             ],
             [
              0.4444444444444444,
              "#bd3786"
             ],
             [
              0.5555555555555556,
              "#d8576b"
             ],
             [
              0.6666666666666666,
              "#ed7953"
             ],
             [
              0.7777777777777778,
              "#fb9f3a"
             ],
             [
              0.8888888888888888,
              "#fdca26"
             ],
             [
              1,
              "#f0f921"
             ]
            ],
            "type": "contour"
           }
          ],
          "contourcarpet": [
           {
            "colorbar": {
             "outlinewidth": 0,
             "ticks": ""
            },
            "type": "contourcarpet"
           }
          ],
          "heatmap": [
           {
            "colorbar": {
             "outlinewidth": 0,
             "ticks": ""
            },
            "colorscale": [
             [
              0,
              "#0d0887"
             ],
             [
              0.1111111111111111,
              "#46039f"
             ],
             [
              0.2222222222222222,
              "#7201a8"
             ],
             [
              0.3333333333333333,
              "#9c179e"
             ],
             [
              0.4444444444444444,
              "#bd3786"
             ],
             [
              0.5555555555555556,
              "#d8576b"
             ],
             [
              0.6666666666666666,
              "#ed7953"
             ],
             [
              0.7777777777777778,
              "#fb9f3a"
             ],
             [
              0.8888888888888888,
              "#fdca26"
             ],
             [
              1,
              "#f0f921"
             ]
            ],
            "type": "heatmap"
           }
          ],
          "heatmapgl": [
           {
            "colorbar": {
             "outlinewidth": 0,
             "ticks": ""
            },
            "colorscale": [
             [
              0,
              "#0d0887"
             ],
             [
              0.1111111111111111,
              "#46039f"
             ],
             [
              0.2222222222222222,
              "#7201a8"
             ],
             [
              0.3333333333333333,
              "#9c179e"
             ],
             [
              0.4444444444444444,
              "#bd3786"
             ],
             [
              0.5555555555555556,
              "#d8576b"
             ],
             [
              0.6666666666666666,
              "#ed7953"
             ],
             [
              0.7777777777777778,
              "#fb9f3a"
             ],
             [
              0.8888888888888888,
              "#fdca26"
             ],
             [
              1,
              "#f0f921"
             ]
            ],
            "type": "heatmapgl"
           }
          ],
          "histogram": [
           {
            "marker": {
             "colorbar": {
              "outlinewidth": 0,
              "ticks": ""
             }
            },
            "type": "histogram"
           }
          ],
          "histogram2d": [
           {
            "colorbar": {
             "outlinewidth": 0,
             "ticks": ""
            },
            "colorscale": [
             [
              0,
              "#0d0887"
             ],
             [
              0.1111111111111111,
              "#46039f"
             ],
             [
              0.2222222222222222,
              "#7201a8"
             ],
             [
              0.3333333333333333,
              "#9c179e"
             ],
             [
              0.4444444444444444,
              "#bd3786"
             ],
             [
              0.5555555555555556,
              "#d8576b"
             ],
             [
              0.6666666666666666,
              "#ed7953"
             ],
             [
              0.7777777777777778,
              "#fb9f3a"
             ],
             [
              0.8888888888888888,
              "#fdca26"
             ],
             [
              1,
              "#f0f921"
             ]
            ],
            "type": "histogram2d"
           }
          ],
          "histogram2dcontour": [
           {
            "colorbar": {
             "outlinewidth": 0,
             "ticks": ""
            },
            "colorscale": [
             [
              0,
              "#0d0887"
             ],
             [
              0.1111111111111111,
              "#46039f"
             ],
             [
              0.2222222222222222,
              "#7201a8"
             ],
             [
              0.3333333333333333,
              "#9c179e"
             ],
             [
              0.4444444444444444,
              "#bd3786"
             ],
             [
              0.5555555555555556,
              "#d8576b"
             ],
             [
              0.6666666666666666,
              "#ed7953"
             ],
             [
              0.7777777777777778,
              "#fb9f3a"
             ],
             [
              0.8888888888888888,
              "#fdca26"
             ],
             [
              1,
              "#f0f921"
             ]
            ],
            "type": "histogram2dcontour"
           }
          ],
          "mesh3d": [
           {
            "colorbar": {
             "outlinewidth": 0,
             "ticks": ""
            },
            "type": "mesh3d"
           }
          ],
          "parcoords": [
           {
            "line": {
             "colorbar": {
              "outlinewidth": 0,
              "ticks": ""
             }
            },
            "type": "parcoords"
           }
          ],
          "pie": [
           {
            "automargin": true,
            "type": "pie"
           }
          ],
          "scatter": [
           {
            "marker": {
             "colorbar": {
              "outlinewidth": 0,
              "ticks": ""
             }
            },
            "type": "scatter"
           }
          ],
          "scatter3d": [
           {
            "line": {
             "colorbar": {
              "outlinewidth": 0,
              "ticks": ""
             }
            },
            "marker": {
             "colorbar": {
              "outlinewidth": 0,
              "ticks": ""
             }
            },
            "type": "scatter3d"
           }
          ],
          "scattercarpet": [
           {
            "marker": {
             "colorbar": {
              "outlinewidth": 0,
              "ticks": ""
             }
            },
            "type": "scattercarpet"
           }
          ],
          "scattergeo": [
           {
            "marker": {
             "colorbar": {
              "outlinewidth": 0,
              "ticks": ""
             }
            },
            "type": "scattergeo"
           }
          ],
          "scattergl": [
           {
            "marker": {
             "colorbar": {
              "outlinewidth": 0,
              "ticks": ""
             }
            },
            "type": "scattergl"
           }
          ],
          "scattermapbox": [
           {
            "marker": {
             "colorbar": {
              "outlinewidth": 0,
              "ticks": ""
             }
            },
            "type": "scattermapbox"
           }
          ],
          "scatterpolar": [
           {
            "marker": {
             "colorbar": {
              "outlinewidth": 0,
              "ticks": ""
             }
            },
            "type": "scatterpolar"
           }
          ],
          "scatterpolargl": [
           {
            "marker": {
             "colorbar": {
              "outlinewidth": 0,
              "ticks": ""
             }
            },
            "type": "scatterpolargl"
           }
          ],
          "scatterternary": [
           {
            "marker": {
             "colorbar": {
              "outlinewidth": 0,
              "ticks": ""
             }
            },
            "type": "scatterternary"
           }
          ],
          "surface": [
           {
            "colorbar": {
             "outlinewidth": 0,
             "ticks": ""
            },
            "colorscale": [
             [
              0,
              "#0d0887"
             ],
             [
              0.1111111111111111,
              "#46039f"
             ],
             [
              0.2222222222222222,
              "#7201a8"
             ],
             [
              0.3333333333333333,
              "#9c179e"
             ],
             [
              0.4444444444444444,
              "#bd3786"
             ],
             [
              0.5555555555555556,
              "#d8576b"
             ],
             [
              0.6666666666666666,
              "#ed7953"
             ],
             [
              0.7777777777777778,
              "#fb9f3a"
             ],
             [
              0.8888888888888888,
              "#fdca26"
             ],
             [
              1,
              "#f0f921"
             ]
            ],
            "type": "surface"
           }
          ],
          "table": [
           {
            "cells": {
             "fill": {
              "color": "#EBF0F8"
             },
             "line": {
              "color": "white"
             }
            },
            "header": {
             "fill": {
              "color": "#C8D4E3"
             },
             "line": {
              "color": "white"
             }
            },
            "type": "table"
           }
          ]
         },
         "layout": {
          "annotationdefaults": {
           "arrowcolor": "#2a3f5f",
           "arrowhead": 0,
           "arrowwidth": 1
          },
          "coloraxis": {
           "colorbar": {
            "outlinewidth": 0,
            "ticks": ""
           }
          },
          "colorscale": {
           "diverging": [
            [
             0,
             "#8e0152"
            ],
            [
             0.1,
             "#c51b7d"
            ],
            [
             0.2,
             "#de77ae"
            ],
            [
             0.3,
             "#f1b6da"
            ],
            [
             0.4,
             "#fde0ef"
            ],
            [
             0.5,
             "#f7f7f7"
            ],
            [
             0.6,
             "#e6f5d0"
            ],
            [
             0.7,
             "#b8e186"
            ],
            [
             0.8,
             "#7fbc41"
            ],
            [
             0.9,
             "#4d9221"
            ],
            [
             1,
             "#276419"
            ]
           ],
           "sequential": [
            [
             0,
             "#0d0887"
            ],
            [
             0.1111111111111111,
             "#46039f"
            ],
            [
             0.2222222222222222,
             "#7201a8"
            ],
            [
             0.3333333333333333,
             "#9c179e"
            ],
            [
             0.4444444444444444,
             "#bd3786"
            ],
            [
             0.5555555555555556,
             "#d8576b"
            ],
            [
             0.6666666666666666,
             "#ed7953"
            ],
            [
             0.7777777777777778,
             "#fb9f3a"
            ],
            [
             0.8888888888888888,
             "#fdca26"
            ],
            [
             1,
             "#f0f921"
            ]
           ],
           "sequentialminus": [
            [
             0,
             "#0d0887"
            ],
            [
             0.1111111111111111,
             "#46039f"
            ],
            [
             0.2222222222222222,
             "#7201a8"
            ],
            [
             0.3333333333333333,
             "#9c179e"
            ],
            [
             0.4444444444444444,
             "#bd3786"
            ],
            [
             0.5555555555555556,
             "#d8576b"
            ],
            [
             0.6666666666666666,
             "#ed7953"
            ],
            [
             0.7777777777777778,
             "#fb9f3a"
            ],
            [
             0.8888888888888888,
             "#fdca26"
            ],
            [
             1,
             "#f0f921"
            ]
           ]
          },
          "colorway": [
           "#636efa",
           "#EF553B",
           "#00cc96",
           "#ab63fa",
           "#FFA15A",
           "#19d3f3",
           "#FF6692",
           "#B6E880",
           "#FF97FF",
           "#FECB52"
          ],
          "font": {
           "color": "#2a3f5f"
          },
          "geo": {
           "bgcolor": "white",
           "lakecolor": "white",
           "landcolor": "#E5ECF6",
           "showlakes": true,
           "showland": true,
           "subunitcolor": "white"
          },
          "hoverlabel": {
           "align": "left"
          },
          "hovermode": "closest",
          "mapbox": {
           "style": "light"
          },
          "paper_bgcolor": "white",
          "plot_bgcolor": "#E5ECF6",
          "polar": {
           "angularaxis": {
            "gridcolor": "white",
            "linecolor": "white",
            "ticks": ""
           },
           "bgcolor": "#E5ECF6",
           "radialaxis": {
            "gridcolor": "white",
            "linecolor": "white",
            "ticks": ""
           }
          },
          "scene": {
           "xaxis": {
            "backgroundcolor": "#E5ECF6",
            "gridcolor": "white",
            "gridwidth": 2,
            "linecolor": "white",
            "showbackground": true,
            "ticks": "",
            "zerolinecolor": "white"
           },
           "yaxis": {
            "backgroundcolor": "#E5ECF6",
            "gridcolor": "white",
            "gridwidth": 2,
            "linecolor": "white",
            "showbackground": true,
            "ticks": "",
            "zerolinecolor": "white"
           },
           "zaxis": {
            "backgroundcolor": "#E5ECF6",
            "gridcolor": "white",
            "gridwidth": 2,
            "linecolor": "white",
            "showbackground": true,
            "ticks": "",
            "zerolinecolor": "white"
           }
          },
          "shapedefaults": {
           "line": {
            "color": "#2a3f5f"
           }
          },
          "ternary": {
           "aaxis": {
            "gridcolor": "white",
            "linecolor": "white",
            "ticks": ""
           },
           "baxis": {
            "gridcolor": "white",
            "linecolor": "white",
            "ticks": ""
           },
           "bgcolor": "#E5ECF6",
           "caxis": {
            "gridcolor": "white",
            "linecolor": "white",
            "ticks": ""
           }
          },
          "title": {
           "x": 0.05
          },
          "xaxis": {
           "automargin": true,
           "gridcolor": "white",
           "linecolor": "white",
           "ticks": "",
           "title": {
            "standoff": 15
           },
           "zerolinecolor": "white",
           "zerolinewidth": 2
          },
          "yaxis": {
           "automargin": true,
           "gridcolor": "white",
           "linecolor": "white",
           "ticks": "",
           "title": {
            "standoff": 15
           },
           "zerolinecolor": "white",
           "zerolinewidth": 2
          }
         }
        },
        "title": {
         "text": "Количество участий в акциях"
        }
       }
      }
     },
     "metadata": {}
    }
   ],
   "source": [
    "fig = go.Figure()\n",
    "label = data.Num_program.value_counts().index\n",
    "values = data.Num_program.value_counts().values\n",
    "fig.add_trace(go.Pie(values=values, labels=label))\n",
    "fig.update_layout(title= 'Количество участий в акциях')"
   ]
  },
  {
   "source": [
    "Большинство наших пользователей ни разу не принимало участия в рекламных акциях. Возможно это новые пользователи, сравним их время пребывание в системе с остальными."
   ],
   "cell_type": "markdown",
   "metadata": {}
  },
  {
   "cell_type": "code",
   "execution_count": 27,
   "metadata": {},
   "outputs": [
    {
     "output_type": "display_data",
     "data": {
      "application/vnd.plotly.v1+json": {
       "config": {
        "plotlyServerURL": "https://plot.ly"
       },
       "data": [
        {
         "name": "Не принимали участие",
         "type": "box",
         "y": [
          3228,
          2678,
          2877,
          2704,
          2726,
          2858,
          3158,
          2982,
          2953,
          2791,
          3158,
          2791,
          2791,
          3192,
          3117,
          3232,
          3168,
          3255,
          3104,
          2734,
          3033,
          3108,
          2963,
          3059,
          2959,
          2603,
          2979,
          3173,
          3059,
          2869,
          2745,
          2865,
          2703,
          2991,
          3039,
          3117,
          2801,
          2835,
          2566,
          3162,
          2966,
          2744,
          3163,
          2613,
          3252,
          3108,
          2947,
          3018,
          2627,
          2942,
          2683,
          3225,
          3061,
          2948,
          2770,
          2969,
          2614,
          2840,
          3012,
          3221,
          3218,
          3034,
          2625,
          3122,
          3236,
          2863,
          3234,
          2936,
          2926,
          2979,
          2689,
          2887,
          2724,
          3152,
          2598,
          2783,
          2663,
          2601,
          2603,
          3009,
          2939,
          2906,
          2656,
          3000,
          2973,
          2617,
          2766,
          2843,
          3077,
          3122,
          3134,
          2804,
          3129,
          2857,
          3060,
          2918,
          2792,
          2939,
          2690,
          2863,
          2998,
          3061,
          2999,
          2586,
          2918,
          2615,
          2837,
          3041,
          2704,
          2887,
          2884,
          3255,
          2922,
          2901,
          3183,
          2792,
          3001,
          2870,
          3032,
          3184,
          3174,
          2870,
          3241,
          2573,
          2631,
          3127,
          2613,
          3193,
          2921,
          2855,
          2820,
          2878,
          2928,
          3166,
          2740,
          2989,
          2685,
          2793,
          2804,
          2689,
          2634,
          2916,
          2634,
          2715,
          3220,
          2602,
          2570,
          2614,
          2615,
          2839,
          2723,
          2579,
          3136,
          2678,
          2896,
          3032,
          3056,
          2973,
          2960,
          3061,
          2747,
          2612,
          3093,
          2767,
          2823,
          2912,
          2977,
          2586,
          3020,
          2668,
          3197,
          3089,
          2986,
          2654,
          2613,
          2867,
          3157,
          2644,
          2792,
          2641,
          3105,
          3224,
          3025,
          3177,
          3132,
          3255,
          2698,
          3031,
          2975,
          2639,
          3028,
          2767,
          2772,
          2833,
          2750,
          3118,
          2898,
          3246,
          2589,
          3101,
          3232,
          3173,
          2851,
          2810,
          3210,
          3234,
          3189,
          3180,
          2955,
          2768,
          2968,
          2577,
          3148,
          3076,
          3037,
          2940,
          2833,
          3210,
          2666,
          2710,
          2649,
          3073,
          2851,
          3093,
          2625,
          2999,
          3068,
          3177,
          3232,
          2685,
          2638,
          2917,
          3081,
          3102,
          2613,
          2946,
          2749,
          2730,
          3039,
          3044,
          3097,
          3098,
          2639,
          2825,
          2685,
          2642,
          2749,
          3214,
          2993,
          2727,
          2809,
          3073,
          2759,
          2675,
          2900,
          3249,
          2913,
          3093,
          2928,
          2705,
          3072,
          3099,
          2924,
          2927,
          2799,
          2981,
          3066,
          3004,
          2856,
          3017,
          2929,
          3220,
          3159,
          3253,
          2769,
          2946,
          2796,
          2936,
          2578,
          3116,
          2759,
          2809,
          3175,
          3119,
          2777,
          3129,
          2878,
          2829,
          2664,
          2690,
          3148,
          3113,
          3242,
          2973,
          3035,
          3154,
          3140,
          2633,
          3174,
          2937,
          3245,
          3111,
          2835,
          2945,
          3102,
          2792,
          3129,
          3241,
          2656,
          2975,
          3197,
          3233,
          2982,
          2767,
          2621,
          3002,
          2689,
          2831,
          3217,
          3232,
          3117,
          3162,
          3028,
          3205,
          2883,
          3040,
          2585,
          3233,
          2595,
          2953,
          3185,
          3154,
          3162,
          3241,
          3087,
          2655,
          3046,
          2619,
          2603,
          2589,
          2772,
          2621,
          2995,
          3173,
          3087,
          2781,
          2712,
          2938,
          2755,
          2860,
          2876,
          3072,
          2925,
          2756,
          2892,
          3111,
          2669,
          2916,
          2828,
          2950,
          2754,
          2988,
          3063,
          2820,
          2775,
          3225,
          3243,
          2600,
          3207,
          2845,
          2717,
          2690,
          2683,
          3171,
          2680,
          3248,
          3024,
          2827,
          3108,
          2607,
          3061,
          2616,
          2602,
          3179,
          3171,
          2746,
          2887,
          2807,
          3192,
          3218,
          2792,
          2933,
          2719,
          3174,
          3208,
          3138,
          3098,
          3007,
          2650,
          2999,
          2603,
          3017,
          3257,
          2791,
          3112,
          3239,
          2938,
          3164,
          2774,
          2910,
          2938,
          3125,
          3023,
          2979,
          3006,
          3076,
          2929,
          2875,
          2718,
          2882,
          3224,
          3137,
          2779,
          2586,
          3251,
          2803,
          3064,
          2849,
          2996,
          2942,
          3009,
          2727,
          2890,
          2753,
          2799,
          3257,
          3143,
          2955,
          2678,
          2738,
          2773,
          2657,
          2655,
          2707,
          3002,
          2800,
          3220,
          3050,
          2895,
          2858,
          2943,
          2934,
          2730,
          2801,
          2587,
          3136,
          2860,
          2924,
          3134,
          3220,
          2718,
          2854,
          2897,
          2835,
          2654,
          2875,
          2851,
          2920,
          3033,
          2817,
          3005,
          2652,
          2637,
          2853,
          2878,
          3190,
          2796,
          2715,
          2856,
          2848,
          3176,
          2818,
          2955,
          3246,
          3058,
          3232,
          2850,
          3132,
          3084,
          3112,
          2703,
          3040,
          3176,
          2879,
          2911,
          3130,
          2809,
          3162,
          2903,
          2984,
          2956,
          3033,
          3246,
          2918,
          2915,
          2748,
          3090,
          2956,
          3211,
          3226,
          3123,
          2787,
          2581,
          2730,
          3002,
          2676,
          2955,
          3102,
          3204,
          3197,
          2612,
          3111,
          2880,
          2763,
          2602,
          2851,
          3236,
          3251,
          2642,
          3260,
          2707,
          2741,
          3210,
          2867,
          3134,
          2792,
          2751,
          3225,
          3109,
          3113,
          2974,
          2842,
          2981,
          2799,
          2900,
          2798,
          3220,
          2760,
          3140,
          2603,
          2743,
          2753,
          2819,
          3233,
          2904,
          2813,
          2757,
          3044,
          3220,
          3259,
          2837,
          2873,
          2917,
          2804,
          2961,
          2903,
          2660,
          3012,
          2803,
          2850,
          2674,
          2750,
          2567,
          3010,
          2917,
          3181,
          3059,
          2976,
          2891,
          3134,
          3068,
          3020,
          2657,
          3122,
          2988,
          2602,
          3066,
          2586,
          2720,
          2826,
          2840,
          3256,
          2947,
          2821,
          3022,
          2591,
          3033,
          3254,
          3028,
          3045,
          2744,
          2897,
          2767,
          2677,
          2745,
          2834,
          2751,
          2623,
          3070,
          3252,
          2848,
          3036,
          2649,
          2834,
          2631,
          2809,
          2603,
          2993,
          3221,
          3227,
          2866,
          2964,
          2926,
          2764,
          2996,
          3007,
          3133,
          3045,
          2868,
          2719,
          2758,
          2855,
          2650,
          2641,
          2614,
          2667,
          2941,
          3173,
          2699,
          3224,
          3095,
          2808,
          3015,
          2566,
          3179,
          3049,
          2762,
          2763,
          3025,
          3091,
          2801,
          2802,
          2663,
          2816,
          3014,
          2821,
          3000,
          2594,
          3075,
          2783,
          2613,
          2674,
          3147,
          2657,
          2866,
          2890,
          3002,
          3004,
          3098,
          2979,
          2685,
          2784,
          3222,
          2985,
          2835,
          3065,
          3022,
          2995,
          3209,
          2927,
          2893,
          3142,
          2613,
          3161,
          2902,
          3203,
          3117,
          2814,
          2980,
          2946,
          2734,
          3019,
          2682,
          3060,
          3198,
          2719,
          2699,
          3101,
          3198,
          2759,
          2948,
          3025,
          2843,
          2984,
          3185,
          2583,
          2651,
          2831,
          2929,
          3065,
          2650,
          3093,
          3186,
          2906,
          2575,
          3220,
          2927,
          3145,
          2765,
          3019,
          2760,
          3224,
          2731,
          2625,
          3129,
          2891,
          2722,
          2887,
          2815,
          3073,
          2882,
          2915,
          2772,
          3027,
          2646,
          2774,
          2741,
          2676,
          2930,
          2799,
          3085,
          2915,
          2979,
          2750,
          2789,
          3003,
          3086,
          2621,
          3232,
          2621,
          2789,
          2647,
          2704,
          3119,
          2603,
          2600,
          2813,
          2915,
          2889,
          2949,
          2909,
          3119,
          2698,
          2837,
          2770,
          3201,
          2615,
          3081,
          2979,
          2614,
          3069,
          3140,
          3246,
          2618,
          2993,
          3211,
          2618,
          3111,
          2823,
          2569,
          2855,
          3190,
          3007,
          3189,
          2712,
          3093,
          3159,
          2789,
          3188,
          2711,
          2826,
          2742,
          2917,
          2572,
          2891,
          2823,
          2877,
          2781,
          2978,
          2565,
          3142,
          2696,
          2572,
          2660,
          2689,
          2803,
          3066,
          2973,
          3166,
          2980,
          2734,
          3044,
          3222,
          2637,
          2636,
          2962,
          3107,
          3059,
          2575,
          2922,
          3047,
          2570,
          3168,
          3012,
          3081,
          2897,
          3167,
          3093,
          2569,
          3088,
          3234,
          2688,
          2849,
          2961,
          3168,
          3214,
          2899,
          3189,
          2842,
          2824,
          3158,
          3063,
          3065,
          3015,
          3197,
          3234,
          2889,
          3144,
          3020,
          3100,
          2644,
          3220,
          3260,
          3259,
          2682,
          2600,
          3138,
          3141,
          2690,
          2911,
          2878,
          2723,
          2998,
          2669,
          3154,
          3241,
          2881,
          3075,
          2825,
          2622,
          2669,
          2629,
          2875,
          2937,
          2674,
          2891,
          2592,
          3171,
          2997,
          3108,
          2970,
          2896,
          2811,
          2662,
          2575,
          2895,
          2594,
          3054,
          2705,
          2868,
          3094,
          2855,
          2831,
          3149,
          2973,
          2752,
          3153,
          3123,
          3255,
          2631,
          3098,
          2756,
          2827,
          2587,
          2601,
          3258,
          2987,
          2603,
          3077,
          2939,
          3079,
          2614,
          2881,
          2801,
          2724,
          3218,
          2794,
          2923,
          3234,
          3234,
          2652,
          2597,
          2908,
          3136,
          2596,
          3040,
          2663,
          3218,
          3241,
          2824,
          2967,
          2924,
          3241,
          2961,
          2723,
          2669,
          3237,
          3102,
          2793,
          3168,
          2973,
          3007,
          3097,
          3105,
          2987,
          2617,
          2896,
          2876,
          3135,
          2687,
          3119,
          2635,
          2697,
          2998,
          2999,
          2866,
          2650,
          3223,
          2856,
          3085,
          2745,
          2881,
          2808,
          2968,
          3005,
          3171,
          2931,
          2912,
          3255,
          2831,
          3091,
          3241,
          2845,
          2845,
          2992,
          2883,
          2656,
          3064,
          2930,
          2705,
          3030,
          2623,
          2599,
          2638,
          2925,
          2777,
          2727,
          2834,
          2635,
          3259,
          2607,
          3138,
          3015,
          2662,
          2855,
          2819,
          3264,
          3260,
          2613,
          2923,
          2680,
          3208,
          3071,
          2878,
          2573,
          3088,
          3032,
          3150,
          3109,
          2777,
          3212,
          2908,
          3166,
          3037,
          2951,
          3111,
          2862,
          2898,
          2668,
          2769,
          2643,
          2657,
          2812,
          3114,
          2955,
          2696,
          3054,
          2931,
          3017,
          2907,
          2714,
          3148,
          2872,
          2800,
          2734,
          3000,
          2836,
          2584,
          2900,
          2713,
          2998,
          2953,
          2657,
          3065,
          2637,
          2842,
          2764,
          2679,
          3129,
          2900,
          2850,
          2982,
          2635,
          2821,
          3255,
          3150,
          3063,
          3031,
          3059,
          3069,
          2939,
          2987,
          3021,
          2816,
          3163,
          2718,
          3034,
          2627,
          2747,
          2833,
          3206,
          2960,
          3263,
          3228,
          2799,
          2781,
          2750,
          2612,
          2626,
          2751,
          2984,
          3048,
          3139,
          2746,
          3019,
          2620,
          2926,
          3229,
          2733,
          3196,
          2684,
          2878,
          3125,
          2623,
          2826,
          2834,
          2684,
          3162,
          2610,
          2899,
          2603,
          2707,
          2999,
          3131,
          3238,
          2657,
          2634,
          3250,
          3190,
          3256,
          3009,
          2759,
          3224,
          3226,
          3204,
          2696,
          3066,
          2949,
          3094,
          2691,
          2670,
          2717,
          2644,
          2824,
          2698,
          3113,
          2986,
          3007,
          2851,
          2656,
          3047,
          3015,
          2701,
          2753,
          2807,
          3238,
          3085,
          2632,
          3065,
          2911,
          2846,
          3229,
          2822,
          3125,
          2812,
          2663,
          3062,
          2585,
          2793,
          2837,
          3235,
          2569,
          3189,
          3098,
          3218,
          2879,
          2576,
          2921,
          2939,
          3066,
          2706,
          3094,
          2755,
          2988,
          2993,
          3155,
          3067,
          3148,
          2804,
          2809,
          3019,
          3232,
          2821,
          2876,
          3261,
          3048,
          2572,
          2796,
          2935,
          3089,
          2836,
          2765,
          2719,
          2775,
          3158,
          3097,
          3068,
          2701,
          3246,
          3166,
          2920,
          2812,
          2951,
          2712,
          3245,
          3146,
          2628,
          2990,
          2675,
          3143,
          2858,
          2847,
          3160,
          2956,
          2964,
          2707,
          2619,
          3007,
          3151,
          2650,
          3130,
          3027,
          2580,
          3245,
          3228,
          3197,
          2756,
          2769,
          3098,
          2658,
          3043,
          3142,
          2964,
          3232,
          3097,
          2865,
          3162,
          3090,
          3022,
          2825,
          2678,
          3230,
          3251,
          2852,
          2945,
          3087,
          2908,
          3065,
          2802,
          3170,
          2576,
          2578,
          3091,
          2640,
          3205,
          3024,
          3168,
          2809,
          3246,
          3022,
          2663,
          2938,
          3087,
          2722,
          2765,
          2774,
          2632,
          2689,
          3244,
          2567,
          3010,
          3135,
          3065,
          2872,
          2650,
          3184,
          2699,
          3204,
          2630,
          2932,
          2868,
          2684,
          2902,
          3094,
          2677,
          2644,
          3253,
          3137,
          2889,
          2747,
          2832,
          2810,
          2607,
          2718,
          3163,
          3098,
          3207,
          3094,
          3087,
          2683,
          3224,
          3034,
          2692,
          2812,
          2867,
          2816,
          2662,
          2940,
          2829,
          3008,
          2942,
          2835,
          2575,
          2932,
          2663,
          3175,
          2766,
          2623,
          2980,
          2764,
          2972,
          2618,
          2688,
          3243,
          3225,
          2991,
          2907,
          2678,
          2962,
          2712,
          2905,
          2988,
          2975,
          2596,
          2735,
          2856,
          2940,
          2878,
          2747,
          2787,
          2862,
          3149,
          3143,
          3026,
          2932,
          3067,
          2722,
          2728,
          3168,
          2590,
          2812,
          2661,
          3255,
          3106,
          2910,
          2910,
          2923,
          3060,
          3236,
          3110,
          2967,
          3213,
          3210,
          2681,
          3232,
          2656,
          2786,
          2665,
          3200,
          2844,
          3247,
          2743,
          2685,
          3011,
          2596,
          3158,
          2970,
          2617,
          2862,
          3097,
          2717,
          2637,
          3173,
          3103,
          3043,
          3062,
          2663,
          3113,
          2984,
          3061,
          2631,
          2765,
          3002,
          2597,
          3094,
          3090,
          3176,
          3151,
          2839,
          2961,
          3220,
          2687,
          3116,
          3034,
          2800,
          2894,
          2615,
          2964,
          2857,
          3041,
          2814,
          2878,
          2860,
          3025,
          2578,
          2982,
          2579,
          3214,
          3002,
          3197,
          2951,
          2668,
          3173,
          3234,
          3189,
          2892,
          2897,
          3124,
          2697,
          3188,
          2778,
          3109,
          3168,
          3211,
          2767,
          3235,
          2804,
          2893,
          2643,
          2707,
          2945,
          2834,
          2639,
          2623,
          2567,
          2992,
          3031,
          2951,
          2769,
          2955,
          2627,
          3198,
          3155,
          3065,
          2908,
          2910,
          2867,
          2579,
          2826,
          2833,
          2889,
          3228,
          2852,
          2873,
          3064,
          2967,
          2968,
          2829,
          3036,
          3062,
          2666,
          2856,
          3131,
          2858,
          3260,
          3210,
          3068,
          2632,
          2867,
          2769,
          2571,
          2921,
          2734,
          2712,
          2971,
          3173,
          3099,
          2857,
          3154,
          2925,
          3084,
          3214,
          3164,
          2761,
          2891,
          2823,
          2861,
          2614,
          3201,
          2685,
          2947,
          2639,
          3108,
          2636,
          2707,
          3247,
          3060,
          2914,
          3187,
          2637,
          2606,
          3168,
          2726,
          2858,
          3232,
          3083,
          2599,
          2817,
          2597,
          2946,
          3056,
          2642,
          2668,
          2813,
          2979,
          2861,
          2709,
          3032,
          2635,
          3188,
          3085,
          3063,
          2959,
          3059,
          3115,
          2572,
          2726,
          3102,
          2862,
          2936,
          3158,
          2942,
          2786,
          2839,
          2738,
          2654,
          3012,
          3226,
          3041,
          3152,
          2663,
          2867,
          3096,
          3256,
          2630,
          3218,
          3073,
          3169,
          2574,
          3020,
          3067,
          2849,
          2613,
          3250,
          2783,
          2622,
          2728,
          2618,
          2926,
          2577,
          2984,
          2740,
          2874,
          2815,
          2686,
          3109,
          3013,
          2799,
          2832,
          3261,
          2847,
          2645,
          3052,
          3214,
          2949,
          3067,
          3117,
          3073,
          2937,
          2816,
          2642,
          3023,
          3003,
          3116,
          2743,
          3043,
          2752,
          3226,
          2582,
          2849,
          2799,
          3145,
          2850,
          2684,
          2970,
          3065,
          3083,
          3256,
          3022,
          3050,
          3005,
          2656,
          3207,
          2702,
          3015,
          2724,
          2709,
          3063,
          2691,
          3039,
          2820,
          3262,
          2780,
          2794,
          2991,
          2771,
          3198,
          2958,
          3023,
          2988,
          3207,
          2777,
          2775,
          3221,
          2776,
          2585,
          3246,
          2749,
          3042,
          2572,
          2592,
          2568,
          3032,
          3196,
          2908,
          3105,
          2972,
          2749,
          2959,
          2812,
          3098,
          3251,
          3104,
          2861,
          3173,
          2650,
          2818,
          2893,
          2751,
          2852,
          3100,
          2922,
          2707,
          2924,
          2659,
          3048,
          2936,
          3237,
          2819,
          3164,
          3097,
          3063,
          3126,
          2833,
          2800,
          2867,
          2816,
          2623,
          2969,
          2837,
          2962,
          2666,
          2603,
          3215,
          3051,
          3173,
          2949,
          2951,
          2957,
          2609,
          2805,
          2905,
          2772,
          2872,
          2724,
          3010,
          3184,
          3220,
          2888,
          3233,
          3260,
          2896,
          3229,
          2803,
          2998,
          2869,
          3249,
          2735,
          2649,
          2614,
          2685,
          3257,
          2715,
          2722,
          3078,
          2686,
          2661,
          2662,
          2923,
          2825,
          2761,
          2717,
          2932,
          2613,
          2626,
          2723,
          2720,
          3191,
          2682,
          2897,
          2809,
          2935,
          3065,
          2783,
          2728,
          2900,
          3119,
          3184,
          2813,
          2802,
          2632,
          2970,
          2668,
          2735,
          2670,
          3054,
          3058,
          3261,
          3029,
          2634,
          2568,
          2893,
          3148,
          3184,
          3108,
          3063,
          3187,
          3252,
          3134,
          2914,
          3066,
          2709,
          2624,
          3190,
          2899,
          3121,
          3030,
          2650,
          2940,
          3188,
          2780,
          2983,
          2569,
          3206,
          3027,
          3048,
          2607,
          3242,
          3246,
          2957,
          2928,
          2946,
          2721,
          3187
         ]
        },
        {
         "name": "Принимали участие",
         "type": "box",
         "y": [
          2673,
          3147,
          3023,
          3118,
          2784,
          3192,
          3078,
          2587,
          3152,
          2925,
          2667,
          3015,
          3190,
          3108,
          2913,
          2597,
          2613,
          3149,
          2775,
          3161,
          2569,
          3108,
          2721,
          3039,
          3034,
          2606,
          2679,
          3060,
          2788,
          2870,
          2651,
          3125,
          2775,
          3223,
          2848,
          2655,
          2565,
          3169,
          3161,
          2768,
          3222,
          2791,
          3105,
          2809,
          2778,
          2970,
          3015,
          3186,
          3192,
          2568,
          3187,
          3018,
          2925,
          3171,
          3240,
          2669,
          3023,
          2681,
          2857,
          2956,
          2875,
          3100,
          3135,
          3048,
          3148,
          2883,
          2742,
          3100,
          2979,
          3204,
          2869,
          3160,
          3033,
          2821,
          2742,
          2815,
          3021,
          2786,
          2700,
          3057,
          2955,
          3007,
          2631,
          2650,
          2981,
          2747,
          3217,
          3019,
          2744,
          2568,
          2997,
          3259,
          3244,
          3057,
          2779,
          2965,
          2817,
          2669,
          2685,
          2685,
          3202,
          2576,
          2699,
          2891,
          2719,
          2647,
          3015,
          2968,
          3079,
          3161,
          3209,
          2608,
          3129,
          2618,
          2676,
          2956,
          2699,
          2800,
          2983,
          3041,
          3089,
          2697,
          2816,
          3172,
          2943,
          2609,
          3198,
          2646,
          2703,
          2626,
          3100,
          2785,
          3100,
          3209,
          3262,
          2783,
          3005,
          2828,
          2626,
          2720,
          2978,
          2852,
          2716,
          3051,
          2980,
          3108,
          2596,
          3164,
          2910,
          3090,
          3014,
          3029,
          2985,
          2579,
          2968,
          2983,
          2665,
          2732,
          3165,
          2599,
          2669,
          2985,
          2839,
          2739,
          2850,
          2704,
          3070,
          3078,
          2785,
          3138,
          2891,
          2972,
          2642,
          2607,
          2704,
          2746,
          3251,
          2968,
          2962,
          3047,
          3201,
          2617,
          2879,
          3262,
          2855,
          2883,
          2812,
          2665,
          3232,
          2797,
          2885,
          3222,
          2828,
          3024,
          3077,
          2978,
          2719,
          3238,
          2648,
          2877,
          2930,
          2613,
          2656,
          2632,
          2602,
          2924,
          2648,
          2589,
          3201,
          2904,
          2606,
          2624,
          2926,
          2989,
          3077,
          3106,
          2596,
          2829,
          2791,
          2715,
          3050,
          2697,
          2870,
          2821,
          2847,
          3095,
          3159,
          2808,
          2787,
          3189,
          3210,
          3182,
          2697,
          2733,
          2701,
          3091,
          2873,
          3154,
          3020,
          3192,
          3059,
          2784,
          2698,
          2825,
          2810,
          3039,
          3084,
          2899,
          2825,
          3180,
          2833,
          2601,
          2601,
          2871,
          2913,
          3057,
          2667,
          2882,
          2606,
          2968,
          2771,
          2829,
          2648,
          3237,
          3053,
          2760,
          3211,
          3254,
          3245,
          3148,
          3069,
          2935,
          2695,
          3047,
          3170,
          2602,
          2731,
          2738,
          3229,
          2789,
          2849,
          3245,
          2596,
          3201,
          2867,
          3162,
          2998,
          2783,
          2904,
          3198,
          2878,
          2934,
          2730,
          2970,
          2723,
          3160,
          2757,
          2986,
          3178,
          2840,
          3140,
          2702,
          2719,
          2642,
          2978,
          3231,
          2721,
          2584,
          3099,
          2902,
          3247,
          3243,
          2666,
          3164,
          2690,
          3130,
          2975,
          3186,
          2602,
          3174,
          3139,
          3147,
          2701,
          2627,
          2606,
          2752,
          3232,
          2822,
          3206,
          2958,
          3021,
          2881,
          2878,
          2844,
          2578,
          2571,
          3057,
          2899,
          3099,
          2956,
          2829,
          2906,
          3052,
          3212,
          2577,
          2870,
          3161,
          3146,
          2989,
          2762,
          2653,
          2993,
          2674,
          2780,
          2601,
          2631,
          3048,
          3186,
          3067,
          2817,
          2883,
          2916,
          2588,
          3188,
          2735,
          3166,
          2566,
          3090,
          2839,
          2648,
          3029,
          2956,
          3220,
          3214,
          2886,
          3162,
          3195,
          2676,
          2724,
          2625,
          2971,
          2799,
          3053,
          2623,
          2591,
          3223,
          2655,
          2720,
          2841,
          3161,
          3241,
          3239,
          3182,
          2836,
          3148,
          2708,
          3180,
          2997,
          2920,
          3052,
          2722,
          3065,
          2661,
          3136,
          2702,
          2760,
          2820,
          2652,
          2602,
          3234,
          3094,
          3066,
          2892,
          3225,
          3041,
          2839,
          3071,
          2856,
          2845,
          2807,
          2655,
          3122,
          3225,
          3203,
          3142,
          2695,
          3126,
          3215,
          3120,
          2574,
          2833,
          3021,
          3040,
          2835,
          2728,
          2783,
          3215,
          2835,
          2674,
          2956,
          3024,
          2753,
          2681,
          2931,
          2676,
          3099,
          3103,
          3044,
          3100,
          2708,
          2614,
          3165,
          3262,
          2877,
          2941,
          2663,
          2925,
          2736,
          3251,
          3035,
          2584,
          2720
         ]
        }
       ],
       "layout": {
        "showlegend": false,
        "template": {
         "data": {
          "bar": [
           {
            "error_x": {
             "color": "#2a3f5f"
            },
            "error_y": {
             "color": "#2a3f5f"
            },
            "marker": {
             "line": {
              "color": "#E5ECF6",
              "width": 0.5
             }
            },
            "type": "bar"
           }
          ],
          "barpolar": [
           {
            "marker": {
             "line": {
              "color": "#E5ECF6",
              "width": 0.5
             }
            },
            "type": "barpolar"
           }
          ],
          "carpet": [
           {
            "aaxis": {
             "endlinecolor": "#2a3f5f",
             "gridcolor": "white",
             "linecolor": "white",
             "minorgridcolor": "white",
             "startlinecolor": "#2a3f5f"
            },
            "baxis": {
             "endlinecolor": "#2a3f5f",
             "gridcolor": "white",
             "linecolor": "white",
             "minorgridcolor": "white",
             "startlinecolor": "#2a3f5f"
            },
            "type": "carpet"
           }
          ],
          "choropleth": [
           {
            "colorbar": {
             "outlinewidth": 0,
             "ticks": ""
            },
            "type": "choropleth"
           }
          ],
          "contour": [
           {
            "colorbar": {
             "outlinewidth": 0,
             "ticks": ""
            },
            "colorscale": [
             [
              0,
              "#0d0887"
             ],
             [
              0.1111111111111111,
              "#46039f"
             ],
             [
              0.2222222222222222,
              "#7201a8"
             ],
             [
              0.3333333333333333,
              "#9c179e"
             ],
             [
              0.4444444444444444,
              "#bd3786"
             ],
             [
              0.5555555555555556,
              "#d8576b"
             ],
             [
              0.6666666666666666,
              "#ed7953"
             ],
             [
              0.7777777777777778,
              "#fb9f3a"
             ],
             [
              0.8888888888888888,
              "#fdca26"
             ],
             [
              1,
              "#f0f921"
             ]
            ],
            "type": "contour"
           }
          ],
          "contourcarpet": [
           {
            "colorbar": {
             "outlinewidth": 0,
             "ticks": ""
            },
            "type": "contourcarpet"
           }
          ],
          "heatmap": [
           {
            "colorbar": {
             "outlinewidth": 0,
             "ticks": ""
            },
            "colorscale": [
             [
              0,
              "#0d0887"
             ],
             [
              0.1111111111111111,
              "#46039f"
             ],
             [
              0.2222222222222222,
              "#7201a8"
             ],
             [
              0.3333333333333333,
              "#9c179e"
             ],
             [
              0.4444444444444444,
              "#bd3786"
             ],
             [
              0.5555555555555556,
              "#d8576b"
             ],
             [
              0.6666666666666666,
              "#ed7953"
             ],
             [
              0.7777777777777778,
              "#fb9f3a"
             ],
             [
              0.8888888888888888,
              "#fdca26"
             ],
             [
              1,
              "#f0f921"
             ]
            ],
            "type": "heatmap"
           }
          ],
          "heatmapgl": [
           {
            "colorbar": {
             "outlinewidth": 0,
             "ticks": ""
            },
            "colorscale": [
             [
              0,
              "#0d0887"
             ],
             [
              0.1111111111111111,
              "#46039f"
             ],
             [
              0.2222222222222222,
              "#7201a8"
             ],
             [
              0.3333333333333333,
              "#9c179e"
             ],
             [
              0.4444444444444444,
              "#bd3786"
             ],
             [
              0.5555555555555556,
              "#d8576b"
             ],
             [
              0.6666666666666666,
              "#ed7953"
             ],
             [
              0.7777777777777778,
              "#fb9f3a"
             ],
             [
              0.8888888888888888,
              "#fdca26"
             ],
             [
              1,
              "#f0f921"
             ]
            ],
            "type": "heatmapgl"
           }
          ],
          "histogram": [
           {
            "marker": {
             "colorbar": {
              "outlinewidth": 0,
              "ticks": ""
             }
            },
            "type": "histogram"
           }
          ],
          "histogram2d": [
           {
            "colorbar": {
             "outlinewidth": 0,
             "ticks": ""
            },
            "colorscale": [
             [
              0,
              "#0d0887"
             ],
             [
              0.1111111111111111,
              "#46039f"
             ],
             [
              0.2222222222222222,
              "#7201a8"
             ],
             [
              0.3333333333333333,
              "#9c179e"
             ],
             [
              0.4444444444444444,
              "#bd3786"
             ],
             [
              0.5555555555555556,
              "#d8576b"
             ],
             [
              0.6666666666666666,
              "#ed7953"
             ],
             [
              0.7777777777777778,
              "#fb9f3a"
             ],
             [
              0.8888888888888888,
              "#fdca26"
             ],
             [
              1,
              "#f0f921"
             ]
            ],
            "type": "histogram2d"
           }
          ],
          "histogram2dcontour": [
           {
            "colorbar": {
             "outlinewidth": 0,
             "ticks": ""
            },
            "colorscale": [
             [
              0,
              "#0d0887"
             ],
             [
              0.1111111111111111,
              "#46039f"
             ],
             [
              0.2222222222222222,
              "#7201a8"
             ],
             [
              0.3333333333333333,
              "#9c179e"
             ],
             [
              0.4444444444444444,
              "#bd3786"
             ],
             [
              0.5555555555555556,
              "#d8576b"
             ],
             [
              0.6666666666666666,
              "#ed7953"
             ],
             [
              0.7777777777777778,
              "#fb9f3a"
             ],
             [
              0.8888888888888888,
              "#fdca26"
             ],
             [
              1,
              "#f0f921"
             ]
            ],
            "type": "histogram2dcontour"
           }
          ],
          "mesh3d": [
           {
            "colorbar": {
             "outlinewidth": 0,
             "ticks": ""
            },
            "type": "mesh3d"
           }
          ],
          "parcoords": [
           {
            "line": {
             "colorbar": {
              "outlinewidth": 0,
              "ticks": ""
             }
            },
            "type": "parcoords"
           }
          ],
          "pie": [
           {
            "automargin": true,
            "type": "pie"
           }
          ],
          "scatter": [
           {
            "marker": {
             "colorbar": {
              "outlinewidth": 0,
              "ticks": ""
             }
            },
            "type": "scatter"
           }
          ],
          "scatter3d": [
           {
            "line": {
             "colorbar": {
              "outlinewidth": 0,
              "ticks": ""
             }
            },
            "marker": {
             "colorbar": {
              "outlinewidth": 0,
              "ticks": ""
             }
            },
            "type": "scatter3d"
           }
          ],
          "scattercarpet": [
           {
            "marker": {
             "colorbar": {
              "outlinewidth": 0,
              "ticks": ""
             }
            },
            "type": "scattercarpet"
           }
          ],
          "scattergeo": [
           {
            "marker": {
             "colorbar": {
              "outlinewidth": 0,
              "ticks": ""
             }
            },
            "type": "scattergeo"
           }
          ],
          "scattergl": [
           {
            "marker": {
             "colorbar": {
              "outlinewidth": 0,
              "ticks": ""
             }
            },
            "type": "scattergl"
           }
          ],
          "scattermapbox": [
           {
            "marker": {
             "colorbar": {
              "outlinewidth": 0,
              "ticks": ""
             }
            },
            "type": "scattermapbox"
           }
          ],
          "scatterpolar": [
           {
            "marker": {
             "colorbar": {
              "outlinewidth": 0,
              "ticks": ""
             }
            },
            "type": "scatterpolar"
           }
          ],
          "scatterpolargl": [
           {
            "marker": {
             "colorbar": {
              "outlinewidth": 0,
              "ticks": ""
             }
            },
            "type": "scatterpolargl"
           }
          ],
          "scatterternary": [
           {
            "marker": {
             "colorbar": {
              "outlinewidth": 0,
              "ticks": ""
             }
            },
            "type": "scatterternary"
           }
          ],
          "surface": [
           {
            "colorbar": {
             "outlinewidth": 0,
             "ticks": ""
            },
            "colorscale": [
             [
              0,
              "#0d0887"
             ],
             [
              0.1111111111111111,
              "#46039f"
             ],
             [
              0.2222222222222222,
              "#7201a8"
             ],
             [
              0.3333333333333333,
              "#9c179e"
             ],
             [
              0.4444444444444444,
              "#bd3786"
             ],
             [
              0.5555555555555556,
              "#d8576b"
             ],
             [
              0.6666666666666666,
              "#ed7953"
             ],
             [
              0.7777777777777778,
              "#fb9f3a"
             ],
             [
              0.8888888888888888,
              "#fdca26"
             ],
             [
              1,
              "#f0f921"
             ]
            ],
            "type": "surface"
           }
          ],
          "table": [
           {
            "cells": {
             "fill": {
              "color": "#EBF0F8"
             },
             "line": {
              "color": "white"
             }
            },
            "header": {
             "fill": {
              "color": "#C8D4E3"
             },
             "line": {
              "color": "white"
             }
            },
            "type": "table"
           }
          ]
         },
         "layout": {
          "annotationdefaults": {
           "arrowcolor": "#2a3f5f",
           "arrowhead": 0,
           "arrowwidth": 1
          },
          "coloraxis": {
           "colorbar": {
            "outlinewidth": 0,
            "ticks": ""
           }
          },
          "colorscale": {
           "diverging": [
            [
             0,
             "#8e0152"
            ],
            [
             0.1,
             "#c51b7d"
            ],
            [
             0.2,
             "#de77ae"
            ],
            [
             0.3,
             "#f1b6da"
            ],
            [
             0.4,
             "#fde0ef"
            ],
            [
             0.5,
             "#f7f7f7"
            ],
            [
             0.6,
             "#e6f5d0"
            ],
            [
             0.7,
             "#b8e186"
            ],
            [
             0.8,
             "#7fbc41"
            ],
            [
             0.9,
             "#4d9221"
            ],
            [
             1,
             "#276419"
            ]
           ],
           "sequential": [
            [
             0,
             "#0d0887"
            ],
            [
             0.1111111111111111,
             "#46039f"
            ],
            [
             0.2222222222222222,
             "#7201a8"
            ],
            [
             0.3333333333333333,
             "#9c179e"
            ],
            [
             0.4444444444444444,
             "#bd3786"
            ],
            [
             0.5555555555555556,
             "#d8576b"
            ],
            [
             0.6666666666666666,
             "#ed7953"
            ],
            [
             0.7777777777777778,
             "#fb9f3a"
            ],
            [
             0.8888888888888888,
             "#fdca26"
            ],
            [
             1,
             "#f0f921"
            ]
           ],
           "sequentialminus": [
            [
             0,
             "#0d0887"
            ],
            [
             0.1111111111111111,
             "#46039f"
            ],
            [
             0.2222222222222222,
             "#7201a8"
            ],
            [
             0.3333333333333333,
             "#9c179e"
            ],
            [
             0.4444444444444444,
             "#bd3786"
            ],
            [
             0.5555555555555556,
             "#d8576b"
            ],
            [
             0.6666666666666666,
             "#ed7953"
            ],
            [
             0.7777777777777778,
             "#fb9f3a"
            ],
            [
             0.8888888888888888,
             "#fdca26"
            ],
            [
             1,
             "#f0f921"
            ]
           ]
          },
          "colorway": [
           "#636efa",
           "#EF553B",
           "#00cc96",
           "#ab63fa",
           "#FFA15A",
           "#19d3f3",
           "#FF6692",
           "#B6E880",
           "#FF97FF",
           "#FECB52"
          ],
          "font": {
           "color": "#2a3f5f"
          },
          "geo": {
           "bgcolor": "white",
           "lakecolor": "white",
           "landcolor": "#E5ECF6",
           "showlakes": true,
           "showland": true,
           "subunitcolor": "white"
          },
          "hoverlabel": {
           "align": "left"
          },
          "hovermode": "closest",
          "mapbox": {
           "style": "light"
          },
          "paper_bgcolor": "white",
          "plot_bgcolor": "#E5ECF6",
          "polar": {
           "angularaxis": {
            "gridcolor": "white",
            "linecolor": "white",
            "ticks": ""
           },
           "bgcolor": "#E5ECF6",
           "radialaxis": {
            "gridcolor": "white",
            "linecolor": "white",
            "ticks": ""
           }
          },
          "scene": {
           "xaxis": {
            "backgroundcolor": "#E5ECF6",
            "gridcolor": "white",
            "gridwidth": 2,
            "linecolor": "white",
            "showbackground": true,
            "ticks": "",
            "zerolinecolor": "white"
           },
           "yaxis": {
            "backgroundcolor": "#E5ECF6",
            "gridcolor": "white",
            "gridwidth": 2,
            "linecolor": "white",
            "showbackground": true,
            "ticks": "",
            "zerolinecolor": "white"
           },
           "zaxis": {
            "backgroundcolor": "#E5ECF6",
            "gridcolor": "white",
            "gridwidth": 2,
            "linecolor": "white",
            "showbackground": true,
            "ticks": "",
            "zerolinecolor": "white"
           }
          },
          "shapedefaults": {
           "line": {
            "color": "#2a3f5f"
           }
          },
          "ternary": {
           "aaxis": {
            "gridcolor": "white",
            "linecolor": "white",
            "ticks": ""
           },
           "baxis": {
            "gridcolor": "white",
            "linecolor": "white",
            "ticks": ""
           },
           "bgcolor": "#E5ECF6",
           "caxis": {
            "gridcolor": "white",
            "linecolor": "white",
            "ticks": ""
           }
          },
          "title": {
           "x": 0.05
          },
          "xaxis": {
           "automargin": true,
           "gridcolor": "white",
           "linecolor": "white",
           "ticks": "",
           "title": {
            "standoff": 15
           },
           "zerolinecolor": "white",
           "zerolinewidth": 2
          },
          "yaxis": {
           "automargin": true,
           "gridcolor": "white",
           "linecolor": "white",
           "ticks": "",
           "title": {
            "standoff": 15
           },
           "zerolinecolor": "white",
           "zerolinewidth": 2
          }
         }
        },
        "title": {
         "text": "Сравнение клиентов"
        }
       }
      }
     },
     "metadata": {}
    }
   ],
   "source": [
    "zero_parc = data.loc[data.Num_program==0, 'In_program']\n",
    "other = data.loc[data.Num_program!=0, 'In_program']\n",
    "fig = go.Figure()\n",
    "fig.add_trace(go.Box(y=zero_parc, name='Не принимали участие'))\n",
    "fig.add_trace(go.Box(y=other, name='Принимали участие'))\n",
    "fig.update_layout(title='Сравнение клиентов',showlegend=False)"
   ]
  },
  {
   "source": [
    "По графикам видно, что между клиентами нет особых различий. Чтобы точно в этом удостовериться проведём дисперсионный анализ. Нулевая гипотеза будет заключаться в том, что выборки с числом дней не различаются, то есть пользователи не являются новыми."
   ],
   "cell_type": "markdown",
   "metadata": {}
  },
  {
   "cell_type": "code",
   "execution_count": 28,
   "metadata": {},
   "outputs": [
    {
     "output_type": "execute_result",
     "data": {
      "text/plain": [
       "0.2792043421853573"
      ]
     },
     "metadata": {},
     "execution_count": 28
    }
   ],
   "source": [
    "from scipy.stats import mannwhitneyu\n",
    "mannwhitneyu(x=zero_parc, y=other).pvalue"
   ]
  },
  {
   "source": [
    "P значение больше 0.05, мы не можем отвергнуть нулевую гипотезу, так что данные не имеют значительных различий и клиенты которые ни разу не участвовали в акциях не новые. Возможно дальше нам удастся понять почему они не принимали участия в акциях."
   ],
   "cell_type": "markdown",
   "metadata": {}
  },
  {
   "source": [
    "Сейчас посмотрим на количество клиентов участвоваших в каждой акции."
   ],
   "cell_type": "markdown",
   "metadata": {}
  },
  {
   "cell_type": "code",
   "execution_count": 29,
   "metadata": {},
   "outputs": [],
   "source": [
    "dict_parc = {}\n",
    "for num in range(1,6):\n",
    "    val = data.loc[data[f'AcceptedCmp{num}']==1, :]\n",
    "    dict_parc[f'AcceptedCmp{num}'] = val"
   ]
  },
  {
   "cell_type": "code",
   "execution_count": 30,
   "metadata": {},
   "outputs": [
    {
     "output_type": "display_data",
     "data": {
      "application/vnd.plotly.v1+json": {
       "config": {
        "plotlyServerURL": "https://plot.ly"
       },
       "data": [
        {
         "type": "bar",
         "x": [
          "AcceptedCmp1",
          "AcceptedCmp2",
          "AcceptedCmp3",
          "AcceptedCmp4",
          "AcceptedCmp5"
         ],
         "y": [
          144,
          30,
          163,
          167,
          162
         ]
        }
       ],
       "layout": {
        "template": {
         "data": {
          "bar": [
           {
            "error_x": {
             "color": "#2a3f5f"
            },
            "error_y": {
             "color": "#2a3f5f"
            },
            "marker": {
             "line": {
              "color": "#E5ECF6",
              "width": 0.5
             }
            },
            "type": "bar"
           }
          ],
          "barpolar": [
           {
            "marker": {
             "line": {
              "color": "#E5ECF6",
              "width": 0.5
             }
            },
            "type": "barpolar"
           }
          ],
          "carpet": [
           {
            "aaxis": {
             "endlinecolor": "#2a3f5f",
             "gridcolor": "white",
             "linecolor": "white",
             "minorgridcolor": "white",
             "startlinecolor": "#2a3f5f"
            },
            "baxis": {
             "endlinecolor": "#2a3f5f",
             "gridcolor": "white",
             "linecolor": "white",
             "minorgridcolor": "white",
             "startlinecolor": "#2a3f5f"
            },
            "type": "carpet"
           }
          ],
          "choropleth": [
           {
            "colorbar": {
             "outlinewidth": 0,
             "ticks": ""
            },
            "type": "choropleth"
           }
          ],
          "contour": [
           {
            "colorbar": {
             "outlinewidth": 0,
             "ticks": ""
            },
            "colorscale": [
             [
              0,
              "#0d0887"
             ],
             [
              0.1111111111111111,
              "#46039f"
             ],
             [
              0.2222222222222222,
              "#7201a8"
             ],
             [
              0.3333333333333333,
              "#9c179e"
             ],
             [
              0.4444444444444444,
              "#bd3786"
             ],
             [
              0.5555555555555556,
              "#d8576b"
             ],
             [
              0.6666666666666666,
              "#ed7953"
             ],
             [
              0.7777777777777778,
              "#fb9f3a"
             ],
             [
              0.8888888888888888,
              "#fdca26"
             ],
             [
              1,
              "#f0f921"
             ]
            ],
            "type": "contour"
           }
          ],
          "contourcarpet": [
           {
            "colorbar": {
             "outlinewidth": 0,
             "ticks": ""
            },
            "type": "contourcarpet"
           }
          ],
          "heatmap": [
           {
            "colorbar": {
             "outlinewidth": 0,
             "ticks": ""
            },
            "colorscale": [
             [
              0,
              "#0d0887"
             ],
             [
              0.1111111111111111,
              "#46039f"
             ],
             [
              0.2222222222222222,
              "#7201a8"
             ],
             [
              0.3333333333333333,
              "#9c179e"
             ],
             [
              0.4444444444444444,
              "#bd3786"
             ],
             [
              0.5555555555555556,
              "#d8576b"
             ],
             [
              0.6666666666666666,
              "#ed7953"
             ],
             [
              0.7777777777777778,
              "#fb9f3a"
             ],
             [
              0.8888888888888888,
              "#fdca26"
             ],
             [
              1,
              "#f0f921"
             ]
            ],
            "type": "heatmap"
           }
          ],
          "heatmapgl": [
           {
            "colorbar": {
             "outlinewidth": 0,
             "ticks": ""
            },
            "colorscale": [
             [
              0,
              "#0d0887"
             ],
             [
              0.1111111111111111,
              "#46039f"
             ],
             [
              0.2222222222222222,
              "#7201a8"
             ],
             [
              0.3333333333333333,
              "#9c179e"
             ],
             [
              0.4444444444444444,
              "#bd3786"
             ],
             [
              0.5555555555555556,
              "#d8576b"
             ],
             [
              0.6666666666666666,
              "#ed7953"
             ],
             [
              0.7777777777777778,
              "#fb9f3a"
             ],
             [
              0.8888888888888888,
              "#fdca26"
             ],
             [
              1,
              "#f0f921"
             ]
            ],
            "type": "heatmapgl"
           }
          ],
          "histogram": [
           {
            "marker": {
             "colorbar": {
              "outlinewidth": 0,
              "ticks": ""
             }
            },
            "type": "histogram"
           }
          ],
          "histogram2d": [
           {
            "colorbar": {
             "outlinewidth": 0,
             "ticks": ""
            },
            "colorscale": [
             [
              0,
              "#0d0887"
             ],
             [
              0.1111111111111111,
              "#46039f"
             ],
             [
              0.2222222222222222,
              "#7201a8"
             ],
             [
              0.3333333333333333,
              "#9c179e"
             ],
             [
              0.4444444444444444,
              "#bd3786"
             ],
             [
              0.5555555555555556,
              "#d8576b"
             ],
             [
              0.6666666666666666,
              "#ed7953"
             ],
             [
              0.7777777777777778,
              "#fb9f3a"
             ],
             [
              0.8888888888888888,
              "#fdca26"
             ],
             [
              1,
              "#f0f921"
             ]
            ],
            "type": "histogram2d"
           }
          ],
          "histogram2dcontour": [
           {
            "colorbar": {
             "outlinewidth": 0,
             "ticks": ""
            },
            "colorscale": [
             [
              0,
              "#0d0887"
             ],
             [
              0.1111111111111111,
              "#46039f"
             ],
             [
              0.2222222222222222,
              "#7201a8"
             ],
             [
              0.3333333333333333,
              "#9c179e"
             ],
             [
              0.4444444444444444,
              "#bd3786"
             ],
             [
              0.5555555555555556,
              "#d8576b"
             ],
             [
              0.6666666666666666,
              "#ed7953"
             ],
             [
              0.7777777777777778,
              "#fb9f3a"
             ],
             [
              0.8888888888888888,
              "#fdca26"
             ],
             [
              1,
              "#f0f921"
             ]
            ],
            "type": "histogram2dcontour"
           }
          ],
          "mesh3d": [
           {
            "colorbar": {
             "outlinewidth": 0,
             "ticks": ""
            },
            "type": "mesh3d"
           }
          ],
          "parcoords": [
           {
            "line": {
             "colorbar": {
              "outlinewidth": 0,
              "ticks": ""
             }
            },
            "type": "parcoords"
           }
          ],
          "pie": [
           {
            "automargin": true,
            "type": "pie"
           }
          ],
          "scatter": [
           {
            "marker": {
             "colorbar": {
              "outlinewidth": 0,
              "ticks": ""
             }
            },
            "type": "scatter"
           }
          ],
          "scatter3d": [
           {
            "line": {
             "colorbar": {
              "outlinewidth": 0,
              "ticks": ""
             }
            },
            "marker": {
             "colorbar": {
              "outlinewidth": 0,
              "ticks": ""
             }
            },
            "type": "scatter3d"
           }
          ],
          "scattercarpet": [
           {
            "marker": {
             "colorbar": {
              "outlinewidth": 0,
              "ticks": ""
             }
            },
            "type": "scattercarpet"
           }
          ],
          "scattergeo": [
           {
            "marker": {
             "colorbar": {
              "outlinewidth": 0,
              "ticks": ""
             }
            },
            "type": "scattergeo"
           }
          ],
          "scattergl": [
           {
            "marker": {
             "colorbar": {
              "outlinewidth": 0,
              "ticks": ""
             }
            },
            "type": "scattergl"
           }
          ],
          "scattermapbox": [
           {
            "marker": {
             "colorbar": {
              "outlinewidth": 0,
              "ticks": ""
             }
            },
            "type": "scattermapbox"
           }
          ],
          "scatterpolar": [
           {
            "marker": {
             "colorbar": {
              "outlinewidth": 0,
              "ticks": ""
             }
            },
            "type": "scatterpolar"
           }
          ],
          "scatterpolargl": [
           {
            "marker": {
             "colorbar": {
              "outlinewidth": 0,
              "ticks": ""
             }
            },
            "type": "scatterpolargl"
           }
          ],
          "scatterternary": [
           {
            "marker": {
             "colorbar": {
              "outlinewidth": 0,
              "ticks": ""
             }
            },
            "type": "scatterternary"
           }
          ],
          "surface": [
           {
            "colorbar": {
             "outlinewidth": 0,
             "ticks": ""
            },
            "colorscale": [
             [
              0,
              "#0d0887"
             ],
             [
              0.1111111111111111,
              "#46039f"
             ],
             [
              0.2222222222222222,
              "#7201a8"
             ],
             [
              0.3333333333333333,
              "#9c179e"
             ],
             [
              0.4444444444444444,
              "#bd3786"
             ],
             [
              0.5555555555555556,
              "#d8576b"
             ],
             [
              0.6666666666666666,
              "#ed7953"
             ],
             [
              0.7777777777777778,
              "#fb9f3a"
             ],
             [
              0.8888888888888888,
              "#fdca26"
             ],
             [
              1,
              "#f0f921"
             ]
            ],
            "type": "surface"
           }
          ],
          "table": [
           {
            "cells": {
             "fill": {
              "color": "#EBF0F8"
             },
             "line": {
              "color": "white"
             }
            },
            "header": {
             "fill": {
              "color": "#C8D4E3"
             },
             "line": {
              "color": "white"
             }
            },
            "type": "table"
           }
          ]
         },
         "layout": {
          "annotationdefaults": {
           "arrowcolor": "#2a3f5f",
           "arrowhead": 0,
           "arrowwidth": 1
          },
          "coloraxis": {
           "colorbar": {
            "outlinewidth": 0,
            "ticks": ""
           }
          },
          "colorscale": {
           "diverging": [
            [
             0,
             "#8e0152"
            ],
            [
             0.1,
             "#c51b7d"
            ],
            [
             0.2,
             "#de77ae"
            ],
            [
             0.3,
             "#f1b6da"
            ],
            [
             0.4,
             "#fde0ef"
            ],
            [
             0.5,
             "#f7f7f7"
            ],
            [
             0.6,
             "#e6f5d0"
            ],
            [
             0.7,
             "#b8e186"
            ],
            [
             0.8,
             "#7fbc41"
            ],
            [
             0.9,
             "#4d9221"
            ],
            [
             1,
             "#276419"
            ]
           ],
           "sequential": [
            [
             0,
             "#0d0887"
            ],
            [
             0.1111111111111111,
             "#46039f"
            ],
            [
             0.2222222222222222,
             "#7201a8"
            ],
            [
             0.3333333333333333,
             "#9c179e"
            ],
            [
             0.4444444444444444,
             "#bd3786"
            ],
            [
             0.5555555555555556,
             "#d8576b"
            ],
            [
             0.6666666666666666,
             "#ed7953"
            ],
            [
             0.7777777777777778,
             "#fb9f3a"
            ],
            [
             0.8888888888888888,
             "#fdca26"
            ],
            [
             1,
             "#f0f921"
            ]
           ],
           "sequentialminus": [
            [
             0,
             "#0d0887"
            ],
            [
             0.1111111111111111,
             "#46039f"
            ],
            [
             0.2222222222222222,
             "#7201a8"
            ],
            [
             0.3333333333333333,
             "#9c179e"
            ],
            [
             0.4444444444444444,
             "#bd3786"
            ],
            [
             0.5555555555555556,
             "#d8576b"
            ],
            [
             0.6666666666666666,
             "#ed7953"
            ],
            [
             0.7777777777777778,
             "#fb9f3a"
            ],
            [
             0.8888888888888888,
             "#fdca26"
            ],
            [
             1,
             "#f0f921"
            ]
           ]
          },
          "colorway": [
           "#636efa",
           "#EF553B",
           "#00cc96",
           "#ab63fa",
           "#FFA15A",
           "#19d3f3",
           "#FF6692",
           "#B6E880",
           "#FF97FF",
           "#FECB52"
          ],
          "font": {
           "color": "#2a3f5f"
          },
          "geo": {
           "bgcolor": "white",
           "lakecolor": "white",
           "landcolor": "#E5ECF6",
           "showlakes": true,
           "showland": true,
           "subunitcolor": "white"
          },
          "hoverlabel": {
           "align": "left"
          },
          "hovermode": "closest",
          "mapbox": {
           "style": "light"
          },
          "paper_bgcolor": "white",
          "plot_bgcolor": "#E5ECF6",
          "polar": {
           "angularaxis": {
            "gridcolor": "white",
            "linecolor": "white",
            "ticks": ""
           },
           "bgcolor": "#E5ECF6",
           "radialaxis": {
            "gridcolor": "white",
            "linecolor": "white",
            "ticks": ""
           }
          },
          "scene": {
           "xaxis": {
            "backgroundcolor": "#E5ECF6",
            "gridcolor": "white",
            "gridwidth": 2,
            "linecolor": "white",
            "showbackground": true,
            "ticks": "",
            "zerolinecolor": "white"
           },
           "yaxis": {
            "backgroundcolor": "#E5ECF6",
            "gridcolor": "white",
            "gridwidth": 2,
            "linecolor": "white",
            "showbackground": true,
            "ticks": "",
            "zerolinecolor": "white"
           },
           "zaxis": {
            "backgroundcolor": "#E5ECF6",
            "gridcolor": "white",
            "gridwidth": 2,
            "linecolor": "white",
            "showbackground": true,
            "ticks": "",
            "zerolinecolor": "white"
           }
          },
          "shapedefaults": {
           "line": {
            "color": "#2a3f5f"
           }
          },
          "ternary": {
           "aaxis": {
            "gridcolor": "white",
            "linecolor": "white",
            "ticks": ""
           },
           "baxis": {
            "gridcolor": "white",
            "linecolor": "white",
            "ticks": ""
           },
           "bgcolor": "#E5ECF6",
           "caxis": {
            "gridcolor": "white",
            "linecolor": "white",
            "ticks": ""
           }
          },
          "title": {
           "x": 0.05
          },
          "xaxis": {
           "automargin": true,
           "gridcolor": "white",
           "linecolor": "white",
           "ticks": "",
           "title": {
            "standoff": 15
           },
           "zerolinecolor": "white",
           "zerolinewidth": 2
          },
          "yaxis": {
           "automargin": true,
           "gridcolor": "white",
           "linecolor": "white",
           "ticks": "",
           "title": {
            "standoff": 15
           },
           "zerolinecolor": "white",
           "zerolinewidth": 2
          }
         }
        },
        "title": {
         "text": "Количество участников в акциях"
        }
       }
      }
     },
     "metadata": {}
    }
   ],
   "source": [
    "values = [dict_parc[key].shape[0] for key in dict_parc]\n",
    "label = list(dict_parc.keys())\n",
    "\n",
    "fig = go.Figure(data=[go.Bar(x = label, y = values)])\n",
    "fig.update_layout(title='Количество участников в акциях')"
   ]
  },
  {
   "source": [
    "Из графика можно узнать, что количество клиентов в каждой акции фактически идентичное, кроме 2. Возможно в ней радикально отличалось аукционное предложение. Посмотрим, как изменилось количество клиентов после проведения перовой акции. Так же необходимо посмотреть на пересечение клиентов, участвовавших в акциях."
   ],
   "cell_type": "markdown",
   "metadata": {}
  },
  {
   "cell_type": "code",
   "execution_count": 31,
   "metadata": {},
   "outputs": [
    {
     "output_type": "execute_result",
     "data": {
      "text/plain": [
       "2"
      ]
     },
     "metadata": {},
     "execution_count": 31
    }
   ],
   "source": [
    "min_day = data.loc[data.AcceptedCmp1==1, 'In_program'].min()\n",
    "data.loc[(data.AcceptedCmp1!=1)&(data.In_program<min_day), :].shape[0]"
   ]
  },
  {
   "cell_type": "code",
   "execution_count": 32,
   "metadata": {},
   "outputs": [
    {
     "output_type": "display_data",
     "data": {
      "application/vnd.plotly.v1+json": {
       "config": {
        "plotlyServerURL": "https://plot.ly"
       },
       "data": [
        {
         "type": "bar",
         "x": [
          "AcceptedCmp1_AcceptedCmp2",
          "AcceptedCmp1_AcceptedCmp3",
          "AcceptedCmp1_AcceptedCmp4",
          "AcceptedCmp1_AcceptedCmp5",
          "AcceptedCmp2_AcceptedCmp3",
          "AcceptedCmp2_AcceptedCmp4",
          "AcceptedCmp2_AcceptedCmp5",
          "AcceptedCmp3_AcceptedCmp4",
          "AcceptedCmp3_AcceptedCmp5",
          "AcceptedCmp4_AcceptedCmp5"
         ],
         "y": [
          0.07471264367816093,
          0.0781758957654723,
          0.15112540192926044,
          0.2222222222222222,
          0.03626943005181347,
          0.1116751269035533,
          0.08854166666666667,
          0,
          0.07384615384615385,
          0.17933130699088146
         ]
        }
       ],
       "layout": {
        "template": {
         "data": {
          "bar": [
           {
            "error_x": {
             "color": "#2a3f5f"
            },
            "error_y": {
             "color": "#2a3f5f"
            },
            "marker": {
             "line": {
              "color": "#E5ECF6",
              "width": 0.5
             }
            },
            "type": "bar"
           }
          ],
          "barpolar": [
           {
            "marker": {
             "line": {
              "color": "#E5ECF6",
              "width": 0.5
             }
            },
            "type": "barpolar"
           }
          ],
          "carpet": [
           {
            "aaxis": {
             "endlinecolor": "#2a3f5f",
             "gridcolor": "white",
             "linecolor": "white",
             "minorgridcolor": "white",
             "startlinecolor": "#2a3f5f"
            },
            "baxis": {
             "endlinecolor": "#2a3f5f",
             "gridcolor": "white",
             "linecolor": "white",
             "minorgridcolor": "white",
             "startlinecolor": "#2a3f5f"
            },
            "type": "carpet"
           }
          ],
          "choropleth": [
           {
            "colorbar": {
             "outlinewidth": 0,
             "ticks": ""
            },
            "type": "choropleth"
           }
          ],
          "contour": [
           {
            "colorbar": {
             "outlinewidth": 0,
             "ticks": ""
            },
            "colorscale": [
             [
              0,
              "#0d0887"
             ],
             [
              0.1111111111111111,
              "#46039f"
             ],
             [
              0.2222222222222222,
              "#7201a8"
             ],
             [
              0.3333333333333333,
              "#9c179e"
             ],
             [
              0.4444444444444444,
              "#bd3786"
             ],
             [
              0.5555555555555556,
              "#d8576b"
             ],
             [
              0.6666666666666666,
              "#ed7953"
             ],
             [
              0.7777777777777778,
              "#fb9f3a"
             ],
             [
              0.8888888888888888,
              "#fdca26"
             ],
             [
              1,
              "#f0f921"
             ]
            ],
            "type": "contour"
           }
          ],
          "contourcarpet": [
           {
            "colorbar": {
             "outlinewidth": 0,
             "ticks": ""
            },
            "type": "contourcarpet"
           }
          ],
          "heatmap": [
           {
            "colorbar": {
             "outlinewidth": 0,
             "ticks": ""
            },
            "colorscale": [
             [
              0,
              "#0d0887"
             ],
             [
              0.1111111111111111,
              "#46039f"
             ],
             [
              0.2222222222222222,
              "#7201a8"
             ],
             [
              0.3333333333333333,
              "#9c179e"
             ],
             [
              0.4444444444444444,
              "#bd3786"
             ],
             [
              0.5555555555555556,
              "#d8576b"
             ],
             [
              0.6666666666666666,
              "#ed7953"
             ],
             [
              0.7777777777777778,
              "#fb9f3a"
             ],
             [
              0.8888888888888888,
              "#fdca26"
             ],
             [
              1,
              "#f0f921"
             ]
            ],
            "type": "heatmap"
           }
          ],
          "heatmapgl": [
           {
            "colorbar": {
             "outlinewidth": 0,
             "ticks": ""
            },
            "colorscale": [
             [
              0,
              "#0d0887"
             ],
             [
              0.1111111111111111,
              "#46039f"
             ],
             [
              0.2222222222222222,
              "#7201a8"
             ],
             [
              0.3333333333333333,
              "#9c179e"
             ],
             [
              0.4444444444444444,
              "#bd3786"
             ],
             [
              0.5555555555555556,
              "#d8576b"
             ],
             [
              0.6666666666666666,
              "#ed7953"
             ],
             [
              0.7777777777777778,
              "#fb9f3a"
             ],
             [
              0.8888888888888888,
              "#fdca26"
             ],
             [
              1,
              "#f0f921"
             ]
            ],
            "type": "heatmapgl"
           }
          ],
          "histogram": [
           {
            "marker": {
             "colorbar": {
              "outlinewidth": 0,
              "ticks": ""
             }
            },
            "type": "histogram"
           }
          ],
          "histogram2d": [
           {
            "colorbar": {
             "outlinewidth": 0,
             "ticks": ""
            },
            "colorscale": [
             [
              0,
              "#0d0887"
             ],
             [
              0.1111111111111111,
              "#46039f"
             ],
             [
              0.2222222222222222,
              "#7201a8"
             ],
             [
              0.3333333333333333,
              "#9c179e"
             ],
             [
              0.4444444444444444,
              "#bd3786"
             ],
             [
              0.5555555555555556,
              "#d8576b"
             ],
             [
              0.6666666666666666,
              "#ed7953"
             ],
             [
              0.7777777777777778,
              "#fb9f3a"
             ],
             [
              0.8888888888888888,
              "#fdca26"
             ],
             [
              1,
              "#f0f921"
             ]
            ],
            "type": "histogram2d"
           }
          ],
          "histogram2dcontour": [
           {
            "colorbar": {
             "outlinewidth": 0,
             "ticks": ""
            },
            "colorscale": [
             [
              0,
              "#0d0887"
             ],
             [
              0.1111111111111111,
              "#46039f"
             ],
             [
              0.2222222222222222,
              "#7201a8"
             ],
             [
              0.3333333333333333,
              "#9c179e"
             ],
             [
              0.4444444444444444,
              "#bd3786"
             ],
             [
              0.5555555555555556,
              "#d8576b"
             ],
             [
              0.6666666666666666,
              "#ed7953"
             ],
             [
              0.7777777777777778,
              "#fb9f3a"
             ],
             [
              0.8888888888888888,
              "#fdca26"
             ],
             [
              1,
              "#f0f921"
             ]
            ],
            "type": "histogram2dcontour"
           }
          ],
          "mesh3d": [
           {
            "colorbar": {
             "outlinewidth": 0,
             "ticks": ""
            },
            "type": "mesh3d"
           }
          ],
          "parcoords": [
           {
            "line": {
             "colorbar": {
              "outlinewidth": 0,
              "ticks": ""
             }
            },
            "type": "parcoords"
           }
          ],
          "pie": [
           {
            "automargin": true,
            "type": "pie"
           }
          ],
          "scatter": [
           {
            "marker": {
             "colorbar": {
              "outlinewidth": 0,
              "ticks": ""
             }
            },
            "type": "scatter"
           }
          ],
          "scatter3d": [
           {
            "line": {
             "colorbar": {
              "outlinewidth": 0,
              "ticks": ""
             }
            },
            "marker": {
             "colorbar": {
              "outlinewidth": 0,
              "ticks": ""
             }
            },
            "type": "scatter3d"
           }
          ],
          "scattercarpet": [
           {
            "marker": {
             "colorbar": {
              "outlinewidth": 0,
              "ticks": ""
             }
            },
            "type": "scattercarpet"
           }
          ],
          "scattergeo": [
           {
            "marker": {
             "colorbar": {
              "outlinewidth": 0,
              "ticks": ""
             }
            },
            "type": "scattergeo"
           }
          ],
          "scattergl": [
           {
            "marker": {
             "colorbar": {
              "outlinewidth": 0,
              "ticks": ""
             }
            },
            "type": "scattergl"
           }
          ],
          "scattermapbox": [
           {
            "marker": {
             "colorbar": {
              "outlinewidth": 0,
              "ticks": ""
             }
            },
            "type": "scattermapbox"
           }
          ],
          "scatterpolar": [
           {
            "marker": {
             "colorbar": {
              "outlinewidth": 0,
              "ticks": ""
             }
            },
            "type": "scatterpolar"
           }
          ],
          "scatterpolargl": [
           {
            "marker": {
             "colorbar": {
              "outlinewidth": 0,
              "ticks": ""
             }
            },
            "type": "scatterpolargl"
           }
          ],
          "scatterternary": [
           {
            "marker": {
             "colorbar": {
              "outlinewidth": 0,
              "ticks": ""
             }
            },
            "type": "scatterternary"
           }
          ],
          "surface": [
           {
            "colorbar": {
             "outlinewidth": 0,
             "ticks": ""
            },
            "colorscale": [
             [
              0,
              "#0d0887"
             ],
             [
              0.1111111111111111,
              "#46039f"
             ],
             [
              0.2222222222222222,
              "#7201a8"
             ],
             [
              0.3333333333333333,
              "#9c179e"
             ],
             [
              0.4444444444444444,
              "#bd3786"
             ],
             [
              0.5555555555555556,
              "#d8576b"
             ],
             [
              0.6666666666666666,
              "#ed7953"
             ],
             [
              0.7777777777777778,
              "#fb9f3a"
             ],
             [
              0.8888888888888888,
              "#fdca26"
             ],
             [
              1,
              "#f0f921"
             ]
            ],
            "type": "surface"
           }
          ],
          "table": [
           {
            "cells": {
             "fill": {
              "color": "#EBF0F8"
             },
             "line": {
              "color": "white"
             }
            },
            "header": {
             "fill": {
              "color": "#C8D4E3"
             },
             "line": {
              "color": "white"
             }
            },
            "type": "table"
           }
          ]
         },
         "layout": {
          "annotationdefaults": {
           "arrowcolor": "#2a3f5f",
           "arrowhead": 0,
           "arrowwidth": 1
          },
          "coloraxis": {
           "colorbar": {
            "outlinewidth": 0,
            "ticks": ""
           }
          },
          "colorscale": {
           "diverging": [
            [
             0,
             "#8e0152"
            ],
            [
             0.1,
             "#c51b7d"
            ],
            [
             0.2,
             "#de77ae"
            ],
            [
             0.3,
             "#f1b6da"
            ],
            [
             0.4,
             "#fde0ef"
            ],
            [
             0.5,
             "#f7f7f7"
            ],
            [
             0.6,
             "#e6f5d0"
            ],
            [
             0.7,
             "#b8e186"
            ],
            [
             0.8,
             "#7fbc41"
            ],
            [
             0.9,
             "#4d9221"
            ],
            [
             1,
             "#276419"
            ]
           ],
           "sequential": [
            [
             0,
             "#0d0887"
            ],
            [
             0.1111111111111111,
             "#46039f"
            ],
            [
             0.2222222222222222,
             "#7201a8"
            ],
            [
             0.3333333333333333,
             "#9c179e"
            ],
            [
             0.4444444444444444,
             "#bd3786"
            ],
            [
             0.5555555555555556,
             "#d8576b"
            ],
            [
             0.6666666666666666,
             "#ed7953"
            ],
            [
             0.7777777777777778,
             "#fb9f3a"
            ],
            [
             0.8888888888888888,
             "#fdca26"
            ],
            [
             1,
             "#f0f921"
            ]
           ],
           "sequentialminus": [
            [
             0,
             "#0d0887"
            ],
            [
             0.1111111111111111,
             "#46039f"
            ],
            [
             0.2222222222222222,
             "#7201a8"
            ],
            [
             0.3333333333333333,
             "#9c179e"
            ],
            [
             0.4444444444444444,
             "#bd3786"
            ],
            [
             0.5555555555555556,
             "#d8576b"
            ],
            [
             0.6666666666666666,
             "#ed7953"
            ],
            [
             0.7777777777777778,
             "#fb9f3a"
            ],
            [
             0.8888888888888888,
             "#fdca26"
            ],
            [
             1,
             "#f0f921"
            ]
           ]
          },
          "colorway": [
           "#636efa",
           "#EF553B",
           "#00cc96",
           "#ab63fa",
           "#FFA15A",
           "#19d3f3",
           "#FF6692",
           "#B6E880",
           "#FF97FF",
           "#FECB52"
          ],
          "font": {
           "color": "#2a3f5f"
          },
          "geo": {
           "bgcolor": "white",
           "lakecolor": "white",
           "landcolor": "#E5ECF6",
           "showlakes": true,
           "showland": true,
           "subunitcolor": "white"
          },
          "hoverlabel": {
           "align": "left"
          },
          "hovermode": "closest",
          "mapbox": {
           "style": "light"
          },
          "paper_bgcolor": "white",
          "plot_bgcolor": "#E5ECF6",
          "polar": {
           "angularaxis": {
            "gridcolor": "white",
            "linecolor": "white",
            "ticks": ""
           },
           "bgcolor": "#E5ECF6",
           "radialaxis": {
            "gridcolor": "white",
            "linecolor": "white",
            "ticks": ""
           }
          },
          "scene": {
           "xaxis": {
            "backgroundcolor": "#E5ECF6",
            "gridcolor": "white",
            "gridwidth": 2,
            "linecolor": "white",
            "showbackground": true,
            "ticks": "",
            "zerolinecolor": "white"
           },
           "yaxis": {
            "backgroundcolor": "#E5ECF6",
            "gridcolor": "white",
            "gridwidth": 2,
            "linecolor": "white",
            "showbackground": true,
            "ticks": "",
            "zerolinecolor": "white"
           },
           "zaxis": {
            "backgroundcolor": "#E5ECF6",
            "gridcolor": "white",
            "gridwidth": 2,
            "linecolor": "white",
            "showbackground": true,
            "ticks": "",
            "zerolinecolor": "white"
           }
          },
          "shapedefaults": {
           "line": {
            "color": "#2a3f5f"
           }
          },
          "ternary": {
           "aaxis": {
            "gridcolor": "white",
            "linecolor": "white",
            "ticks": ""
           },
           "baxis": {
            "gridcolor": "white",
            "linecolor": "white",
            "ticks": ""
           },
           "bgcolor": "#E5ECF6",
           "caxis": {
            "gridcolor": "white",
            "linecolor": "white",
            "ticks": ""
           }
          },
          "title": {
           "x": 0.05
          },
          "xaxis": {
           "automargin": true,
           "gridcolor": "white",
           "linecolor": "white",
           "ticks": "",
           "title": {
            "standoff": 15
           },
           "zerolinecolor": "white",
           "zerolinewidth": 2
          },
          "yaxis": {
           "automargin": true,
           "gridcolor": "white",
           "linecolor": "white",
           "ticks": "",
           "title": {
            "standoff": 15
           },
           "zerolinecolor": "white",
           "zerolinewidth": 2
          }
         }
        },
        "title": {
         "text": "Количество общих участниоков в акциях"
        }
       }
      }
     },
     "metadata": {}
    }
   ],
   "source": [
    "keys = list(dict_parc.keys())\n",
    "our_dict = {}\n",
    "for i in range(len(keys)):\n",
    "    df = dict_parc[keys[i]]\n",
    "    for j in range(i+1, len(keys)):\n",
    "        df_m = dict_parc[keys[j]]\n",
    "        our = df.merge(df_m, on='ID').shape[0]\n",
    "        our_dict[f\"AcceptedCmp{i+1}_AcceptedCmp{j+1}\"] = our\n",
    "\n",
    "gist = [go.Bar(x=[x for x in our_dict], \n",
    "               y = [y/(dict_parc[key.split('_')[0]].shape[0]+\n",
    "                       dict_parc[key.split('_')[1]].shape[0]) \n",
    "               for y,key in zip(our_dict.values(), our_dict)])]\n",
    "\n",
    "layout = go.Layout(title='Количество общих участниоков в акциях')\n",
    "go.Figure(data=gist, layout = layout)"
   ]
  },
  {
   "source": [
    "Число общих участников акций не превышает 22% в самом большом случае и, после проведения первой акции, количество клиентов не увеличилось. Можно сделать вывод, что в акциях участвуют различные группы клиентов или разным клиентам дели разные аукционные предложения. Найду типовой протрет участника определённой акции. Это может пригодиться в дальнейшем для составления рекламных предложений. Сделаю я это с помощью метода Kmeans."
   ],
   "cell_type": "markdown",
   "metadata": {}
  },
  {
   "cell_type": "code",
   "execution_count": 33,
   "metadata": {},
   "outputs": [],
   "source": [
    "from sklearn.cluster import KMeans"
   ]
  },
  {
   "cell_type": "code",
   "execution_count": 34,
   "metadata": {},
   "outputs": [
    {
     "output_type": "stream",
     "name": "stderr",
     "text": [
      "D:\\anaconda\\envs\\datasience\\lib\\site-packages\\sklearn\\cluster\\_kmeans.py:793: FutureWarning:\n",
      "\n",
      "'n_jobs' was deprecated in version 0.23 and will be removed in 1.0 (renaming of 0.25).\n",
      "\n",
      "D:\\anaconda\\envs\\datasience\\lib\\site-packages\\sklearn\\cluster\\_kmeans.py:882: UserWarning:\n",
      "\n",
      "KMeans is known to have a memory leak on Windows with MKL, when there are less chunks than available threads. You can avoid it by setting the environment variable OMP_NUM_THREADS=1.\n",
      "\n",
      "D:\\anaconda\\envs\\datasience\\lib\\site-packages\\sklearn\\cluster\\_kmeans.py:793: FutureWarning:\n",
      "\n",
      "'n_jobs' was deprecated in version 0.23 and will be removed in 1.0 (renaming of 0.25).\n",
      "\n",
      "D:\\anaconda\\envs\\datasience\\lib\\site-packages\\sklearn\\cluster\\_kmeans.py:882: UserWarning:\n",
      "\n",
      "KMeans is known to have a memory leak on Windows with MKL, when there are less chunks than available threads. You can avoid it by setting the environment variable OMP_NUM_THREADS=1.\n",
      "\n",
      "D:\\anaconda\\envs\\datasience\\lib\\site-packages\\sklearn\\cluster\\_kmeans.py:793: FutureWarning:\n",
      "\n",
      "'n_jobs' was deprecated in version 0.23 and will be removed in 1.0 (renaming of 0.25).\n",
      "\n",
      "D:\\anaconda\\envs\\datasience\\lib\\site-packages\\sklearn\\cluster\\_kmeans.py:882: UserWarning:\n",
      "\n",
      "KMeans is known to have a memory leak on Windows with MKL, when there are less chunks than available threads. You can avoid it by setting the environment variable OMP_NUM_THREADS=1.\n",
      "\n",
      "D:\\anaconda\\envs\\datasience\\lib\\site-packages\\sklearn\\cluster\\_kmeans.py:793: FutureWarning:\n",
      "\n",
      "'n_jobs' was deprecated in version 0.23 and will be removed in 1.0 (renaming of 0.25).\n",
      "\n",
      "D:\\anaconda\\envs\\datasience\\lib\\site-packages\\sklearn\\cluster\\_kmeans.py:882: UserWarning:\n",
      "\n",
      "KMeans is known to have a memory leak on Windows with MKL, when there are less chunks than available threads. You can avoid it by setting the environment variable OMP_NUM_THREADS=1.\n",
      "\n",
      "D:\\anaconda\\envs\\datasience\\lib\\site-packages\\sklearn\\cluster\\_kmeans.py:793: FutureWarning:\n",
      "\n",
      "'n_jobs' was deprecated in version 0.23 and will be removed in 1.0 (renaming of 0.25).\n",
      "\n",
      "D:\\anaconda\\envs\\datasience\\lib\\site-packages\\sklearn\\cluster\\_kmeans.py:882: UserWarning:\n",
      "\n",
      "KMeans is known to have a memory leak on Windows with MKL, when there are less chunks than available threads. You can avoid it by setting the environment variable OMP_NUM_THREADS=1.\n",
      "\n"
     ]
    }
   ],
   "source": [
    "id_users  = {}\n",
    "for key in dict_parc:\n",
    "    df = dict_parc[key]\n",
    "    kmean= KMeans(n_clusters=1, n_jobs=-1)\n",
    "    kmean.fit(df)\n",
    "    point = kmean.cluster_centers_[0]\n",
    "    distance = {np.linalg.norm(point-df.iloc[i, :].values) :i  for i in range(df.shape[0])}\n",
    "    id_users[key] = distance[min(distance.keys())]"
   ]
  },
  {
   "cell_type": "code",
   "execution_count": 35,
   "metadata": {},
   "outputs": [],
   "source": [
    "list_df = [dict_parc[key].iloc[val, :]\n",
    "            for key, val in zip(id_users.keys(), id_users.values())]"
   ]
  },
  {
   "cell_type": "code",
   "execution_count": 36,
   "metadata": {},
   "outputs": [
    {
     "output_type": "execute_result",
     "data": {
      "text/plain": [
       "                  ID  Education  Marital_Status   Income  Kidhome  Teenhome  \\\n",
       "AcceptedCmp1  4646.0        4.0             2.0  78497.0      0.0       0.0   \n",
       "AcceptedCmp2  3009.0        1.0             4.0  71670.0      0.0       0.0   \n",
       "AcceptedCmp3  4656.0        4.0             0.0  51250.0      1.0       0.0   \n",
       "AcceptedCmp4  5544.0        0.0             0.0  67384.0      0.0       1.0   \n",
       "AcceptedCmp5  5341.0        4.0             3.0  81975.0      0.0       1.0   \n",
       "\n",
       "              Recency  MntWines  MntFruits  MntMeatProducts  ...  \\\n",
       "AcceptedCmp1     44.0     207.0       26.0            447.0  ...   \n",
       "AcceptedCmp2      8.0    1462.0       16.0            128.0  ...   \n",
       "AcceptedCmp3     28.0     342.0       32.0            230.0  ...   \n",
       "AcceptedCmp4     32.0     957.0       40.0            175.0  ...   \n",
       "AcceptedCmp5      2.0     983.0       76.0            184.0  ...   \n",
       "\n",
       "              AcceptedCmp5  AcceptedCmp1  AcceptedCmp2  Complain  \\\n",
       "AcceptedCmp1           0.0           1.0           0.0       0.0   \n",
       "AcceptedCmp2           1.0           0.0           1.0       0.0   \n",
       "AcceptedCmp3           0.0           0.0           0.0       0.0   \n",
       "AcceptedCmp4           0.0           0.0           0.0       0.0   \n",
       "AcceptedCmp5           1.0           0.0           0.0       0.0   \n",
       "\n",
       "              Z_CostContact  Z_Revenue  Response   Age  In_program  \\\n",
       "AcceptedCmp1            3.0       11.0       0.0  70.0      2775.0   \n",
       "AcceptedCmp2            3.0       11.0       1.0  59.0      2920.0   \n",
       "AcceptedCmp3            3.0       11.0       0.0  31.0      3021.0   \n",
       "AcceptedCmp4            3.0       11.0       0.0  51.0      3161.0   \n",
       "AcceptedCmp5            3.0       11.0       0.0  59.0      3105.0   \n",
       "\n",
       "              Num_program  \n",
       "AcceptedCmp1          1.0  \n",
       "AcceptedCmp2          3.0  \n",
       "AcceptedCmp3          1.0  \n",
       "AcceptedCmp4          1.0  \n",
       "AcceptedCmp5          1.0  \n",
       "\n",
       "[5 rows x 30 columns]"
      ],
      "text/html": "<div>\n<style scoped>\n    .dataframe tbody tr th:only-of-type {\n        vertical-align: middle;\n    }\n\n    .dataframe tbody tr th {\n        vertical-align: top;\n    }\n\n    .dataframe thead th {\n        text-align: right;\n    }\n</style>\n<table border=\"1\" class=\"dataframe\">\n  <thead>\n    <tr style=\"text-align: right;\">\n      <th></th>\n      <th>ID</th>\n      <th>Education</th>\n      <th>Marital_Status</th>\n      <th>Income</th>\n      <th>Kidhome</th>\n      <th>Teenhome</th>\n      <th>Recency</th>\n      <th>MntWines</th>\n      <th>MntFruits</th>\n      <th>MntMeatProducts</th>\n      <th>...</th>\n      <th>AcceptedCmp5</th>\n      <th>AcceptedCmp1</th>\n      <th>AcceptedCmp2</th>\n      <th>Complain</th>\n      <th>Z_CostContact</th>\n      <th>Z_Revenue</th>\n      <th>Response</th>\n      <th>Age</th>\n      <th>In_program</th>\n      <th>Num_program</th>\n    </tr>\n  </thead>\n  <tbody>\n    <tr>\n      <th>AcceptedCmp1</th>\n      <td>4646.0</td>\n      <td>4.0</td>\n      <td>2.0</td>\n      <td>78497.0</td>\n      <td>0.0</td>\n      <td>0.0</td>\n      <td>44.0</td>\n      <td>207.0</td>\n      <td>26.0</td>\n      <td>447.0</td>\n      <td>...</td>\n      <td>0.0</td>\n      <td>1.0</td>\n      <td>0.0</td>\n      <td>0.0</td>\n      <td>3.0</td>\n      <td>11.0</td>\n      <td>0.0</td>\n      <td>70.0</td>\n      <td>2775.0</td>\n      <td>1.0</td>\n    </tr>\n    <tr>\n      <th>AcceptedCmp2</th>\n      <td>3009.0</td>\n      <td>1.0</td>\n      <td>4.0</td>\n      <td>71670.0</td>\n      <td>0.0</td>\n      <td>0.0</td>\n      <td>8.0</td>\n      <td>1462.0</td>\n      <td>16.0</td>\n      <td>128.0</td>\n      <td>...</td>\n      <td>1.0</td>\n      <td>0.0</td>\n      <td>1.0</td>\n      <td>0.0</td>\n      <td>3.0</td>\n      <td>11.0</td>\n      <td>1.0</td>\n      <td>59.0</td>\n      <td>2920.0</td>\n      <td>3.0</td>\n    </tr>\n    <tr>\n      <th>AcceptedCmp3</th>\n      <td>4656.0</td>\n      <td>4.0</td>\n      <td>0.0</td>\n      <td>51250.0</td>\n      <td>1.0</td>\n      <td>0.0</td>\n      <td>28.0</td>\n      <td>342.0</td>\n      <td>32.0</td>\n      <td>230.0</td>\n      <td>...</td>\n      <td>0.0</td>\n      <td>0.0</td>\n      <td>0.0</td>\n      <td>0.0</td>\n      <td>3.0</td>\n      <td>11.0</td>\n      <td>0.0</td>\n      <td>31.0</td>\n      <td>3021.0</td>\n      <td>1.0</td>\n    </tr>\n    <tr>\n      <th>AcceptedCmp4</th>\n      <td>5544.0</td>\n      <td>0.0</td>\n      <td>0.0</td>\n      <td>67384.0</td>\n      <td>0.0</td>\n      <td>1.0</td>\n      <td>32.0</td>\n      <td>957.0</td>\n      <td>40.0</td>\n      <td>175.0</td>\n      <td>...</td>\n      <td>0.0</td>\n      <td>0.0</td>\n      <td>0.0</td>\n      <td>0.0</td>\n      <td>3.0</td>\n      <td>11.0</td>\n      <td>0.0</td>\n      <td>51.0</td>\n      <td>3161.0</td>\n      <td>1.0</td>\n    </tr>\n    <tr>\n      <th>AcceptedCmp5</th>\n      <td>5341.0</td>\n      <td>4.0</td>\n      <td>3.0</td>\n      <td>81975.0</td>\n      <td>0.0</td>\n      <td>1.0</td>\n      <td>2.0</td>\n      <td>983.0</td>\n      <td>76.0</td>\n      <td>184.0</td>\n      <td>...</td>\n      <td>1.0</td>\n      <td>0.0</td>\n      <td>0.0</td>\n      <td>0.0</td>\n      <td>3.0</td>\n      <td>11.0</td>\n      <td>0.0</td>\n      <td>59.0</td>\n      <td>3105.0</td>\n      <td>1.0</td>\n    </tr>\n  </tbody>\n</table>\n<p>5 rows × 30 columns</p>\n</div>"
     },
     "metadata": {},
     "execution_count": 36
    }
   ],
   "source": [
    "res_df = pd.concat(list_df, axis=1).T\n",
    "res_df.index = dict_parc.keys()\n",
    "res_df"
   ]
  },
  {
   "source": [
    "Полученные данные можно учитывать в дальнейшем, для составления акционных предложений. Сохраню их в csv файл, для удобства использования их другими членами команды."
   ],
   "cell_type": "markdown",
   "metadata": {}
  },
  {
   "cell_type": "code",
   "execution_count": 37,
   "metadata": {},
   "outputs": [],
   "source": [
    "res_df.to_csv('Tipical_user.csv')"
   ]
  },
  {
   "source": [
    "###  Мы нашли типового пользователя, и выяснили что в каждой акции участвуют разные группы пользователей. Сейчас проанализируем информацию о средних тратах на определённую продукцию. Данные буду получены из колонок:\n",
    "    MntFishProducts\n",
    "    MntMeatProducts\n",
    "    MntFruits\n",
    "    MntSweetProducts \n",
    "    MntWines\n",
    "    MntGoldProds "
   ],
   "cell_type": "markdown",
   "metadata": {}
  },
  {
   "cell_type": "code",
   "execution_count": 38,
   "metadata": {},
   "outputs": [],
   "source": [
    "contrast_col = ['MntFishProducts',\n",
    "'MntMeatProducts',\n",
    "'MntFruits',\n",
    "'MntSweetProducts', \n",
    "'MntWines',\n",
    "'MntGoldProds']"
   ]
  },
  {
   "cell_type": "code",
   "execution_count": 39,
   "metadata": {},
   "outputs": [
    {
     "output_type": "display_data",
     "data": {
      "application/vnd.plotly.v1+json": {
       "config": {
        "plotlyServerURL": "https://plot.ly"
       },
       "data": [
        {
         "name": "AcceptedCmp1",
         "type": "bar",
         "x": [
          "MntFishProducts",
          "MntMeatProducts",
          "MntFruits",
          "MntSweetProducts",
          "MntWines",
          "MntGoldProds"
         ],
         "y": [
          91.86111111111111,
          433.6388888888889,
          55.84722222222222,
          65.13888888888889,
          758.6041666666666,
          77.13194444444444
         ]
        },
        {
         "name": "AcceptedCmp2",
         "type": "bar",
         "x": [
          "MntFishProducts",
          "MntMeatProducts",
          "MntFruits",
          "MntSweetProducts",
          "MntWines",
          "MntGoldProds"
         ],
         "y": [
          38.733333333333334,
          250.3,
          22.966666666666665,
          30.6,
          898.6666666666666,
          66.4
         ]
        },
        {
         "name": "AcceptedCmp3",
         "type": "bar",
         "x": [
          "MntFishProducts",
          "MntMeatProducts",
          "MntFruits",
          "MntSweetProducts",
          "MntWines",
          "MntGoldProds"
         ],
         "y": [
          37.59509202453988,
          181.66871165644173,
          28.392638036809817,
          27.288343558282207,
          378.65644171779144,
          66.93865030674847
         ]
        },
        {
         "name": "AcceptedCmp4",
         "type": "bar",
         "x": [
          "MntFishProducts",
          "MntMeatProducts",
          "MntFruits",
          "MntSweetProducts",
          "MntWines",
          "MntGoldProds"
         ],
         "y": [
          40.76646706586826,
          248.77245508982037,
          27.724550898203592,
          31.227544910179642,
          746.5209580838323,
          48.11377245508982
         ]
        },
        {
         "name": "AcceptedCmp5",
         "type": "bar",
         "x": [
          "MntFishProducts",
          "MntMeatProducts",
          "MntFruits",
          "MntSweetProducts",
          "MntWines",
          "MntGoldProds"
         ],
         "y": [
          76.26543209876543,
          467.4567901234568,
          56.401234567901234,
          65.31481481481481,
          872.3888888888889,
          76.82098765432099
         ]
        },
        {
         "name": "Didn't parc",
         "type": "bar",
         "x": [
          "MntFishProducts",
          "MntMeatProducts",
          "MntFruits",
          "MntSweetProducts",
          "MntWines",
          "MntGoldProds"
         ],
         "y": [
          32.996617812852314,
          134.95603156708003,
          23.649943630214207,
          23.72153325817362,
          224.1403607666291,
          39.01127395715896
         ]
        }
       ],
       "layout": {
        "barmode": "group",
        "template": {
         "data": {
          "bar": [
           {
            "error_x": {
             "color": "#2a3f5f"
            },
            "error_y": {
             "color": "#2a3f5f"
            },
            "marker": {
             "line": {
              "color": "#E5ECF6",
              "width": 0.5
             }
            },
            "type": "bar"
           }
          ],
          "barpolar": [
           {
            "marker": {
             "line": {
              "color": "#E5ECF6",
              "width": 0.5
             }
            },
            "type": "barpolar"
           }
          ],
          "carpet": [
           {
            "aaxis": {
             "endlinecolor": "#2a3f5f",
             "gridcolor": "white",
             "linecolor": "white",
             "minorgridcolor": "white",
             "startlinecolor": "#2a3f5f"
            },
            "baxis": {
             "endlinecolor": "#2a3f5f",
             "gridcolor": "white",
             "linecolor": "white",
             "minorgridcolor": "white",
             "startlinecolor": "#2a3f5f"
            },
            "type": "carpet"
           }
          ],
          "choropleth": [
           {
            "colorbar": {
             "outlinewidth": 0,
             "ticks": ""
            },
            "type": "choropleth"
           }
          ],
          "contour": [
           {
            "colorbar": {
             "outlinewidth": 0,
             "ticks": ""
            },
            "colorscale": [
             [
              0,
              "#0d0887"
             ],
             [
              0.1111111111111111,
              "#46039f"
             ],
             [
              0.2222222222222222,
              "#7201a8"
             ],
             [
              0.3333333333333333,
              "#9c179e"
             ],
             [
              0.4444444444444444,
              "#bd3786"
             ],
             [
              0.5555555555555556,
              "#d8576b"
             ],
             [
              0.6666666666666666,
              "#ed7953"
             ],
             [
              0.7777777777777778,
              "#fb9f3a"
             ],
             [
              0.8888888888888888,
              "#fdca26"
             ],
             [
              1,
              "#f0f921"
             ]
            ],
            "type": "contour"
           }
          ],
          "contourcarpet": [
           {
            "colorbar": {
             "outlinewidth": 0,
             "ticks": ""
            },
            "type": "contourcarpet"
           }
          ],
          "heatmap": [
           {
            "colorbar": {
             "outlinewidth": 0,
             "ticks": ""
            },
            "colorscale": [
             [
              0,
              "#0d0887"
             ],
             [
              0.1111111111111111,
              "#46039f"
             ],
             [
              0.2222222222222222,
              "#7201a8"
             ],
             [
              0.3333333333333333,
              "#9c179e"
             ],
             [
              0.4444444444444444,
              "#bd3786"
             ],
             [
              0.5555555555555556,
              "#d8576b"
             ],
             [
              0.6666666666666666,
              "#ed7953"
             ],
             [
              0.7777777777777778,
              "#fb9f3a"
             ],
             [
              0.8888888888888888,
              "#fdca26"
             ],
             [
              1,
              "#f0f921"
             ]
            ],
            "type": "heatmap"
           }
          ],
          "heatmapgl": [
           {
            "colorbar": {
             "outlinewidth": 0,
             "ticks": ""
            },
            "colorscale": [
             [
              0,
              "#0d0887"
             ],
             [
              0.1111111111111111,
              "#46039f"
             ],
             [
              0.2222222222222222,
              "#7201a8"
             ],
             [
              0.3333333333333333,
              "#9c179e"
             ],
             [
              0.4444444444444444,
              "#bd3786"
             ],
             [
              0.5555555555555556,
              "#d8576b"
             ],
             [
              0.6666666666666666,
              "#ed7953"
             ],
             [
              0.7777777777777778,
              "#fb9f3a"
             ],
             [
              0.8888888888888888,
              "#fdca26"
             ],
             [
              1,
              "#f0f921"
             ]
            ],
            "type": "heatmapgl"
           }
          ],
          "histogram": [
           {
            "marker": {
             "colorbar": {
              "outlinewidth": 0,
              "ticks": ""
             }
            },
            "type": "histogram"
           }
          ],
          "histogram2d": [
           {
            "colorbar": {
             "outlinewidth": 0,
             "ticks": ""
            },
            "colorscale": [
             [
              0,
              "#0d0887"
             ],
             [
              0.1111111111111111,
              "#46039f"
             ],
             [
              0.2222222222222222,
              "#7201a8"
             ],
             [
              0.3333333333333333,
              "#9c179e"
             ],
             [
              0.4444444444444444,
              "#bd3786"
             ],
             [
              0.5555555555555556,
              "#d8576b"
             ],
             [
              0.6666666666666666,
              "#ed7953"
             ],
             [
              0.7777777777777778,
              "#fb9f3a"
             ],
             [
              0.8888888888888888,
              "#fdca26"
             ],
             [
              1,
              "#f0f921"
             ]
            ],
            "type": "histogram2d"
           }
          ],
          "histogram2dcontour": [
           {
            "colorbar": {
             "outlinewidth": 0,
             "ticks": ""
            },
            "colorscale": [
             [
              0,
              "#0d0887"
             ],
             [
              0.1111111111111111,
              "#46039f"
             ],
             [
              0.2222222222222222,
              "#7201a8"
             ],
             [
              0.3333333333333333,
              "#9c179e"
             ],
             [
              0.4444444444444444,
              "#bd3786"
             ],
             [
              0.5555555555555556,
              "#d8576b"
             ],
             [
              0.6666666666666666,
              "#ed7953"
             ],
             [
              0.7777777777777778,
              "#fb9f3a"
             ],
             [
              0.8888888888888888,
              "#fdca26"
             ],
             [
              1,
              "#f0f921"
             ]
            ],
            "type": "histogram2dcontour"
           }
          ],
          "mesh3d": [
           {
            "colorbar": {
             "outlinewidth": 0,
             "ticks": ""
            },
            "type": "mesh3d"
           }
          ],
          "parcoords": [
           {
            "line": {
             "colorbar": {
              "outlinewidth": 0,
              "ticks": ""
             }
            },
            "type": "parcoords"
           }
          ],
          "pie": [
           {
            "automargin": true,
            "type": "pie"
           }
          ],
          "scatter": [
           {
            "marker": {
             "colorbar": {
              "outlinewidth": 0,
              "ticks": ""
             }
            },
            "type": "scatter"
           }
          ],
          "scatter3d": [
           {
            "line": {
             "colorbar": {
              "outlinewidth": 0,
              "ticks": ""
             }
            },
            "marker": {
             "colorbar": {
              "outlinewidth": 0,
              "ticks": ""
             }
            },
            "type": "scatter3d"
           }
          ],
          "scattercarpet": [
           {
            "marker": {
             "colorbar": {
              "outlinewidth": 0,
              "ticks": ""
             }
            },
            "type": "scattercarpet"
           }
          ],
          "scattergeo": [
           {
            "marker": {
             "colorbar": {
              "outlinewidth": 0,
              "ticks": ""
             }
            },
            "type": "scattergeo"
           }
          ],
          "scattergl": [
           {
            "marker": {
             "colorbar": {
              "outlinewidth": 0,
              "ticks": ""
             }
            },
            "type": "scattergl"
           }
          ],
          "scattermapbox": [
           {
            "marker": {
             "colorbar": {
              "outlinewidth": 0,
              "ticks": ""
             }
            },
            "type": "scattermapbox"
           }
          ],
          "scatterpolar": [
           {
            "marker": {
             "colorbar": {
              "outlinewidth": 0,
              "ticks": ""
             }
            },
            "type": "scatterpolar"
           }
          ],
          "scatterpolargl": [
           {
            "marker": {
             "colorbar": {
              "outlinewidth": 0,
              "ticks": ""
             }
            },
            "type": "scatterpolargl"
           }
          ],
          "scatterternary": [
           {
            "marker": {
             "colorbar": {
              "outlinewidth": 0,
              "ticks": ""
             }
            },
            "type": "scatterternary"
           }
          ],
          "surface": [
           {
            "colorbar": {
             "outlinewidth": 0,
             "ticks": ""
            },
            "colorscale": [
             [
              0,
              "#0d0887"
             ],
             [
              0.1111111111111111,
              "#46039f"
             ],
             [
              0.2222222222222222,
              "#7201a8"
             ],
             [
              0.3333333333333333,
              "#9c179e"
             ],
             [
              0.4444444444444444,
              "#bd3786"
             ],
             [
              0.5555555555555556,
              "#d8576b"
             ],
             [
              0.6666666666666666,
              "#ed7953"
             ],
             [
              0.7777777777777778,
              "#fb9f3a"
             ],
             [
              0.8888888888888888,
              "#fdca26"
             ],
             [
              1,
              "#f0f921"
             ]
            ],
            "type": "surface"
           }
          ],
          "table": [
           {
            "cells": {
             "fill": {
              "color": "#EBF0F8"
             },
             "line": {
              "color": "white"
             }
            },
            "header": {
             "fill": {
              "color": "#C8D4E3"
             },
             "line": {
              "color": "white"
             }
            },
            "type": "table"
           }
          ]
         },
         "layout": {
          "annotationdefaults": {
           "arrowcolor": "#2a3f5f",
           "arrowhead": 0,
           "arrowwidth": 1
          },
          "coloraxis": {
           "colorbar": {
            "outlinewidth": 0,
            "ticks": ""
           }
          },
          "colorscale": {
           "diverging": [
            [
             0,
             "#8e0152"
            ],
            [
             0.1,
             "#c51b7d"
            ],
            [
             0.2,
             "#de77ae"
            ],
            [
             0.3,
             "#f1b6da"
            ],
            [
             0.4,
             "#fde0ef"
            ],
            [
             0.5,
             "#f7f7f7"
            ],
            [
             0.6,
             "#e6f5d0"
            ],
            [
             0.7,
             "#b8e186"
            ],
            [
             0.8,
             "#7fbc41"
            ],
            [
             0.9,
             "#4d9221"
            ],
            [
             1,
             "#276419"
            ]
           ],
           "sequential": [
            [
             0,
             "#0d0887"
            ],
            [
             0.1111111111111111,
             "#46039f"
            ],
            [
             0.2222222222222222,
             "#7201a8"
            ],
            [
             0.3333333333333333,
             "#9c179e"
            ],
            [
             0.4444444444444444,
             "#bd3786"
            ],
            [
             0.5555555555555556,
             "#d8576b"
            ],
            [
             0.6666666666666666,
             "#ed7953"
            ],
            [
             0.7777777777777778,
             "#fb9f3a"
            ],
            [
             0.8888888888888888,
             "#fdca26"
            ],
            [
             1,
             "#f0f921"
            ]
           ],
           "sequentialminus": [
            [
             0,
             "#0d0887"
            ],
            [
             0.1111111111111111,
             "#46039f"
            ],
            [
             0.2222222222222222,
             "#7201a8"
            ],
            [
             0.3333333333333333,
             "#9c179e"
            ],
            [
             0.4444444444444444,
             "#bd3786"
            ],
            [
             0.5555555555555556,
             "#d8576b"
            ],
            [
             0.6666666666666666,
             "#ed7953"
            ],
            [
             0.7777777777777778,
             "#fb9f3a"
            ],
            [
             0.8888888888888888,
             "#fdca26"
            ],
            [
             1,
             "#f0f921"
            ]
           ]
          },
          "colorway": [
           "#636efa",
           "#EF553B",
           "#00cc96",
           "#ab63fa",
           "#FFA15A",
           "#19d3f3",
           "#FF6692",
           "#B6E880",
           "#FF97FF",
           "#FECB52"
          ],
          "font": {
           "color": "#2a3f5f"
          },
          "geo": {
           "bgcolor": "white",
           "lakecolor": "white",
           "landcolor": "#E5ECF6",
           "showlakes": true,
           "showland": true,
           "subunitcolor": "white"
          },
          "hoverlabel": {
           "align": "left"
          },
          "hovermode": "closest",
          "mapbox": {
           "style": "light"
          },
          "paper_bgcolor": "white",
          "plot_bgcolor": "#E5ECF6",
          "polar": {
           "angularaxis": {
            "gridcolor": "white",
            "linecolor": "white",
            "ticks": ""
           },
           "bgcolor": "#E5ECF6",
           "radialaxis": {
            "gridcolor": "white",
            "linecolor": "white",
            "ticks": ""
           }
          },
          "scene": {
           "xaxis": {
            "backgroundcolor": "#E5ECF6",
            "gridcolor": "white",
            "gridwidth": 2,
            "linecolor": "white",
            "showbackground": true,
            "ticks": "",
            "zerolinecolor": "white"
           },
           "yaxis": {
            "backgroundcolor": "#E5ECF6",
            "gridcolor": "white",
            "gridwidth": 2,
            "linecolor": "white",
            "showbackground": true,
            "ticks": "",
            "zerolinecolor": "white"
           },
           "zaxis": {
            "backgroundcolor": "#E5ECF6",
            "gridcolor": "white",
            "gridwidth": 2,
            "linecolor": "white",
            "showbackground": true,
            "ticks": "",
            "zerolinecolor": "white"
           }
          },
          "shapedefaults": {
           "line": {
            "color": "#2a3f5f"
           }
          },
          "ternary": {
           "aaxis": {
            "gridcolor": "white",
            "linecolor": "white",
            "ticks": ""
           },
           "baxis": {
            "gridcolor": "white",
            "linecolor": "white",
            "ticks": ""
           },
           "bgcolor": "#E5ECF6",
           "caxis": {
            "gridcolor": "white",
            "linecolor": "white",
            "ticks": ""
           }
          },
          "title": {
           "x": 0.05
          },
          "xaxis": {
           "automargin": true,
           "gridcolor": "white",
           "linecolor": "white",
           "ticks": "",
           "title": {
            "standoff": 15
           },
           "zerolinecolor": "white",
           "zerolinewidth": 2
          },
          "yaxis": {
           "automargin": true,
           "gridcolor": "white",
           "linecolor": "white",
           "ticks": "",
           "title": {
            "standoff": 15
           },
           "zerolinecolor": "white",
           "zerolinewidth": 2
          }
         }
        },
        "title": {
         "text": "Средня сумма в зависмости от категории"
        }
       }
      }
     },
     "metadata": {}
    }
   ],
   "source": [
    "dict_parc['Didn\\'t parc'] = data.loc[data.Num_program==0,:]\n",
    "\n",
    "name_x= contrast_col\n",
    "gist_value = [[df.loc[:, col].mean() for col in contrast_col] for df in dict_parc.values()]\n",
    "gist_list_2 = [go.Bar(x=name_x, \n",
    "                    y =val,\n",
    "                    name=name) \n",
    "             for name, val in zip(dict_parc, gist_value)]\n",
    "layout = go.Layout(barmode='group', title='Средня сумма в зависмости от категории')\n",
    "go.Figure(data=gist_list_2, layout= layout)"
   ]
  },
  {
   "source": [
    "По графику видно, что у клиентов, принимавших участие в акциях средний чек фактически по всем позициям выше, чем у пассивных клиентов. И особенно чек выше на по позициям вино и мясные продукты. Видимо исходя из среднего чека клиентам и делали акционные предложения. Возможно нам и не нужна модель чтобы предсказать участие клиента в акции, а достаточно делать акционное предложения исходя из среднего чека вина и мясных продуктов."
   ],
   "cell_type": "markdown",
   "metadata": {}
  },
  {
   "source": [
    "Так же есть вероятность, что клиенты не был проинформирован об акции или не пeрешёл по ссылке из электронного письма. Посмотрим на среднее посещения сайта клиентом в зависимости от числа принятия участий в акциях."
   ],
   "cell_type": "markdown",
   "metadata": {}
  },
  {
   "cell_type": "code",
   "execution_count": 40,
   "metadata": {},
   "outputs": [
    {
     "output_type": "display_data",
     "data": {
      "application/vnd.plotly.v1+json": {
       "config": {
        "plotlyServerURL": "https://plot.ly"
       },
       "data": [
        {
         "labels": [
          0,
          1,
          2,
          3,
          4
         ],
         "type": "pie",
         "values": [
          5.479143179255919,
          5.092592592592593,
          4.0120481927710845,
          3.3636363636363638,
          3.909090909090909
         ]
        }
       ],
       "layout": {
        "template": {
         "data": {
          "bar": [
           {
            "error_x": {
             "color": "#2a3f5f"
            },
            "error_y": {
             "color": "#2a3f5f"
            },
            "marker": {
             "line": {
              "color": "#E5ECF6",
              "width": 0.5
             }
            },
            "type": "bar"
           }
          ],
          "barpolar": [
           {
            "marker": {
             "line": {
              "color": "#E5ECF6",
              "width": 0.5
             }
            },
            "type": "barpolar"
           }
          ],
          "carpet": [
           {
            "aaxis": {
             "endlinecolor": "#2a3f5f",
             "gridcolor": "white",
             "linecolor": "white",
             "minorgridcolor": "white",
             "startlinecolor": "#2a3f5f"
            },
            "baxis": {
             "endlinecolor": "#2a3f5f",
             "gridcolor": "white",
             "linecolor": "white",
             "minorgridcolor": "white",
             "startlinecolor": "#2a3f5f"
            },
            "type": "carpet"
           }
          ],
          "choropleth": [
           {
            "colorbar": {
             "outlinewidth": 0,
             "ticks": ""
            },
            "type": "choropleth"
           }
          ],
          "contour": [
           {
            "colorbar": {
             "outlinewidth": 0,
             "ticks": ""
            },
            "colorscale": [
             [
              0,
              "#0d0887"
             ],
             [
              0.1111111111111111,
              "#46039f"
             ],
             [
              0.2222222222222222,
              "#7201a8"
             ],
             [
              0.3333333333333333,
              "#9c179e"
             ],
             [
              0.4444444444444444,
              "#bd3786"
             ],
             [
              0.5555555555555556,
              "#d8576b"
             ],
             [
              0.6666666666666666,
              "#ed7953"
             ],
             [
              0.7777777777777778,
              "#fb9f3a"
             ],
             [
              0.8888888888888888,
              "#fdca26"
             ],
             [
              1,
              "#f0f921"
             ]
            ],
            "type": "contour"
           }
          ],
          "contourcarpet": [
           {
            "colorbar": {
             "outlinewidth": 0,
             "ticks": ""
            },
            "type": "contourcarpet"
           }
          ],
          "heatmap": [
           {
            "colorbar": {
             "outlinewidth": 0,
             "ticks": ""
            },
            "colorscale": [
             [
              0,
              "#0d0887"
             ],
             [
              0.1111111111111111,
              "#46039f"
             ],
             [
              0.2222222222222222,
              "#7201a8"
             ],
             [
              0.3333333333333333,
              "#9c179e"
             ],
             [
              0.4444444444444444,
              "#bd3786"
             ],
             [
              0.5555555555555556,
              "#d8576b"
             ],
             [
              0.6666666666666666,
              "#ed7953"
             ],
             [
              0.7777777777777778,
              "#fb9f3a"
             ],
             [
              0.8888888888888888,
              "#fdca26"
             ],
             [
              1,
              "#f0f921"
             ]
            ],
            "type": "heatmap"
           }
          ],
          "heatmapgl": [
           {
            "colorbar": {
             "outlinewidth": 0,
             "ticks": ""
            },
            "colorscale": [
             [
              0,
              "#0d0887"
             ],
             [
              0.1111111111111111,
              "#46039f"
             ],
             [
              0.2222222222222222,
              "#7201a8"
             ],
             [
              0.3333333333333333,
              "#9c179e"
             ],
             [
              0.4444444444444444,
              "#bd3786"
             ],
             [
              0.5555555555555556,
              "#d8576b"
             ],
             [
              0.6666666666666666,
              "#ed7953"
             ],
             [
              0.7777777777777778,
              "#fb9f3a"
             ],
             [
              0.8888888888888888,
              "#fdca26"
             ],
             [
              1,
              "#f0f921"
             ]
            ],
            "type": "heatmapgl"
           }
          ],
          "histogram": [
           {
            "marker": {
             "colorbar": {
              "outlinewidth": 0,
              "ticks": ""
             }
            },
            "type": "histogram"
           }
          ],
          "histogram2d": [
           {
            "colorbar": {
             "outlinewidth": 0,
             "ticks": ""
            },
            "colorscale": [
             [
              0,
              "#0d0887"
             ],
             [
              0.1111111111111111,
              "#46039f"
             ],
             [
              0.2222222222222222,
              "#7201a8"
             ],
             [
              0.3333333333333333,
              "#9c179e"
             ],
             [
              0.4444444444444444,
              "#bd3786"
             ],
             [
              0.5555555555555556,
              "#d8576b"
             ],
             [
              0.6666666666666666,
              "#ed7953"
             ],
             [
              0.7777777777777778,
              "#fb9f3a"
             ],
             [
              0.8888888888888888,
              "#fdca26"
             ],
             [
              1,
              "#f0f921"
             ]
            ],
            "type": "histogram2d"
           }
          ],
          "histogram2dcontour": [
           {
            "colorbar": {
             "outlinewidth": 0,
             "ticks": ""
            },
            "colorscale": [
             [
              0,
              "#0d0887"
             ],
             [
              0.1111111111111111,
              "#46039f"
             ],
             [
              0.2222222222222222,
              "#7201a8"
             ],
             [
              0.3333333333333333,
              "#9c179e"
             ],
             [
              0.4444444444444444,
              "#bd3786"
             ],
             [
              0.5555555555555556,
              "#d8576b"
             ],
             [
              0.6666666666666666,
              "#ed7953"
             ],
             [
              0.7777777777777778,
              "#fb9f3a"
             ],
             [
              0.8888888888888888,
              "#fdca26"
             ],
             [
              1,
              "#f0f921"
             ]
            ],
            "type": "histogram2dcontour"
           }
          ],
          "mesh3d": [
           {
            "colorbar": {
             "outlinewidth": 0,
             "ticks": ""
            },
            "type": "mesh3d"
           }
          ],
          "parcoords": [
           {
            "line": {
             "colorbar": {
              "outlinewidth": 0,
              "ticks": ""
             }
            },
            "type": "parcoords"
           }
          ],
          "pie": [
           {
            "automargin": true,
            "type": "pie"
           }
          ],
          "scatter": [
           {
            "marker": {
             "colorbar": {
              "outlinewidth": 0,
              "ticks": ""
             }
            },
            "type": "scatter"
           }
          ],
          "scatter3d": [
           {
            "line": {
             "colorbar": {
              "outlinewidth": 0,
              "ticks": ""
             }
            },
            "marker": {
             "colorbar": {
              "outlinewidth": 0,
              "ticks": ""
             }
            },
            "type": "scatter3d"
           }
          ],
          "scattercarpet": [
           {
            "marker": {
             "colorbar": {
              "outlinewidth": 0,
              "ticks": ""
             }
            },
            "type": "scattercarpet"
           }
          ],
          "scattergeo": [
           {
            "marker": {
             "colorbar": {
              "outlinewidth": 0,
              "ticks": ""
             }
            },
            "type": "scattergeo"
           }
          ],
          "scattergl": [
           {
            "marker": {
             "colorbar": {
              "outlinewidth": 0,
              "ticks": ""
             }
            },
            "type": "scattergl"
           }
          ],
          "scattermapbox": [
           {
            "marker": {
             "colorbar": {
              "outlinewidth": 0,
              "ticks": ""
             }
            },
            "type": "scattermapbox"
           }
          ],
          "scatterpolar": [
           {
            "marker": {
             "colorbar": {
              "outlinewidth": 0,
              "ticks": ""
             }
            },
            "type": "scatterpolar"
           }
          ],
          "scatterpolargl": [
           {
            "marker": {
             "colorbar": {
              "outlinewidth": 0,
              "ticks": ""
             }
            },
            "type": "scatterpolargl"
           }
          ],
          "scatterternary": [
           {
            "marker": {
             "colorbar": {
              "outlinewidth": 0,
              "ticks": ""
             }
            },
            "type": "scatterternary"
           }
          ],
          "surface": [
           {
            "colorbar": {
             "outlinewidth": 0,
             "ticks": ""
            },
            "colorscale": [
             [
              0,
              "#0d0887"
             ],
             [
              0.1111111111111111,
              "#46039f"
             ],
             [
              0.2222222222222222,
              "#7201a8"
             ],
             [
              0.3333333333333333,
              "#9c179e"
             ],
             [
              0.4444444444444444,
              "#bd3786"
             ],
             [
              0.5555555555555556,
              "#d8576b"
             ],
             [
              0.6666666666666666,
              "#ed7953"
             ],
             [
              0.7777777777777778,
              "#fb9f3a"
             ],
             [
              0.8888888888888888,
              "#fdca26"
             ],
             [
              1,
              "#f0f921"
             ]
            ],
            "type": "surface"
           }
          ],
          "table": [
           {
            "cells": {
             "fill": {
              "color": "#EBF0F8"
             },
             "line": {
              "color": "white"
             }
            },
            "header": {
             "fill": {
              "color": "#C8D4E3"
             },
             "line": {
              "color": "white"
             }
            },
            "type": "table"
           }
          ]
         },
         "layout": {
          "annotationdefaults": {
           "arrowcolor": "#2a3f5f",
           "arrowhead": 0,
           "arrowwidth": 1
          },
          "coloraxis": {
           "colorbar": {
            "outlinewidth": 0,
            "ticks": ""
           }
          },
          "colorscale": {
           "diverging": [
            [
             0,
             "#8e0152"
            ],
            [
             0.1,
             "#c51b7d"
            ],
            [
             0.2,
             "#de77ae"
            ],
            [
             0.3,
             "#f1b6da"
            ],
            [
             0.4,
             "#fde0ef"
            ],
            [
             0.5,
             "#f7f7f7"
            ],
            [
             0.6,
             "#e6f5d0"
            ],
            [
             0.7,
             "#b8e186"
            ],
            [
             0.8,
             "#7fbc41"
            ],
            [
             0.9,
             "#4d9221"
            ],
            [
             1,
             "#276419"
            ]
           ],
           "sequential": [
            [
             0,
             "#0d0887"
            ],
            [
             0.1111111111111111,
             "#46039f"
            ],
            [
             0.2222222222222222,
             "#7201a8"
            ],
            [
             0.3333333333333333,
             "#9c179e"
            ],
            [
             0.4444444444444444,
             "#bd3786"
            ],
            [
             0.5555555555555556,
             "#d8576b"
            ],
            [
             0.6666666666666666,
             "#ed7953"
            ],
            [
             0.7777777777777778,
             "#fb9f3a"
            ],
            [
             0.8888888888888888,
             "#fdca26"
            ],
            [
             1,
             "#f0f921"
            ]
           ],
           "sequentialminus": [
            [
             0,
             "#0d0887"
            ],
            [
             0.1111111111111111,
             "#46039f"
            ],
            [
             0.2222222222222222,
             "#7201a8"
            ],
            [
             0.3333333333333333,
             "#9c179e"
            ],
            [
             0.4444444444444444,
             "#bd3786"
            ],
            [
             0.5555555555555556,
             "#d8576b"
            ],
            [
             0.6666666666666666,
             "#ed7953"
            ],
            [
             0.7777777777777778,
             "#fb9f3a"
            ],
            [
             0.8888888888888888,
             "#fdca26"
            ],
            [
             1,
             "#f0f921"
            ]
           ]
          },
          "colorway": [
           "#636efa",
           "#EF553B",
           "#00cc96",
           "#ab63fa",
           "#FFA15A",
           "#19d3f3",
           "#FF6692",
           "#B6E880",
           "#FF97FF",
           "#FECB52"
          ],
          "font": {
           "color": "#2a3f5f"
          },
          "geo": {
           "bgcolor": "white",
           "lakecolor": "white",
           "landcolor": "#E5ECF6",
           "showlakes": true,
           "showland": true,
           "subunitcolor": "white"
          },
          "hoverlabel": {
           "align": "left"
          },
          "hovermode": "closest",
          "mapbox": {
           "style": "light"
          },
          "paper_bgcolor": "white",
          "plot_bgcolor": "#E5ECF6",
          "polar": {
           "angularaxis": {
            "gridcolor": "white",
            "linecolor": "white",
            "ticks": ""
           },
           "bgcolor": "#E5ECF6",
           "radialaxis": {
            "gridcolor": "white",
            "linecolor": "white",
            "ticks": ""
           }
          },
          "scene": {
           "xaxis": {
            "backgroundcolor": "#E5ECF6",
            "gridcolor": "white",
            "gridwidth": 2,
            "linecolor": "white",
            "showbackground": true,
            "ticks": "",
            "zerolinecolor": "white"
           },
           "yaxis": {
            "backgroundcolor": "#E5ECF6",
            "gridcolor": "white",
            "gridwidth": 2,
            "linecolor": "white",
            "showbackground": true,
            "ticks": "",
            "zerolinecolor": "white"
           },
           "zaxis": {
            "backgroundcolor": "#E5ECF6",
            "gridcolor": "white",
            "gridwidth": 2,
            "linecolor": "white",
            "showbackground": true,
            "ticks": "",
            "zerolinecolor": "white"
           }
          },
          "shapedefaults": {
           "line": {
            "color": "#2a3f5f"
           }
          },
          "ternary": {
           "aaxis": {
            "gridcolor": "white",
            "linecolor": "white",
            "ticks": ""
           },
           "baxis": {
            "gridcolor": "white",
            "linecolor": "white",
            "ticks": ""
           },
           "bgcolor": "#E5ECF6",
           "caxis": {
            "gridcolor": "white",
            "linecolor": "white",
            "ticks": ""
           }
          },
          "title": {
           "x": 0.05
          },
          "xaxis": {
           "automargin": true,
           "gridcolor": "white",
           "linecolor": "white",
           "ticks": "",
           "title": {
            "standoff": 15
           },
           "zerolinecolor": "white",
           "zerolinewidth": 2
          },
          "yaxis": {
           "automargin": true,
           "gridcolor": "white",
           "linecolor": "white",
           "ticks": "",
           "title": {
            "standoff": 15
           },
           "zerolinecolor": "white",
           "zerolinewidth": 2
          }
         }
        },
        "title": {
         "text": "Среднее количество посежений сайта в зависиимости от кол-во участия"
        }
       }
      }
     },
     "metadata": {}
    }
   ],
   "source": [
    "fig = go.Figure()\n",
    "index = data.Num_program.value_counts().index\n",
    "values = [data.loc[data.Num_program==i, 'NumWebVisitsMonth'].mean()  for i in index]\n",
    "fig.add_trace(go.Pie(values=values, labels=index))\n",
    "fig.update_layout(title='Среднее количество посежений сайта в зависиимости от кол-во участия')\n",
    "fig.show()"
   ]
  },
  {
   "source": [
    "Результат очень интересный. Люди, которые не участвовали в акциях, в среднем больше заходят на сайт, то есть они были проинформированы об акциях. Возможно им просто не понравилось предложение.\n",
    "Есть ещё одна деталь которую я возможно упустил. Клиенты, не участвующие в акциях это есть тестовая группа для предсказания подходящей акции, но в задании об этом ничего не сказано, так что буду считать их неотзывчивыми клиентами."
   ],
   "cell_type": "markdown",
   "metadata": {}
  },
  {
   "cell_type": "code",
   "execution_count": 41,
   "metadata": {},
   "outputs": [
    {
     "output_type": "execute_result",
     "data": {
      "text/plain": [
       "5.319320214669052"
      ]
     },
     "metadata": {},
     "execution_count": 41
    }
   ],
   "source": [
    "data.NumWebVisitsMonth.mean()"
   ]
  },
  {
   "source": [
    "Среднее количество посещения сайта в месяц составляет 5 среди всех клиентов, посмотрим теперь среднее число покупок онлайн и офлайн"
   ],
   "cell_type": "markdown",
   "metadata": {}
  },
  {
   "cell_type": "code",
   "execution_count": 42,
   "metadata": {},
   "outputs": [
    {
     "output_type": "display_data",
     "data": {
      "application/vnd.plotly.v1+json": {
       "config": {
        "plotlyServerURL": "https://plot.ly"
       },
       "data": [
        {
         "name": "AcceptedCmp1",
         "type": "bar",
         "x": [
          "Онлайн",
          "Офлайн"
         ],
         "y": [
          5.729166666666667,
          8.0625
         ]
        },
        {
         "name": "AcceptedCmp2",
         "type": "bar",
         "x": [
          "Онлайн",
          "Офлайн"
         ],
         "y": [
          4.9,
          8.166666666666666
         ]
        },
        {
         "name": "AcceptedCmp3",
         "type": "bar",
         "x": [
          "Онлайн",
          "Офлайн"
         ],
         "y": [
          4.5030674846625764,
          5.006134969325154
         ]
        },
        {
         "name": "AcceptedCmp4",
         "type": "bar",
         "x": [
          "Онлайн",
          "Офлайн"
         ],
         "y": [
          5.610778443113772,
          7.844311377245509
         ]
        },
        {
         "name": "AcceptedCmp5",
         "type": "bar",
         "x": [
          "Онлайн",
          "Офлайн"
         ],
         "y": [
          5.469135802469136,
          8.308641975308642
         ]
        },
        {
         "name": "Didn't parc",
         "type": "bar",
         "x": [
          "Онлайн",
          "Офлайн"
         ],
         "y": [
          3.7953776775648254,
          5.479143179255919
         ]
        }
       ],
       "layout": {
        "barmode": "group",
        "template": {
         "data": {
          "bar": [
           {
            "error_x": {
             "color": "#2a3f5f"
            },
            "error_y": {
             "color": "#2a3f5f"
            },
            "marker": {
             "line": {
              "color": "#E5ECF6",
              "width": 0.5
             }
            },
            "type": "bar"
           }
          ],
          "barpolar": [
           {
            "marker": {
             "line": {
              "color": "#E5ECF6",
              "width": 0.5
             }
            },
            "type": "barpolar"
           }
          ],
          "carpet": [
           {
            "aaxis": {
             "endlinecolor": "#2a3f5f",
             "gridcolor": "white",
             "linecolor": "white",
             "minorgridcolor": "white",
             "startlinecolor": "#2a3f5f"
            },
            "baxis": {
             "endlinecolor": "#2a3f5f",
             "gridcolor": "white",
             "linecolor": "white",
             "minorgridcolor": "white",
             "startlinecolor": "#2a3f5f"
            },
            "type": "carpet"
           }
          ],
          "choropleth": [
           {
            "colorbar": {
             "outlinewidth": 0,
             "ticks": ""
            },
            "type": "choropleth"
           }
          ],
          "contour": [
           {
            "colorbar": {
             "outlinewidth": 0,
             "ticks": ""
            },
            "colorscale": [
             [
              0,
              "#0d0887"
             ],
             [
              0.1111111111111111,
              "#46039f"
             ],
             [
              0.2222222222222222,
              "#7201a8"
             ],
             [
              0.3333333333333333,
              "#9c179e"
             ],
             [
              0.4444444444444444,
              "#bd3786"
             ],
             [
              0.5555555555555556,
              "#d8576b"
             ],
             [
              0.6666666666666666,
              "#ed7953"
             ],
             [
              0.7777777777777778,
              "#fb9f3a"
             ],
             [
              0.8888888888888888,
              "#fdca26"
             ],
             [
              1,
              "#f0f921"
             ]
            ],
            "type": "contour"
           }
          ],
          "contourcarpet": [
           {
            "colorbar": {
             "outlinewidth": 0,
             "ticks": ""
            },
            "type": "contourcarpet"
           }
          ],
          "heatmap": [
           {
            "colorbar": {
             "outlinewidth": 0,
             "ticks": ""
            },
            "colorscale": [
             [
              0,
              "#0d0887"
             ],
             [
              0.1111111111111111,
              "#46039f"
             ],
             [
              0.2222222222222222,
              "#7201a8"
             ],
             [
              0.3333333333333333,
              "#9c179e"
             ],
             [
              0.4444444444444444,
              "#bd3786"
             ],
             [
              0.5555555555555556,
              "#d8576b"
             ],
             [
              0.6666666666666666,
              "#ed7953"
             ],
             [
              0.7777777777777778,
              "#fb9f3a"
             ],
             [
              0.8888888888888888,
              "#fdca26"
             ],
             [
              1,
              "#f0f921"
             ]
            ],
            "type": "heatmap"
           }
          ],
          "heatmapgl": [
           {
            "colorbar": {
             "outlinewidth": 0,
             "ticks": ""
            },
            "colorscale": [
             [
              0,
              "#0d0887"
             ],
             [
              0.1111111111111111,
              "#46039f"
             ],
             [
              0.2222222222222222,
              "#7201a8"
             ],
             [
              0.3333333333333333,
              "#9c179e"
             ],
             [
              0.4444444444444444,
              "#bd3786"
             ],
             [
              0.5555555555555556,
              "#d8576b"
             ],
             [
              0.6666666666666666,
              "#ed7953"
             ],
             [
              0.7777777777777778,
              "#fb9f3a"
             ],
             [
              0.8888888888888888,
              "#fdca26"
             ],
             [
              1,
              "#f0f921"
             ]
            ],
            "type": "heatmapgl"
           }
          ],
          "histogram": [
           {
            "marker": {
             "colorbar": {
              "outlinewidth": 0,
              "ticks": ""
             }
            },
            "type": "histogram"
           }
          ],
          "histogram2d": [
           {
            "colorbar": {
             "outlinewidth": 0,
             "ticks": ""
            },
            "colorscale": [
             [
              0,
              "#0d0887"
             ],
             [
              0.1111111111111111,
              "#46039f"
             ],
             [
              0.2222222222222222,
              "#7201a8"
             ],
             [
              0.3333333333333333,
              "#9c179e"
             ],
             [
              0.4444444444444444,
              "#bd3786"
             ],
             [
              0.5555555555555556,
              "#d8576b"
             ],
             [
              0.6666666666666666,
              "#ed7953"
             ],
             [
              0.7777777777777778,
              "#fb9f3a"
             ],
             [
              0.8888888888888888,
              "#fdca26"
             ],
             [
              1,
              "#f0f921"
             ]
            ],
            "type": "histogram2d"
           }
          ],
          "histogram2dcontour": [
           {
            "colorbar": {
             "outlinewidth": 0,
             "ticks": ""
            },
            "colorscale": [
             [
              0,
              "#0d0887"
             ],
             [
              0.1111111111111111,
              "#46039f"
             ],
             [
              0.2222222222222222,
              "#7201a8"
             ],
             [
              0.3333333333333333,
              "#9c179e"
             ],
             [
              0.4444444444444444,
              "#bd3786"
             ],
             [
              0.5555555555555556,
              "#d8576b"
             ],
             [
              0.6666666666666666,
              "#ed7953"
             ],
             [
              0.7777777777777778,
              "#fb9f3a"
             ],
             [
              0.8888888888888888,
              "#fdca26"
             ],
             [
              1,
              "#f0f921"
             ]
            ],
            "type": "histogram2dcontour"
           }
          ],
          "mesh3d": [
           {
            "colorbar": {
             "outlinewidth": 0,
             "ticks": ""
            },
            "type": "mesh3d"
           }
          ],
          "parcoords": [
           {
            "line": {
             "colorbar": {
              "outlinewidth": 0,
              "ticks": ""
             }
            },
            "type": "parcoords"
           }
          ],
          "pie": [
           {
            "automargin": true,
            "type": "pie"
           }
          ],
          "scatter": [
           {
            "marker": {
             "colorbar": {
              "outlinewidth": 0,
              "ticks": ""
             }
            },
            "type": "scatter"
           }
          ],
          "scatter3d": [
           {
            "line": {
             "colorbar": {
              "outlinewidth": 0,
              "ticks": ""
             }
            },
            "marker": {
             "colorbar": {
              "outlinewidth": 0,
              "ticks": ""
             }
            },
            "type": "scatter3d"
           }
          ],
          "scattercarpet": [
           {
            "marker": {
             "colorbar": {
              "outlinewidth": 0,
              "ticks": ""
             }
            },
            "type": "scattercarpet"
           }
          ],
          "scattergeo": [
           {
            "marker": {
             "colorbar": {
              "outlinewidth": 0,
              "ticks": ""
             }
            },
            "type": "scattergeo"
           }
          ],
          "scattergl": [
           {
            "marker": {
             "colorbar": {
              "outlinewidth": 0,
              "ticks": ""
             }
            },
            "type": "scattergl"
           }
          ],
          "scattermapbox": [
           {
            "marker": {
             "colorbar": {
              "outlinewidth": 0,
              "ticks": ""
             }
            },
            "type": "scattermapbox"
           }
          ],
          "scatterpolar": [
           {
            "marker": {
             "colorbar": {
              "outlinewidth": 0,
              "ticks": ""
             }
            },
            "type": "scatterpolar"
           }
          ],
          "scatterpolargl": [
           {
            "marker": {
             "colorbar": {
              "outlinewidth": 0,
              "ticks": ""
             }
            },
            "type": "scatterpolargl"
           }
          ],
          "scatterternary": [
           {
            "marker": {
             "colorbar": {
              "outlinewidth": 0,
              "ticks": ""
             }
            },
            "type": "scatterternary"
           }
          ],
          "surface": [
           {
            "colorbar": {
             "outlinewidth": 0,
             "ticks": ""
            },
            "colorscale": [
             [
              0,
              "#0d0887"
             ],
             [
              0.1111111111111111,
              "#46039f"
             ],
             [
              0.2222222222222222,
              "#7201a8"
             ],
             [
              0.3333333333333333,
              "#9c179e"
             ],
             [
              0.4444444444444444,
              "#bd3786"
             ],
             [
              0.5555555555555556,
              "#d8576b"
             ],
             [
              0.6666666666666666,
              "#ed7953"
             ],
             [
              0.7777777777777778,
              "#fb9f3a"
             ],
             [
              0.8888888888888888,
              "#fdca26"
             ],
             [
              1,
              "#f0f921"
             ]
            ],
            "type": "surface"
           }
          ],
          "table": [
           {
            "cells": {
             "fill": {
              "color": "#EBF0F8"
             },
             "line": {
              "color": "white"
             }
            },
            "header": {
             "fill": {
              "color": "#C8D4E3"
             },
             "line": {
              "color": "white"
             }
            },
            "type": "table"
           }
          ]
         },
         "layout": {
          "annotationdefaults": {
           "arrowcolor": "#2a3f5f",
           "arrowhead": 0,
           "arrowwidth": 1
          },
          "coloraxis": {
           "colorbar": {
            "outlinewidth": 0,
            "ticks": ""
           }
          },
          "colorscale": {
           "diverging": [
            [
             0,
             "#8e0152"
            ],
            [
             0.1,
             "#c51b7d"
            ],
            [
             0.2,
             "#de77ae"
            ],
            [
             0.3,
             "#f1b6da"
            ],
            [
             0.4,
             "#fde0ef"
            ],
            [
             0.5,
             "#f7f7f7"
            ],
            [
             0.6,
             "#e6f5d0"
            ],
            [
             0.7,
             "#b8e186"
            ],
            [
             0.8,
             "#7fbc41"
            ],
            [
             0.9,
             "#4d9221"
            ],
            [
             1,
             "#276419"
            ]
           ],
           "sequential": [
            [
             0,
             "#0d0887"
            ],
            [
             0.1111111111111111,
             "#46039f"
            ],
            [
             0.2222222222222222,
             "#7201a8"
            ],
            [
             0.3333333333333333,
             "#9c179e"
            ],
            [
             0.4444444444444444,
             "#bd3786"
            ],
            [
             0.5555555555555556,
             "#d8576b"
            ],
            [
             0.6666666666666666,
             "#ed7953"
            ],
            [
             0.7777777777777778,
             "#fb9f3a"
            ],
            [
             0.8888888888888888,
             "#fdca26"
            ],
            [
             1,
             "#f0f921"
            ]
           ],
           "sequentialminus": [
            [
             0,
             "#0d0887"
            ],
            [
             0.1111111111111111,
             "#46039f"
            ],
            [
             0.2222222222222222,
             "#7201a8"
            ],
            [
             0.3333333333333333,
             "#9c179e"
            ],
            [
             0.4444444444444444,
             "#bd3786"
            ],
            [
             0.5555555555555556,
             "#d8576b"
            ],
            [
             0.6666666666666666,
             "#ed7953"
            ],
            [
             0.7777777777777778,
             "#fb9f3a"
            ],
            [
             0.8888888888888888,
             "#fdca26"
            ],
            [
             1,
             "#f0f921"
            ]
           ]
          },
          "colorway": [
           "#636efa",
           "#EF553B",
           "#00cc96",
           "#ab63fa",
           "#FFA15A",
           "#19d3f3",
           "#FF6692",
           "#B6E880",
           "#FF97FF",
           "#FECB52"
          ],
          "font": {
           "color": "#2a3f5f"
          },
          "geo": {
           "bgcolor": "white",
           "lakecolor": "white",
           "landcolor": "#E5ECF6",
           "showlakes": true,
           "showland": true,
           "subunitcolor": "white"
          },
          "hoverlabel": {
           "align": "left"
          },
          "hovermode": "closest",
          "mapbox": {
           "style": "light"
          },
          "paper_bgcolor": "white",
          "plot_bgcolor": "#E5ECF6",
          "polar": {
           "angularaxis": {
            "gridcolor": "white",
            "linecolor": "white",
            "ticks": ""
           },
           "bgcolor": "#E5ECF6",
           "radialaxis": {
            "gridcolor": "white",
            "linecolor": "white",
            "ticks": ""
           }
          },
          "scene": {
           "xaxis": {
            "backgroundcolor": "#E5ECF6",
            "gridcolor": "white",
            "gridwidth": 2,
            "linecolor": "white",
            "showbackground": true,
            "ticks": "",
            "zerolinecolor": "white"
           },
           "yaxis": {
            "backgroundcolor": "#E5ECF6",
            "gridcolor": "white",
            "gridwidth": 2,
            "linecolor": "white",
            "showbackground": true,
            "ticks": "",
            "zerolinecolor": "white"
           },
           "zaxis": {
            "backgroundcolor": "#E5ECF6",
            "gridcolor": "white",
            "gridwidth": 2,
            "linecolor": "white",
            "showbackground": true,
            "ticks": "",
            "zerolinecolor": "white"
           }
          },
          "shapedefaults": {
           "line": {
            "color": "#2a3f5f"
           }
          },
          "ternary": {
           "aaxis": {
            "gridcolor": "white",
            "linecolor": "white",
            "ticks": ""
           },
           "baxis": {
            "gridcolor": "white",
            "linecolor": "white",
            "ticks": ""
           },
           "bgcolor": "#E5ECF6",
           "caxis": {
            "gridcolor": "white",
            "linecolor": "white",
            "ticks": ""
           }
          },
          "title": {
           "x": 0.05
          },
          "xaxis": {
           "automargin": true,
           "gridcolor": "white",
           "linecolor": "white",
           "ticks": "",
           "title": {
            "standoff": 15
           },
           "zerolinecolor": "white",
           "zerolinewidth": 2
          },
          "yaxis": {
           "automargin": true,
           "gridcolor": "white",
           "linecolor": "white",
           "ticks": "",
           "title": {
            "standoff": 15
           },
           "zerolinecolor": "white",
           "zerolinewidth": 2
          }
         }
        },
        "title": {
         "text": "Сравнение продаж онлайн и офлайн"
        }
       }
      }
     },
     "metadata": {}
    }
   ],
   "source": [
    "name_x= ['Онлайн', 'Офлайн']\n",
    "gist_list_in = [go.Bar(x=name_x, \n",
    "                    y = [dict_parc[key][col].mean() for col in ['NumWebPurchases', 'NumStorePurchases']],\n",
    "                    name=key) for key in dict_parc]\n",
    "\n",
    "layout = go.Layout(barmode='group', title='Сравнение продаж онлайн и офлайн')\n",
    "go.Figure(data=gist_list_in, layout= layout)"
   ]
  },
  {
   "source": [
    "По графикам мы видим, что акции стимулирует онлайн продажи, хотя участники акции в среднем на портал заходят не чаще пассивных клиентов, что следовало из предыдущего графика."
   ],
   "cell_type": "markdown",
   "metadata": {}
  },
  {
   "source": [
    "# Сделаем выводы из иследования:\n",
    "1. 79% процентов наших клиентов не участвуют в акциях, и это не новые клиенты\n",
    "2. В каждой акции участвовала определённая группа людей, пересечение групп не превышает 22%, и некоторые клиенты принимали участие в нескольких акциях. Так же мы нашли типовой профиль клиента для каждой акции. \n",
    "3. Средний чек у участников акции значительно выше по всем позициям, чем у пассивных клиентов. Самые больший продажи составляют вино и мясные продукты.\n",
    "4. Пассивные клиенты в среднем чаще заходят на сайт компании, то есть они были проинформированы о акциях, но не приняли в них участия.\n",
    "5. Основные продажи приходятся на офлайн. Что ещё интересно, что пассивные клиенты хоть и чаще заходят на сайт, но число покупок онлайн меньше. Возможно акциями компания стимулирует онлайн продажи."
   ],
   "cell_type": "markdown",
   "metadata": {}
  },
  {
   "source": [
    "# Построение предсказательной модели\n",
    "У нас 79% клиентов ни разу не принимали участие в акциях, первая задача которую на нужно решить это будет ли клиент участвовать в какой-либо акции. 0 - не участвует, 1- участвует."
   ],
   "cell_type": "markdown",
   "metadata": {}
  },
  {
   "source": [
    "Создадим переменную Y она будет нашим таргетом, Х- данные пользователях, без колонок, содержащих информацию о участии в акции"
   ],
   "cell_type": "markdown",
   "metadata": {}
  },
  {
   "source": [],
   "cell_type": "markdown",
   "metadata": {}
  },
  {
   "cell_type": "code",
   "execution_count": 43,
   "metadata": {},
   "outputs": [],
   "source": [
    "Y = data.Num_program.map(lambda x: 0 if x==0 else 1)\n",
    "drop_col = [f'AcceptedCmp{i}' for i in range(1,6)] + ['Num_program', 'ID', 'Response']\n",
    "X = data.loc[:, [i for i in data.columns if i not in drop_col]]"
   ]
  },
  {
   "cell_type": "code",
   "execution_count": 44,
   "metadata": {},
   "outputs": [
    {
     "output_type": "display_data",
     "data": {
      "application/vnd.plotly.v1+json": {
       "config": {
        "plotlyServerURL": "https://plot.ly"
       },
       "data": [
        {
         "type": "bar",
         "x": [
          0,
          1
         ],
         "y": [
          1774,
          462
         ]
        }
       ],
       "layout": {
        "template": {
         "data": {
          "bar": [
           {
            "error_x": {
             "color": "#2a3f5f"
            },
            "error_y": {
             "color": "#2a3f5f"
            },
            "marker": {
             "line": {
              "color": "#E5ECF6",
              "width": 0.5
             }
            },
            "type": "bar"
           }
          ],
          "barpolar": [
           {
            "marker": {
             "line": {
              "color": "#E5ECF6",
              "width": 0.5
             }
            },
            "type": "barpolar"
           }
          ],
          "carpet": [
           {
            "aaxis": {
             "endlinecolor": "#2a3f5f",
             "gridcolor": "white",
             "linecolor": "white",
             "minorgridcolor": "white",
             "startlinecolor": "#2a3f5f"
            },
            "baxis": {
             "endlinecolor": "#2a3f5f",
             "gridcolor": "white",
             "linecolor": "white",
             "minorgridcolor": "white",
             "startlinecolor": "#2a3f5f"
            },
            "type": "carpet"
           }
          ],
          "choropleth": [
           {
            "colorbar": {
             "outlinewidth": 0,
             "ticks": ""
            },
            "type": "choropleth"
           }
          ],
          "contour": [
           {
            "colorbar": {
             "outlinewidth": 0,
             "ticks": ""
            },
            "colorscale": [
             [
              0,
              "#0d0887"
             ],
             [
              0.1111111111111111,
              "#46039f"
             ],
             [
              0.2222222222222222,
              "#7201a8"
             ],
             [
              0.3333333333333333,
              "#9c179e"
             ],
             [
              0.4444444444444444,
              "#bd3786"
             ],
             [
              0.5555555555555556,
              "#d8576b"
             ],
             [
              0.6666666666666666,
              "#ed7953"
             ],
             [
              0.7777777777777778,
              "#fb9f3a"
             ],
             [
              0.8888888888888888,
              "#fdca26"
             ],
             [
              1,
              "#f0f921"
             ]
            ],
            "type": "contour"
           }
          ],
          "contourcarpet": [
           {
            "colorbar": {
             "outlinewidth": 0,
             "ticks": ""
            },
            "type": "contourcarpet"
           }
          ],
          "heatmap": [
           {
            "colorbar": {
             "outlinewidth": 0,
             "ticks": ""
            },
            "colorscale": [
             [
              0,
              "#0d0887"
             ],
             [
              0.1111111111111111,
              "#46039f"
             ],
             [
              0.2222222222222222,
              "#7201a8"
             ],
             [
              0.3333333333333333,
              "#9c179e"
             ],
             [
              0.4444444444444444,
              "#bd3786"
             ],
             [
              0.5555555555555556,
              "#d8576b"
             ],
             [
              0.6666666666666666,
              "#ed7953"
             ],
             [
              0.7777777777777778,
              "#fb9f3a"
             ],
             [
              0.8888888888888888,
              "#fdca26"
             ],
             [
              1,
              "#f0f921"
             ]
            ],
            "type": "heatmap"
           }
          ],
          "heatmapgl": [
           {
            "colorbar": {
             "outlinewidth": 0,
             "ticks": ""
            },
            "colorscale": [
             [
              0,
              "#0d0887"
             ],
             [
              0.1111111111111111,
              "#46039f"
             ],
             [
              0.2222222222222222,
              "#7201a8"
             ],
             [
              0.3333333333333333,
              "#9c179e"
             ],
             [
              0.4444444444444444,
              "#bd3786"
             ],
             [
              0.5555555555555556,
              "#d8576b"
             ],
             [
              0.6666666666666666,
              "#ed7953"
             ],
             [
              0.7777777777777778,
              "#fb9f3a"
             ],
             [
              0.8888888888888888,
              "#fdca26"
             ],
             [
              1,
              "#f0f921"
             ]
            ],
            "type": "heatmapgl"
           }
          ],
          "histogram": [
           {
            "marker": {
             "colorbar": {
              "outlinewidth": 0,
              "ticks": ""
             }
            },
            "type": "histogram"
           }
          ],
          "histogram2d": [
           {
            "colorbar": {
             "outlinewidth": 0,
             "ticks": ""
            },
            "colorscale": [
             [
              0,
              "#0d0887"
             ],
             [
              0.1111111111111111,
              "#46039f"
             ],
             [
              0.2222222222222222,
              "#7201a8"
             ],
             [
              0.3333333333333333,
              "#9c179e"
             ],
             [
              0.4444444444444444,
              "#bd3786"
             ],
             [
              0.5555555555555556,
              "#d8576b"
             ],
             [
              0.6666666666666666,
              "#ed7953"
             ],
             [
              0.7777777777777778,
              "#fb9f3a"
             ],
             [
              0.8888888888888888,
              "#fdca26"
             ],
             [
              1,
              "#f0f921"
             ]
            ],
            "type": "histogram2d"
           }
          ],
          "histogram2dcontour": [
           {
            "colorbar": {
             "outlinewidth": 0,
             "ticks": ""
            },
            "colorscale": [
             [
              0,
              "#0d0887"
             ],
             [
              0.1111111111111111,
              "#46039f"
             ],
             [
              0.2222222222222222,
              "#7201a8"
             ],
             [
              0.3333333333333333,
              "#9c179e"
             ],
             [
              0.4444444444444444,
              "#bd3786"
             ],
             [
              0.5555555555555556,
              "#d8576b"
             ],
             [
              0.6666666666666666,
              "#ed7953"
             ],
             [
              0.7777777777777778,
              "#fb9f3a"
             ],
             [
              0.8888888888888888,
              "#fdca26"
             ],
             [
              1,
              "#f0f921"
             ]
            ],
            "type": "histogram2dcontour"
           }
          ],
          "mesh3d": [
           {
            "colorbar": {
             "outlinewidth": 0,
             "ticks": ""
            },
            "type": "mesh3d"
           }
          ],
          "parcoords": [
           {
            "line": {
             "colorbar": {
              "outlinewidth": 0,
              "ticks": ""
             }
            },
            "type": "parcoords"
           }
          ],
          "pie": [
           {
            "automargin": true,
            "type": "pie"
           }
          ],
          "scatter": [
           {
            "marker": {
             "colorbar": {
              "outlinewidth": 0,
              "ticks": ""
             }
            },
            "type": "scatter"
           }
          ],
          "scatter3d": [
           {
            "line": {
             "colorbar": {
              "outlinewidth": 0,
              "ticks": ""
             }
            },
            "marker": {
             "colorbar": {
              "outlinewidth": 0,
              "ticks": ""
             }
            },
            "type": "scatter3d"
           }
          ],
          "scattercarpet": [
           {
            "marker": {
             "colorbar": {
              "outlinewidth": 0,
              "ticks": ""
             }
            },
            "type": "scattercarpet"
           }
          ],
          "scattergeo": [
           {
            "marker": {
             "colorbar": {
              "outlinewidth": 0,
              "ticks": ""
             }
            },
            "type": "scattergeo"
           }
          ],
          "scattergl": [
           {
            "marker": {
             "colorbar": {
              "outlinewidth": 0,
              "ticks": ""
             }
            },
            "type": "scattergl"
           }
          ],
          "scattermapbox": [
           {
            "marker": {
             "colorbar": {
              "outlinewidth": 0,
              "ticks": ""
             }
            },
            "type": "scattermapbox"
           }
          ],
          "scatterpolar": [
           {
            "marker": {
             "colorbar": {
              "outlinewidth": 0,
              "ticks": ""
             }
            },
            "type": "scatterpolar"
           }
          ],
          "scatterpolargl": [
           {
            "marker": {
             "colorbar": {
              "outlinewidth": 0,
              "ticks": ""
             }
            },
            "type": "scatterpolargl"
           }
          ],
          "scatterternary": [
           {
            "marker": {
             "colorbar": {
              "outlinewidth": 0,
              "ticks": ""
             }
            },
            "type": "scatterternary"
           }
          ],
          "surface": [
           {
            "colorbar": {
             "outlinewidth": 0,
             "ticks": ""
            },
            "colorscale": [
             [
              0,
              "#0d0887"
             ],
             [
              0.1111111111111111,
              "#46039f"
             ],
             [
              0.2222222222222222,
              "#7201a8"
             ],
             [
              0.3333333333333333,
              "#9c179e"
             ],
             [
              0.4444444444444444,
              "#bd3786"
             ],
             [
              0.5555555555555556,
              "#d8576b"
             ],
             [
              0.6666666666666666,
              "#ed7953"
             ],
             [
              0.7777777777777778,
              "#fb9f3a"
             ],
             [
              0.8888888888888888,
              "#fdca26"
             ],
             [
              1,
              "#f0f921"
             ]
            ],
            "type": "surface"
           }
          ],
          "table": [
           {
            "cells": {
             "fill": {
              "color": "#EBF0F8"
             },
             "line": {
              "color": "white"
             }
            },
            "header": {
             "fill": {
              "color": "#C8D4E3"
             },
             "line": {
              "color": "white"
             }
            },
            "type": "table"
           }
          ]
         },
         "layout": {
          "annotationdefaults": {
           "arrowcolor": "#2a3f5f",
           "arrowhead": 0,
           "arrowwidth": 1
          },
          "coloraxis": {
           "colorbar": {
            "outlinewidth": 0,
            "ticks": ""
           }
          },
          "colorscale": {
           "diverging": [
            [
             0,
             "#8e0152"
            ],
            [
             0.1,
             "#c51b7d"
            ],
            [
             0.2,
             "#de77ae"
            ],
            [
             0.3,
             "#f1b6da"
            ],
            [
             0.4,
             "#fde0ef"
            ],
            [
             0.5,
             "#f7f7f7"
            ],
            [
             0.6,
             "#e6f5d0"
            ],
            [
             0.7,
             "#b8e186"
            ],
            [
             0.8,
             "#7fbc41"
            ],
            [
             0.9,
             "#4d9221"
            ],
            [
             1,
             "#276419"
            ]
           ],
           "sequential": [
            [
             0,
             "#0d0887"
            ],
            [
             0.1111111111111111,
             "#46039f"
            ],
            [
             0.2222222222222222,
             "#7201a8"
            ],
            [
             0.3333333333333333,
             "#9c179e"
            ],
            [
             0.4444444444444444,
             "#bd3786"
            ],
            [
             0.5555555555555556,
             "#d8576b"
            ],
            [
             0.6666666666666666,
             "#ed7953"
            ],
            [
             0.7777777777777778,
             "#fb9f3a"
            ],
            [
             0.8888888888888888,
             "#fdca26"
            ],
            [
             1,
             "#f0f921"
            ]
           ],
           "sequentialminus": [
            [
             0,
             "#0d0887"
            ],
            [
             0.1111111111111111,
             "#46039f"
            ],
            [
             0.2222222222222222,
             "#7201a8"
            ],
            [
             0.3333333333333333,
             "#9c179e"
            ],
            [
             0.4444444444444444,
             "#bd3786"
            ],
            [
             0.5555555555555556,
             "#d8576b"
            ],
            [
             0.6666666666666666,
             "#ed7953"
            ],
            [
             0.7777777777777778,
             "#fb9f3a"
            ],
            [
             0.8888888888888888,
             "#fdca26"
            ],
            [
             1,
             "#f0f921"
            ]
           ]
          },
          "colorway": [
           "#636efa",
           "#EF553B",
           "#00cc96",
           "#ab63fa",
           "#FFA15A",
           "#19d3f3",
           "#FF6692",
           "#B6E880",
           "#FF97FF",
           "#FECB52"
          ],
          "font": {
           "color": "#2a3f5f"
          },
          "geo": {
           "bgcolor": "white",
           "lakecolor": "white",
           "landcolor": "#E5ECF6",
           "showlakes": true,
           "showland": true,
           "subunitcolor": "white"
          },
          "hoverlabel": {
           "align": "left"
          },
          "hovermode": "closest",
          "mapbox": {
           "style": "light"
          },
          "paper_bgcolor": "white",
          "plot_bgcolor": "#E5ECF6",
          "polar": {
           "angularaxis": {
            "gridcolor": "white",
            "linecolor": "white",
            "ticks": ""
           },
           "bgcolor": "#E5ECF6",
           "radialaxis": {
            "gridcolor": "white",
            "linecolor": "white",
            "ticks": ""
           }
          },
          "scene": {
           "xaxis": {
            "backgroundcolor": "#E5ECF6",
            "gridcolor": "white",
            "gridwidth": 2,
            "linecolor": "white",
            "showbackground": true,
            "ticks": "",
            "zerolinecolor": "white"
           },
           "yaxis": {
            "backgroundcolor": "#E5ECF6",
            "gridcolor": "white",
            "gridwidth": 2,
            "linecolor": "white",
            "showbackground": true,
            "ticks": "",
            "zerolinecolor": "white"
           },
           "zaxis": {
            "backgroundcolor": "#E5ECF6",
            "gridcolor": "white",
            "gridwidth": 2,
            "linecolor": "white",
            "showbackground": true,
            "ticks": "",
            "zerolinecolor": "white"
           }
          },
          "shapedefaults": {
           "line": {
            "color": "#2a3f5f"
           }
          },
          "ternary": {
           "aaxis": {
            "gridcolor": "white",
            "linecolor": "white",
            "ticks": ""
           },
           "baxis": {
            "gridcolor": "white",
            "linecolor": "white",
            "ticks": ""
           },
           "bgcolor": "#E5ECF6",
           "caxis": {
            "gridcolor": "white",
            "linecolor": "white",
            "ticks": ""
           }
          },
          "title": {
           "x": 0.05
          },
          "xaxis": {
           "automargin": true,
           "gridcolor": "white",
           "linecolor": "white",
           "ticks": "",
           "title": {
            "standoff": 15
           },
           "zerolinecolor": "white",
           "zerolinewidth": 2
          },
          "yaxis": {
           "automargin": true,
           "gridcolor": "white",
           "linecolor": "white",
           "ticks": "",
           "title": {
            "standoff": 15
           },
           "zerolinecolor": "white",
           "zerolinewidth": 2
          }
         }
        },
        "title": {
         "text": "Распределения классов"
        }
       }
      }
     },
     "metadata": {}
    }
   ],
   "source": [
    "fig = go.Figure()\n",
    "fig.add_trace(go.Bar(x=[0,1], y =Y.value_counts().values))\n",
    "fig.update_layout(title='Распределения классов')"
   ]
  },
  {
   "source": [
    "У нас в данных присутствует большой дисбаланс классов, утём это при разбиении данных и обучении модели"
   ],
   "cell_type": "markdown",
   "metadata": {}
  },
  {
   "source": [
    "Дальше разделим данные тест и трайн, и стандартизируем "
   ],
   "cell_type": "markdown",
   "metadata": {}
  },
  {
   "cell_type": "code",
   "execution_count": 45,
   "metadata": {},
   "outputs": [],
   "source": [
    "from sklearn.model_selection import train_test_split\n",
    "from sklearn.preprocessing import StandardScaler"
   ]
  },
  {
   "cell_type": "code",
   "execution_count": 46,
   "metadata": {},
   "outputs": [],
   "source": [
    "X_train, X_test, y_train, y_test = train_test_split(X, Y, test_size=0.3, random_state=1, stratify=Y)"
   ]
  },
  {
   "cell_type": "code",
   "execution_count": 47,
   "metadata": {},
   "outputs": [],
   "source": [
    "std = StandardScaler()\n",
    "X_train = std.fit_transform(X_train)\n",
    "X_test = std.transform(X_test)"
   ]
  },
  {
   "source": [
    "Сразу проведём отбор модели"
   ],
   "cell_type": "markdown",
   "metadata": {}
  },
  {
   "cell_type": "code",
   "execution_count": 48,
   "metadata": {},
   "outputs": [],
   "source": [
    "from sklearn.ensemble import RandomForestClassifier\n",
    "from sklearn.linear_model import SGDClassifier, LogisticRegression\n",
    "from sklearn.tree import DecisionTreeClassifier\n",
    "from sklearn.svm import SVC"
   ]
  },
  {
   "cell_type": "code",
   "execution_count": 49,
   "metadata": {},
   "outputs": [],
   "source": [
    "random_forest = RandomForestClassifier()\n",
    "sgd = SGDClassifier()\n",
    "log_reg = LogisticRegression()\n",
    "des_tree = DecisionTreeClassifier()\n",
    "svc = SVC()\n",
    "models = [ random_forest, sgd, log_reg, des_tree, svc]"
   ]
  },
  {
   "cell_type": "code",
   "execution_count": 50,
   "metadata": {},
   "outputs": [],
   "source": [
    "train_model ={mod.__str__(): mod.fit(X_train, y_train) for mod in models}"
   ]
  },
  {
   "source": [
    "Для оценки на данном этапе буду использовать precision_score, так как ключеваю наша задача предсказание положительных объектов класса"
   ],
   "cell_type": "markdown",
   "metadata": {}
  },
  {
   "cell_type": "code",
   "execution_count": 51,
   "metadata": {},
   "outputs": [],
   "source": [
    "from sklearn.metrics import precision_score"
   ]
  },
  {
   "cell_type": "code",
   "execution_count": 52,
   "metadata": {},
   "outputs": [
    {
     "output_type": "stream",
     "name": "stdout",
     "text": [
      "RandomForestClassifier() 0.9324324324324325\nSGDClassifier() 0.5544554455445545\nLogisticRegression() 0.7466666666666667\nDecisionTreeClassifier() 0.47435897435897434\nSVC() 0.7777777777777778\n"
     ]
    }
   ],
   "source": [
    "for mod in train_model:\n",
    "    pred =train_model[mod].predict(X_test)\n",
    "    print(mod, precision_score(y_test, pred))"
   ]
  },
  {
   "source": [
    "По полученным результатам для дальнейшего подбора гиперпараметров возьмём модель RandomForestClassifier"
   ],
   "cell_type": "markdown",
   "metadata": {}
  },
  {
   "source": [
    "Первый параметр которые я очу настроить это веса классов."
   ],
   "cell_type": "markdown",
   "metadata": {}
  },
  {
   "cell_type": "code",
   "execution_count": 53,
   "metadata": {},
   "outputs": [],
   "source": [
    "weight = [{1:i, 0:1-i} for i in np.arange(0.1, 1, 0.1)]\n",
    "res={}\n",
    "for i in weight:\n",
    "    forest = RandomForestClassifier(class_weight=i, n_jobs=-1)\n",
    "    forest.fit(X_train, y_train)\n",
    "    y_pred = forest.predict(X_test)\n",
    "    key = precision_score(y_test, y_pred)\n",
    "    res[key] = forest"
   ]
  },
  {
   "cell_type": "code",
   "execution_count": 54,
   "metadata": {},
   "outputs": [
    {
     "output_type": "execute_result",
     "data": {
      "text/plain": [
       "0.9298245614035088"
      ]
     },
     "metadata": {},
     "execution_count": 54
    }
   ],
   "source": [
    "max(res.keys())"
   ]
  },
  {
   "source": [
    "Мы доброди веса для классов и увеличили оценку нашей модели, сейчас будем подбирать остальные параметры"
   ],
   "cell_type": "markdown",
   "metadata": {}
  },
  {
   "source": [
    "from sklearn.model_selection import RandomizedSearchCV\n",
    "n_estimators = [100,200,300,400,500,600,700,600]\n",
    "max_features = ['sqrt']\n",
    "max_depth = [11,15,20, 25, 30]\n",
    "min_samples_split = [2,3,4,22,23,24]\n",
    "min_samples_leaf = [2,3,4,5,6,7]\n",
    "bootstrap = [False]\n",
    "weight = [{1:i, 0:1-i} for i in np.arange(0.1, 1, 0.1)]\n",
    "\n",
    "param_grid_forest = {'n_estimators': n_estimators,\n",
    "               'max_features': max_features,\n",
    "               'max_depth': max_depth,\n",
    "               'min_samples_split': min_samples_split,\n",
    "               'min_samples_leaf': min_samples_leaf,\n",
    "               'bootstrap': bootstrap,\n",
    "               'class_weight': weight}\n",
    "new_param={}\n",
    "for i in range(10):\n",
    "    new_forest =RandomizedSearchCV(random_forest, param_grid_forest,n_iter=10, cv =3, verbose =1, n_jobs=-1, scoring='precision')\n",
    "    new_forest.fit(X_train, y_train)\n",
    "    pred= new_forest.predict(X_test)\n",
    "    key = precision_score(y_test, pred)\n",
    "    new_param[key] = new_forest"
   ],
   "cell_type": "code",
   "metadata": {},
   "execution_count": 55,
   "outputs": [
    {
     "output_type": "stream",
     "name": "stdout",
     "text": [
      "Fitting 3 folds for each of 10 candidates, totalling 30 fits\n",
      "Fitting 3 folds for each of 10 candidates, totalling 30 fits\n",
      "Fitting 3 folds for each of 10 candidates, totalling 30 fits\n",
      "Fitting 3 folds for each of 10 candidates, totalling 30 fits\n",
      "Fitting 3 folds for each of 10 candidates, totalling 30 fits\n",
      "Fitting 3 folds for each of 10 candidates, totalling 30 fits\n",
      "Fitting 3 folds for each of 10 candidates, totalling 30 fits\n",
      "Fitting 3 folds for each of 10 candidates, totalling 30 fits\n",
      "Fitting 3 folds for each of 10 candidates, totalling 30 fits\n",
      "Fitting 3 folds for each of 10 candidates, totalling 30 fits\n"
     ]
    }
   ]
  },
  {
   "cell_type": "code",
   "execution_count": 56,
   "metadata": {},
   "outputs": [
    {
     "output_type": "execute_result",
     "data": {
      "text/plain": [
       "1.0"
      ]
     },
     "metadata": {},
     "execution_count": 56
    }
   ],
   "source": [
    "max(new_param.keys())"
   ]
  },
  {
   "source": [
    "Лучшая оценка модели после подбора параметров составляет 1. Ещё попробуем библиотеку flaml для поиска модели"
   ],
   "cell_type": "markdown",
   "metadata": {}
  },
  {
   "cell_type": "code",
   "execution_count": 57,
   "metadata": {},
   "outputs": [],
   "source": [
    "from flaml import AutoML"
   ]
  },
  {
   "source": [
    "Нам ещё понадобиться валидационная выборка"
   ],
   "cell_type": "markdown",
   "metadata": {}
  },
  {
   "cell_type": "code",
   "execution_count": 58,
   "metadata": {},
   "outputs": [],
   "source": [
    "X_train, X_val, y_train, y_val = train_test_split(X_train, y_train, test_size=0.2, random_state=1, stratify=y_train)"
   ]
  },
  {
   "cell_type": "code",
   "execution_count": 59,
   "metadata": {},
   "outputs": [
    {
     "output_type": "stream",
     "name": "stderr",
     "text": [
      "[flaml.automl: 07-13 23:12:13] {893} INFO - Evaluation method: cv\n",
      "[flaml.automl: 07-13 23:12:13] {596} INFO - Using StratifiedKFold\n",
      "[flaml.automl: 07-13 23:12:13] {914} INFO - Minimizing error metric: 1-roc_auc\n",
      "[flaml.automl: 07-13 23:12:13] {934} INFO - List of ML learners in AutoML Run: ['lgbm', 'rf', 'catboost', 'xgboost', 'extra_tree', 'lrl1']\n",
      "[flaml.automl: 07-13 23:12:13] {998} INFO - iteration 0, current learner lgbm\n",
      "[flaml.automl: 07-13 23:12:13] {1150} INFO -  at 0.1s,\tbest lgbm's error=0.2375,\tbest lgbm's error=0.2375\n",
      "[flaml.automl: 07-13 23:12:13] {998} INFO - iteration 1, current learner lgbm\n",
      "[flaml.automl: 07-13 23:12:13] {1150} INFO -  at 0.2s,\tbest lgbm's error=0.2375,\tbest lgbm's error=0.2375\n",
      "[flaml.automl: 07-13 23:12:13] {998} INFO - iteration 2, current learner lgbm\n",
      "[flaml.automl: 07-13 23:12:13] {1150} INFO -  at 0.3s,\tbest lgbm's error=0.2162,\tbest lgbm's error=0.2162\n",
      "[flaml.automl: 07-13 23:12:13] {998} INFO - iteration 3, current learner lgbm\n",
      "[flaml.automl: 07-13 23:12:13] {1150} INFO -  at 0.3s,\tbest lgbm's error=0.2162,\tbest lgbm's error=0.2162\n",
      "[flaml.automl: 07-13 23:12:13] {998} INFO - iteration 4, current learner lgbm\n",
      "[flaml.automl: 07-13 23:12:13] {1150} INFO -  at 0.4s,\tbest lgbm's error=0.2162,\tbest lgbm's error=0.2162\n",
      "[flaml.automl: 07-13 23:12:13] {998} INFO - iteration 5, current learner lgbm\n",
      "[flaml.automl: 07-13 23:12:13] {1150} INFO -  at 0.5s,\tbest lgbm's error=0.2162,\tbest lgbm's error=0.2162\n",
      "[flaml.automl: 07-13 23:12:13] {998} INFO - iteration 6, current learner xgboost\n",
      "[flaml.automl: 07-13 23:12:14] {1150} INFO -  at 0.9s,\tbest xgboost's error=0.2528,\tbest lgbm's error=0.2162\n",
      "[flaml.automl: 07-13 23:12:14] {998} INFO - iteration 7, current learner lgbm\n",
      "[flaml.automl: 07-13 23:12:14] {1150} INFO -  at 1.0s,\tbest lgbm's error=0.1943,\tbest lgbm's error=0.1943\n",
      "[flaml.automl: 07-13 23:12:14] {998} INFO - iteration 8, current learner extra_tree\n",
      "[flaml.automl: 07-13 23:12:15] {1150} INFO -  at 1.8s,\tbest extra_tree's error=0.2338,\tbest lgbm's error=0.1943\n",
      "[flaml.automl: 07-13 23:12:15] {998} INFO - iteration 9, current learner rf\n",
      "[flaml.automl: 07-13 23:12:15] {1150} INFO -  at 2.5s,\tbest rf's error=0.2434,\tbest lgbm's error=0.1943\n",
      "[flaml.automl: 07-13 23:12:15] {998} INFO - iteration 10, current learner lgbm\n",
      "[flaml.automl: 07-13 23:12:16] {1150} INFO -  at 2.6s,\tbest lgbm's error=0.1943,\tbest lgbm's error=0.1943\n",
      "[flaml.automl: 07-13 23:12:16] {998} INFO - iteration 11, current learner lgbm\n",
      "[flaml.automl: 07-13 23:12:16] {1150} INFO -  at 2.7s,\tbest lgbm's error=0.1943,\tbest lgbm's error=0.1943\n",
      "[flaml.automl: 07-13 23:12:16] {998} INFO - iteration 12, current learner lgbm\n",
      "[flaml.automl: 07-13 23:12:16] {1150} INFO -  at 2.8s,\tbest lgbm's error=0.1943,\tbest lgbm's error=0.1943\n",
      "[flaml.automl: 07-13 23:12:16] {998} INFO - iteration 13, current learner rf\n",
      "[flaml.automl: 07-13 23:12:16] {1150} INFO -  at 3.6s,\tbest rf's error=0.2434,\tbest lgbm's error=0.1943\n",
      "[flaml.automl: 07-13 23:12:16] {998} INFO - iteration 14, current learner rf\n",
      "[flaml.automl: 07-13 23:12:17] {1150} INFO -  at 4.5s,\tbest rf's error=0.2088,\tbest lgbm's error=0.1943\n",
      "[flaml.automl: 07-13 23:12:17] {998} INFO - iteration 15, current learner xgboost\n",
      "[flaml.automl: 07-13 23:12:18] {1150} INFO -  at 4.6s,\tbest xgboost's error=0.2528,\tbest lgbm's error=0.1943\n",
      "[flaml.automl: 07-13 23:12:18] {998} INFO - iteration 16, current learner lgbm\n",
      "[flaml.automl: 07-13 23:12:18] {1150} INFO -  at 4.7s,\tbest lgbm's error=0.1943,\tbest lgbm's error=0.1943\n",
      "[flaml.automl: 07-13 23:12:18] {998} INFO - iteration 17, current learner extra_tree\n",
      "[flaml.automl: 07-13 23:12:18] {1150} INFO -  at 5.5s,\tbest extra_tree's error=0.2338,\tbest lgbm's error=0.1943\n",
      "[flaml.automl: 07-13 23:12:18] {998} INFO - iteration 18, current learner lgbm\n",
      "[flaml.automl: 07-13 23:12:18] {1150} INFO -  at 5.5s,\tbest lgbm's error=0.1943,\tbest lgbm's error=0.1943\n",
      "[flaml.automl: 07-13 23:12:18] {998} INFO - iteration 19, current learner xgboost\n",
      "[flaml.automl: 07-13 23:12:19] {1150} INFO -  at 5.7s,\tbest xgboost's error=0.2235,\tbest lgbm's error=0.1943\n",
      "[flaml.automl: 07-13 23:12:19] {998} INFO - iteration 20, current learner rf\n",
      "[flaml.automl: 07-13 23:12:19] {1150} INFO -  at 6.6s,\tbest rf's error=0.2088,\tbest lgbm's error=0.1943\n",
      "[flaml.automl: 07-13 23:12:19] {998} INFO - iteration 21, current learner xgboost\n",
      "[flaml.automl: 07-13 23:12:20] {1150} INFO -  at 6.7s,\tbest xgboost's error=0.2221,\tbest lgbm's error=0.1943\n",
      "[flaml.automl: 07-13 23:12:20] {998} INFO - iteration 22, current learner lgbm\n",
      "[flaml.automl: 07-13 23:12:20] {1150} INFO -  at 6.8s,\tbest lgbm's error=0.1905,\tbest lgbm's error=0.1905\n",
      "[flaml.automl: 07-13 23:12:20] {998} INFO - iteration 23, current learner lgbm\n",
      "[flaml.automl: 07-13 23:12:20] {1150} INFO -  at 6.9s,\tbest lgbm's error=0.1905,\tbest lgbm's error=0.1905\n",
      "[flaml.automl: 07-13 23:12:20] {998} INFO - iteration 24, current learner extra_tree\n",
      "[flaml.automl: 07-13 23:12:21] {1150} INFO -  at 7.8s,\tbest extra_tree's error=0.2228,\tbest lgbm's error=0.1905\n",
      "[flaml.automl: 07-13 23:12:21] {998} INFO - iteration 25, current learner extra_tree\n",
      "[flaml.automl: 07-13 23:12:22] {1150} INFO -  at 8.7s,\tbest extra_tree's error=0.1970,\tbest lgbm's error=0.1905\n",
      "[flaml.automl: 07-13 23:12:22] {998} INFO - iteration 26, current learner lgbm\n",
      "[flaml.automl: 07-13 23:12:22] {1150} INFO -  at 8.8s,\tbest lgbm's error=0.1854,\tbest lgbm's error=0.1854\n",
      "[flaml.automl: 07-13 23:12:22] {998} INFO - iteration 27, current learner lgbm\n",
      "[flaml.automl: 07-13 23:12:22] {1150} INFO -  at 8.9s,\tbest lgbm's error=0.1854,\tbest lgbm's error=0.1854\n",
      "[flaml.automl: 07-13 23:12:22] {998} INFO - iteration 28, current learner extra_tree\n",
      "[flaml.automl: 07-13 23:12:23] {1150} INFO -  at 9.8s,\tbest extra_tree's error=0.1970,\tbest lgbm's error=0.1854\n",
      "[flaml.automl: 07-13 23:12:23] {998} INFO - iteration 29, current learner xgboost\n",
      "[flaml.automl: 07-13 23:12:23] {1150} INFO -  at 9.9s,\tbest xgboost's error=0.2221,\tbest lgbm's error=0.1854\n",
      "[flaml.automl: 07-13 23:12:23] {998} INFO - iteration 30, current learner lgbm\n",
      "[flaml.automl: 07-13 23:12:23] {1150} INFO -  at 10.0s,\tbest lgbm's error=0.1854,\tbest lgbm's error=0.1854\n",
      "[flaml.automl: 07-13 23:12:23] {998} INFO - iteration 31, current learner lgbm\n",
      "[flaml.automl: 07-13 23:12:23] {1150} INFO -  at 10.2s,\tbest lgbm's error=0.1844,\tbest lgbm's error=0.1844\n",
      "[flaml.automl: 07-13 23:12:23] {998} INFO - iteration 32, current learner lgbm\n",
      "[flaml.automl: 07-13 23:12:23] {1150} INFO -  at 10.4s,\tbest lgbm's error=0.1787,\tbest lgbm's error=0.1787\n",
      "[flaml.automl: 07-13 23:12:23] {998} INFO - iteration 33, current learner lgbm\n",
      "[flaml.automl: 07-13 23:12:23] {1150} INFO -  at 10.5s,\tbest lgbm's error=0.1787,\tbest lgbm's error=0.1787\n",
      "[flaml.automl: 07-13 23:12:23] {998} INFO - iteration 34, current learner lgbm\n",
      "[flaml.automl: 07-13 23:12:24] {1150} INFO -  at 10.7s,\tbest lgbm's error=0.1787,\tbest lgbm's error=0.1787\n",
      "[flaml.automl: 07-13 23:12:24] {998} INFO - iteration 35, current learner lgbm\n",
      "[flaml.automl: 07-13 23:12:24] {1150} INFO -  at 10.8s,\tbest lgbm's error=0.1787,\tbest lgbm's error=0.1787\n",
      "[flaml.automl: 07-13 23:12:24] {998} INFO - iteration 36, current learner extra_tree\n",
      "[flaml.automl: 07-13 23:12:25] {1150} INFO -  at 11.7s,\tbest extra_tree's error=0.1970,\tbest lgbm's error=0.1787\n",
      "[flaml.automl: 07-13 23:12:25] {998} INFO - iteration 37, current learner lgbm\n",
      "[flaml.automl: 07-13 23:12:25] {1150} INFO -  at 11.8s,\tbest lgbm's error=0.1787,\tbest lgbm's error=0.1787\n",
      "[flaml.automl: 07-13 23:12:25] {998} INFO - iteration 38, current learner lgbm\n",
      "[flaml.automl: 07-13 23:12:25] {1150} INFO -  at 11.9s,\tbest lgbm's error=0.1787,\tbest lgbm's error=0.1787\n",
      "[flaml.automl: 07-13 23:12:25] {998} INFO - iteration 39, current learner lgbm\n",
      "[flaml.automl: 07-13 23:12:25] {1150} INFO -  at 12.0s,\tbest lgbm's error=0.1787,\tbest lgbm's error=0.1787\n",
      "[flaml.automl: 07-13 23:12:25] {998} INFO - iteration 40, current learner lgbm\n",
      "[flaml.automl: 07-13 23:12:25] {1150} INFO -  at 12.1s,\tbest lgbm's error=0.1787,\tbest lgbm's error=0.1787\n",
      "[flaml.automl: 07-13 23:12:25] {998} INFO - iteration 41, current learner xgboost\n",
      "[flaml.automl: 07-13 23:12:25] {1150} INFO -  at 12.2s,\tbest xgboost's error=0.2183,\tbest lgbm's error=0.1787\n",
      "[flaml.automl: 07-13 23:12:25] {998} INFO - iteration 42, current learner lgbm\n",
      "[flaml.automl: 07-13 23:12:25] {1150} INFO -  at 12.4s,\tbest lgbm's error=0.1787,\tbest lgbm's error=0.1787\n",
      "[flaml.automl: 07-13 23:12:25] {998} INFO - iteration 43, current learner xgboost\n",
      "[flaml.automl: 07-13 23:12:25] {1150} INFO -  at 12.5s,\tbest xgboost's error=0.2183,\tbest lgbm's error=0.1787\n",
      "[flaml.automl: 07-13 23:12:25] {998} INFO - iteration 44, current learner extra_tree\n",
      "[flaml.automl: 07-13 23:12:26] {1150} INFO -  at 13.4s,\tbest extra_tree's error=0.1970,\tbest lgbm's error=0.1787\n",
      "[flaml.automl: 07-13 23:12:26] {998} INFO - iteration 45, current learner rf\n",
      "[flaml.automl: 07-13 23:12:27] {1150} INFO -  at 14.4s,\tbest rf's error=0.2088,\tbest lgbm's error=0.1787\n",
      "[flaml.automl: 07-13 23:12:27] {998} INFO - iteration 46, current learner lgbm\n",
      "[flaml.automl: 07-13 23:12:27] {1150} INFO -  at 14.5s,\tbest lgbm's error=0.1787,\tbest lgbm's error=0.1787\n",
      "[flaml.automl: 07-13 23:12:27] {998} INFO - iteration 47, current learner xgboost\n",
      "[flaml.automl: 07-13 23:12:28] {1150} INFO -  at 14.6s,\tbest xgboost's error=0.2040,\tbest lgbm's error=0.1787\n",
      "[flaml.automl: 07-13 23:12:28] {998} INFO - iteration 48, current learner lgbm\n",
      "[flaml.automl: 07-13 23:12:28] {1150} INFO -  at 14.7s,\tbest lgbm's error=0.1787,\tbest lgbm's error=0.1787\n",
      "[flaml.automl: 07-13 23:12:28] {998} INFO - iteration 49, current learner xgboost\n",
      "[flaml.automl: 07-13 23:12:28] {1150} INFO -  at 14.8s,\tbest xgboost's error=0.1995,\tbest lgbm's error=0.1787\n",
      "[flaml.automl: 07-13 23:12:28] {998} INFO - iteration 50, current learner xgboost\n",
      "[flaml.automl: 07-13 23:12:28] {1150} INFO -  at 14.9s,\tbest xgboost's error=0.1970,\tbest lgbm's error=0.1787\n",
      "[flaml.automl: 07-13 23:12:28] {998} INFO - iteration 51, current learner lgbm\n",
      "[flaml.automl: 07-13 23:12:28] {1150} INFO -  at 15.0s,\tbest lgbm's error=0.1787,\tbest lgbm's error=0.1787\n",
      "[flaml.automl: 07-13 23:12:28] {998} INFO - iteration 52, current learner lgbm\n",
      "[flaml.automl: 07-13 23:12:28] {1150} INFO -  at 15.3s,\tbest lgbm's error=0.1763,\tbest lgbm's error=0.1763\n",
      "[flaml.automl: 07-13 23:12:28] {998} INFO - iteration 53, current learner catboost\n",
      "[flaml.automl: 07-13 23:12:29] {1150} INFO -  at 16.5s,\tbest catboost's error=0.1883,\tbest lgbm's error=0.1763\n",
      "[flaml.automl: 07-13 23:12:29] {998} INFO - iteration 54, current learner lgbm\n",
      "[flaml.automl: 07-13 23:12:30] {1150} INFO -  at 16.7s,\tbest lgbm's error=0.1763,\tbest lgbm's error=0.1763\n",
      "[flaml.automl: 07-13 23:12:30] {998} INFO - iteration 55, current learner lgbm\n",
      "[flaml.automl: 07-13 23:12:30] {1150} INFO -  at 16.8s,\tbest lgbm's error=0.1763,\tbest lgbm's error=0.1763\n",
      "[flaml.automl: 07-13 23:12:30] {998} INFO - iteration 56, current learner catboost\n",
      "[flaml.automl: 07-13 23:12:30] {1150} INFO -  at 17.5s,\tbest catboost's error=0.1879,\tbest lgbm's error=0.1763\n",
      "[flaml.automl: 07-13 23:12:30] {998} INFO - iteration 57, current learner lgbm\n",
      "[flaml.automl: 07-13 23:12:31] {1150} INFO -  at 17.9s,\tbest lgbm's error=0.1759,\tbest lgbm's error=0.1759\n",
      "[flaml.automl: 07-13 23:12:31] {998} INFO - iteration 58, current learner lgbm\n",
      "[flaml.automl: 07-13 23:12:31] {1150} INFO -  at 18.1s,\tbest lgbm's error=0.1759,\tbest lgbm's error=0.1759\n",
      "[flaml.automl: 07-13 23:12:31] {998} INFO - iteration 59, current learner lgbm\n",
      "[flaml.automl: 07-13 23:12:32] {1150} INFO -  at 18.6s,\tbest lgbm's error=0.1759,\tbest lgbm's error=0.1759\n",
      "[flaml.automl: 07-13 23:12:32] {998} INFO - iteration 60, current learner lgbm\n",
      "[flaml.automl: 07-13 23:12:32] {1150} INFO -  at 18.7s,\tbest lgbm's error=0.1759,\tbest lgbm's error=0.1759\n",
      "[flaml.automl: 07-13 23:12:32] {998} INFO - iteration 61, current learner rf\n",
      "[flaml.automl: 07-13 23:12:33] {1150} INFO -  at 19.7s,\tbest rf's error=0.2088,\tbest lgbm's error=0.1759\n",
      "[flaml.automl: 07-13 23:12:33] {998} INFO - iteration 62, current learner lgbm\n",
      "[flaml.automl: 07-13 23:12:33] {1150} INFO -  at 19.9s,\tbest lgbm's error=0.1759,\tbest lgbm's error=0.1759\n",
      "[flaml.automl: 07-13 23:12:33] {998} INFO - iteration 63, current learner catboost\n",
      "[flaml.automl: 07-13 23:12:33] {1150} INFO -  at 20.6s,\tbest catboost's error=0.1879,\tbest lgbm's error=0.1759\n",
      "[flaml.automl: 07-13 23:12:33] {998} INFO - iteration 64, current learner xgboost\n",
      "[flaml.automl: 07-13 23:12:34] {1150} INFO -  at 20.7s,\tbest xgboost's error=0.1970,\tbest lgbm's error=0.1759\n",
      "[flaml.automl: 07-13 23:12:34] {998} INFO - iteration 65, current learner lgbm\n",
      "[flaml.automl: 07-13 23:12:34] {1150} INFO -  at 20.9s,\tbest lgbm's error=0.1759,\tbest lgbm's error=0.1759\n",
      "[flaml.automl: 07-13 23:12:34] {998} INFO - iteration 66, current learner lgbm\n",
      "[flaml.automl: 07-13 23:12:34] {1150} INFO -  at 21.2s,\tbest lgbm's error=0.1759,\tbest lgbm's error=0.1759\n",
      "[flaml.automl: 07-13 23:12:34] {998} INFO - iteration 67, current learner xgboost\n",
      "[flaml.automl: 07-13 23:12:34] {1150} INFO -  at 21.3s,\tbest xgboost's error=0.1970,\tbest lgbm's error=0.1759\n",
      "[flaml.automl: 07-13 23:12:34] {998} INFO - iteration 68, current learner lgbm\n",
      "[flaml.automl: 07-13 23:12:35] {1150} INFO -  at 21.7s,\tbest lgbm's error=0.1730,\tbest lgbm's error=0.1730\n",
      "[flaml.automl: 07-13 23:12:35] {998} INFO - iteration 69, current learner lgbm\n",
      "[flaml.automl: 07-13 23:12:35] {1150} INFO -  at 21.8s,\tbest lgbm's error=0.1730,\tbest lgbm's error=0.1730\n",
      "[flaml.automl: 07-13 23:12:35] {998} INFO - iteration 70, current learner lgbm\n",
      "[flaml.automl: 07-13 23:12:35] {1150} INFO -  at 22.1s,\tbest lgbm's error=0.1730,\tbest lgbm's error=0.1730\n",
      "[flaml.automl: 07-13 23:12:35] {998} INFO - iteration 71, current learner catboost\n",
      "[flaml.automl: 07-13 23:12:36] {1150} INFO -  at 23.0s,\tbest catboost's error=0.1862,\tbest lgbm's error=0.1730\n",
      "[flaml.automl: 07-13 23:12:36] {998} INFO - iteration 72, current learner lgbm\n",
      "[flaml.automl: 07-13 23:12:36] {1150} INFO -  at 23.1s,\tbest lgbm's error=0.1730,\tbest lgbm's error=0.1730\n",
      "[flaml.automl: 07-13 23:12:36] {998} INFO - iteration 73, current learner extra_tree\n",
      "[flaml.automl: 07-13 23:12:37] {1150} INFO -  at 24.1s,\tbest extra_tree's error=0.1963,\tbest lgbm's error=0.1730\n",
      "[flaml.automl: 07-13 23:12:37] {998} INFO - iteration 74, current learner lgbm\n",
      "[flaml.automl: 07-13 23:12:37] {1150} INFO -  at 24.2s,\tbest lgbm's error=0.1730,\tbest lgbm's error=0.1730\n",
      "[flaml.automl: 07-13 23:12:37] {998} INFO - iteration 75, current learner xgboost\n",
      "[flaml.automl: 07-13 23:12:37] {1150} INFO -  at 24.4s,\tbest xgboost's error=0.1970,\tbest lgbm's error=0.1730\n",
      "[flaml.automl: 07-13 23:12:37] {998} INFO - iteration 76, current learner lgbm\n",
      "[flaml.automl: 07-13 23:12:38] {1150} INFO -  at 24.6s,\tbest lgbm's error=0.1730,\tbest lgbm's error=0.1730\n",
      "[flaml.automl: 07-13 23:12:38] {998} INFO - iteration 77, current learner lgbm\n",
      "[flaml.automl: 07-13 23:12:38] {1150} INFO -  at 24.8s,\tbest lgbm's error=0.1730,\tbest lgbm's error=0.1730\n",
      "[flaml.automl: 07-13 23:12:38] {998} INFO - iteration 78, current learner catboost\n",
      "[flaml.automl: 07-13 23:12:38] {1150} INFO -  at 25.5s,\tbest catboost's error=0.1862,\tbest lgbm's error=0.1730\n",
      "[flaml.automl: 07-13 23:12:38] {998} INFO - iteration 79, current learner lgbm\n",
      "[flaml.automl: 07-13 23:12:39] {1150} INFO -  at 25.6s,\tbest lgbm's error=0.1730,\tbest lgbm's error=0.1730\n",
      "[flaml.automl: 07-13 23:12:39] {998} INFO - iteration 80, current learner lgbm\n",
      "[flaml.automl: 07-13 23:12:39] {1150} INFO -  at 25.9s,\tbest lgbm's error=0.1730,\tbest lgbm's error=0.1730\n",
      "[flaml.automl: 07-13 23:12:39] {998} INFO - iteration 81, current learner xgboost\n",
      "[flaml.automl: 07-13 23:12:39] {1150} INFO -  at 26.0s,\tbest xgboost's error=0.1970,\tbest lgbm's error=0.1730\n",
      "[flaml.automl: 07-13 23:12:39] {998} INFO - iteration 82, current learner lgbm\n",
      "[flaml.automl: 07-13 23:12:39] {1150} INFO -  at 26.3s,\tbest lgbm's error=0.1730,\tbest lgbm's error=0.1730\n",
      "[flaml.automl: 07-13 23:12:39] {998} INFO - iteration 83, current learner rf\n",
      "[flaml.automl: 07-13 23:12:40] {1150} INFO -  at 27.2s,\tbest rf's error=0.2088,\tbest lgbm's error=0.1730\n",
      "[flaml.automl: 07-13 23:12:40] {998} INFO - iteration 84, current learner rf\n",
      "[flaml.automl: 07-13 23:12:41] {1150} INFO -  at 28.2s,\tbest rf's error=0.1809,\tbest lgbm's error=0.1730\n",
      "[flaml.automl: 07-13 23:12:41] {998} INFO - iteration 85, current learner catboost\n",
      "[flaml.automl: 07-13 23:12:43] {1150} INFO -  at 29.9s,\tbest catboost's error=0.1792,\tbest lgbm's error=0.1730\n",
      "[flaml.automl: 07-13 23:12:43] {998} INFO - iteration 86, current learner rf\n",
      "[flaml.automl: 07-13 23:12:44] {1150} INFO -  at 30.8s,\tbest rf's error=0.1809,\tbest lgbm's error=0.1730\n",
      "[flaml.automl: 07-13 23:12:44] {998} INFO - iteration 87, current learner catboost\n",
      "[flaml.automl: 07-13 23:12:46] {1150} INFO -  at 33.0s,\tbest catboost's error=0.1792,\tbest lgbm's error=0.1730\n",
      "[flaml.automl: 07-13 23:12:46] {998} INFO - iteration 88, current learner lgbm\n",
      "[flaml.automl: 07-13 23:12:46] {1150} INFO -  at 33.1s,\tbest lgbm's error=0.1730,\tbest lgbm's error=0.1730\n",
      "[flaml.automl: 07-13 23:12:46] {998} INFO - iteration 89, current learner lgbm\n",
      "[flaml.automl: 07-13 23:12:46] {1150} INFO -  at 33.4s,\tbest lgbm's error=0.1730,\tbest lgbm's error=0.1730\n",
      "[flaml.automl: 07-13 23:12:46] {998} INFO - iteration 90, current learner catboost\n",
      "[flaml.automl: 07-13 23:12:48] {1150} INFO -  at 34.8s,\tbest catboost's error=0.1792,\tbest lgbm's error=0.1730\n",
      "[flaml.automl: 07-13 23:12:48] {998} INFO - iteration 91, current learner lgbm\n",
      "[flaml.automl: 07-13 23:12:48] {1150} INFO -  at 34.9s,\tbest lgbm's error=0.1730,\tbest lgbm's error=0.1730\n",
      "[flaml.automl: 07-13 23:12:48] {998} INFO - iteration 92, current learner xgboost\n",
      "[flaml.automl: 07-13 23:12:48] {1150} INFO -  at 35.1s,\tbest xgboost's error=0.1970,\tbest lgbm's error=0.1730\n",
      "[flaml.automl: 07-13 23:12:48] {998} INFO - iteration 93, current learner rf\n",
      "[flaml.automl: 07-13 23:12:49] {1150} INFO -  at 36.0s,\tbest rf's error=0.1809,\tbest lgbm's error=0.1730\n",
      "[flaml.automl: 07-13 23:12:49] {998} INFO - iteration 94, current learner rf\n",
      "[flaml.automl: 07-13 23:12:50] {1150} INFO -  at 37.0s,\tbest rf's error=0.1790,\tbest lgbm's error=0.1730\n",
      "[flaml.automl: 07-13 23:12:50] {998} INFO - iteration 95, current learner lgbm\n",
      "[flaml.automl: 07-13 23:12:50] {1150} INFO -  at 37.2s,\tbest lgbm's error=0.1730,\tbest lgbm's error=0.1730\n",
      "[flaml.automl: 07-13 23:12:50] {998} INFO - iteration 96, current learner xgboost\n",
      "[flaml.automl: 07-13 23:12:50] {1150} INFO -  at 37.3s,\tbest xgboost's error=0.1970,\tbest lgbm's error=0.1730\n",
      "[flaml.automl: 07-13 23:12:50] {998} INFO - iteration 97, current learner lgbm\n",
      "[flaml.automl: 07-13 23:12:50] {1150} INFO -  at 37.5s,\tbest lgbm's error=0.1730,\tbest lgbm's error=0.1730\n",
      "[flaml.automl: 07-13 23:12:50] {998} INFO - iteration 98, current learner lgbm\n",
      "[flaml.automl: 07-13 23:12:51] {1150} INFO -  at 37.7s,\tbest lgbm's error=0.1730,\tbest lgbm's error=0.1730\n",
      "[flaml.automl: 07-13 23:12:51] {998} INFO - iteration 99, current learner lgbm\n",
      "[flaml.automl: 07-13 23:12:51] {1150} INFO -  at 37.9s,\tbest lgbm's error=0.1730,\tbest lgbm's error=0.1730\n",
      "[flaml.automl: 07-13 23:12:51] {998} INFO - iteration 100, current learner lgbm\n",
      "[flaml.automl: 07-13 23:12:51] {1150} INFO -  at 38.5s,\tbest lgbm's error=0.1730,\tbest lgbm's error=0.1730\n",
      "[flaml.automl: 07-13 23:12:51] {998} INFO - iteration 101, current learner xgboost\n",
      "[flaml.automl: 07-13 23:12:52] {1150} INFO -  at 38.7s,\tbest xgboost's error=0.1970,\tbest lgbm's error=0.1730\n",
      "[flaml.automl: 07-13 23:12:52] {998} INFO - iteration 102, current learner rf\n",
      "[flaml.automl: 07-13 23:12:53] {1150} INFO -  at 39.7s,\tbest rf's error=0.1790,\tbest lgbm's error=0.1730\n",
      "[flaml.automl: 07-13 23:12:53] {998} INFO - iteration 103, current learner lgbm\n",
      "[flaml.automl: 07-13 23:12:53] {1150} INFO -  at 39.8s,\tbest lgbm's error=0.1730,\tbest lgbm's error=0.1730\n",
      "[flaml.automl: 07-13 23:12:53] {998} INFO - iteration 104, current learner rf\n",
      "[flaml.automl: 07-13 23:12:54] {1150} INFO -  at 41.0s,\tbest rf's error=0.1738,\tbest lgbm's error=0.1730\n",
      "[flaml.automl: 07-13 23:12:54] {998} INFO - iteration 105, current learner rf\n",
      "[flaml.automl: 07-13 23:12:55] {1150} INFO -  at 41.9s,\tbest rf's error=0.1738,\tbest lgbm's error=0.1730\n",
      "[flaml.automl: 07-13 23:12:55] {998} INFO - iteration 106, current learner rf\n",
      "[flaml.automl: 07-13 23:12:56] {1150} INFO -  at 42.9s,\tbest rf's error=0.1738,\tbest lgbm's error=0.1730\n",
      "[flaml.automl: 07-13 23:12:56] {998} INFO - iteration 107, current learner catboost\n",
      "[flaml.automl: 07-13 23:12:58] {1150} INFO -  at 45.0s,\tbest catboost's error=0.1750,\tbest lgbm's error=0.1730\n",
      "[flaml.automl: 07-13 23:12:58] {998} INFO - iteration 108, current learner rf\n",
      "[flaml.automl: 07-13 23:12:59] {1150} INFO -  at 45.9s,\tbest rf's error=0.1738,\tbest lgbm's error=0.1730\n",
      "[flaml.automl: 07-13 23:12:59] {998} INFO - iteration 109, current learner catboost\n",
      "[flaml.automl: 07-13 23:13:00] {1150} INFO -  at 47.2s,\tbest catboost's error=0.1750,\tbest lgbm's error=0.1730\n",
      "[flaml.automl: 07-13 23:13:00] {998} INFO - iteration 110, current learner rf\n",
      "[flaml.automl: 07-13 23:13:01] {1150} INFO -  at 48.2s,\tbest rf's error=0.1738,\tbest lgbm's error=0.1730\n",
      "[flaml.automl: 07-13 23:13:01] {998} INFO - iteration 111, current learner lgbm\n",
      "[flaml.automl: 07-13 23:13:01] {1150} INFO -  at 48.3s,\tbest lgbm's error=0.1730,\tbest lgbm's error=0.1730\n",
      "[flaml.automl: 07-13 23:13:01] {998} INFO - iteration 112, current learner xgboost\n",
      "[flaml.automl: 07-13 23:13:01] {1150} INFO -  at 48.4s,\tbest xgboost's error=0.1970,\tbest lgbm's error=0.1730\n",
      "[flaml.automl: 07-13 23:13:01] {998} INFO - iteration 113, current learner rf\n",
      "[flaml.automl: 07-13 23:13:02] {1150} INFO -  at 49.4s,\tbest rf's error=0.1738,\tbest lgbm's error=0.1730\n",
      "[flaml.automl: 07-13 23:13:02] {998} INFO - iteration 114, current learner extra_tree\n",
      "[flaml.automl: 07-13 23:13:03] {1150} INFO -  at 50.3s,\tbest extra_tree's error=0.1963,\tbest lgbm's error=0.1730\n",
      "[flaml.automl: 07-13 23:13:03] {998} INFO - iteration 115, current learner lgbm\n",
      "[flaml.automl: 07-13 23:13:03] {1150} INFO -  at 50.5s,\tbest lgbm's error=0.1730,\tbest lgbm's error=0.1730\n",
      "[flaml.automl: 07-13 23:13:03] {998} INFO - iteration 116, current learner lgbm\n",
      "[flaml.automl: 07-13 23:13:04] {1150} INFO -  at 50.9s,\tbest lgbm's error=0.1723,\tbest lgbm's error=0.1723\n",
      "[flaml.automl: 07-13 23:13:04] {998} INFO - iteration 117, current learner xgboost\n",
      "[flaml.automl: 07-13 23:13:04] {1150} INFO -  at 51.0s,\tbest xgboost's error=0.1970,\tbest lgbm's error=0.1723\n",
      "[flaml.automl: 07-13 23:13:04] {998} INFO - iteration 118, current learner rf\n",
      "[flaml.automl: 07-13 23:13:05] {1150} INFO -  at 52.0s,\tbest rf's error=0.1738,\tbest lgbm's error=0.1723\n",
      "[flaml.automl: 07-13 23:13:05] {998} INFO - iteration 119, current learner lgbm\n",
      "[flaml.automl: 07-13 23:13:05] {1150} INFO -  at 52.2s,\tbest lgbm's error=0.1723,\tbest lgbm's error=0.1723\n",
      "[flaml.automl: 07-13 23:13:05] {998} INFO - iteration 120, current learner catboost\n",
      "[flaml.automl: 07-13 23:13:06] {1150} INFO -  at 53.3s,\tbest catboost's error=0.1750,\tbest lgbm's error=0.1723\n",
      "[flaml.automl: 07-13 23:13:06] {998} INFO - iteration 121, current learner catboost\n",
      "[flaml.automl: 07-13 23:13:07] {1150} INFO -  at 54.2s,\tbest catboost's error=0.1750,\tbest lgbm's error=0.1723\n",
      "[flaml.automl: 07-13 23:13:07] {998} INFO - iteration 122, current learner xgboost\n",
      "[flaml.automl: 07-13 23:13:07] {1150} INFO -  at 54.3s,\tbest xgboost's error=0.1970,\tbest lgbm's error=0.1723\n",
      "[flaml.automl: 07-13 23:13:07] {998} INFO - iteration 123, current learner rf\n",
      "[flaml.automl: 07-13 23:13:09] {1150} INFO -  at 56.5s,\tbest rf's error=0.1738,\tbest lgbm's error=0.1723\n",
      "[flaml.automl: 07-13 23:13:09] {998} INFO - iteration 124, current learner lgbm\n",
      "[flaml.automl: 07-13 23:13:10] {1150} INFO -  at 56.8s,\tbest lgbm's error=0.1723,\tbest lgbm's error=0.1723\n",
      "[flaml.automl: 07-13 23:13:10] {998} INFO - iteration 125, current learner lgbm\n",
      "[flaml.automl: 07-13 23:13:10] {1150} INFO -  at 57.0s,\tbest lgbm's error=0.1723,\tbest lgbm's error=0.1723\n",
      "[flaml.automl: 07-13 23:13:10] {998} INFO - iteration 126, current learner lgbm\n",
      "[flaml.automl: 07-13 23:13:10] {1150} INFO -  at 57.1s,\tbest lgbm's error=0.1723,\tbest lgbm's error=0.1723\n",
      "[flaml.automl: 07-13 23:13:10] {998} INFO - iteration 127, current learner lgbm\n",
      "[flaml.automl: 07-13 23:13:10] {1150} INFO -  at 57.3s,\tbest lgbm's error=0.1723,\tbest lgbm's error=0.1723\n",
      "[flaml.automl: 07-13 23:13:10] {998} INFO - iteration 128, current learner lgbm\n",
      "[flaml.automl: 07-13 23:13:11] {1150} INFO -  at 57.6s,\tbest lgbm's error=0.1723,\tbest lgbm's error=0.1723\n",
      "[flaml.automl: 07-13 23:13:11] {998} INFO - iteration 129, current learner catboost\n",
      "[flaml.automl: 07-13 23:13:11] {1150} INFO -  at 58.0s,\tbest catboost's error=0.1750,\tbest lgbm's error=0.1723\n",
      "[flaml.automl: 07-13 23:13:11] {998} INFO - iteration 130, current learner lgbm\n",
      "[flaml.automl: 07-13 23:13:11] {1150} INFO -  at 58.2s,\tbest lgbm's error=0.1723,\tbest lgbm's error=0.1723\n",
      "[flaml.automl: 07-13 23:13:11] {998} INFO - iteration 131, current learner lgbm\n",
      "[flaml.automl: 07-13 23:13:12] {1150} INFO -  at 58.7s,\tbest lgbm's error=0.1723,\tbest lgbm's error=0.1723\n",
      "[flaml.automl: 07-13 23:13:12] {998} INFO - iteration 132, current learner rf\n",
      "[flaml.automl: 07-13 23:13:12] {1150} INFO -  at 59.5s,\tbest rf's error=0.1738,\tbest lgbm's error=0.1723\n",
      "[flaml.automl: 07-13 23:13:12] {998} INFO - iteration 133, current learner lgbm\n",
      "[flaml.automl: 07-13 23:13:13] {1150} INFO -  at 59.8s,\tbest lgbm's error=0.1719,\tbest lgbm's error=0.1719\n",
      "[flaml.automl: 07-13 23:13:13] {998} INFO - iteration 134, current learner lgbm\n",
      "[flaml.automl: 07-13 23:13:13] {1150} INFO -  at 59.9s,\tbest lgbm's error=0.1719,\tbest lgbm's error=0.1719\n",
      "[flaml.automl: 07-13 23:13:13] {998} INFO - iteration 135, current learner lrl1\n",
      "No low-cost partial config given to the search algorithm. For cost-frugal search, consider providing low-cost values for cost-related hps via 'low_cost_partial_config'.\n",
      "[flaml.automl: 07-13 23:13:13] {1150} INFO -  at 60.1s,\tbest lrl1's error=0.2180,\tbest lgbm's error=0.1719\n",
      "[flaml.automl: 07-13 23:13:13] {1190} INFO - selected model: LGBMClassifier(colsample_bytree=0.8173598633074229,\n",
      "               learning_rate=0.10134715456441461, max_bin=1023,\n",
      "               min_child_samples=128, n_estimators=120, num_leaves=4,\n",
      "               objective='binary', reg_alpha=0.0016134888421672818,\n",
      "               reg_lambda=0.9376811908589723, subsample=0.8283633174720394)\n",
      "[flaml.automl: 07-13 23:13:13] {948} INFO - fit succeeded\n"
     ]
    }
   ],
   "source": [
    "auto_ml= AutoML()\n",
    "auto_ml.fit(X_train, y_train, X_val, y_val, metric = 'roc_auc', task='classification', n_splits=3)"
   ]
  },
  {
   "cell_type": "code",
   "execution_count": 60,
   "metadata": {},
   "outputs": [
    {
     "output_type": "execute_result",
     "data": {
      "text/plain": [
       "0.7804878048780488"
      ]
     },
     "metadata": {},
     "execution_count": 60
    }
   ],
   "source": [
    "y_auto = auto_ml.predict(X_test)\n",
    "precision_score(y_test, y_auto)"
   ]
  },
  {
   "cell_type": "code",
   "execution_count": 61,
   "metadata": {},
   "outputs": [],
   "source": [
    "from sklearn.metrics import roc_auc_score, precision_score"
   ]
  },
  {
   "cell_type": "code",
   "execution_count": 62,
   "metadata": {},
   "outputs": [
    {
     "output_type": "stream",
     "name": "stdout",
     "text": [
      "MODEL\n",
      "<flaml.automl.AutoML object at 0x00000131D40674C8>\n",
      "SCORE\n",
      "0.7804878048780488\n",
      "********************\n",
      "MODEL\n",
      "RandomizedSearchCV(cv=3, estimator=RandomForestClassifier(), n_jobs=-1,\n",
      "                   param_distributions={'bootstrap': [False],\n",
      "                                        'class_weight': [{0: 0.9, 1: 0.1},\n",
      "                                                         {0: 0.8, 1: 0.2},\n",
      "                                                         {0: 0.7,\n",
      "                                                          1: 0.30000000000000004},\n",
      "                                                         {0: 0.6, 1: 0.4},\n",
      "                                                         {0: 0.5, 1: 0.5},\n",
      "                                                         {0: 0.4, 1: 0.6},\n",
      "                                                         {0: 0.29999999999999993,\n",
      "                                                          1: 0.7000000000000001},\n",
      "                                                         {0: 0.19999999999999996,\n",
      "                                                          1: 0.8},\n",
      "                                                         {0: 0.09999999999999998,\n",
      "                                                          1: 0.9}],\n",
      "                                        'max_depth': [11, 15, 20, 25, 30],\n",
      "                                        'max_features': ['sqrt'],\n",
      "                                        'min_samples_leaf': [2, 3, 4, 5, 6, 7],\n",
      "                                        'min_samples_split': [2, 3, 4, 22, 23,\n",
      "                                                              24],\n",
      "                                        'n_estimators': [100, 200, 300, 400,\n",
      "                                                         500, 600, 700, 600]},\n",
      "                   scoring='precision', verbose=1)\n",
      "SCORE\n",
      "1.0\n",
      "********************\n",
      "MODEL\n",
      "RandomForestClassifier(class_weight={0: 0.09999999999999998, 1: 0.9}, n_jobs=-1)\n",
      "SCORE\n",
      "0.9298245614035088\n",
      "********************\n",
      "MODEL\n",
      "RandomForestClassifier()\n",
      "SCORE\n",
      "0.9324324324324325\n",
      "********************\n"
     ]
    }
   ],
   "source": [
    "for mod in [auto_ml,new_param[max(new_param.keys())], res[max(res.keys())], train_model['RandomForestClassifier()']]:\n",
    "    pred = mod.predict(X_test)\n",
    "    print(\"MODEL\", mod.__str__(), 'SCORE',precision_score(y_test, pred),\"*\"*20, sep='\\n')"
   ]
  },
  {
   "source": [
    "Сейчас построим график feature_importances"
   ],
   "cell_type": "markdown",
   "metadata": {}
  },
  {
   "cell_type": "code",
   "execution_count": 63,
   "metadata": {},
   "outputs": [
    {
     "output_type": "display_data",
     "data": {
      "application/vnd.plotly.v1+json": {
       "config": {
        "plotlyServerURL": "https://plot.ly"
       },
       "data": [
        {
         "type": "bar",
         "x": [
          "Education",
          "Marital_Status",
          "Income",
          "Kidhome",
          "Teenhome",
          "Recency",
          "MntWines",
          "MntFruits",
          "MntMeatProducts",
          "MntFishProducts",
          "MntSweetProducts",
          "MntGoldProds",
          "NumDealsPurchases",
          "NumWebPurchases",
          "NumCatalogPurchases",
          "NumStorePurchases",
          "NumWebVisitsMonth",
          "Complain",
          "Z_CostContact",
          "Z_Revenue",
          "Age",
          "In_program"
         ],
         "y": [
          0.009882068664600301,
          0.011150280628181802,
          0.16272802985212045,
          0.003497304823669083,
          0.006377199389250283,
          0.026611916943631325,
          0.2417954383799638,
          0.03188546261984474,
          0.07526169129697877,
          0.05047837611737884,
          0.03533039817502171,
          0.0625450421532943,
          0.029105008126936033,
          0.03289612235983021,
          0.04353077580463154,
          0.02467849114788467,
          0.03842253820955568,
          0,
          0,
          0,
          0.05343373971979574,
          0.06039011558743076
         ]
        }
       ],
       "layout": {
        "template": {
         "data": {
          "bar": [
           {
            "error_x": {
             "color": "#2a3f5f"
            },
            "error_y": {
             "color": "#2a3f5f"
            },
            "marker": {
             "line": {
              "color": "#E5ECF6",
              "width": 0.5
             }
            },
            "type": "bar"
           }
          ],
          "barpolar": [
           {
            "marker": {
             "line": {
              "color": "#E5ECF6",
              "width": 0.5
             }
            },
            "type": "barpolar"
           }
          ],
          "carpet": [
           {
            "aaxis": {
             "endlinecolor": "#2a3f5f",
             "gridcolor": "white",
             "linecolor": "white",
             "minorgridcolor": "white",
             "startlinecolor": "#2a3f5f"
            },
            "baxis": {
             "endlinecolor": "#2a3f5f",
             "gridcolor": "white",
             "linecolor": "white",
             "minorgridcolor": "white",
             "startlinecolor": "#2a3f5f"
            },
            "type": "carpet"
           }
          ],
          "choropleth": [
           {
            "colorbar": {
             "outlinewidth": 0,
             "ticks": ""
            },
            "type": "choropleth"
           }
          ],
          "contour": [
           {
            "colorbar": {
             "outlinewidth": 0,
             "ticks": ""
            },
            "colorscale": [
             [
              0,
              "#0d0887"
             ],
             [
              0.1111111111111111,
              "#46039f"
             ],
             [
              0.2222222222222222,
              "#7201a8"
             ],
             [
              0.3333333333333333,
              "#9c179e"
             ],
             [
              0.4444444444444444,
              "#bd3786"
             ],
             [
              0.5555555555555556,
              "#d8576b"
             ],
             [
              0.6666666666666666,
              "#ed7953"
             ],
             [
              0.7777777777777778,
              "#fb9f3a"
             ],
             [
              0.8888888888888888,
              "#fdca26"
             ],
             [
              1,
              "#f0f921"
             ]
            ],
            "type": "contour"
           }
          ],
          "contourcarpet": [
           {
            "colorbar": {
             "outlinewidth": 0,
             "ticks": ""
            },
            "type": "contourcarpet"
           }
          ],
          "heatmap": [
           {
            "colorbar": {
             "outlinewidth": 0,
             "ticks": ""
            },
            "colorscale": [
             [
              0,
              "#0d0887"
             ],
             [
              0.1111111111111111,
              "#46039f"
             ],
             [
              0.2222222222222222,
              "#7201a8"
             ],
             [
              0.3333333333333333,
              "#9c179e"
             ],
             [
              0.4444444444444444,
              "#bd3786"
             ],
             [
              0.5555555555555556,
              "#d8576b"
             ],
             [
              0.6666666666666666,
              "#ed7953"
             ],
             [
              0.7777777777777778,
              "#fb9f3a"
             ],
             [
              0.8888888888888888,
              "#fdca26"
             ],
             [
              1,
              "#f0f921"
             ]
            ],
            "type": "heatmap"
           }
          ],
          "heatmapgl": [
           {
            "colorbar": {
             "outlinewidth": 0,
             "ticks": ""
            },
            "colorscale": [
             [
              0,
              "#0d0887"
             ],
             [
              0.1111111111111111,
              "#46039f"
             ],
             [
              0.2222222222222222,
              "#7201a8"
             ],
             [
              0.3333333333333333,
              "#9c179e"
             ],
             [
              0.4444444444444444,
              "#bd3786"
             ],
             [
              0.5555555555555556,
              "#d8576b"
             ],
             [
              0.6666666666666666,
              "#ed7953"
             ],
             [
              0.7777777777777778,
              "#fb9f3a"
             ],
             [
              0.8888888888888888,
              "#fdca26"
             ],
             [
              1,
              "#f0f921"
             ]
            ],
            "type": "heatmapgl"
           }
          ],
          "histogram": [
           {
            "marker": {
             "colorbar": {
              "outlinewidth": 0,
              "ticks": ""
             }
            },
            "type": "histogram"
           }
          ],
          "histogram2d": [
           {
            "colorbar": {
             "outlinewidth": 0,
             "ticks": ""
            },
            "colorscale": [
             [
              0,
              "#0d0887"
             ],
             [
              0.1111111111111111,
              "#46039f"
             ],
             [
              0.2222222222222222,
              "#7201a8"
             ],
             [
              0.3333333333333333,
              "#9c179e"
             ],
             [
              0.4444444444444444,
              "#bd3786"
             ],
             [
              0.5555555555555556,
              "#d8576b"
             ],
             [
              0.6666666666666666,
              "#ed7953"
             ],
             [
              0.7777777777777778,
              "#fb9f3a"
             ],
             [
              0.8888888888888888,
              "#fdca26"
             ],
             [
              1,
              "#f0f921"
             ]
            ],
            "type": "histogram2d"
           }
          ],
          "histogram2dcontour": [
           {
            "colorbar": {
             "outlinewidth": 0,
             "ticks": ""
            },
            "colorscale": [
             [
              0,
              "#0d0887"
             ],
             [
              0.1111111111111111,
              "#46039f"
             ],
             [
              0.2222222222222222,
              "#7201a8"
             ],
             [
              0.3333333333333333,
              "#9c179e"
             ],
             [
              0.4444444444444444,
              "#bd3786"
             ],
             [
              0.5555555555555556,
              "#d8576b"
             ],
             [
              0.6666666666666666,
              "#ed7953"
             ],
             [
              0.7777777777777778,
              "#fb9f3a"
             ],
             [
              0.8888888888888888,
              "#fdca26"
             ],
             [
              1,
              "#f0f921"
             ]
            ],
            "type": "histogram2dcontour"
           }
          ],
          "mesh3d": [
           {
            "colorbar": {
             "outlinewidth": 0,
             "ticks": ""
            },
            "type": "mesh3d"
           }
          ],
          "parcoords": [
           {
            "line": {
             "colorbar": {
              "outlinewidth": 0,
              "ticks": ""
             }
            },
            "type": "parcoords"
           }
          ],
          "pie": [
           {
            "automargin": true,
            "type": "pie"
           }
          ],
          "scatter": [
           {
            "marker": {
             "colorbar": {
              "outlinewidth": 0,
              "ticks": ""
             }
            },
            "type": "scatter"
           }
          ],
          "scatter3d": [
           {
            "line": {
             "colorbar": {
              "outlinewidth": 0,
              "ticks": ""
             }
            },
            "marker": {
             "colorbar": {
              "outlinewidth": 0,
              "ticks": ""
             }
            },
            "type": "scatter3d"
           }
          ],
          "scattercarpet": [
           {
            "marker": {
             "colorbar": {
              "outlinewidth": 0,
              "ticks": ""
             }
            },
            "type": "scattercarpet"
           }
          ],
          "scattergeo": [
           {
            "marker": {
             "colorbar": {
              "outlinewidth": 0,
              "ticks": ""
             }
            },
            "type": "scattergeo"
           }
          ],
          "scattergl": [
           {
            "marker": {
             "colorbar": {
              "outlinewidth": 0,
              "ticks": ""
             }
            },
            "type": "scattergl"
           }
          ],
          "scattermapbox": [
           {
            "marker": {
             "colorbar": {
              "outlinewidth": 0,
              "ticks": ""
             }
            },
            "type": "scattermapbox"
           }
          ],
          "scatterpolar": [
           {
            "marker": {
             "colorbar": {
              "outlinewidth": 0,
              "ticks": ""
             }
            },
            "type": "scatterpolar"
           }
          ],
          "scatterpolargl": [
           {
            "marker": {
             "colorbar": {
              "outlinewidth": 0,
              "ticks": ""
             }
            },
            "type": "scatterpolargl"
           }
          ],
          "scatterternary": [
           {
            "marker": {
             "colorbar": {
              "outlinewidth": 0,
              "ticks": ""
             }
            },
            "type": "scatterternary"
           }
          ],
          "surface": [
           {
            "colorbar": {
             "outlinewidth": 0,
             "ticks": ""
            },
            "colorscale": [
             [
              0,
              "#0d0887"
             ],
             [
              0.1111111111111111,
              "#46039f"
             ],
             [
              0.2222222222222222,
              "#7201a8"
             ],
             [
              0.3333333333333333,
              "#9c179e"
             ],
             [
              0.4444444444444444,
              "#bd3786"
             ],
             [
              0.5555555555555556,
              "#d8576b"
             ],
             [
              0.6666666666666666,
              "#ed7953"
             ],
             [
              0.7777777777777778,
              "#fb9f3a"
             ],
             [
              0.8888888888888888,
              "#fdca26"
             ],
             [
              1,
              "#f0f921"
             ]
            ],
            "type": "surface"
           }
          ],
          "table": [
           {
            "cells": {
             "fill": {
              "color": "#EBF0F8"
             },
             "line": {
              "color": "white"
             }
            },
            "header": {
             "fill": {
              "color": "#C8D4E3"
             },
             "line": {
              "color": "white"
             }
            },
            "type": "table"
           }
          ]
         },
         "layout": {
          "annotationdefaults": {
           "arrowcolor": "#2a3f5f",
           "arrowhead": 0,
           "arrowwidth": 1
          },
          "coloraxis": {
           "colorbar": {
            "outlinewidth": 0,
            "ticks": ""
           }
          },
          "colorscale": {
           "diverging": [
            [
             0,
             "#8e0152"
            ],
            [
             0.1,
             "#c51b7d"
            ],
            [
             0.2,
             "#de77ae"
            ],
            [
             0.3,
             "#f1b6da"
            ],
            [
             0.4,
             "#fde0ef"
            ],
            [
             0.5,
             "#f7f7f7"
            ],
            [
             0.6,
             "#e6f5d0"
            ],
            [
             0.7,
             "#b8e186"
            ],
            [
             0.8,
             "#7fbc41"
            ],
            [
             0.9,
             "#4d9221"
            ],
            [
             1,
             "#276419"
            ]
           ],
           "sequential": [
            [
             0,
             "#0d0887"
            ],
            [
             0.1111111111111111,
             "#46039f"
            ],
            [
             0.2222222222222222,
             "#7201a8"
            ],
            [
             0.3333333333333333,
             "#9c179e"
            ],
            [
             0.4444444444444444,
             "#bd3786"
            ],
            [
             0.5555555555555556,
             "#d8576b"
            ],
            [
             0.6666666666666666,
             "#ed7953"
            ],
            [
             0.7777777777777778,
             "#fb9f3a"
            ],
            [
             0.8888888888888888,
             "#fdca26"
            ],
            [
             1,
             "#f0f921"
            ]
           ],
           "sequentialminus": [
            [
             0,
             "#0d0887"
            ],
            [
             0.1111111111111111,
             "#46039f"
            ],
            [
             0.2222222222222222,
             "#7201a8"
            ],
            [
             0.3333333333333333,
             "#9c179e"
            ],
            [
             0.4444444444444444,
             "#bd3786"
            ],
            [
             0.5555555555555556,
             "#d8576b"
            ],
            [
             0.6666666666666666,
             "#ed7953"
            ],
            [
             0.7777777777777778,
             "#fb9f3a"
            ],
            [
             0.8888888888888888,
             "#fdca26"
            ],
            [
             1,
             "#f0f921"
            ]
           ]
          },
          "colorway": [
           "#636efa",
           "#EF553B",
           "#00cc96",
           "#ab63fa",
           "#FFA15A",
           "#19d3f3",
           "#FF6692",
           "#B6E880",
           "#FF97FF",
           "#FECB52"
          ],
          "font": {
           "color": "#2a3f5f"
          },
          "geo": {
           "bgcolor": "white",
           "lakecolor": "white",
           "landcolor": "#E5ECF6",
           "showlakes": true,
           "showland": true,
           "subunitcolor": "white"
          },
          "hoverlabel": {
           "align": "left"
          },
          "hovermode": "closest",
          "mapbox": {
           "style": "light"
          },
          "paper_bgcolor": "white",
          "plot_bgcolor": "#E5ECF6",
          "polar": {
           "angularaxis": {
            "gridcolor": "white",
            "linecolor": "white",
            "ticks": ""
           },
           "bgcolor": "#E5ECF6",
           "radialaxis": {
            "gridcolor": "white",
            "linecolor": "white",
            "ticks": ""
           }
          },
          "scene": {
           "xaxis": {
            "backgroundcolor": "#E5ECF6",
            "gridcolor": "white",
            "gridwidth": 2,
            "linecolor": "white",
            "showbackground": true,
            "ticks": "",
            "zerolinecolor": "white"
           },
           "yaxis": {
            "backgroundcolor": "#E5ECF6",
            "gridcolor": "white",
            "gridwidth": 2,
            "linecolor": "white",
            "showbackground": true,
            "ticks": "",
            "zerolinecolor": "white"
           },
           "zaxis": {
            "backgroundcolor": "#E5ECF6",
            "gridcolor": "white",
            "gridwidth": 2,
            "linecolor": "white",
            "showbackground": true,
            "ticks": "",
            "zerolinecolor": "white"
           }
          },
          "shapedefaults": {
           "line": {
            "color": "#2a3f5f"
           }
          },
          "ternary": {
           "aaxis": {
            "gridcolor": "white",
            "linecolor": "white",
            "ticks": ""
           },
           "baxis": {
            "gridcolor": "white",
            "linecolor": "white",
            "ticks": ""
           },
           "bgcolor": "#E5ECF6",
           "caxis": {
            "gridcolor": "white",
            "linecolor": "white",
            "ticks": ""
           }
          },
          "title": {
           "x": 0.05
          },
          "xaxis": {
           "automargin": true,
           "gridcolor": "white",
           "linecolor": "white",
           "ticks": "",
           "title": {
            "standoff": 15
           },
           "zerolinecolor": "white",
           "zerolinewidth": 2
          },
          "yaxis": {
           "automargin": true,
           "gridcolor": "white",
           "linecolor": "white",
           "ticks": "",
           "title": {
            "standoff": 15
           },
           "zerolinecolor": "white",
           "zerolinewidth": 2
          }
         }
        },
        "title": {
         "text": "Feature importances"
        }
       }
      }
     },
     "metadata": {}
    }
   ],
   "source": [
    "best_mod = new_param[max(new_param.keys())]\n",
    "values = best_mod.best_estimator_.feature_importances_\n",
    "labels = list(X.columns)\n",
    "fig = go.Figure()\n",
    "fig.add_trace(go.Bar(x=labels, y =values))\n",
    "fig.update_layout(title='Feature importances')"
   ]
  },
  {
   "source": [
    "По графику видно что основной вклад как и предполагалось внесли колонки MntWines, MntMeatProducts n Income. Как я и упоминал выше, для определения, будет ли участвовать клиент в акции, не обязательно обучать модель, а достаточно установить пороговые значения для колонок."
   ],
   "cell_type": "markdown",
   "metadata": {}
  },
  {
   "source": [
    "И так лучшую метрику показывает случайный лес. Результат отличный мы со 100% точностью предсказываем положительный класс(так мы подбирали параметры с помощью RandomizedSearchCV при повторном запуске мы можем не получить такой результат, сохраню модель в файл). Следующая задача, которую предстоит решить- это предсказание какое предложение примет клиент. Будем предсказывать бинарный вектор с помощью линейной регрессии, где индекс 1 означает номер предложения которое примет клиент"
   ],
   "cell_type": "markdown",
   "metadata": {}
  },
  {
   "cell_type": "code",
   "execution_count": 64,
   "metadata": {},
   "outputs": [],
   "source": [
    "# import pickle\n",
    "\n",
    "# with open('Best_forest_model_2.pkl', 'wb') as f:\n",
    "#     pickle.dump(new_param[max(new_param.keys())].best_estimator_, f)"
   ]
  },
  {
   "cell_type": "code",
   "execution_count": 65,
   "metadata": {},
   "outputs": [],
   "source": [
    "Full_df = data.loc[data.Num_program!=0, :]"
   ]
  },
  {
   "source": [
    "Я создал датафрейм для предсказания. Сейчас разделим его на трейн и тест и стандартизируем и обучим модель линейной регресси. "
   ],
   "cell_type": "markdown",
   "metadata": {}
  },
  {
   "cell_type": "code",
   "execution_count": 66,
   "metadata": {},
   "outputs": [],
   "source": [
    "Y_mcl = Full_df.loc[:, [f\"AcceptedCmp{i}\" for i in range(1,6)]]\n",
    "X_mcl = Full_df.loc[:, [i for i in df.columns if i not in drop_col+['class']]]"
   ]
  },
  {
   "cell_type": "code",
   "execution_count": 67,
   "metadata": {},
   "outputs": [],
   "source": [
    "X_train, X_test, y_train, y_test = train_test_split(X_mcl, Y_mcl, test_size=0.3, random_state=31)"
   ]
  },
  {
   "cell_type": "code",
   "execution_count": 68,
   "metadata": {},
   "outputs": [],
   "source": [
    "# std_cl = StandardScaler()\n",
    "X_train = std.transform(X_train)\n",
    "X_test = std.transform(X_test)"
   ]
  },
  {
   "cell_type": "code",
   "execution_count": 69,
   "metadata": {},
   "outputs": [],
   "source": [
    "from sklearn.linear_model import LinearRegression"
   ]
  },
  {
   "cell_type": "code",
   "execution_count": 70,
   "metadata": {},
   "outputs": [
    {
     "output_type": "execute_result",
     "data": {
      "text/plain": [
       "LinearRegression()"
      ]
     },
     "metadata": {},
     "execution_count": 70
    }
   ],
   "source": [
    "lin_reg = LinearRegression()\n",
    "lin_reg.fit(X_train, y_train)"
   ]
  },
  {
   "source": [
    "Обучил модель, теперь посмотрим какие значения она выдаёт в качестве предсказания."
   ],
   "cell_type": "markdown",
   "metadata": {}
  },
  {
   "cell_type": "code",
   "execution_count": 71,
   "metadata": {},
   "outputs": [
    {
     "output_type": "execute_result",
     "data": {
      "text/plain": [
       "array([-0.08234011,  0.11845274,  0.78594625,  0.27664484, -0.20153692])"
      ]
     },
     "metadata": {},
     "execution_count": 71
    }
   ],
   "source": [
    "pred= lin_reg.predict(X_test)\n",
    "pred[0]"
   ]
  },
  {
   "source": [
    "Не очень похоже на бинарный вектор) Максимальный элемент в этом векторе будем считать за единицу, а его индекс- это номер акции в которой пользователь скорее всего примет участие. Остальные значения можно интерпретировать как вероятность участи в других акциях. Как мы помним клиент может принять участие сразу в нескольких акциях, но я предсказываю участие в только одной акции, я считаю этот результат приемлемым, так мы предсказали акции в которой клиент примет участие с наибольшей вероятность."
   ],
   "cell_type": "markdown",
   "metadata": {}
  },
  {
   "source": [
    "Как мы измерим качество предсказаний? Создадим свою метрику. Вектор предсказаний- вектор чисел от 0 до 1, а вектор для сравнения состоит из 0 и 1 и может содержать несколько 1. Наша метрика возвращает 1, если индекс максимального числа вектора предсказаний совпадает хотя бы с одним индексом 1 в векторе сравнения."
   ],
   "cell_type": "markdown",
   "metadata": {}
  },
  {
   "cell_type": "code",
   "execution_count": 72,
   "metadata": {},
   "outputs": [],
   "source": [
    "def new_metrics(y_pred, y_true):\n",
    "    arg_max = y_pred.argmax()\n",
    "    one_ind = np.where(y_true==1)\n",
    "    return 1 if arg_max in one_ind[0] else 0"
   ]
  },
  {
   "cell_type": "code",
   "execution_count": 73,
   "metadata": {},
   "outputs": [],
   "source": [
    "score = [new_metrics(y_pred, y_true) for y_pred, y_true in zip(pred, y_test.values)]"
   ]
  },
  {
   "cell_type": "code",
   "execution_count": 74,
   "metadata": {},
   "outputs": [
    {
     "output_type": "execute_result",
     "data": {
      "text/plain": [
       "0.7266187050359713"
      ]
     },
     "metadata": {},
     "execution_count": 74
    }
   ],
   "source": [
    "sum(score)/len(score)"
   ]
  },
  {
   "cell_type": "code",
   "execution_count": 75,
   "metadata": {},
   "outputs": [
    {
     "output_type": "display_data",
     "data": {
      "application/vnd.plotly.v1+json": {
       "config": {
        "plotlyServerURL": "https://plot.ly"
       },
       "data": [
        {
         "name": "AcceptedCmp0",
         "type": "bar",
         "x": [
          "Education",
          "Marital_Status",
          "Income",
          "Kidhome",
          "Teenhome",
          "Recency",
          "MntWines",
          "MntFruits",
          "MntMeatProducts",
          "MntFishProducts",
          "MntSweetProducts",
          "MntGoldProds",
          "NumDealsPurchases",
          "NumWebPurchases",
          "NumCatalogPurchases",
          "NumStorePurchases",
          "NumWebVisitsMonth",
          "Complain",
          "Z_CostContact",
          "Z_Revenue",
          "Age",
          "In_program"
         ],
         "xaxis": "x",
         "y": [
          -0.01667874418710265,
          0.013322263994153868,
          0.18198525512297353,
          0.025520919173793365,
          -0.05423360841203765,
          -0.029449575933497108,
          -0.010792006134579795,
          -0.029004181606147365,
          0.011177024940722587,
          0.029986783738473452,
          0.05362405729453082,
          -0.007734487413434986,
          0.04062119787630241,
          -0.010345734660495768,
          0.09787790890441993,
          0.006412160362997835,
          0.0673021216753764,
          -0.01264173191661945,
          2.7755575615628914e-17,
          1.0408340855860843e-17,
          -0.0091274351792129,
          -0.06264556928579303
         ],
         "yaxis": "y"
        },
        {
         "name": "AcceptedCmp1",
         "type": "bar",
         "x": [
          "Education",
          "Marital_Status",
          "Income",
          "Kidhome",
          "Teenhome",
          "Recency",
          "MntWines",
          "MntFruits",
          "MntMeatProducts",
          "MntFishProducts",
          "MntSweetProducts",
          "MntGoldProds",
          "NumDealsPurchases",
          "NumWebPurchases",
          "NumCatalogPurchases",
          "NumStorePurchases",
          "NumWebVisitsMonth",
          "Complain",
          "Z_CostContact",
          "Z_Revenue",
          "Age",
          "In_program"
         ],
         "xaxis": "x2",
         "y": [
          -0.013468170074550331,
          0.004760058278241278,
          0.055402760483829534,
          -0.016349344732873555,
          -0.0052345736155497875,
          -0.006081885151255333,
          0.03428956230005462,
          -0.013543663115683691,
          -0.0368877677034916,
          -0.014862239214975955,
          0.01709082045095035,
          0.006212671304500612,
          -0.011025355383470086,
          -0.06243152165695413,
          0.03089031831290776,
          0.008527541144483184,
          0.06745154314157663,
          0.0027193354033121504,
          -1.0408340855860843e-17,
          6.938893903907228e-18,
          0.005075414193164842,
          -0.006637597951923032
         ],
         "yaxis": "y2"
        },
        {
         "name": "AcceptedCmp2",
         "type": "bar",
         "x": [
          "Education",
          "Marital_Status",
          "Income",
          "Kidhome",
          "Teenhome",
          "Recency",
          "MntWines",
          "MntFruits",
          "MntMeatProducts",
          "MntFishProducts",
          "MntSweetProducts",
          "MntGoldProds",
          "NumDealsPurchases",
          "NumWebPurchases",
          "NumCatalogPurchases",
          "NumStorePurchases",
          "NumWebVisitsMonth",
          "Complain",
          "Z_CostContact",
          "Z_Revenue",
          "Age",
          "In_program"
         ],
         "xaxis": "x3",
         "y": [
          0.007394318279603571,
          -0.008854897945357341,
          -0.31365313752681206,
          0.14745883572024882,
          0.06117532694079305,
          0.002107901710899953,
          -0.008807094029390047,
          0.026291127230087537,
          0.004844707311833543,
          -0.009446648984872949,
          -0.005260192897091763,
          0.08311499000524053,
          -0.12746745397317624,
          0.04824546128997027,
          0.16592974913047254,
          -0.10684000672223086,
          -0.009395679029887628,
          -0.026431844105493024,
          2.0816681711721685e-17,
          -6.938893903907228e-18,
          -0.06280348995284808,
          -0.023877077400098052
         ],
         "yaxis": "y3"
        },
        {
         "name": "AcceptedCmp3",
         "type": "bar",
         "x": [
          "Education",
          "Marital_Status",
          "Income",
          "Kidhome",
          "Teenhome",
          "Recency",
          "MntWines",
          "MntFruits",
          "MntMeatProducts",
          "MntFishProducts",
          "MntSweetProducts",
          "MntGoldProds",
          "NumDealsPurchases",
          "NumWebPurchases",
          "NumCatalogPurchases",
          "NumStorePurchases",
          "NumWebVisitsMonth",
          "Complain",
          "Z_CostContact",
          "Z_Revenue",
          "Age",
          "In_program"
         ],
         "xaxis": "x4",
         "y": [
          -0.009728454963344447,
          0.0018725466946430264,
          0.23633281040550086,
          -0.1796332958580283,
          0.01823914688483175,
          0.010683773378283929,
          0.035370965623435065,
          -0.0181579390367297,
          -0.09129412105138955,
          -0.02388155581530862,
          -0.00212641771872791,
          -0.0806985092523107,
          0.11536170983766028,
          -0.08818053525093966,
          -0.12131648614851898,
          0.08473314220399115,
          0.08518109143276635,
          0.04571842729238912,
          -2.7755575615628914e-17,
          -1.734723475976807e-18,
          0.00039964062163467206,
          0.0011835015966484745
         ],
         "yaxis": "y4"
        },
        {
         "name": "AcceptedCmp4",
         "type": "bar",
         "x": [
          "Education",
          "Marital_Status",
          "Income",
          "Kidhome",
          "Teenhome",
          "Recency",
          "MntWines",
          "MntFruits",
          "MntMeatProducts",
          "MntFishProducts",
          "MntSweetProducts",
          "MntGoldProds",
          "NumDealsPurchases",
          "NumWebPurchases",
          "NumCatalogPurchases",
          "NumStorePurchases",
          "NumWebVisitsMonth",
          "Complain",
          "Z_CostContact",
          "Z_Revenue",
          "Age",
          "In_program"
         ],
         "xaxis": "x5",
         "y": [
          -0.016386840295144044,
          0.03277080984114275,
          0.2074670904030478,
          0.04448176018668455,
          -0.045558095594074324,
          0.007199797445616623,
          0.10597380183030639,
          -0.0032295818791175986,
          0.025085728891708937,
          -0.06145028893805938,
          0.030049706757289303,
          -0.0028384050247272368,
          -0.044042547786057096,
          -0.04037539683328324,
          0.01335371163058994,
          -0.07204164078050383,
          -0.0697763045974338,
          -0.005023977102500052,
          2.7755575615628914e-17,
          1.3877787807814457e-17,
          -0.01660372677254766,
          0.04073277556013686
         ],
         "yaxis": "y5"
        }
       ],
       "layout": {
        "template": {
         "data": {
          "bar": [
           {
            "error_x": {
             "color": "#2a3f5f"
            },
            "error_y": {
             "color": "#2a3f5f"
            },
            "marker": {
             "line": {
              "color": "#E5ECF6",
              "width": 0.5
             }
            },
            "type": "bar"
           }
          ],
          "barpolar": [
           {
            "marker": {
             "line": {
              "color": "#E5ECF6",
              "width": 0.5
             }
            },
            "type": "barpolar"
           }
          ],
          "carpet": [
           {
            "aaxis": {
             "endlinecolor": "#2a3f5f",
             "gridcolor": "white",
             "linecolor": "white",
             "minorgridcolor": "white",
             "startlinecolor": "#2a3f5f"
            },
            "baxis": {
             "endlinecolor": "#2a3f5f",
             "gridcolor": "white",
             "linecolor": "white",
             "minorgridcolor": "white",
             "startlinecolor": "#2a3f5f"
            },
            "type": "carpet"
           }
          ],
          "choropleth": [
           {
            "colorbar": {
             "outlinewidth": 0,
             "ticks": ""
            },
            "type": "choropleth"
           }
          ],
          "contour": [
           {
            "colorbar": {
             "outlinewidth": 0,
             "ticks": ""
            },
            "colorscale": [
             [
              0,
              "#0d0887"
             ],
             [
              0.1111111111111111,
              "#46039f"
             ],
             [
              0.2222222222222222,
              "#7201a8"
             ],
             [
              0.3333333333333333,
              "#9c179e"
             ],
             [
              0.4444444444444444,
              "#bd3786"
             ],
             [
              0.5555555555555556,
              "#d8576b"
             ],
             [
              0.6666666666666666,
              "#ed7953"
             ],
             [
              0.7777777777777778,
              "#fb9f3a"
             ],
             [
              0.8888888888888888,
              "#fdca26"
             ],
             [
              1,
              "#f0f921"
             ]
            ],
            "type": "contour"
           }
          ],
          "contourcarpet": [
           {
            "colorbar": {
             "outlinewidth": 0,
             "ticks": ""
            },
            "type": "contourcarpet"
           }
          ],
          "heatmap": [
           {
            "colorbar": {
             "outlinewidth": 0,
             "ticks": ""
            },
            "colorscale": [
             [
              0,
              "#0d0887"
             ],
             [
              0.1111111111111111,
              "#46039f"
             ],
             [
              0.2222222222222222,
              "#7201a8"
             ],
             [
              0.3333333333333333,
              "#9c179e"
             ],
             [
              0.4444444444444444,
              "#bd3786"
             ],
             [
              0.5555555555555556,
              "#d8576b"
             ],
             [
              0.6666666666666666,
              "#ed7953"
             ],
             [
              0.7777777777777778,
              "#fb9f3a"
             ],
             [
              0.8888888888888888,
              "#fdca26"
             ],
             [
              1,
              "#f0f921"
             ]
            ],
            "type": "heatmap"
           }
          ],
          "heatmapgl": [
           {
            "colorbar": {
             "outlinewidth": 0,
             "ticks": ""
            },
            "colorscale": [
             [
              0,
              "#0d0887"
             ],
             [
              0.1111111111111111,
              "#46039f"
             ],
             [
              0.2222222222222222,
              "#7201a8"
             ],
             [
              0.3333333333333333,
              "#9c179e"
             ],
             [
              0.4444444444444444,
              "#bd3786"
             ],
             [
              0.5555555555555556,
              "#d8576b"
             ],
             [
              0.6666666666666666,
              "#ed7953"
             ],
             [
              0.7777777777777778,
              "#fb9f3a"
             ],
             [
              0.8888888888888888,
              "#fdca26"
             ],
             [
              1,
              "#f0f921"
             ]
            ],
            "type": "heatmapgl"
           }
          ],
          "histogram": [
           {
            "marker": {
             "colorbar": {
              "outlinewidth": 0,
              "ticks": ""
             }
            },
            "type": "histogram"
           }
          ],
          "histogram2d": [
           {
            "colorbar": {
             "outlinewidth": 0,
             "ticks": ""
            },
            "colorscale": [
             [
              0,
              "#0d0887"
             ],
             [
              0.1111111111111111,
              "#46039f"
             ],
             [
              0.2222222222222222,
              "#7201a8"
             ],
             [
              0.3333333333333333,
              "#9c179e"
             ],
             [
              0.4444444444444444,
              "#bd3786"
             ],
             [
              0.5555555555555556,
              "#d8576b"
             ],
             [
              0.6666666666666666,
              "#ed7953"
             ],
             [
              0.7777777777777778,
              "#fb9f3a"
             ],
             [
              0.8888888888888888,
              "#fdca26"
             ],
             [
              1,
              "#f0f921"
             ]
            ],
            "type": "histogram2d"
           }
          ],
          "histogram2dcontour": [
           {
            "colorbar": {
             "outlinewidth": 0,
             "ticks": ""
            },
            "colorscale": [
             [
              0,
              "#0d0887"
             ],
             [
              0.1111111111111111,
              "#46039f"
             ],
             [
              0.2222222222222222,
              "#7201a8"
             ],
             [
              0.3333333333333333,
              "#9c179e"
             ],
             [
              0.4444444444444444,
              "#bd3786"
             ],
             [
              0.5555555555555556,
              "#d8576b"
             ],
             [
              0.6666666666666666,
              "#ed7953"
             ],
             [
              0.7777777777777778,
              "#fb9f3a"
             ],
             [
              0.8888888888888888,
              "#fdca26"
             ],
             [
              1,
              "#f0f921"
             ]
            ],
            "type": "histogram2dcontour"
           }
          ],
          "mesh3d": [
           {
            "colorbar": {
             "outlinewidth": 0,
             "ticks": ""
            },
            "type": "mesh3d"
           }
          ],
          "parcoords": [
           {
            "line": {
             "colorbar": {
              "outlinewidth": 0,
              "ticks": ""
             }
            },
            "type": "parcoords"
           }
          ],
          "pie": [
           {
            "automargin": true,
            "type": "pie"
           }
          ],
          "scatter": [
           {
            "marker": {
             "colorbar": {
              "outlinewidth": 0,
              "ticks": ""
             }
            },
            "type": "scatter"
           }
          ],
          "scatter3d": [
           {
            "line": {
             "colorbar": {
              "outlinewidth": 0,
              "ticks": ""
             }
            },
            "marker": {
             "colorbar": {
              "outlinewidth": 0,
              "ticks": ""
             }
            },
            "type": "scatter3d"
           }
          ],
          "scattercarpet": [
           {
            "marker": {
             "colorbar": {
              "outlinewidth": 0,
              "ticks": ""
             }
            },
            "type": "scattercarpet"
           }
          ],
          "scattergeo": [
           {
            "marker": {
             "colorbar": {
              "outlinewidth": 0,
              "ticks": ""
             }
            },
            "type": "scattergeo"
           }
          ],
          "scattergl": [
           {
            "marker": {
             "colorbar": {
              "outlinewidth": 0,
              "ticks": ""
             }
            },
            "type": "scattergl"
           }
          ],
          "scattermapbox": [
           {
            "marker": {
             "colorbar": {
              "outlinewidth": 0,
              "ticks": ""
             }
            },
            "type": "scattermapbox"
           }
          ],
          "scatterpolar": [
           {
            "marker": {
             "colorbar": {
              "outlinewidth": 0,
              "ticks": ""
             }
            },
            "type": "scatterpolar"
           }
          ],
          "scatterpolargl": [
           {
            "marker": {
             "colorbar": {
              "outlinewidth": 0,
              "ticks": ""
             }
            },
            "type": "scatterpolargl"
           }
          ],
          "scatterternary": [
           {
            "marker": {
             "colorbar": {
              "outlinewidth": 0,
              "ticks": ""
             }
            },
            "type": "scatterternary"
           }
          ],
          "surface": [
           {
            "colorbar": {
             "outlinewidth": 0,
             "ticks": ""
            },
            "colorscale": [
             [
              0,
              "#0d0887"
             ],
             [
              0.1111111111111111,
              "#46039f"
             ],
             [
              0.2222222222222222,
              "#7201a8"
             ],
             [
              0.3333333333333333,
              "#9c179e"
             ],
             [
              0.4444444444444444,
              "#bd3786"
             ],
             [
              0.5555555555555556,
              "#d8576b"
             ],
             [
              0.6666666666666666,
              "#ed7953"
             ],
             [
              0.7777777777777778,
              "#fb9f3a"
             ],
             [
              0.8888888888888888,
              "#fdca26"
             ],
             [
              1,
              "#f0f921"
             ]
            ],
            "type": "surface"
           }
          ],
          "table": [
           {
            "cells": {
             "fill": {
              "color": "#EBF0F8"
             },
             "line": {
              "color": "white"
             }
            },
            "header": {
             "fill": {
              "color": "#C8D4E3"
             },
             "line": {
              "color": "white"
             }
            },
            "type": "table"
           }
          ]
         },
         "layout": {
          "annotationdefaults": {
           "arrowcolor": "#2a3f5f",
           "arrowhead": 0,
           "arrowwidth": 1
          },
          "coloraxis": {
           "colorbar": {
            "outlinewidth": 0,
            "ticks": ""
           }
          },
          "colorscale": {
           "diverging": [
            [
             0,
             "#8e0152"
            ],
            [
             0.1,
             "#c51b7d"
            ],
            [
             0.2,
             "#de77ae"
            ],
            [
             0.3,
             "#f1b6da"
            ],
            [
             0.4,
             "#fde0ef"
            ],
            [
             0.5,
             "#f7f7f7"
            ],
            [
             0.6,
             "#e6f5d0"
            ],
            [
             0.7,
             "#b8e186"
            ],
            [
             0.8,
             "#7fbc41"
            ],
            [
             0.9,
             "#4d9221"
            ],
            [
             1,
             "#276419"
            ]
           ],
           "sequential": [
            [
             0,
             "#0d0887"
            ],
            [
             0.1111111111111111,
             "#46039f"
            ],
            [
             0.2222222222222222,
             "#7201a8"
            ],
            [
             0.3333333333333333,
             "#9c179e"
            ],
            [
             0.4444444444444444,
             "#bd3786"
            ],
            [
             0.5555555555555556,
             "#d8576b"
            ],
            [
             0.6666666666666666,
             "#ed7953"
            ],
            [
             0.7777777777777778,
             "#fb9f3a"
            ],
            [
             0.8888888888888888,
             "#fdca26"
            ],
            [
             1,
             "#f0f921"
            ]
           ],
           "sequentialminus": [
            [
             0,
             "#0d0887"
            ],
            [
             0.1111111111111111,
             "#46039f"
            ],
            [
             0.2222222222222222,
             "#7201a8"
            ],
            [
             0.3333333333333333,
             "#9c179e"
            ],
            [
             0.4444444444444444,
             "#bd3786"
            ],
            [
             0.5555555555555556,
             "#d8576b"
            ],
            [
             0.6666666666666666,
             "#ed7953"
            ],
            [
             0.7777777777777778,
             "#fb9f3a"
            ],
            [
             0.8888888888888888,
             "#fdca26"
            ],
            [
             1,
             "#f0f921"
            ]
           ]
          },
          "colorway": [
           "#636efa",
           "#EF553B",
           "#00cc96",
           "#ab63fa",
           "#FFA15A",
           "#19d3f3",
           "#FF6692",
           "#B6E880",
           "#FF97FF",
           "#FECB52"
          ],
          "font": {
           "color": "#2a3f5f"
          },
          "geo": {
           "bgcolor": "white",
           "lakecolor": "white",
           "landcolor": "#E5ECF6",
           "showlakes": true,
           "showland": true,
           "subunitcolor": "white"
          },
          "hoverlabel": {
           "align": "left"
          },
          "hovermode": "closest",
          "mapbox": {
           "style": "light"
          },
          "paper_bgcolor": "white",
          "plot_bgcolor": "#E5ECF6",
          "polar": {
           "angularaxis": {
            "gridcolor": "white",
            "linecolor": "white",
            "ticks": ""
           },
           "bgcolor": "#E5ECF6",
           "radialaxis": {
            "gridcolor": "white",
            "linecolor": "white",
            "ticks": ""
           }
          },
          "scene": {
           "xaxis": {
            "backgroundcolor": "#E5ECF6",
            "gridcolor": "white",
            "gridwidth": 2,
            "linecolor": "white",
            "showbackground": true,
            "ticks": "",
            "zerolinecolor": "white"
           },
           "yaxis": {
            "backgroundcolor": "#E5ECF6",
            "gridcolor": "white",
            "gridwidth": 2,
            "linecolor": "white",
            "showbackground": true,
            "ticks": "",
            "zerolinecolor": "white"
           },
           "zaxis": {
            "backgroundcolor": "#E5ECF6",
            "gridcolor": "white",
            "gridwidth": 2,
            "linecolor": "white",
            "showbackground": true,
            "ticks": "",
            "zerolinecolor": "white"
           }
          },
          "shapedefaults": {
           "line": {
            "color": "#2a3f5f"
           }
          },
          "ternary": {
           "aaxis": {
            "gridcolor": "white",
            "linecolor": "white",
            "ticks": ""
           },
           "baxis": {
            "gridcolor": "white",
            "linecolor": "white",
            "ticks": ""
           },
           "bgcolor": "#E5ECF6",
           "caxis": {
            "gridcolor": "white",
            "linecolor": "white",
            "ticks": ""
           }
          },
          "title": {
           "x": 0.05
          },
          "xaxis": {
           "automargin": true,
           "gridcolor": "white",
           "linecolor": "white",
           "ticks": "",
           "title": {
            "standoff": 15
           },
           "zerolinecolor": "white",
           "zerolinewidth": 2
          },
          "yaxis": {
           "automargin": true,
           "gridcolor": "white",
           "linecolor": "white",
           "ticks": "",
           "title": {
            "standoff": 15
           },
           "zerolinecolor": "white",
           "zerolinewidth": 2
          }
         }
        },
        "title": {
         "text": "Feature importances for LinearRegression"
        },
        "xaxis": {
         "anchor": "y",
         "domain": [
          0,
          0.2888888888888889
         ],
         "matches": "x4",
         "showticklabels": false
        },
        "xaxis2": {
         "anchor": "y2",
         "domain": [
          0.35555555555555557,
          0.6444444444444445
         ],
         "matches": "x5",
         "showticklabels": false
        },
        "xaxis3": {
         "anchor": "y3",
         "domain": [
          0.7111111111111111,
          1
         ]
        },
        "xaxis4": {
         "anchor": "y4",
         "domain": [
          0,
          0.2888888888888889
         ]
        },
        "xaxis5": {
         "anchor": "y5",
         "domain": [
          0.35555555555555557,
          0.6444444444444445
         ]
        },
        "yaxis": {
         "anchor": "x",
         "domain": [
          0.575,
          1
         ]
        },
        "yaxis2": {
         "anchor": "x2",
         "domain": [
          0.575,
          1
         ],
         "matches": "y",
         "showticklabels": false
        },
        "yaxis3": {
         "anchor": "x3",
         "domain": [
          0.575,
          1
         ],
         "matches": "y",
         "showticklabels": false
        },
        "yaxis4": {
         "anchor": "x4",
         "domain": [
          0,
          0.425
         ]
        },
        "yaxis5": {
         "anchor": "x5",
         "domain": [
          0,
          0.425
         ],
         "matches": "y4",
         "showticklabels": false
        }
       }
      }
     },
     "metadata": {}
    }
   ],
   "source": [
    "from plotly.subplots import make_subplots\n",
    "import plotly.graph_objects as go\n",
    "\n",
    "fig = make_subplots(rows=2, cols=3,specs=[[{\"type\": \"bar\"}, {\"type\": \"bar\"}, {\"type\": \"bar\"}],\n",
    "           [ {\"type\": \"bar\"},  {\"type\": \"bar\"}, None]], shared_xaxes=True,shared_yaxes=True)\n",
    "col =1\n",
    "row=1\n",
    "labels = list(X.columns)\n",
    "coef = lin_reg.coef_\n",
    "for i in range(coef.shape[0]):\n",
    "    if col==4:\n",
    "        row+=1\n",
    "        col=1\n",
    "    fig.add_trace(go.Bar(x=labels,y=coef[i], name=f\"AcceptedCmp{i}\"), row=row, col=col)\n",
    "    col+=1\n",
    "fig.update_layout(title='Feature importances for LinearRegression')\n",
    "fig.show()"
   ]
  },
  {
   "source": [
    "Мы построили график feature importances для линейной регрессии. На нём видно какой вклад вносила каждая фича для предсказания определённого числа в векторе. Для каждого числа коэффициента разные, но, как и в предыдущей модели, весомы вклад вносит колонка Incoms"
   ],
   "cell_type": "markdown",
   "metadata": {}
  },
  {
   "source": [
    "Точность модели составляет 72%, считаю, что это хороший результат. Так же значения вероятностей участия в других акциях из вектора предсказаний можно использовать для формирования индивидуального предложения для клиента комбинирую условия акций, которые имеют высокую вероятность."
   ],
   "cell_type": "markdown",
   "metadata": {}
  },
  {
   "source": [
    "# Подведейм итоги по обучению:\n",
    "1. Мне удалось обучить модель предсказнию участия в акции с оценкой равной 1.0. Это отличный резульатат. Возможно я где то ошибся, в данный момент я не вижу этой ошибки, если вы её увидите прошу насать мне.\n",
    "2. Задачу по предсказанию какое предложение примет клиент решил с помощью линейоной регрусси, точность составляет 72%. В случаи если этот результат или  метод решения клиента не устроит, прошу написать мне, будем что то менять.\n",
    "# Вывод\n",
    "В ходу работы на этим проектом удалось обучить модель предсказания. Осталось тольк протестить её в боевых условиях"
   ],
   "cell_type": "markdown",
   "metadata": {}
  }
 ]
}