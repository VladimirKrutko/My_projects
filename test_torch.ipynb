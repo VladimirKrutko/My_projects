{
  "nbformat": 4,
  "nbformat_minor": 0,
  "metadata": {
    "colab": {
      "name": "test_torch.ipynb",
      "provenance": [],
      "collapsed_sections": [],
      "mount_file_id": "1y6jkQ0DI10LnJAysk_ZsDeLolI4lAw9D",
      "authorship_tag": "ABX9TyN1Gcrr4ksve4pcIBqDmxhV",
      "include_colab_link": true
    },
    "kernelspec": {
      "name": "python3",
      "display_name": "Python 3"
    },
    "language_info": {
      "name": "python"
    },
    "accelerator": "GPU",
    "widgets": {
      "application/vnd.jupyter.widget-state+json": {
        "42952eb2061d4c7c81c5525ad64a7cf4": {
          "model_module": "@jupyter-widgets/controls",
          "model_name": "HBoxModel",
          "state": {
            "_view_name": "HBoxView",
            "_dom_classes": [],
            "_model_name": "HBoxModel",
            "_view_module": "@jupyter-widgets/controls",
            "_model_module_version": "1.5.0",
            "_view_count": null,
            "_view_module_version": "1.5.0",
            "box_style": "",
            "layout": "IPY_MODEL_4d258895d69045e2907138bce0ab2a56",
            "_model_module": "@jupyter-widgets/controls",
            "children": [
              "IPY_MODEL_528637d295df49fab98a6534b0851f2b",
              "IPY_MODEL_e46e3c53d90742e19c51fe7b4b6c11a5"
            ]
          }
        },
        "4d258895d69045e2907138bce0ab2a56": {
          "model_module": "@jupyter-widgets/base",
          "model_name": "LayoutModel",
          "state": {
            "_view_name": "LayoutView",
            "grid_template_rows": null,
            "right": null,
            "justify_content": null,
            "_view_module": "@jupyter-widgets/base",
            "overflow": null,
            "_model_module_version": "1.2.0",
            "_view_count": null,
            "flex_flow": null,
            "width": null,
            "min_width": null,
            "border": null,
            "align_items": null,
            "bottom": null,
            "_model_module": "@jupyter-widgets/base",
            "top": null,
            "grid_column": null,
            "overflow_y": null,
            "overflow_x": null,
            "grid_auto_flow": null,
            "grid_area": null,
            "grid_template_columns": null,
            "flex": null,
            "_model_name": "LayoutModel",
            "justify_items": null,
            "grid_row": null,
            "max_height": null,
            "align_content": null,
            "visibility": null,
            "align_self": null,
            "height": null,
            "min_height": null,
            "padding": null,
            "grid_auto_rows": null,
            "grid_gap": null,
            "max_width": null,
            "order": null,
            "_view_module_version": "1.2.0",
            "grid_template_areas": null,
            "object_position": null,
            "object_fit": null,
            "grid_auto_columns": null,
            "margin": null,
            "display": null,
            "left": null
          }
        },
        "528637d295df49fab98a6534b0851f2b": {
          "model_module": "@jupyter-widgets/controls",
          "model_name": "FloatProgressModel",
          "state": {
            "_view_name": "ProgressView",
            "style": "IPY_MODEL_8e56b3dafe1b4a13829fa47bdc3af6d6",
            "_dom_classes": [],
            "description": "100%",
            "_model_name": "FloatProgressModel",
            "bar_style": "success",
            "max": 300,
            "_view_module": "@jupyter-widgets/controls",
            "_model_module_version": "1.5.0",
            "value": 300,
            "_view_count": null,
            "_view_module_version": "1.5.0",
            "orientation": "horizontal",
            "min": 0,
            "description_tooltip": null,
            "_model_module": "@jupyter-widgets/controls",
            "layout": "IPY_MODEL_820f719f20744968947600734f8eba7b"
          }
        },
        "e46e3c53d90742e19c51fe7b4b6c11a5": {
          "model_module": "@jupyter-widgets/controls",
          "model_name": "HTMLModel",
          "state": {
            "_view_name": "HTMLView",
            "style": "IPY_MODEL_4681938f8f4e4902932dac57c9a4475b",
            "_dom_classes": [],
            "description": "",
            "_model_name": "HTMLModel",
            "placeholder": "​",
            "_view_module": "@jupyter-widgets/controls",
            "_model_module_version": "1.5.0",
            "value": " 300/300 [01:15&lt;00:00,  3.97it/s]",
            "_view_count": null,
            "_view_module_version": "1.5.0",
            "description_tooltip": null,
            "_model_module": "@jupyter-widgets/controls",
            "layout": "IPY_MODEL_7aefcdb016de4927953e193fb130c1f5"
          }
        },
        "8e56b3dafe1b4a13829fa47bdc3af6d6": {
          "model_module": "@jupyter-widgets/controls",
          "model_name": "ProgressStyleModel",
          "state": {
            "_view_name": "StyleView",
            "_model_name": "ProgressStyleModel",
            "description_width": "initial",
            "_view_module": "@jupyter-widgets/base",
            "_model_module_version": "1.5.0",
            "_view_count": null,
            "_view_module_version": "1.2.0",
            "bar_color": null,
            "_model_module": "@jupyter-widgets/controls"
          }
        },
        "820f719f20744968947600734f8eba7b": {
          "model_module": "@jupyter-widgets/base",
          "model_name": "LayoutModel",
          "state": {
            "_view_name": "LayoutView",
            "grid_template_rows": null,
            "right": null,
            "justify_content": null,
            "_view_module": "@jupyter-widgets/base",
            "overflow": null,
            "_model_module_version": "1.2.0",
            "_view_count": null,
            "flex_flow": null,
            "width": null,
            "min_width": null,
            "border": null,
            "align_items": null,
            "bottom": null,
            "_model_module": "@jupyter-widgets/base",
            "top": null,
            "grid_column": null,
            "overflow_y": null,
            "overflow_x": null,
            "grid_auto_flow": null,
            "grid_area": null,
            "grid_template_columns": null,
            "flex": null,
            "_model_name": "LayoutModel",
            "justify_items": null,
            "grid_row": null,
            "max_height": null,
            "align_content": null,
            "visibility": null,
            "align_self": null,
            "height": null,
            "min_height": null,
            "padding": null,
            "grid_auto_rows": null,
            "grid_gap": null,
            "max_width": null,
            "order": null,
            "_view_module_version": "1.2.0",
            "grid_template_areas": null,
            "object_position": null,
            "object_fit": null,
            "grid_auto_columns": null,
            "margin": null,
            "display": null,
            "left": null
          }
        },
        "4681938f8f4e4902932dac57c9a4475b": {
          "model_module": "@jupyter-widgets/controls",
          "model_name": "DescriptionStyleModel",
          "state": {
            "_view_name": "StyleView",
            "_model_name": "DescriptionStyleModel",
            "description_width": "",
            "_view_module": "@jupyter-widgets/base",
            "_model_module_version": "1.5.0",
            "_view_count": null,
            "_view_module_version": "1.2.0",
            "_model_module": "@jupyter-widgets/controls"
          }
        },
        "7aefcdb016de4927953e193fb130c1f5": {
          "model_module": "@jupyter-widgets/base",
          "model_name": "LayoutModel",
          "state": {
            "_view_name": "LayoutView",
            "grid_template_rows": null,
            "right": null,
            "justify_content": null,
            "_view_module": "@jupyter-widgets/base",
            "overflow": null,
            "_model_module_version": "1.2.0",
            "_view_count": null,
            "flex_flow": null,
            "width": null,
            "min_width": null,
            "border": null,
            "align_items": null,
            "bottom": null,
            "_model_module": "@jupyter-widgets/base",
            "top": null,
            "grid_column": null,
            "overflow_y": null,
            "overflow_x": null,
            "grid_auto_flow": null,
            "grid_area": null,
            "grid_template_columns": null,
            "flex": null,
            "_model_name": "LayoutModel",
            "justify_items": null,
            "grid_row": null,
            "max_height": null,
            "align_content": null,
            "visibility": null,
            "align_self": null,
            "height": null,
            "min_height": null,
            "padding": null,
            "grid_auto_rows": null,
            "grid_gap": null,
            "max_width": null,
            "order": null,
            "_view_module_version": "1.2.0",
            "grid_template_areas": null,
            "object_position": null,
            "object_fit": null,
            "grid_auto_columns": null,
            "margin": null,
            "display": null,
            "left": null
          }
        }
      }
    }
  },
  "cells": [
    {
      "cell_type": "markdown",
      "metadata": {
        "id": "view-in-github",
        "colab_type": "text"
      },
      "source": [
        "<a href=\"https://colab.research.google.com/github/VladimirKrutko/My_projects/blob/master/test_torch.ipynb\" target=\"_parent\"><img src=\"https://colab.research.google.com/assets/colab-badge.svg\" alt=\"Open In Colab\"/></a>"
      ]
    },
    {
      "cell_type": "code",
      "metadata": {
        "id": "DGQAoVutDWfg"
      },
      "source": [
        "import numpy as np \n",
        "import pandas as pd\n",
        "import torch\n",
        "import torch.optim as optim\n",
        "import torch.nn as nn\n",
        "import torch.nn.functional as F\n",
        "from torch.utils.data import DataLoader, Dataset, WeightedRandomSampler\n",
        "from sklearn.preprocessing import MinMaxScaler\n",
        "from sklearn.model_selection import train_test_split"
      ],
      "execution_count": 93,
      "outputs": []
    },
    {
      "cell_type": "code",
      "metadata": {
        "colab": {
          "base_uri": "https://localhost:8080/"
        },
        "id": "rnUDRsG5FirO",
        "outputId": "ffd5a5ec-d062-4005-b22a-d0e37aa374b3"
      },
      "source": [
        "print(torch.cuda.is_available())"
      ],
      "execution_count": 94,
      "outputs": [
        {
          "output_type": "stream",
          "text": [
            "True\n"
          ],
          "name": "stdout"
        }
      ]
    },
    {
      "cell_type": "markdown",
      "metadata": {
        "id": "bNfmxicoLMmW"
      },
      "source": [
        ""
      ]
    },
    {
      "cell_type": "code",
      "metadata": {
        "colab": {
          "base_uri": "https://localhost:8080/"
        },
        "id": "IPl6jnAOLMvo",
        "outputId": "e6b9527d-c1b1-45bc-afe2-afa4e666c022"
      },
      "source": [
        "device = torch.device(\"cuda\" if torch.cuda.is_available() else \"cpu\")\n",
        "print (device)"
      ],
      "execution_count": 95,
      "outputs": [
        {
          "output_type": "stream",
          "text": [
            "cuda\n"
          ],
          "name": "stdout"
        }
      ]
    },
    {
      "cell_type": "code",
      "metadata": {
        "colab": {
          "base_uri": "https://localhost:8080/"
        },
        "id": "w3INdjDYNSLu",
        "outputId": "ffbd183c-a584-4b65-bdfd-cb1f3e797561"
      },
      "source": [
        "softmax = nn.Softmax(dim=1)\n",
        "x_input = torch.rand(3,3)\n",
        "y_output = softmax (x_input)\n",
        "print(x_input)\n",
        "print(y_output)\n",
        "print(torch.sum(y_output, dim=1))"
      ],
      "execution_count": 96,
      "outputs": [
        {
          "output_type": "stream",
          "text": [
            "tensor([[0.4109, 0.0255, 0.2664],\n",
            "        [0.6642, 0.9862, 0.5744],\n",
            "        [0.6582, 0.0802, 0.2058]])\n",
            "tensor([[0.3928, 0.2672, 0.3400],\n",
            "        [0.3036, 0.4189, 0.2775],\n",
            "        [0.4552, 0.2553, 0.2895]])\n",
            "tensor([1., 1., 1.])\n"
          ],
          "name": "stdout"
        }
      ]
    },
    {
      "cell_type": "code",
      "metadata": {
        "colab": {
          "base_uri": "https://localhost:8080/"
        },
        "id": "FbhIgPr4PGIf",
        "outputId": "f9b5215d-36cf-4076-dc27-9f307f5080f4"
      },
      "source": [
        "mse = nn.MSELoss()\n",
        "input = torch.rand(3,5, requires_grad=True)\n",
        "output = torch.rand(3,5)\n",
        "mse(input, output)"
      ],
      "execution_count": 97,
      "outputs": [
        {
          "output_type": "execute_result",
          "data": {
            "text/plain": [
              "tensor(0.2195, grad_fn=<MseLossBackward>)"
            ]
          },
          "metadata": {
            "tags": []
          },
          "execution_count": 97
        }
      ]
    },
    {
      "cell_type": "code",
      "metadata": {
        "id": "X5Zn2ZR66hxb"
      },
      "source": [
        "data = pd.read_csv('/content/google.csv')"
      ],
      "execution_count": 98,
      "outputs": []
    },
    {
      "cell_type": "code",
      "metadata": {
        "id": "1kGVo08J6zsL"
      },
      "source": [
        "for_model = data.drop(columns=['Unnamed: 0', 'title'])"
      ],
      "execution_count": 99,
      "outputs": []
    },
    {
      "cell_type": "code",
      "metadata": {
        "id": "7Tm-ymdd7BHd"
      },
      "source": [
        "X_lin = for_model.drop(columns=['ratingValue', 'label']).values"
      ],
      "execution_count": 100,
      "outputs": []
    },
    {
      "cell_type": "code",
      "metadata": {
        "id": "dAIhI3n9733B"
      },
      "source": [
        "conv = {1:0,\n",
        "2:1,\n",
        "3:2,\n",
        "4:3}"
      ],
      "execution_count": 101,
      "outputs": []
    },
    {
      "cell_type": "markdown",
      "metadata": {
        "id": "1PscUmNH8DuG"
      },
      "source": [
        "1:0\n",
        "2:1\n",
        "3:2\n",
        "4:3"
      ]
    },
    {
      "cell_type": "code",
      "metadata": {
        "id": "ATYBvZEX8DA0"
      },
      "source": [
        "for_model.label = for_model.label.map(conv)"
      ],
      "execution_count": 102,
      "outputs": []
    },
    {
      "cell_type": "code",
      "metadata": {
        "colab": {
          "base_uri": "https://localhost:8080/"
        },
        "id": "Pb4ySD_z8SCf",
        "outputId": "d5b51c7d-9faf-4994-ace7-3dedffa05ecf"
      },
      "source": [
        "for_model.label.value_counts()"
      ],
      "execution_count": 103,
      "outputs": [
        {
          "output_type": "execute_result",
          "data": {
            "text/plain": [
              "0    700\n",
              "1    434\n",
              "2    136\n",
              "3     32\n",
              "Name: label, dtype: int64"
            ]
          },
          "metadata": {
            "tags": []
          },
          "execution_count": 103
        }
      ]
    },
    {
      "cell_type": "code",
      "metadata": {
        "id": "4NFsjlgC9Ywu"
      },
      "source": [
        "Y_num = for_model.label.values\n",
        "X_num = for_model.drop(columns=['label', 'ratingValue']).values"
      ],
      "execution_count": 104,
      "outputs": []
    },
    {
      "cell_type": "code",
      "metadata": {
        "id": "UQ8NWizKktmq"
      },
      "source": [
        "# from plotly.offline import iplot, init_notebook_mode\n",
        "# import plotly.graph_objs as graph\n",
        "import matplotlib.pyplot as plt\n",
        "# import plotly.express as px\n",
        "# offline.init_notebook_mode()"
      ],
      "execution_count": 105,
      "outputs": []
    },
    {
      "cell_type": "code",
      "metadata": {
        "colab": {
          "base_uri": "https://localhost:8080/",
          "height": 283
        },
        "id": "QQmkJnromVUW",
        "outputId": "58c4f794-4e66-43b9-8e60-8cfef875bea2"
      },
      "source": [
        "fig, ax = plt.subplots()\n",
        "ax.bar(list(map(str,list(for_model.label.value_counts().index))), \n",
        "       list(for_model.label.value_counts().values),)"
      ],
      "execution_count": 106,
      "outputs": [
        {
          "output_type": "execute_result",
          "data": {
            "text/plain": [
              "<BarContainer object of 4 artists>"
            ]
          },
          "metadata": {
            "tags": []
          },
          "execution_count": 106
        },
        {
          "output_type": "display_data",
          "data": {
            "image/png": "[encoded data removed]",
            "text/plain": [
              "<Figure size 432x288 with 1 Axes>"
            ]
          },
          "metadata": {
            "tags": [],
            "needs_background": "light"
          }
        }
      ]
    },
    {
      "cell_type": "code",
      "metadata": {
        "id": "S21X26hKhf1i"
      },
      "source": [
        "# Split into train+val and test\n",
        "X_trainval, X_test, y_trainval, y_test = train_test_split(X_num, Y_num, test_size=0.2, stratify=Y_num, random_state=69)\n",
        "\n",
        "# Split train into train-val\n",
        "X_train, X_val, y_train, y_val = train_test_split(X_trainval, y_trainval, test_size=0.1, stratify=y_trainval, random_state=21)\n"
      ],
      "execution_count": 107,
      "outputs": []
    },
    {
      "cell_type": "code",
      "metadata": {
        "id": "oin6oPasiAcs"
      },
      "source": [
        "scaler = MinMaxScaler()\n",
        "X_train = scaler.fit_transform(X_train)\n",
        "X_val = scaler.transform(X_val)\n",
        "X_test = scaler.transform(X_test)\n",
        "X_train, y_train = np.array(X_train), np.array(y_train)\n",
        "X_val, y_val = np.array(X_val), np.array(y_val)\n",
        "X_test, y_test = np.array(X_test), np.array(y_test)"
      ],
      "execution_count": 108,
      "outputs": []
    },
    {
      "cell_type": "code",
      "metadata": {
        "id": "Wnz-FOhYInNP"
      },
      "source": [
        "class Cafe_Data(Dataset):\n",
        "  def __init__(self, X, y):\n",
        "    \"\"\"\n",
        "    X - матрица признаков в формате torch.Tensor\n",
        "    y - список целевых меток класса\n",
        "    \"\"\"\n",
        "    self.X = X\n",
        "    self.y = y\n",
        "\n",
        "  def __getitem__(self, index):\n",
        "    imtems = {\n",
        "        \"X\": self.X[index],\n",
        "        \"y\": self.y[index]\n",
        "    }\n",
        "    return imtems\n",
        "  def __len__(self):\n",
        "    return self.X.shape[0]"
      ],
      "execution_count": 109,
      "outputs": []
    },
    {
      "cell_type": "code",
      "metadata": {
        "id": "ZFezFkxsidLw"
      },
      "source": [
        "train_dataset = Cafe_Data(torch.from_numpy(X_train).float(), torch.from_numpy(y_train).long())\n",
        "val_dataset = Cafe_Data(torch.from_numpy(X_val).float(), torch.from_numpy(y_val).long())\n",
        "test_dataset = Cafe_Data(torch.from_numpy(X_test).float(), torch.from_numpy(y_test).long())"
      ],
      "execution_count": 110,
      "outputs": []
    },
    {
      "cell_type": "code",
      "metadata": {
        "id": "lccWEFu-ptvj"
      },
      "source": [
        "def get_class_distribution(obj):\n",
        "    count_dict = {\n",
        "        \"rating_0\": 0,\n",
        "        \"rating_1\": 0,\n",
        "        \"rating_2\": 0,\n",
        "        \"rating_3\": 0,\n",
        "    }\n",
        "    \n",
        "    for i in obj:\n",
        "        if i == 0: \n",
        "            count_dict['rating_0'] += 1\n",
        "        elif i == 1: \n",
        "            count_dict['rating_1'] += 1\n",
        "        elif i == 2: \n",
        "            count_dict['rating_2'] += 1\n",
        "        elif i == 3: \n",
        "            count_dict['rating_3'] += 1\n",
        "            \n",
        "    return count_dict"
      ],
      "execution_count": 111,
      "outputs": []
    },
    {
      "cell_type": "code",
      "metadata": {
        "id": "bbMzCPqMij1p"
      },
      "source": [
        "target_list = []\n",
        "for i in range(len(train_dataset)):\n",
        "    target_list.append(train_dataset[i]['y'])\n",
        "# print(target_list)\n",
        "target_list = torch.tensor(target_list)\n",
        "target_list = target_list[torch.randperm(len(target_list))]\n",
        "\n",
        "class_count = [i for i in get_class_distribution(y_train).values()]\n",
        "class_weights = 1./torch.tensor(class_count, dtype=torch.float)\n",
        "\n",
        "class_weights_all = class_weights[target_list]\n",
        "\n",
        "weighted_sampler = WeightedRandomSampler(\n",
        "    weights=class_weights_all,\n",
        "    num_samples=len(class_weights_all),\n",
        "    replacement=True\n",
        ")"
      ],
      "execution_count": 112,
      "outputs": []
    },
    {
      "cell_type": "code",
      "metadata": {
        "id": "bgFaHH4jqs-z"
      },
      "source": [
        "EPOCHS = 300\n",
        "BATCH_SIZE = 16\n",
        "LEARNING_RATE = 0.0007\n",
        "NUM_FEATURES = len(X_num[0])\n",
        "NUM_CLASSES = 4"
      ],
      "execution_count": 113,
      "outputs": []
    },
    {
      "cell_type": "code",
      "metadata": {
        "id": "m4viuQ9eq5lc"
      },
      "source": [
        "train_loader = DataLoader(dataset=train_dataset,\n",
        "                          batch_size=BATCH_SIZE,\n",
        "                          sampler=weighted_sampler\n",
        ")\n",
        "val_loader = DataLoader(dataset=val_dataset, batch_size=1)\n",
        "test_loader = DataLoader(dataset=test_dataset, batch_size=1)"
      ],
      "execution_count": 114,
      "outputs": []
    },
    {
      "cell_type": "code",
      "metadata": {
        "id": "-nX7KzDRrHA-"
      },
      "source": [
        "class MulticlassClassification(nn.Module):\n",
        "    def __init__(self, num_feature, num_class):\n",
        "        super(MulticlassClassification, self).__init__()\n",
        "        \n",
        "        self.layer_1 = nn.Linear(num_feature, 512)\n",
        "        self.layer_2 = nn.Linear(512, 128)\n",
        "        self.layer_3 = nn.Linear(128, 64)\n",
        "        self.layer_out = nn.Linear(64, num_class) \n",
        "        \n",
        "        self.relu = nn.ReLU()\n",
        "        self.dropout = nn.Dropout(p=0.2)\n",
        "        self.batchnorm1 = nn.BatchNorm1d(512)\n",
        "        self.batchnorm2 = nn.BatchNorm1d(128)\n",
        "        self.batchnorm3 = nn.BatchNorm1d(64)\n",
        "        \n",
        "    def forward(self, x):\n",
        "        x = self.layer_1(x)\n",
        "        x = self.batchnorm1(x)\n",
        "        x = self.relu(x)\n",
        "        \n",
        "        x = self.layer_2(x)\n",
        "        x = self.batchnorm2(x)\n",
        "        x = self.relu(x)\n",
        "        x = self.dropout(x)\n",
        "        \n",
        "        x = self.layer_3(x)\n",
        "        x = self.batchnorm3(x)\n",
        "        x = self.relu(x)\n",
        "        x = self.dropout(x)\n",
        "        \n",
        "        x = self.layer_out(x)\n",
        "        \n",
        "        return x"
      ],
      "execution_count": 115,
      "outputs": []
    },
    {
      "cell_type": "code",
      "metadata": {
        "id": "SG8S3zecrciz"
      },
      "source": [
        "model = MulticlassClassification(num_feature = NUM_FEATURES, num_class=NUM_CLASSES)\n",
        "model.to('cuda')\n",
        "\n",
        "criterion = nn.CrossEntropyLoss(weight=class_weights.to('cuda'))\n",
        "optimizer = optim.Adam(model.parameters(), lr=LEARNING_RATE)"
      ],
      "execution_count": 116,
      "outputs": []
    },
    {
      "cell_type": "code",
      "metadata": {
        "id": "RRIHh5rHruFz"
      },
      "source": [
        "def multi_acc(y_pred, y_test):\n",
        "    y_pred_softmax = torch.log_softmax(y_pred, dim = 1)\n",
        "    _, y_pred_tags = torch.max(y_pred_softmax, dim = 1)    \n",
        "    \n",
        "    correct_pred = (y_pred_tags == y_test).float()\n",
        "    acc = correct_pred.sum() / len(correct_pred)\n",
        "    \n",
        "    acc = torch.round(acc) * 100\n",
        "    \n",
        "    return acc"
      ],
      "execution_count": 117,
      "outputs": []
    },
    {
      "cell_type": "code",
      "metadata": {
        "id": "Zh_7oToK52MT"
      },
      "source": [
        "accuracy_stats = {\n",
        "    'train': [],\n",
        "    \"val\": []\n",
        "}\n",
        "loss_stats = {\n",
        "    'train': [],\n",
        "    \"val\": []\n",
        "}\n"
      ],
      "execution_count": 118,
      "outputs": []
    },
    {
      "cell_type": "code",
      "metadata": {
        "id": "GH8sxMRj9b-9"
      },
      "source": [
        "from tqdm.notebook import tqdm"
      ],
      "execution_count": 119,
      "outputs": []
    },
    {
      "cell_type": "code",
      "metadata": {
        "colab": {
          "base_uri": "https://localhost:8080/",
          "height": 1000,
          "referenced_widgets": [
            "42952eb2061d4c7c81c5525ad64a7cf4",
            "4d258895d69045e2907138bce0ab2a56",
            "528637d295df49fab98a6534b0851f2b",
            "e46e3c53d90742e19c51fe7b4b6c11a5",
            "8e56b3dafe1b4a13829fa47bdc3af6d6",
            "820f719f20744968947600734f8eba7b",
            "4681938f8f4e4902932dac57c9a4475b",
            "7aefcdb016de4927953e193fb130c1f5"
          ]
        },
        "id": "_JMrxweI53kw",
        "outputId": "e7fd2d64-0023-4c4e-8dc0-3a82094ff2c6"
      },
      "source": [
        "for e in tqdm(range(1,EPOCHS+1)):\n",
        "  #Trainig \n",
        "  train_epoch_loss = 0 \n",
        "  train_epoch_acc = 0 \n",
        "  model.train()\n",
        "  for data in train_loader:\n",
        "    # GEt data\n",
        "    X_train_batch, y_train_batch = data['X'].to(\"cuda\"), data['y'].to('cuda')\n",
        "    # Zero optimizer\n",
        "    optimizer.zero_grad()\n",
        "    # Make predict\n",
        "    y_train_pred = model(X_train_batch)\n",
        "    # Calculate loss\n",
        "    train_loss = criterion(y_train_pred, y_train_batch)\n",
        "    train_acc = multi_acc(y_train_pred, y_train_batch)\n",
        "\n",
        "    # Use loss value\n",
        "    train_loss.backward()\n",
        "    optimizer.step()\n",
        "\n",
        "    train_epoch_loss +=train_loss.item()\n",
        "    train_epoch_acc += train_acc.item()\n",
        "\n",
        "  # Validation data\n",
        "  with torch.no_grad():\n",
        "\n",
        "    val_epoch_loss =0 \n",
        "    val_epoch_acc = 0\n",
        "\n",
        "    model.eval()\n",
        "    for val_data in val_loader:\n",
        "      X_val_batch, y_val_batch = data['X'].to('cuda'), data['y'].to('cuda')\n",
        "      y_val_pred = model(X_val_batch)\n",
        "\n",
        "      val_loss = criterion(y_val_pred, y_val_batch)\n",
        "      val_acc = multi_acc(y_val_pred, y_val_batch)\n",
        "\n",
        "      val_epoch_loss += val_loss.item()\n",
        "      val_epoch_acc += val_acc.item()\n",
        "  \n",
        "  loss_stats['train'].append(train_epoch_loss/len(train_loader))\n",
        "  loss_stats['val'].append(val_epoch_loss/len(val_loader))\n",
        "  accuracy_stats['train'].append(train_epoch_acc/len(train_loader))\n",
        "  accuracy_stats['val'].append(val_epoch_acc/len(val_loader))\n",
        "  print(f'Epoch {e+0:03}: | Train Loss: {train_epoch_loss/len(train_loader):.5f} | Val Loss: {val_epoch_loss/len(val_loader):.5f} | Train Acc: {train_epoch_acc/len(train_loader):.3f}| Val Acc: {val_epoch_acc/len(val_loader):.3f}')\n",
        "\n",
        "    \n",
        "\n",
        " "
      ],
      "execution_count": 120,
      "outputs": [
        {
          "output_type": "display_data",
          "data": {
            "application/vnd.jupyter.widget-view+json": {
              "model_id": "42952eb2061d4c7c81c5525ad64a7cf4",
              "version_minor": 0,
              "version_major": 2
            },
            "text/plain": [
              "HBox(children=(FloatProgress(value=0.0, max=300.0), HTML(value='')))"
            ]
          },
          "metadata": {
            "tags": []
          }
        },
        {
          "output_type": "stream",
          "text": [
            "Epoch 001: | Train Loss: 1.33429 | Val Loss: 1.22546 | Train Acc: 10.169| Val Acc: 0.000\n",
            "Epoch 002: | Train Loss: 1.08250 | Val Loss: 0.77091 | Train Acc: 50.847| Val Acc: 100.000\n",
            "Epoch 003: | Train Loss: 0.95436 | Val Loss: 1.63816 | Train Acc: 77.966| Val Acc: 100.000\n",
            "Epoch 004: | Train Loss: 0.93956 | Val Loss: 0.43747 | Train Acc: 77.966| Val Acc: 0.000\n",
            "Epoch 005: | Train Loss: 0.89449 | Val Loss: 0.51543 | Train Acc: 84.746| Val Acc: 100.000\n",
            "Epoch 006: | Train Loss: 0.80142 | Val Loss: 0.77425 | Train Acc: 88.136| Val Acc: 100.000\n",
            "Epoch 007: | Train Loss: 0.79906 | Val Loss: 0.87784 | Train Acc: 86.441| Val Acc: 100.000\n",
            "Epoch 008: | Train Loss: 0.80997 | Val Loss: 0.64275 | Train Acc: 88.136| Val Acc: 100.000\n",
            "Epoch 009: | Train Loss: 0.71558 | Val Loss: 0.56787 | Train Acc: 89.831| Val Acc: 100.000\n",
            "Epoch 010: | Train Loss: 0.75094 | Val Loss: 0.69768 | Train Acc: 94.915| Val Acc: 100.000\n",
            "Epoch 011: | Train Loss: 0.68046 | Val Loss: 0.36872 | Train Acc: 91.525| Val Acc: 100.000\n",
            "Epoch 012: | Train Loss: 0.69622 | Val Loss: 0.39161 | Train Acc: 93.220| Val Acc: 100.000\n",
            "Epoch 013: | Train Loss: 0.76615 | Val Loss: 0.11973 | Train Acc: 84.746| Val Acc: 100.000\n",
            "Epoch 014: | Train Loss: 0.67892 | Val Loss: 0.20543 | Train Acc: 96.610| Val Acc: 100.000\n",
            "Epoch 015: | Train Loss: 0.67412 | Val Loss: 0.25464 | Train Acc: 98.305| Val Acc: 100.000\n",
            "Epoch 016: | Train Loss: 0.61040 | Val Loss: 0.56139 | Train Acc: 96.610| Val Acc: 100.000\n",
            "Epoch 017: | Train Loss: 0.69410 | Val Loss: 0.63362 | Train Acc: 98.305| Val Acc: 100.000\n",
            "Epoch 018: | Train Loss: 0.65178 | Val Loss: 0.22020 | Train Acc: 93.220| Val Acc: 100.000\n",
            "Epoch 019: | Train Loss: 0.59195 | Val Loss: 0.47996 | Train Acc: 98.305| Val Acc: 100.000\n",
            "Epoch 020: | Train Loss: 0.59362 | Val Loss: 0.94371 | Train Acc: 94.915| Val Acc: 100.000\n",
            "Epoch 021: | Train Loss: 0.58921 | Val Loss: 0.31914 | Train Acc: 100.000| Val Acc: 100.000\n",
            "Epoch 022: | Train Loss: 0.61866 | Val Loss: 0.32307 | Train Acc: 96.610| Val Acc: 100.000\n",
            "Epoch 023: | Train Loss: 0.58102 | Val Loss: 0.66772 | Train Acc: 94.915| Val Acc: 100.000\n",
            "Epoch 024: | Train Loss: 0.60362 | Val Loss: 0.11519 | Train Acc: 96.610| Val Acc: 100.000\n",
            "Epoch 025: | Train Loss: 0.59361 | Val Loss: 0.59138 | Train Acc: 94.915| Val Acc: 100.000\n",
            "Epoch 026: | Train Loss: 0.57045 | Val Loss: 1.48544 | Train Acc: 98.305| Val Acc: 100.000\n",
            "Epoch 027: | Train Loss: 0.59526 | Val Loss: 0.45581 | Train Acc: 98.305| Val Acc: 100.000\n",
            "Epoch 028: | Train Loss: 0.58960 | Val Loss: 0.18403 | Train Acc: 98.305| Val Acc: 100.000\n",
            "Epoch 029: | Train Loss: 0.57699 | Val Loss: 0.21465 | Train Acc: 98.305| Val Acc: 100.000\n",
            "Epoch 030: | Train Loss: 0.58834 | Val Loss: 0.44881 | Train Acc: 94.915| Val Acc: 100.000\n",
            "Epoch 031: | Train Loss: 0.63042 | Val Loss: 0.53151 | Train Acc: 94.915| Val Acc: 100.000\n",
            "Epoch 032: | Train Loss: 0.54351 | Val Loss: 1.16823 | Train Acc: 96.610| Val Acc: 100.000\n",
            "Epoch 033: | Train Loss: 0.51893 | Val Loss: 0.29888 | Train Acc: 100.000| Val Acc: 100.000\n",
            "Epoch 034: | Train Loss: 0.50966 | Val Loss: 0.97247 | Train Acc: 94.915| Val Acc: 100.000\n",
            "Epoch 035: | Train Loss: 0.48049 | Val Loss: 0.14249 | Train Acc: 98.305| Val Acc: 100.000\n",
            "Epoch 036: | Train Loss: 0.47274 | Val Loss: 0.63149 | Train Acc: 96.610| Val Acc: 100.000\n",
            "Epoch 037: | Train Loss: 0.54162 | Val Loss: 0.18920 | Train Acc: 98.305| Val Acc: 100.000\n",
            "Epoch 038: | Train Loss: 0.52851 | Val Loss: 0.34241 | Train Acc: 98.305| Val Acc: 100.000\n",
            "Epoch 039: | Train Loss: 0.55227 | Val Loss: 0.41575 | Train Acc: 96.610| Val Acc: 100.000\n",
            "Epoch 040: | Train Loss: 0.48295 | Val Loss: 0.14990 | Train Acc: 98.305| Val Acc: 100.000\n",
            "Epoch 041: | Train Loss: 0.43939 | Val Loss: 0.58668 | Train Acc: 96.610| Val Acc: 100.000\n",
            "Epoch 042: | Train Loss: 0.49798 | Val Loss: 0.17293 | Train Acc: 96.610| Val Acc: 100.000\n",
            "Epoch 043: | Train Loss: 0.44044 | Val Loss: 0.05583 | Train Acc: 100.000| Val Acc: 100.000\n",
            "Epoch 044: | Train Loss: 0.47139 | Val Loss: 0.75102 | Train Acc: 100.000| Val Acc: 100.000\n",
            "Epoch 045: | Train Loss: 0.44319 | Val Loss: 0.55803 | Train Acc: 98.305| Val Acc: 100.000\n",
            "Epoch 046: | Train Loss: 0.45253 | Val Loss: 0.34201 | Train Acc: 100.000| Val Acc: 100.000\n",
            "Epoch 047: | Train Loss: 0.41493 | Val Loss: 0.21365 | Train Acc: 98.305| Val Acc: 100.000\n",
            "Epoch 048: | Train Loss: 0.47424 | Val Loss: 0.06755 | Train Acc: 96.610| Val Acc: 100.000\n",
            "Epoch 049: | Train Loss: 0.44928 | Val Loss: 0.55814 | Train Acc: 96.610| Val Acc: 100.000\n",
            "Epoch 050: | Train Loss: 0.50746 | Val Loss: 0.09780 | Train Acc: 100.000| Val Acc: 100.000\n",
            "Epoch 051: | Train Loss: 0.44070 | Val Loss: 0.18490 | Train Acc: 100.000| Val Acc: 100.000\n",
            "Epoch 052: | Train Loss: 0.42077 | Val Loss: 0.22746 | Train Acc: 100.000| Val Acc: 100.000\n",
            "Epoch 053: | Train Loss: 0.41613 | Val Loss: 0.29883 | Train Acc: 100.000| Val Acc: 100.000\n",
            "Epoch 054: | Train Loss: 0.39651 | Val Loss: 0.22842 | Train Acc: 100.000| Val Acc: 100.000\n",
            "Epoch 055: | Train Loss: 0.41650 | Val Loss: 0.57384 | Train Acc: 100.000| Val Acc: 100.000\n",
            "Epoch 056: | Train Loss: 0.46963 | Val Loss: 0.71342 | Train Acc: 98.305| Val Acc: 100.000\n",
            "Epoch 057: | Train Loss: 0.43086 | Val Loss: 0.04527 | Train Acc: 100.000| Val Acc: 100.000\n",
            "Epoch 058: | Train Loss: 0.46298 | Val Loss: 0.69642 | Train Acc: 98.305| Val Acc: 100.000\n",
            "Epoch 059: | Train Loss: 0.46858 | Val Loss: 0.20624 | Train Acc: 98.305| Val Acc: 100.000\n",
            "Epoch 060: | Train Loss: 0.45498 | Val Loss: 0.23234 | Train Acc: 100.000| Val Acc: 100.000\n",
            "Epoch 061: | Train Loss: 0.46355 | Val Loss: 0.15853 | Train Acc: 100.000| Val Acc: 100.000\n",
            "Epoch 062: | Train Loss: 0.38340 | Val Loss: 0.19419 | Train Acc: 100.000| Val Acc: 100.000\n",
            "Epoch 063: | Train Loss: 0.40854 | Val Loss: 0.04260 | Train Acc: 100.000| Val Acc: 100.000\n",
            "Epoch 064: | Train Loss: 0.39355 | Val Loss: 0.40807 | Train Acc: 98.305| Val Acc: 100.000\n",
            "Epoch 065: | Train Loss: 0.43186 | Val Loss: 0.22463 | Train Acc: 96.610| Val Acc: 100.000\n",
            "Epoch 066: | Train Loss: 0.36651 | Val Loss: 0.43380 | Train Acc: 98.305| Val Acc: 100.000\n",
            "Epoch 067: | Train Loss: 0.40138 | Val Loss: 0.22686 | Train Acc: 100.000| Val Acc: 100.000\n",
            "Epoch 068: | Train Loss: 0.36607 | Val Loss: 0.25813 | Train Acc: 100.000| Val Acc: 100.000\n",
            "Epoch 069: | Train Loss: 0.36311 | Val Loss: 0.09760 | Train Acc: 100.000| Val Acc: 100.000\n",
            "Epoch 070: | Train Loss: 0.40924 | Val Loss: 0.59267 | Train Acc: 100.000| Val Acc: 100.000\n",
            "Epoch 071: | Train Loss: 0.43898 | Val Loss: 0.71857 | Train Acc: 98.305| Val Acc: 100.000\n",
            "Epoch 072: | Train Loss: 0.35521 | Val Loss: 0.21631 | Train Acc: 100.000| Val Acc: 100.000\n",
            "Epoch 073: | Train Loss: 0.41213 | Val Loss: 0.67836 | Train Acc: 100.000| Val Acc: 100.000\n",
            "Epoch 074: | Train Loss: 0.33494 | Val Loss: 0.34601 | Train Acc: 100.000| Val Acc: 100.000\n",
            "Epoch 075: | Train Loss: 0.39450 | Val Loss: 0.42245 | Train Acc: 100.000| Val Acc: 100.000\n",
            "Epoch 076: | Train Loss: 0.37962 | Val Loss: 0.38910 | Train Acc: 100.000| Val Acc: 100.000\n",
            "Epoch 077: | Train Loss: 0.45447 | Val Loss: 0.20854 | Train Acc: 100.000| Val Acc: 100.000\n",
            "Epoch 078: | Train Loss: 0.37216 | Val Loss: 0.74119 | Train Acc: 98.305| Val Acc: 100.000\n",
            "Epoch 079: | Train Loss: 0.37453 | Val Loss: 0.05092 | Train Acc: 100.000| Val Acc: 100.000\n",
            "Epoch 080: | Train Loss: 0.37367 | Val Loss: 0.51600 | Train Acc: 100.000| Val Acc: 100.000\n",
            "Epoch 081: | Train Loss: 0.37302 | Val Loss: 0.03914 | Train Acc: 100.000| Val Acc: 100.000\n",
            "Epoch 082: | Train Loss: 0.38090 | Val Loss: 0.24483 | Train Acc: 100.000| Val Acc: 100.000\n",
            "Epoch 083: | Train Loss: 0.30913 | Val Loss: 0.15513 | Train Acc: 100.000| Val Acc: 100.000\n",
            "Epoch 084: | Train Loss: 0.34855 | Val Loss: 0.04459 | Train Acc: 98.305| Val Acc: 100.000\n",
            "Epoch 085: | Train Loss: 0.40346 | Val Loss: 0.25039 | Train Acc: 100.000| Val Acc: 100.000\n",
            "Epoch 086: | Train Loss: 0.30221 | Val Loss: 0.09963 | Train Acc: 98.305| Val Acc: 100.000\n",
            "Epoch 087: | Train Loss: 0.29251 | Val Loss: 0.19052 | Train Acc: 100.000| Val Acc: 100.000\n",
            "Epoch 088: | Train Loss: 0.30428 | Val Loss: 0.25125 | Train Acc: 100.000| Val Acc: 100.000\n",
            "Epoch 089: | Train Loss: 0.38155 | Val Loss: 0.03907 | Train Acc: 100.000| Val Acc: 100.000\n",
            "Epoch 090: | Train Loss: 0.31161 | Val Loss: 0.01197 | Train Acc: 100.000| Val Acc: 100.000\n",
            "Epoch 091: | Train Loss: 0.35152 | Val Loss: 0.11182 | Train Acc: 98.305| Val Acc: 100.000\n",
            "Epoch 092: | Train Loss: 0.35859 | Val Loss: 0.21646 | Train Acc: 100.000| Val Acc: 100.000\n",
            "Epoch 093: | Train Loss: 0.31345 | Val Loss: 0.50120 | Train Acc: 100.000| Val Acc: 100.000\n",
            "Epoch 094: | Train Loss: 0.43240 | Val Loss: 0.27778 | Train Acc: 100.000| Val Acc: 100.000\n",
            "Epoch 095: | Train Loss: 0.30595 | Val Loss: 0.22644 | Train Acc: 98.305| Val Acc: 100.000\n",
            "Epoch 096: | Train Loss: 0.33881 | Val Loss: 0.16556 | Train Acc: 100.000| Val Acc: 100.000\n",
            "Epoch 097: | Train Loss: 0.30967 | Val Loss: 0.31809 | Train Acc: 100.000| Val Acc: 100.000\n",
            "Epoch 098: | Train Loss: 0.33075 | Val Loss: 0.55707 | Train Acc: 100.000| Val Acc: 100.000\n",
            "Epoch 099: | Train Loss: 0.36127 | Val Loss: 0.07632 | Train Acc: 100.000| Val Acc: 100.000\n",
            "Epoch 100: | Train Loss: 0.37145 | Val Loss: 0.53758 | Train Acc: 98.305| Val Acc: 100.000\n",
            "Epoch 101: | Train Loss: 0.34518 | Val Loss: 0.06439 | Train Acc: 100.000| Val Acc: 100.000\n",
            "Epoch 102: | Train Loss: 0.34190 | Val Loss: 0.28303 | Train Acc: 100.000| Val Acc: 100.000\n",
            "Epoch 103: | Train Loss: 0.32498 | Val Loss: 0.78943 | Train Acc: 100.000| Val Acc: 100.000\n",
            "Epoch 104: | Train Loss: 0.34160 | Val Loss: 0.30708 | Train Acc: 100.000| Val Acc: 100.000\n",
            "Epoch 105: | Train Loss: 0.38325 | Val Loss: 0.10228 | Train Acc: 100.000| Val Acc: 100.000\n",
            "Epoch 106: | Train Loss: 0.30081 | Val Loss: 0.33638 | Train Acc: 100.000| Val Acc: 100.000\n",
            "Epoch 107: | Train Loss: 0.31607 | Val Loss: 0.25676 | Train Acc: 100.000| Val Acc: 100.000\n",
            "Epoch 108: | Train Loss: 0.30948 | Val Loss: 0.19625 | Train Acc: 100.000| Val Acc: 100.000\n",
            "Epoch 109: | Train Loss: 0.33123 | Val Loss: 0.24019 | Train Acc: 100.000| Val Acc: 100.000\n",
            "Epoch 110: | Train Loss: 0.31205 | Val Loss: 0.04101 | Train Acc: 100.000| Val Acc: 100.000\n",
            "Epoch 111: | Train Loss: 0.34502 | Val Loss: 0.07741 | Train Acc: 100.000| Val Acc: 100.000\n",
            "Epoch 112: | Train Loss: 0.33495 | Val Loss: 0.21654 | Train Acc: 100.000| Val Acc: 100.000\n",
            "Epoch 113: | Train Loss: 0.24941 | Val Loss: 0.05146 | Train Acc: 100.000| Val Acc: 100.000\n",
            "Epoch 114: | Train Loss: 0.30863 | Val Loss: 0.04265 | Train Acc: 100.000| Val Acc: 100.000\n",
            "Epoch 115: | Train Loss: 0.32310 | Val Loss: 0.08421 | Train Acc: 100.000| Val Acc: 100.000\n",
            "Epoch 116: | Train Loss: 0.34164 | Val Loss: 0.21916 | Train Acc: 100.000| Val Acc: 100.000\n",
            "Epoch 117: | Train Loss: 0.30401 | Val Loss: 0.18176 | Train Acc: 100.000| Val Acc: 100.000\n",
            "Epoch 118: | Train Loss: 0.29974 | Val Loss: 0.49698 | Train Acc: 100.000| Val Acc: 100.000\n",
            "Epoch 119: | Train Loss: 0.42535 | Val Loss: 0.26816 | Train Acc: 98.305| Val Acc: 100.000\n",
            "Epoch 120: | Train Loss: 0.35523 | Val Loss: 0.25463 | Train Acc: 100.000| Val Acc: 100.000\n",
            "Epoch 121: | Train Loss: 0.31054 | Val Loss: 0.24505 | Train Acc: 98.305| Val Acc: 100.000\n",
            "Epoch 122: | Train Loss: 0.36668 | Val Loss: 0.13328 | Train Acc: 98.305| Val Acc: 100.000\n",
            "Epoch 123: | Train Loss: 0.33270 | Val Loss: 0.14930 | Train Acc: 100.000| Val Acc: 100.000\n",
            "Epoch 124: | Train Loss: 0.34903 | Val Loss: 0.19358 | Train Acc: 100.000| Val Acc: 100.000\n",
            "Epoch 125: | Train Loss: 0.26618 | Val Loss: 0.09370 | Train Acc: 100.000| Val Acc: 100.000\n",
            "Epoch 126: | Train Loss: 0.29948 | Val Loss: 0.12668 | Train Acc: 100.000| Val Acc: 100.000\n",
            "Epoch 127: | Train Loss: 0.33807 | Val Loss: 0.09461 | Train Acc: 98.305| Val Acc: 100.000\n",
            "Epoch 128: | Train Loss: 0.28097 | Val Loss: 0.18623 | Train Acc: 100.000| Val Acc: 100.000\n",
            "Epoch 129: | Train Loss: 0.30092 | Val Loss: 0.02523 | Train Acc: 100.000| Val Acc: 100.000\n",
            "Epoch 130: | Train Loss: 0.28707 | Val Loss: 0.08757 | Train Acc: 100.000| Val Acc: 100.000\n",
            "Epoch 131: | Train Loss: 0.33361 | Val Loss: 0.12315 | Train Acc: 100.000| Val Acc: 100.000\n",
            "Epoch 132: | Train Loss: 0.29570 | Val Loss: 0.15177 | Train Acc: 100.000| Val Acc: 100.000\n",
            "Epoch 133: | Train Loss: 0.28426 | Val Loss: 0.16973 | Train Acc: 100.000| Val Acc: 100.000\n",
            "Epoch 134: | Train Loss: 0.30456 | Val Loss: 0.01406 | Train Acc: 100.000| Val Acc: 100.000\n",
            "Epoch 135: | Train Loss: 0.29523 | Val Loss: 0.12171 | Train Acc: 100.000| Val Acc: 100.000\n",
            "Epoch 136: | Train Loss: 0.32370 | Val Loss: 0.15860 | Train Acc: 100.000| Val Acc: 100.000\n",
            "Epoch 137: | Train Loss: 0.38459 | Val Loss: 0.19126 | Train Acc: 100.000| Val Acc: 100.000\n",
            "Epoch 138: | Train Loss: 0.29004 | Val Loss: 0.23751 | Train Acc: 100.000| Val Acc: 100.000\n",
            "Epoch 139: | Train Loss: 0.34687 | Val Loss: 0.03577 | Train Acc: 100.000| Val Acc: 100.000\n",
            "Epoch 140: | Train Loss: 0.34618 | Val Loss: 0.52523 | Train Acc: 100.000| Val Acc: 100.000\n",
            "Epoch 141: | Train Loss: 0.32803 | Val Loss: 0.10232 | Train Acc: 100.000| Val Acc: 100.000\n",
            "Epoch 142: | Train Loss: 0.26888 | Val Loss: 0.19235 | Train Acc: 100.000| Val Acc: 100.000\n",
            "Epoch 143: | Train Loss: 0.28274 | Val Loss: 0.54330 | Train Acc: 98.305| Val Acc: 100.000\n",
            "Epoch 144: | Train Loss: 0.22318 | Val Loss: 0.02844 | Train Acc: 100.000| Val Acc: 100.000\n",
            "Epoch 145: | Train Loss: 0.21984 | Val Loss: 0.33959 | Train Acc: 100.000| Val Acc: 100.000\n",
            "Epoch 146: | Train Loss: 0.25959 | Val Loss: 0.48706 | Train Acc: 98.305| Val Acc: 100.000\n",
            "Epoch 147: | Train Loss: 0.28587 | Val Loss: 0.64410 | Train Acc: 100.000| Val Acc: 100.000\n",
            "Epoch 148: | Train Loss: 0.26835 | Val Loss: 0.20209 | Train Acc: 100.000| Val Acc: 100.000\n",
            "Epoch 149: | Train Loss: 0.27014 | Val Loss: 0.24063 | Train Acc: 100.000| Val Acc: 100.000\n",
            "Epoch 150: | Train Loss: 0.33412 | Val Loss: 0.08647 | Train Acc: 100.000| Val Acc: 100.000\n",
            "Epoch 151: | Train Loss: 0.24061 | Val Loss: 0.02415 | Train Acc: 100.000| Val Acc: 100.000\n",
            "Epoch 152: | Train Loss: 0.27522 | Val Loss: 0.10807 | Train Acc: 100.000| Val Acc: 100.000\n",
            "Epoch 153: | Train Loss: 0.24704 | Val Loss: 0.08936 | Train Acc: 100.000| Val Acc: 100.000\n",
            "Epoch 154: | Train Loss: 0.37122 | Val Loss: 0.33213 | Train Acc: 100.000| Val Acc: 100.000\n",
            "Epoch 155: | Train Loss: 0.26440 | Val Loss: 0.22214 | Train Acc: 100.000| Val Acc: 100.000\n",
            "Epoch 156: | Train Loss: 0.24893 | Val Loss: 0.02151 | Train Acc: 100.000| Val Acc: 100.000\n",
            "Epoch 157: | Train Loss: 0.25642 | Val Loss: 0.17665 | Train Acc: 100.000| Val Acc: 100.000\n",
            "Epoch 158: | Train Loss: 0.26181 | Val Loss: 0.21412 | Train Acc: 100.000| Val Acc: 100.000\n",
            "Epoch 159: | Train Loss: 0.28357 | Val Loss: 0.07283 | Train Acc: 100.000| Val Acc: 100.000\n",
            "Epoch 160: | Train Loss: 0.22869 | Val Loss: 0.48189 | Train Acc: 100.000| Val Acc: 100.000\n",
            "Epoch 161: | Train Loss: 0.29703 | Val Loss: 0.67285 | Train Acc: 100.000| Val Acc: 100.000\n",
            "Epoch 162: | Train Loss: 0.28168 | Val Loss: 0.05388 | Train Acc: 100.000| Val Acc: 100.000\n",
            "Epoch 163: | Train Loss: 0.24321 | Val Loss: 0.14701 | Train Acc: 100.000| Val Acc: 100.000\n",
            "Epoch 164: | Train Loss: 0.23059 | Val Loss: 0.18093 | Train Acc: 100.000| Val Acc: 100.000\n",
            "Epoch 165: | Train Loss: 0.23730 | Val Loss: 0.45917 | Train Acc: 100.000| Val Acc: 100.000\n",
            "Epoch 166: | Train Loss: 0.29937 | Val Loss: 0.11714 | Train Acc: 100.000| Val Acc: 100.000\n",
            "Epoch 167: | Train Loss: 0.30741 | Val Loss: 0.03911 | Train Acc: 100.000| Val Acc: 100.000\n",
            "Epoch 168: | Train Loss: 0.35270 | Val Loss: 0.68183 | Train Acc: 100.000| Val Acc: 100.000\n",
            "Epoch 169: | Train Loss: 0.23803 | Val Loss: 0.12351 | Train Acc: 100.000| Val Acc: 100.000\n",
            "Epoch 170: | Train Loss: 0.26203 | Val Loss: 0.09543 | Train Acc: 100.000| Val Acc: 100.000\n",
            "Epoch 171: | Train Loss: 0.33375 | Val Loss: 0.10782 | Train Acc: 100.000| Val Acc: 100.000\n",
            "Epoch 172: | Train Loss: 0.28178 | Val Loss: 0.15684 | Train Acc: 100.000| Val Acc: 100.000\n",
            "Epoch 173: | Train Loss: 0.34905 | Val Loss: 0.04309 | Train Acc: 100.000| Val Acc: 100.000\n",
            "Epoch 174: | Train Loss: 0.29674 | Val Loss: 0.04807 | Train Acc: 100.000| Val Acc: 100.000\n",
            "Epoch 175: | Train Loss: 0.31334 | Val Loss: 0.23664 | Train Acc: 98.305| Val Acc: 100.000\n",
            "Epoch 176: | Train Loss: 0.30877 | Val Loss: 0.06176 | Train Acc: 100.000| Val Acc: 100.000\n",
            "Epoch 177: | Train Loss: 0.24195 | Val Loss: 0.10314 | Train Acc: 100.000| Val Acc: 100.000\n",
            "Epoch 178: | Train Loss: 0.27758 | Val Loss: 0.33289 | Train Acc: 100.000| Val Acc: 100.000\n",
            "Epoch 179: | Train Loss: 0.22381 | Val Loss: 0.15055 | Train Acc: 100.000| Val Acc: 100.000\n",
            "Epoch 180: | Train Loss: 0.26196 | Val Loss: 0.27354 | Train Acc: 100.000| Val Acc: 100.000\n",
            "Epoch 181: | Train Loss: 0.27745 | Val Loss: 0.15388 | Train Acc: 100.000| Val Acc: 100.000\n",
            "Epoch 182: | Train Loss: 0.22933 | Val Loss: 0.38898 | Train Acc: 100.000| Val Acc: 100.000\n",
            "Epoch 183: | Train Loss: 0.25046 | Val Loss: 0.17178 | Train Acc: 100.000| Val Acc: 100.000\n",
            "Epoch 184: | Train Loss: 0.23112 | Val Loss: 0.01050 | Train Acc: 100.000| Val Acc: 100.000\n",
            "Epoch 185: | Train Loss: 0.26603 | Val Loss: 0.04258 | Train Acc: 100.000| Val Acc: 100.000\n",
            "Epoch 186: | Train Loss: 0.28851 | Val Loss: 0.11100 | Train Acc: 100.000| Val Acc: 100.000\n",
            "Epoch 187: | Train Loss: 0.30815 | Val Loss: 0.02778 | Train Acc: 100.000| Val Acc: 100.000\n",
            "Epoch 188: | Train Loss: 0.25823 | Val Loss: 0.08397 | Train Acc: 100.000| Val Acc: 100.000\n",
            "Epoch 189: | Train Loss: 0.27249 | Val Loss: 0.15036 | Train Acc: 100.000| Val Acc: 100.000\n",
            "Epoch 190: | Train Loss: 0.25930 | Val Loss: 0.04494 | Train Acc: 100.000| Val Acc: 100.000\n",
            "Epoch 191: | Train Loss: 0.31014 | Val Loss: 0.12878 | Train Acc: 98.305| Val Acc: 100.000\n",
            "Epoch 192: | Train Loss: 0.27620 | Val Loss: 0.05482 | Train Acc: 100.000| Val Acc: 100.000\n",
            "Epoch 193: | Train Loss: 0.22002 | Val Loss: 0.09669 | Train Acc: 100.000| Val Acc: 100.000\n",
            "Epoch 194: | Train Loss: 0.29735 | Val Loss: 0.07742 | Train Acc: 100.000| Val Acc: 100.000\n",
            "Epoch 195: | Train Loss: 0.28939 | Val Loss: 0.05381 | Train Acc: 100.000| Val Acc: 100.000\n",
            "Epoch 196: | Train Loss: 0.23661 | Val Loss: 0.07886 | Train Acc: 100.000| Val Acc: 100.000\n",
            "Epoch 197: | Train Loss: 0.29511 | Val Loss: 0.46634 | Train Acc: 100.000| Val Acc: 100.000\n",
            "Epoch 198: | Train Loss: 0.30372 | Val Loss: 0.68005 | Train Acc: 100.000| Val Acc: 0.000\n",
            "Epoch 199: | Train Loss: 0.24360 | Val Loss: 0.04314 | Train Acc: 100.000| Val Acc: 100.000\n",
            "Epoch 200: | Train Loss: 0.29127 | Val Loss: 0.04479 | Train Acc: 100.000| Val Acc: 100.000\n",
            "Epoch 201: | Train Loss: 0.30665 | Val Loss: 0.01370 | Train Acc: 98.305| Val Acc: 100.000\n",
            "Epoch 202: | Train Loss: 0.31490 | Val Loss: 0.21158 | Train Acc: 100.000| Val Acc: 100.000\n",
            "Epoch 203: | Train Loss: 0.24840 | Val Loss: 0.24168 | Train Acc: 100.000| Val Acc: 100.000\n",
            "Epoch 204: | Train Loss: 0.25948 | Val Loss: 0.11824 | Train Acc: 100.000| Val Acc: 100.000\n",
            "Epoch 205: | Train Loss: 0.23975 | Val Loss: 0.15328 | Train Acc: 100.000| Val Acc: 100.000\n",
            "Epoch 206: | Train Loss: 0.23588 | Val Loss: 0.11690 | Train Acc: 100.000| Val Acc: 100.000\n",
            "Epoch 207: | Train Loss: 0.24685 | Val Loss: 0.27514 | Train Acc: 98.305| Val Acc: 100.000\n",
            "Epoch 208: | Train Loss: 0.21499 | Val Loss: 0.10498 | Train Acc: 100.000| Val Acc: 100.000\n",
            "Epoch 209: | Train Loss: 0.21843 | Val Loss: 0.04931 | Train Acc: 100.000| Val Acc: 100.000\n",
            "Epoch 210: | Train Loss: 0.21944 | Val Loss: 0.18124 | Train Acc: 100.000| Val Acc: 100.000\n",
            "Epoch 211: | Train Loss: 0.22526 | Val Loss: 0.06582 | Train Acc: 100.000| Val Acc: 100.000\n",
            "Epoch 212: | Train Loss: 0.20879 | Val Loss: 0.01544 | Train Acc: 100.000| Val Acc: 100.000\n",
            "Epoch 213: | Train Loss: 0.26915 | Val Loss: 0.06040 | Train Acc: 100.000| Val Acc: 100.000\n",
            "Epoch 214: | Train Loss: 0.20339 | Val Loss: 0.48058 | Train Acc: 100.000| Val Acc: 100.000\n",
            "Epoch 215: | Train Loss: 0.24148 | Val Loss: 0.07498 | Train Acc: 100.000| Val Acc: 100.000\n",
            "Epoch 216: | Train Loss: 0.23335 | Val Loss: 0.07818 | Train Acc: 100.000| Val Acc: 100.000\n",
            "Epoch 217: | Train Loss: 0.25774 | Val Loss: 0.08160 | Train Acc: 100.000| Val Acc: 100.000\n",
            "Epoch 218: | Train Loss: 0.25210 | Val Loss: 0.13347 | Train Acc: 100.000| Val Acc: 100.000\n",
            "Epoch 219: | Train Loss: 0.26244 | Val Loss: 0.20437 | Train Acc: 100.000| Val Acc: 100.000\n",
            "Epoch 220: | Train Loss: 0.23461 | Val Loss: 0.09563 | Train Acc: 100.000| Val Acc: 100.000\n",
            "Epoch 221: | Train Loss: 0.35557 | Val Loss: 0.02200 | Train Acc: 100.000| Val Acc: 100.000\n",
            "Epoch 222: | Train Loss: 0.28252 | Val Loss: 0.05737 | Train Acc: 100.000| Val Acc: 100.000\n",
            "Epoch 223: | Train Loss: 0.23994 | Val Loss: 0.03827 | Train Acc: 100.000| Val Acc: 100.000\n",
            "Epoch 224: | Train Loss: 0.24764 | Val Loss: 0.06992 | Train Acc: 100.000| Val Acc: 100.000\n",
            "Epoch 225: | Train Loss: 0.26483 | Val Loss: 0.08915 | Train Acc: 100.000| Val Acc: 100.000\n",
            "Epoch 226: | Train Loss: 0.23867 | Val Loss: 0.01391 | Train Acc: 100.000| Val Acc: 100.000\n",
            "Epoch 227: | Train Loss: 0.19014 | Val Loss: 0.15006 | Train Acc: 100.000| Val Acc: 100.000\n",
            "Epoch 228: | Train Loss: 0.22950 | Val Loss: 0.04695 | Train Acc: 100.000| Val Acc: 100.000\n",
            "Epoch 229: | Train Loss: 0.21987 | Val Loss: 0.10641 | Train Acc: 100.000| Val Acc: 100.000\n",
            "Epoch 230: | Train Loss: 0.22006 | Val Loss: 0.07944 | Train Acc: 100.000| Val Acc: 100.000\n",
            "Epoch 231: | Train Loss: 0.20126 | Val Loss: 0.00609 | Train Acc: 100.000| Val Acc: 100.000\n",
            "Epoch 232: | Train Loss: 0.23955 | Val Loss: 0.05538 | Train Acc: 100.000| Val Acc: 100.000\n",
            "Epoch 233: | Train Loss: 0.22976 | Val Loss: 0.30010 | Train Acc: 100.000| Val Acc: 100.000\n",
            "Epoch 234: | Train Loss: 0.23910 | Val Loss: 0.37010 | Train Acc: 100.000| Val Acc: 100.000\n",
            "Epoch 235: | Train Loss: 0.23197 | Val Loss: 0.08232 | Train Acc: 100.000| Val Acc: 100.000\n",
            "Epoch 236: | Train Loss: 0.19622 | Val Loss: 0.06996 | Train Acc: 100.000| Val Acc: 100.000\n",
            "Epoch 237: | Train Loss: 0.25993 | Val Loss: 0.01681 | Train Acc: 100.000| Val Acc: 100.000\n",
            "Epoch 238: | Train Loss: 0.20434 | Val Loss: 0.05843 | Train Acc: 100.000| Val Acc: 100.000\n",
            "Epoch 239: | Train Loss: 0.20838 | Val Loss: 0.14601 | Train Acc: 100.000| Val Acc: 100.000\n",
            "Epoch 240: | Train Loss: 0.20544 | Val Loss: 0.08402 | Train Acc: 100.000| Val Acc: 100.000\n",
            "Epoch 241: | Train Loss: 0.26853 | Val Loss: 0.14405 | Train Acc: 100.000| Val Acc: 100.000\n",
            "Epoch 242: | Train Loss: 0.23818 | Val Loss: 0.01903 | Train Acc: 100.000| Val Acc: 100.000\n",
            "Epoch 243: | Train Loss: 0.19815 | Val Loss: 0.01483 | Train Acc: 100.000| Val Acc: 100.000\n",
            "Epoch 244: | Train Loss: 0.26842 | Val Loss: 0.28219 | Train Acc: 100.000| Val Acc: 100.000\n",
            "Epoch 245: | Train Loss: 0.17953 | Val Loss: 0.17685 | Train Acc: 100.000| Val Acc: 100.000\n",
            "Epoch 246: | Train Loss: 0.20977 | Val Loss: 0.05993 | Train Acc: 100.000| Val Acc: 100.000\n",
            "Epoch 247: | Train Loss: 0.21209 | Val Loss: 0.02209 | Train Acc: 100.000| Val Acc: 100.000\n",
            "Epoch 248: | Train Loss: 0.21020 | Val Loss: 0.08123 | Train Acc: 100.000| Val Acc: 100.000\n",
            "Epoch 249: | Train Loss: 0.18553 | Val Loss: 0.10129 | Train Acc: 100.000| Val Acc: 100.000\n",
            "Epoch 250: | Train Loss: 0.22752 | Val Loss: 0.24341 | Train Acc: 100.000| Val Acc: 100.000\n",
            "Epoch 251: | Train Loss: 0.25275 | Val Loss: 0.48357 | Train Acc: 98.305| Val Acc: 0.000\n",
            "Epoch 252: | Train Loss: 0.23761 | Val Loss: 0.14904 | Train Acc: 100.000| Val Acc: 100.000\n",
            "Epoch 253: | Train Loss: 0.25503 | Val Loss: 0.01504 | Train Acc: 100.000| Val Acc: 100.000\n",
            "Epoch 254: | Train Loss: 0.23296 | Val Loss: 0.15804 | Train Acc: 100.000| Val Acc: 100.000\n",
            "Epoch 255: | Train Loss: 0.20898 | Val Loss: 0.39058 | Train Acc: 100.000| Val Acc: 100.000\n",
            "Epoch 256: | Train Loss: 0.23445 | Val Loss: 0.25962 | Train Acc: 100.000| Val Acc: 100.000\n",
            "Epoch 257: | Train Loss: 0.21710 | Val Loss: 0.04523 | Train Acc: 100.000| Val Acc: 100.000\n",
            "Epoch 258: | Train Loss: 0.19539 | Val Loss: 0.06754 | Train Acc: 100.000| Val Acc: 100.000\n",
            "Epoch 259: | Train Loss: 0.26595 | Val Loss: 0.73062 | Train Acc: 98.305| Val Acc: 100.000\n",
            "Epoch 260: | Train Loss: 0.27700 | Val Loss: 0.06576 | Train Acc: 100.000| Val Acc: 100.000\n",
            "Epoch 261: | Train Loss: 0.23080 | Val Loss: 0.03163 | Train Acc: 100.000| Val Acc: 100.000\n",
            "Epoch 262: | Train Loss: 0.24464 | Val Loss: 0.06364 | Train Acc: 100.000| Val Acc: 100.000\n",
            "Epoch 263: | Train Loss: 0.24968 | Val Loss: 0.05979 | Train Acc: 100.000| Val Acc: 100.000\n",
            "Epoch 264: | Train Loss: 0.22525 | Val Loss: 0.05970 | Train Acc: 100.000| Val Acc: 100.000\n",
            "Epoch 265: | Train Loss: 0.22232 | Val Loss: 0.09823 | Train Acc: 100.000| Val Acc: 100.000\n",
            "Epoch 266: | Train Loss: 0.20841 | Val Loss: 0.13047 | Train Acc: 100.000| Val Acc: 100.000\n",
            "Epoch 267: | Train Loss: 0.23563 | Val Loss: 0.15016 | Train Acc: 100.000| Val Acc: 100.000\n",
            "Epoch 268: | Train Loss: 0.22019 | Val Loss: 0.26940 | Train Acc: 100.000| Val Acc: 100.000\n",
            "Epoch 269: | Train Loss: 0.22333 | Val Loss: 0.04640 | Train Acc: 100.000| Val Acc: 100.000\n",
            "Epoch 270: | Train Loss: 0.23640 | Val Loss: 0.06957 | Train Acc: 100.000| Val Acc: 100.000\n",
            "Epoch 271: | Train Loss: 0.26566 | Val Loss: 0.08157 | Train Acc: 100.000| Val Acc: 100.000\n",
            "Epoch 272: | Train Loss: 0.23993 | Val Loss: 0.23050 | Train Acc: 100.000| Val Acc: 100.000\n",
            "Epoch 273: | Train Loss: 0.28744 | Val Loss: 0.08316 | Train Acc: 100.000| Val Acc: 100.000\n",
            "Epoch 274: | Train Loss: 0.19061 | Val Loss: 0.02568 | Train Acc: 100.000| Val Acc: 100.000\n",
            "Epoch 275: | Train Loss: 0.17490 | Val Loss: 0.19033 | Train Acc: 100.000| Val Acc: 100.000\n",
            "Epoch 276: | Train Loss: 0.21628 | Val Loss: 0.04755 | Train Acc: 100.000| Val Acc: 100.000\n",
            "Epoch 277: | Train Loss: 0.19607 | Val Loss: 0.14492 | Train Acc: 100.000| Val Acc: 100.000\n",
            "Epoch 278: | Train Loss: 0.21074 | Val Loss: 0.08137 | Train Acc: 100.000| Val Acc: 100.000\n",
            "Epoch 279: | Train Loss: 0.25720 | Val Loss: 0.21782 | Train Acc: 100.000| Val Acc: 100.000\n",
            "Epoch 280: | Train Loss: 0.21784 | Val Loss: 0.02859 | Train Acc: 100.000| Val Acc: 100.000\n",
            "Epoch 281: | Train Loss: 0.21297 | Val Loss: 0.08062 | Train Acc: 100.000| Val Acc: 100.000\n",
            "Epoch 282: | Train Loss: 0.21572 | Val Loss: 0.07282 | Train Acc: 100.000| Val Acc: 100.000\n",
            "Epoch 283: | Train Loss: 0.17785 | Val Loss: 0.12831 | Train Acc: 100.000| Val Acc: 100.000\n",
            "Epoch 284: | Train Loss: 0.20462 | Val Loss: 0.09265 | Train Acc: 100.000| Val Acc: 100.000\n",
            "Epoch 285: | Train Loss: 0.20633 | Val Loss: 0.01534 | Train Acc: 100.000| Val Acc: 100.000\n",
            "Epoch 286: | Train Loss: 0.19919 | Val Loss: 0.08981 | Train Acc: 100.000| Val Acc: 100.000\n",
            "Epoch 287: | Train Loss: 0.23322 | Val Loss: 0.10815 | Train Acc: 100.000| Val Acc: 100.000\n",
            "Epoch 288: | Train Loss: 0.21589 | Val Loss: 0.13704 | Train Acc: 100.000| Val Acc: 100.000\n",
            "Epoch 289: | Train Loss: 0.20283 | Val Loss: 0.02987 | Train Acc: 100.000| Val Acc: 100.000\n",
            "Epoch 290: | Train Loss: 0.27757 | Val Loss: 0.04122 | Train Acc: 100.000| Val Acc: 100.000\n",
            "Epoch 291: | Train Loss: 0.18029 | Val Loss: 0.26924 | Train Acc: 100.000| Val Acc: 100.000\n",
            "Epoch 292: | Train Loss: 0.18809 | Val Loss: 0.05687 | Train Acc: 98.305| Val Acc: 100.000\n",
            "Epoch 293: | Train Loss: 0.20574 | Val Loss: 0.00916 | Train Acc: 100.000| Val Acc: 100.000\n",
            "Epoch 294: | Train Loss: 0.18684 | Val Loss: 0.04020 | Train Acc: 100.000| Val Acc: 100.000\n",
            "Epoch 295: | Train Loss: 0.26259 | Val Loss: 0.47733 | Train Acc: 100.000| Val Acc: 100.000\n",
            "Epoch 296: | Train Loss: 0.18904 | Val Loss: 0.33358 | Train Acc: 100.000| Val Acc: 100.000\n",
            "Epoch 297: | Train Loss: 0.23418 | Val Loss: 0.00650 | Train Acc: 100.000| Val Acc: 100.000\n",
            "Epoch 298: | Train Loss: 0.14800 | Val Loss: 0.02666 | Train Acc: 100.000| Val Acc: 100.000\n",
            "Epoch 299: | Train Loss: 0.21352 | Val Loss: 0.09534 | Train Acc: 100.000| Val Acc: 100.000\n",
            "Epoch 300: | Train Loss: 0.27458 | Val Loss: 0.08646 | Train Acc: 100.000| Val Acc: 100.000\n",
            "\n"
          ],
          "name": "stdout"
        }
      ]
    },
    {
      "cell_type": "code",
      "metadata": {
        "id": "Uw4sbDWIDVOB"
      },
      "source": [
        "import seaborn as sns"
      ],
      "execution_count": 121,
      "outputs": []
    },
    {
      "cell_type": "code",
      "metadata": {
        "colab": {
          "base_uri": "https://localhost:8080/",
          "height": 475
        },
        "id": "I6WVUfJy-I-_",
        "outputId": "9d23e978-3f9e-4b88-edcd-04fbb79e6bbf"
      },
      "source": [
        "# Create dataframes\n",
        "train_val_acc_df = pd.DataFrame.from_dict(accuracy_stats).reset_index().melt(id_vars=['index']).rename(columns={\"index\":\"epochs\"})\n",
        "train_val_loss_df = pd.DataFrame.from_dict(loss_stats).reset_index().melt(id_vars=['index']).rename(columns={\"index\":\"epochs\"})\n",
        "# Plot the dataframes\n",
        "fig, axes = plt.subplots(nrows=1, ncols=2, figsize=(20,7))\n",
        "sns.lineplot(data=train_val_acc_df, x = \"epochs\", y=\"value\", hue=\"variable\",  ax=axes[0]).set_title('Train-Val Accuracy/Epoch')\n",
        "sns.lineplot(data=train_val_loss_df, x = \"epochs\", y=\"value\", hue=\"variable\", ax=axes[1]).set_title('Train-Val Loss/Epoch')"
      ],
      "execution_count": 122,
      "outputs": [
        {
          "output_type": "execute_result",
          "data": {
            "text/plain": [
              "Text(0.5, 1.0, 'Train-Val Loss/Epoch')"
            ]
          },
          "metadata": {
            "tags": []
          },
          "execution_count": 122
        },
        {
          "output_type": "display_data",
          "data": {
            "image/png": "[encoded data removed]",
            "text/plain": [
              "<Figure size 1440x504 with 2 Axes>"
            ]
          },
          "metadata": {
            "tags": [],
            "needs_background": "light"
          }
        }
      ]
    },
    {
      "cell_type": "code",
      "metadata": {
        "id": "tgHEr5H_U67I"
      },
      "source": [
        "model.eval()\n",
        "y_neir = model(torch.from_numpy(X_num[:200]).float().to('cuda')).max(0)"
      ],
      "execution_count": 123,
      "outputs": []
    },
    {
      "cell_type": "code",
      "metadata": {
        "id": "9_9W7_jq-JE_"
      },
      "source": [
        "y_pred_list = []\n",
        "with torch.no_grad():\n",
        "    model.eval()\n",
        "    for data in test_loader:\n",
        "        X_batch = data['X'].to(device)\n",
        "        y_test_pred = model(X_batch)\n",
        "        y_pred_softmax = torch.log_softmax(y_test_pred, dim = 1)\n",
        "        _, y_pred_tags = torch.max(y_pred_softmax, dim = 1)\n",
        "        y_pred_list.append(y_pred_tags.cpu().numpy())\n",
        "y_pred_list = [a.squeeze().tolist() for a in y_pred_list]"
      ],
      "execution_count": 124,
      "outputs": []
    },
    {
      "cell_type": "code",
      "metadata": {
        "id": "ZqgLM5qZY40l"
      },
      "source": [
        "from sklearn.metrics import classification_report, confusion_matrix\n",
        "from sklearn.ensemble import RandomForestClassifier"
      ],
      "execution_count": 125,
      "outputs": []
    },
    {
      "cell_type": "code",
      "metadata": {
        "id": "1NHRGbRC-JNw"
      },
      "source": [
        "rand_forest = RandomForestClassifier(n_jobs=-1)\n",
        "rand_forest.fit(X_train, y_train)\n",
        "forest_pred = rand_forest.predict(X_test)"
      ],
      "execution_count": 126,
      "outputs": []
    },
    {
      "cell_type": "code",
      "metadata": {
        "colab": {
          "base_uri": "https://localhost:8080/",
          "height": 461
        },
        "id": "SqYVPSqm-JQe",
        "outputId": "c2a1ccfa-e8b3-4d24-cf9d-7f0c3658b724"
      },
      "source": [
        "confusion_forest = pd.DataFrame(confusion_matrix(y_test,forest_pred))\n",
        "confusion_nn = pd.DataFrame(confusion_matrix(y_test, y_pred_list))\n",
        "fig, axes = plt.subplots(nrows=1, ncols=2, figsize=(20,7))\n",
        "sns.heatmap(confusion_forest, annot=True, ax=axes[0]).set_title('Foresr tesult')\n",
        "sns.heatmap(confusion_nn, annot=True, ax=axes[1]).set_title('NN matrix')"
      ],
      "execution_count": 127,
      "outputs": [
        {
          "output_type": "execute_result",
          "data": {
            "text/plain": [
              "Text(0.5, 1.0, 'NN matrix')"
            ]
          },
          "metadata": {
            "tags": []
          },
          "execution_count": 127
        },
        {
          "output_type": "display_data",
          "data": {
            "image/png": "[encoded data removed]",
            "text/plain": [
              "<Figure size 1440x504 with 4 Axes>"
            ]
          },
          "metadata": {
            "tags": [],
            "needs_background": "light"
          }
        }
      ]
    },
    {
      "cell_type": "code",
      "metadata": {
        "colab": {
          "base_uri": "https://localhost:8080/"
        },
        "id": "fa6_o3gd-JTm",
        "outputId": "3a0d902e-fc09-4582-b34d-28e3199d1c39"
      },
      "source": [
        "print(f\"Forest classification report \\n{classification_report(forest_pred, y_test)}\")\n",
        "print(f\"NN classification report \\n{classification_report(y_pred_list, y_test)}\")"
      ],
      "execution_count": 128,
      "outputs": [
        {
          "output_type": "stream",
          "text": [
            "Forest classification report \n",
            "              precision    recall  f1-score   support\n",
            "\n",
            "           0       0.93      0.73      0.82       179\n",
            "           1       0.77      0.94      0.85        71\n",
            "           2       0.07      0.20      0.11        10\n",
            "           3       0.14      1.00      0.25         1\n",
            "\n",
            "    accuracy                           0.77       261\n",
            "   macro avg       0.48      0.72      0.51       261\n",
            "weighted avg       0.85      0.77      0.79       261\n",
            "\n",
            "NN classification report \n",
            "              precision    recall  f1-score   support\n",
            "\n",
            "           0       0.56      0.64      0.60       123\n",
            "           1       0.66      0.57      0.61       100\n",
            "           2       0.26      0.24      0.25        29\n",
            "           3       0.29      0.22      0.25         9\n",
            "\n",
            "    accuracy                           0.56       261\n",
            "   macro avg       0.44      0.42      0.43       261\n",
            "weighted avg       0.56      0.56      0.55       261\n",
            "\n"
          ],
          "name": "stdout"
        }
      ]
    },
    {
      "cell_type": "code",
      "metadata": {
        "id": "aLKhtkmeaGpQ"
      },
      "source": [
        "test = pd.DataFrame( for_model.iloc[0]).T.copy()"
      ],
      "execution_count": 129,
      "outputs": []
    },
    {
      "cell_type": "code",
      "metadata": {
        "id": "YnFI4P8ca9BC"
      },
      "source": [
        "test.iloc[:, 37:47] = [ i for i in range(1,11)]"
      ],
      "execution_count": 130,
      "outputs": []
    },
    {
      "cell_type": "code",
      "metadata": {
        "id": "QoBsx-t_bwAZ"
      },
      "source": [
        ""
      ],
      "execution_count": 130,
      "outputs": []
    },
    {
      "cell_type": "code",
      "metadata": {
        "colab": {
          "base_uri": "https://localhost:8080/",
          "height": 78
        },
        "id": "OKPlHkrrbZVy",
        "outputId": "ac62d5d9-8c28-4ca5-84d1-46622bc3dc2b"
      },
      "source": [
        "test.iloc[:, 37:47]"
      ],
      "execution_count": 131,
      "outputs": [
        {
          "output_type": "execute_result",
          "data": {
            "text/html": [
              "<div>\n",
              "<style scoped>\n",
              "    .dataframe tbody tr th:only-of-type {\n",
              "        vertical-align: middle;\n",
              "    }\n",
              "\n",
              "    .dataframe tbody tr th {\n",
              "        vertical-align: top;\n",
              "    }\n",
              "\n",
              "    .dataframe thead th {\n",
              "        text-align: right;\n",
              "    }\n",
              "</style>\n",
              "<table border=\"1\" class=\"dataframe\">\n",
              "  <thead>\n",
              "    <tr style=\"text-align: right;\">\n",
              "      <th></th>\n",
              "      <th>confectionary</th>\n",
              "      <th>sushi</th>\n",
              "      <th>supermarket</th>\n",
              "      <th>malls</th>\n",
              "      <th>restaurants</th>\n",
              "      <th>fallback services</th>\n",
              "      <th>fast food</th>\n",
              "      <th>cafe</th>\n",
              "      <th>bars</th>\n",
              "      <th>concert hall</th>\n",
              "    </tr>\n",
              "  </thead>\n",
              "  <tbody>\n",
              "    <tr>\n",
              "      <th>0</th>\n",
              "      <td>1.0</td>\n",
              "      <td>2.0</td>\n",
              "      <td>3.0</td>\n",
              "      <td>4.0</td>\n",
              "      <td>5.0</td>\n",
              "      <td>6.0</td>\n",
              "      <td>7.0</td>\n",
              "      <td>8.0</td>\n",
              "      <td>9.0</td>\n",
              "      <td>10.0</td>\n",
              "    </tr>\n",
              "  </tbody>\n",
              "</table>\n",
              "</div>"
            ],
            "text/plain": [
              "   confectionary  sushi  supermarket  ...  cafe  bars  concert hall\n",
              "0            1.0    2.0          3.0  ...   8.0   9.0          10.0\n",
              "\n",
              "[1 rows x 10 columns]"
            ]
          },
          "metadata": {
            "tags": []
          },
          "execution_count": 131
        }
      ]
    },
    {
      "cell_type": "code",
      "metadata": {
        "colab": {
          "base_uri": "https://localhost:8080/",
          "height": 78
        },
        "id": "zgEj27olcGbc",
        "outputId": "bdbd939f-a754-409d-9c39-c527986464ff"
      },
      "source": [
        "test.iloc[:, 56:65]"
      ],
      "execution_count": 132,
      "outputs": [
        {
          "output_type": "execute_result",
          "data": {
            "text/html": [
              "<div>\n",
              "<style scoped>\n",
              "    .dataframe tbody tr th:only-of-type {\n",
              "        vertical-align: middle;\n",
              "    }\n",
              "\n",
              "    .dataframe tbody tr th {\n",
              "        vertical-align: top;\n",
              "    }\n",
              "\n",
              "    .dataframe thead th {\n",
              "        text-align: right;\n",
              "    }\n",
              "</style>\n",
              "<table border=\"1\" class=\"dataframe\">\n",
              "  <thead>\n",
              "    <tr style=\"text-align: right;\">\n",
              "      <th></th>\n",
              "      <th>facebook</th>\n",
              "      <th>instagram</th>\n",
              "      <th>twitter</th>\n",
              "      <th>telegram</th>\n",
              "      <th>viber</th>\n",
              "      <th>whatsapp</th>\n",
              "      <th>ok</th>\n",
              "      <th>vkontakte</th>\n",
              "      <th>youtube</th>\n",
              "    </tr>\n",
              "  </thead>\n",
              "  <tbody>\n",
              "    <tr>\n",
              "      <th>0</th>\n",
              "      <td>1.0</td>\n",
              "      <td>1.0</td>\n",
              "      <td>0.0</td>\n",
              "      <td>0.0</td>\n",
              "      <td>0.0</td>\n",
              "      <td>0.0</td>\n",
              "      <td>0.0</td>\n",
              "      <td>0.0</td>\n",
              "      <td>0.0</td>\n",
              "    </tr>\n",
              "  </tbody>\n",
              "</table>\n",
              "</div>"
            ],
            "text/plain": [
              "   facebook  instagram  twitter  telegram  ...  whatsapp   ok  vkontakte  youtube\n",
              "0       1.0        1.0      0.0       0.0  ...       0.0  0.0        0.0      0.0\n",
              "\n",
              "[1 rows x 9 columns]"
            ]
          },
          "metadata": {
            "tags": []
          },
          "execution_count": 132
        }
      ]
    },
    {
      "cell_type": "code",
      "metadata": {
        "id": "19DcY0iZcBHY"
      },
      "source": [
        ""
      ],
      "execution_count": 132,
      "outputs": []
    },
    {
      "cell_type": "code",
      "metadata": {
        "id": "U829p8SdcTZ2",
        "colab": {
          "base_uri": "https://localhost:8080/",
          "height": 132
        },
        "outputId": "6c160291-3431-454f-952d-e18868686b57"
      },
      "source": [
        "def calc_eval(bit_string, index, opt_elem):\n",
        "  data = \n"
      ],
      "execution_count": 133,
      "outputs": [
        {
          "output_type": "error",
          "ename": "SyntaxError",
          "evalue": "ignored",
          "traceback": [
            "\u001b[0;36m  File \u001b[0;32m\"<ipython-input-133-d7bc1086b280>\"\u001b[0;36m, line \u001b[0;32m2\u001b[0m\n\u001b[0;31m    data =\u001b[0m\n\u001b[0m           ^\u001b[0m\n\u001b[0;31mSyntaxError\u001b[0m\u001b[0;31m:\u001b[0m invalid syntax\n"
          ]
        }
      ]
    },
    {
      "cell_type": "code",
      "metadata": {
        "colab": {
          "base_uri": "https://localhost:8080/"
        },
        "id": "rEsIszK3cyhg",
        "outputId": "718b1f09-52bb-46bf-af00-5c35edd87075"
      },
      "source": [
        "! pip install deap"
      ],
      "execution_count": 134,
      "outputs": [
        {
          "output_type": "stream",
          "text": [
            "Requirement already satisfied: deap in /usr/local/lib/python3.7/dist-packages (1.3.1)\n",
            "Requirement already satisfied: numpy in /usr/local/lib/python3.7/dist-packages (from deap) (1.19.5)\n"
          ],
          "name": "stdout"
        }
      ]
    },
    {
      "cell_type": "code",
      "metadata": {
        "id": "mcsYjGJwcpYO"
      },
      "source": [
        "from deap import  base\n",
        "from deap import  creator\n",
        "from deap import tools\n",
        "import random"
      ],
      "execution_count": 135,
      "outputs": []
    },
    {
      "cell_type": "code",
      "metadata": {
        "id": "vZaH9rMbc_ep"
      },
      "source": [
        "ONE_MAX_LENGTH = 19\n",
        "POPULATIN_SIZE = 100\n",
        "P_CROSSVER = 0.9\n",
        "P_MUTATION = 0.1\n",
        "MAX_GENERATIONS = 50 "
      ],
      "execution_count": 136,
      "outputs": []
    },
    {
      "cell_type": "code",
      "metadata": {
        "id": "Ub9A2z-MdX1s"
      },
      "source": [
        "RANDOM_SEED = 42\n",
        "random.seed(RANDOM_SEED)"
      ],
      "execution_count": 137,
      "outputs": []
    },
    {
      "cell_type": "code",
      "metadata": {
        "id": "ciU2frybdtVH"
      },
      "source": [
        "toolbox = base.Toolbox()\n",
        "# Funck of generate vakue\n",
        "toolbox.register(\"zeroOrOne\", random.randint, 0,1)"
      ],
      "execution_count": 138,
      "outputs": []
    },
    {
      "cell_type": "code",
      "metadata": {
        "colab": {
          "base_uri": "https://localhost:8080/"
        },
        "id": "NhUFRVSqe2je",
        "outputId": "8d1ee02b-91b6-431a-ddc7-6cf17eed3e1a"
      },
      "source": [
        "# Fucnl for optimize \n",
        "creator.create(\"FitnessMax\", base.Fitness, weights=(1.0,))"
      ],
      "execution_count": 139,
      "outputs": [
        {
          "output_type": "stream",
          "text": [
            "/usr/local/lib/python3.7/dist-packages/deap/creator.py:141: RuntimeWarning: A class named 'FitnessMax' has already been created and it will be overwritten. Consider deleting previous creation of that class or rename it.\n",
            "  RuntimeWarning)\n"
          ],
          "name": "stderr"
        }
      ]
    },
    {
      "cell_type": "code",
      "metadata": {
        "colab": {
          "base_uri": "https://localhost:8080/"
        },
        "id": "GI0z3fh-ffnB",
        "outputId": "2d39f5b6-d558-4f3f-ba4d-339e6f6c8581"
      },
      "source": [
        "# Funck for creati type of indiwiduals and conteiners\n",
        "creator.create(\"Individual\", list, fitness=creator.FitnessMax)"
      ],
      "execution_count": 140,
      "outputs": [
        {
          "output_type": "stream",
          "text": [
            "/usr/local/lib/python3.7/dist-packages/deap/creator.py:141: RuntimeWarning: A class named 'Individual' has already been created and it will be overwritten. Consider deleting previous creation of that class or rename it.\n",
            "  RuntimeWarning)\n"
          ],
          "name": "stderr"
        }
      ]
    },
    {
      "cell_type": "code",
      "metadata": {
        "id": "reGlW1o-f6d_"
      },
      "source": [
        "# Funck for create individuals\n",
        "toolbox.register('individualCreator', tools.initRepeat, \n",
        "                 creator.Individual, toolbox.zeroOrOne, ONE_MAX_LENGHT)"
      ],
      "execution_count": 141,
      "outputs": []
    },
    {
      "cell_type": "code",
      "metadata": {
        "id": "y6cerBMehMZv"
      },
      "source": [
        "# Create list of individuals(populations)\n",
        "toolbox.register(\"populationCreator\", tools.initRepeat,\n",
        "                list, toolbox.individualCreator)"
      ],
      "execution_count": 142,
      "outputs": []
    },
    {
      "cell_type": "code",
      "metadata": {
        "id": "AdBYw-BHhwlX"
      },
      "source": [
        "#  Funck for get a marks of fitness\n",
        "def oneMaxFitness(individual):\n",
        "  return sum(individual), \n",
        "\n",
        "# registr evaluate funck in deap\n",
        "toolbox.register(\"evaluate\", oneMaxFitness)"
      ],
      "execution_count": 143,
      "outputs": []
    },
    {
      "cell_type": "code",
      "metadata": {
        "id": "PUdAP5aehTEW"
      },
      "source": [
        "# Create type of select ex from population \n",
        "toolbox.register('select', tools.selTournament,  tournsize=3)\n",
        "toolbox.register('mate', tools.cxOnePoint)\n",
        "toolbox.register('mutate', tools.mutFlipBit,  indpb=1.0/ONE_MAX_LENGTH)"
      ],
      "execution_count": 161,
      "outputs": []
    },
    {
      "cell_type": "markdown",
      "metadata": {
        "id": "VWElFR00lnTL"
      },
      "source": [
        "Начинаем реализовывать алгоритм. Создаём началбную популяцию "
      ]
    },
    {
      "cell_type": "code",
      "metadata": {
        "id": "ozsc240vkORa"
      },
      "source": [
        "population = toolbox.populationCreator(n=POPULATIN_SIZE)\n",
        "generationCounter = 0"
      ],
      "execution_count": 152,
      "outputs": []
    },
    {
      "cell_type": "markdown",
      "metadata": {
        "id": "JPcy4df2mHK1"
      },
      "source": [
        "Вычисляем приспособленность "
      ]
    },
    {
      "cell_type": "code",
      "metadata": {
        "id": "VOyOA4_emHmk"
      },
      "source": [
        "fitnessValues = list(map(toolbox.evaluate, population))"
      ],
      "execution_count": 146,
      "outputs": []
    },
    {
      "cell_type": "markdown",
      "metadata": {
        "id": "Tc6rREhlmYtU"
      },
      "source": [
        "Объеденим занчение индивидов  с их оценкой"
      ]
    },
    {
      "cell_type": "code",
      "metadata": {
        "id": "MYKMr3-sl_Op"
      },
      "source": [
        "for individ, fitVal in zip(population, fitnessValues):\n",
        "  individ.fitness.values = fitVal"
      ],
      "execution_count": 147,
      "outputs": []
    },
    {
      "cell_type": "markdown",
      "metadata": {
        "id": "zVXagZ0pnmcl"
      },
      "source": [
        "Извлечём первые значение для статистики "
      ]
    },
    {
      "cell_type": "code",
      "metadata": {
        "id": "3TZYWiUgnl59"
      },
      "source": [
        "fitnessValues = [individ.fitness.values[0] for individ in population]"
      ],
      "execution_count": 148,
      "outputs": []
    },
    {
      "cell_type": "code",
      "metadata": {
        "id": "M7Q7rgHqn5WH"
      },
      "source": [
        "maxFitnessValues = []\n",
        "meanFitnessValues = []"
      ],
      "execution_count": 149,
      "outputs": []
    },
    {
      "cell_type": "code",
      "metadata": {
        "id": "Jdw10jUx-gjF"
      },
      "source": [
        ""
      ],
      "execution_count": null,
      "outputs": []
    },
    {
      "cell_type": "markdown",
      "metadata": {
        "id": "WZOTcQGRoV_G"
      },
      "source": [
        "Сейяас будем писать основной алгорти и перед каждым запуском алгоритма будем проверять условие  проверки "
      ]
    },
    {
      "cell_type": "code",
      "metadata": {
        "colab": {
          "base_uri": "https://localhost:8080/"
        },
        "id": "uV4SZzyZoHIr",
        "outputId": "48535f57-87e0-454f-8fb0-cd17951c4877"
      },
      "source": [
        "while max(fitnessValues) <ONE_MAX_LENGHT and generationCounter < MAX_GENERATIONS:\n",
        "      generationCounter +=1\n",
        "      # Сейчас будет сердце алгортима. Применяем оператор отбора \n",
        "      offspring = toolbox.select(population, len(population))\n",
        "      # Create a copy of thos list for next operatons \n",
        "      offspring = list(map(toolbox.clone, offspring))\n",
        "\n",
        "      # Make breeding. Even element breeding with next not breeding element \n",
        "      for ch1, ch2 in zip(offspring[::2], offspring[1::2]):\n",
        "        if random.random() < P_CROSSVER:\n",
        "          toolbox.mate(ch1, ch2)\n",
        "          del ch1.fitness.values\n",
        "          del ch2.fitness.values\n",
        "      # Make a mutation whith propobility P_MUTATION\n",
        "      for mutant in offspring:\n",
        "        if random.random()<P_MUTATION:\n",
        "          toolbox.mutate(mutant)\n",
        "          del mutant.fitness.values\n",
        "      # looking for new element with out valid\n",
        "      freshInd = [ind for ind in offspring if not ind.fitness.valid]\n",
        "      freshFitVal = list(map(toolbox.evaluate, freshInd))\n",
        "      for ind , fitVal in zip(freshInd, freshFitVal):\n",
        "        ind.fitness.values = fitVal\n",
        "      # We using all genetics operations replace old values of populations\n",
        "      #  on new values of populations\n",
        "      population[:] = offspring\n",
        "      # Save a value of eval \n",
        "      fitnessValues = [ind.fitness.values[0] for ind in population]\n",
        "      # Calculate max and mean values \n",
        "      maxFitness = max(fitnessValues)\n",
        "      meanFitness = sum(fitnessValues) / len(population)\n",
        "      maxFitnessValues.append(maxFitness)\n",
        "      meanFitnessValues.append(meanFitness)\n",
        "      print(\" Поколение{}: Макс приспособ ={} , Сред приспособ = {}\".\n",
        "            format(generationCounter, maxFitness, meanFitness))\n",
        "      t_index = fitnessValues.index(max(fitnessValues))\n",
        "      print(\"Лучший индивид = \", *population[t_index], '\\n')\n",
        "      \n",
        "\n",
        "\n",
        "\n",
        "\n",
        "\n"
      ],
      "execution_count": 163,
      "outputs": [
        {
          "output_type": "stream",
          "text": [
            " Поколение8: Макс приспособ =15.0 , Сред приспособ = 9.4\n",
            "Лучший индивид =  1 1 0 1 1 1 1 0 1 1 1 0 0 1 1 1 1 1 1 \n",
            "\n",
            " Поколение9: Макс приспособ =16.0 , Сред приспособ = 11.18\n",
            "Лучший индивид =  1 1 0 1 1 1 1 0 1 1 1 1 1 1 1 1 1 1 0 \n",
            "\n",
            " Поколение10: Макс приспособ =16.0 , Сред приспособ = 12.74\n",
            "Лучший индивид =  1 0 1 1 1 1 1 0 1 1 1 1 1 0 1 1 1 1 1 \n",
            "\n",
            " Поколение11: Макс приспособ =17.0 , Сред приспособ = 14.08\n",
            "Лучший индивид =  1 1 0 0 1 1 1 1 1 1 1 1 1 1 1 1 1 1 1 \n",
            "\n",
            " Поколение12: Макс приспособ =19.0 , Сред приспособ = 15.19\n",
            "Лучший индивид =  1 1 1 1 1 1 1 1 1 1 1 1 1 1 1 1 1 1 1 \n",
            "\n"
          ],
          "name": "stdout"
        }
      ]
    },
    {
      "cell_type": "code",
      "metadata": {
        "id": "A3v7en9ncjHW"
      },
      "source": [
        "class GA_Optimuze:  \n",
        "  def __init__(self, index=None, string, rating):\n",
        "\n",
        "    if index:\n",
        "      self.data_str = pd.DataFrame(for_model.iloc[index]).T\n",
        "    else:\n",
        "      self.data_str = string\n",
        "    self.rating = rating\n",
        "    self.ONE_MAX_LENGTH = 19\n",
        "    self.POPULATIN_SIZE = 100\n",
        "    self.P_CROSSVER = 0.9\n",
        "    self.P_MUTATION = 0.1\n",
        "    self.MAX_GENERATIONS = 50\n",
        "    self.RANDOM_SEED = 42\n",
        "    random.seed(RANDOM_SEED)\n",
        "    self.toolbox = base.Toolbox()\n",
        "    self.toolbox.register(\"zeroOrOne\", random.randint, 0,1)\n",
        "    self.creator.create(\"FitnessMax\", base.Fitness, weights=(1.0,))\n",
        "    self.creator.create(\"Individual\", list, fitness=creator.FitnessMax)\n",
        "    self.toolbox.register('individualCreator', tools.initRepeat, \n",
        "                 creator.Individual, toolbox.zeroOrOne, ONE_MAX_LENGHT)\n",
        "    self.toolbox.register(\"evaluate\", self.calc_eval)\n",
        "    self.toolbox.register('select', tools.selTournament,  tournsize=3)\n",
        "    self.toolbox.register('mate', tools.cxOnePoint)\n",
        "    self.toolbox.register('mutate', tools.mutFlipBit,  indpb=1.0/ONE_MAX_LENGTH)\n",
        "\n",
        "    \n",
        "    \n",
        "\n",
        "\n",
        "\n",
        "\n",
        "    \n",
        "  def calc_eval(self, individ):\n",
        "    self.data_str.iloc[:, 37:47], self.data_str.iloc[:,56:65] = individ[:10], individ[11:] \n",
        "    probobility = rand_forest.predict_proba(self.data_str)\n",
        "    return probobility[self.rating]\n",
        "\n",
        "  \n",
        "\n",
        "  \n",
        "    \n",
        "\n",
        "    \n",
        "\n"
      ],
      "execution_count": null,
      "outputs": []
    }
  ]
}